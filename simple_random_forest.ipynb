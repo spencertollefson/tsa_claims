{
 "cells": [
  {
   "cell_type": "markdown",
   "metadata": {},
   "source": [
    "# Questions"
   ]
  },
  {
   "cell_type": "markdown",
   "metadata": {},
   "source": [
    "* Should I calculate business days since incident? or Total days?\n",
    "* How to do timeseries?\n",
    "  * Only predict a date based on the info that's happened BEFORE it?\n",
    "  * Book by week? exact day of year? month?\n",
    " ---\n",
    "* Could I make an EITHER/OR case?\n",
    "  * First do a classifier for Compensate or Deny. If compensate, then do a Regression for HOW MUCH they'll get back?\n",
    "  * I could also do models that ONLY take into account how much they asked for, IF I have enough data\n",
    "* Why is my RF 410 MB?\n",
    "* **I may be parsing 'ITEMS' wrong. Semicolon may indicate the various items missing**"
   ]
  },
  {
   "cell_type": "markdown",
   "metadata": {},
   "source": [
    "### 1st simple model, \"settle\" or \"compensate\" I got 67.40% ROC!\n",
    "### 2nd model, with claim_request_amount, roc_auc got 68.64%"
   ]
  },
  {
   "cell_type": "markdown",
   "metadata": {},
   "source": [
    "# Next Steps\n",
    "* Try a Rolling Window of 12 months to remove seasonality and see if there are changes from 2002 onward\n",
    "* See if I can spot trends by day/week/month/holidays/weekends during the year"
   ]
  },
  {
   "cell_type": "markdown",
   "metadata": {},
   "source": [
    "### *Is it an issue with 370 airports and 170 airlines?*\n",
    "### I should consider dropping some of the claim_types and maybe other stuff too"
   ]
  },
  {
   "cell_type": "markdown",
   "metadata": {},
   "source": [
    "# Feature engineer count of how many claims"
   ]
  },
  {
   "cell_type": "code",
   "execution_count": 1,
   "metadata": {},
   "outputs": [],
   "source": [
    "import numpy as np\n",
    "import pandas as pd\n",
    "import matplotlib.pyplot as plt\n",
    "%matplotlib inline\n",
    "import seaborn as sns\n",
    "\n",
    "import pyspark\n",
    "\n",
    "import datetime as dt\n",
    "\n",
    "import tabula\n",
    "import joblib"
   ]
  },
  {
   "cell_type": "code",
   "execution_count": 22,
   "metadata": {},
   "outputs": [],
   "source": [
    "pd.set_option('display.max_columns', 300)\n",
    "pd.set_option('display.max_rows', 60)\n",
    "pd.set_option('display.precision', 3)\n",
    "pd.set_option('display.float_format', lambda x: '%.3f' % x)\n",
    "\n",
    "import sklearn\n",
    "from sklearn.preprocessing import StandardScaler, MultiLabelBinarizer, OneHotEncoder\n",
    "from sklearn.model_selection import GridSearchCV, RandomizedSearchCV, cross_val_score, cross_validate \\\n",
    "                                    ,cross_val_predict, GridSearchCV, RandomizedSearchCV\n",
    "from sklearn.svm import SVC\n",
    "from sklearn.neighbors import KNeighborsClassifier\n",
    "from sklearn import metrics\n",
    "from sklearn.metrics import confusion_matrix,recall_score,precision_score, f1_score, roc_auc_score\n",
    "from sklearn.model_selection import train_test_split, cross_validate, cross_val_score\n",
    "from sklearn.linear_model import LogisticRegression, LogisticRegressionCV\n",
    "from sklearn.tree import DecisionTreeClassifier\n",
    "from sklearn.ensemble import RandomForestClassifier, GradientBoostingClassifier\n",
    "from sklearn.naive_bayes import GaussianNB, MultinomialNB, BernoulliNB\n",
    "\n",
    "from sklearn.metrics import roc_curve, auc\n",
    "\n",
    "import itertools\n",
    "from sklearn.metrics import confusion_matrix\n",
    "from sklearn.externals import joblib\n",
    "from imblearn.over_sampling import SMOTE"
   ]
  },
  {
   "cell_type": "code",
   "execution_count": 3,
   "metadata": {},
   "outputs": [],
   "source": [
    "dir = 'models/preliminary'"
   ]
  },
  {
   "cell_type": "markdown",
   "metadata": {},
   "source": [
    "-----"
   ]
  },
  {
   "cell_type": "markdown",
   "metadata": {},
   "source": [
    "-----"
   ]
  },
  {
   "cell_type": "code",
   "execution_count": 4,
   "metadata": {},
   "outputs": [],
   "source": [
    "col_names = ['claim_number', 'date_received', 'incident_date', 'airport_code', 'airport_name',\n",
    "           'airline', 'claim_type', 'claim_site', 'item_category', 'close_amount', 'disposition']\n",
    "           "
   ]
  },
  {
   "cell_type": "code",
   "execution_count": 5,
   "metadata": {},
   "outputs": [
    {
     "ename": "FileNotFoundError",
     "evalue": "[Errno 2] No such file or directory: 'raw/claims-2010-2013.xls'",
     "output_type": "error",
     "traceback": [
      "\u001b[0;31m---------------------------------------------------------------------------\u001b[0m",
      "\u001b[0;31mFileNotFoundError\u001b[0m                         Traceback (most recent call last)",
      "\u001b[0;32m<ipython-input-5-9bb5d6c1f10b>\u001b[0m in \u001b[0;36m<module>\u001b[0;34m()\u001b[0m\n\u001b[0;32m----> 1\u001b[0;31m \u001b[0mdf\u001b[0m \u001b[0;34m=\u001b[0m \u001b[0mpd\u001b[0m\u001b[0;34m.\u001b[0m\u001b[0mread_excel\u001b[0m\u001b[0;34m(\u001b[0m\u001b[0;34m'raw/claims-2010-2013.xls'\u001b[0m\u001b[0;34m,\u001b[0m \u001b[0mnames\u001b[0m\u001b[0;34m=\u001b[0m\u001b[0mcol_names\u001b[0m\u001b[0;34m)\u001b[0m\u001b[0;34m\u001b[0m\u001b[0m\n\u001b[0m\u001b[1;32m      2\u001b[0m \u001b[0;34m\u001b[0m\u001b[0m\n\u001b[1;32m      3\u001b[0m \u001b[0mdf\u001b[0m\u001b[0;34m[\u001b[0m\u001b[0;34m'date_received'\u001b[0m\u001b[0;34m]\u001b[0m \u001b[0;34m=\u001b[0m \u001b[0mpd\u001b[0m\u001b[0;34m.\u001b[0m\u001b[0mto_datetime\u001b[0m\u001b[0;34m(\u001b[0m\u001b[0mdf\u001b[0m\u001b[0;34m[\u001b[0m\u001b[0;34m'date_received'\u001b[0m\u001b[0;34m]\u001b[0m\u001b[0;34m)\u001b[0m\u001b[0;34m\u001b[0m\u001b[0m\n\u001b[1;32m      4\u001b[0m \u001b[0mdf\u001b[0m\u001b[0;34m[\u001b[0m\u001b[0;34m'incident_date'\u001b[0m\u001b[0;34m]\u001b[0m \u001b[0;34m=\u001b[0m \u001b[0mpd\u001b[0m\u001b[0;34m.\u001b[0m\u001b[0mto_datetime\u001b[0m\u001b[0;34m(\u001b[0m\u001b[0mdf\u001b[0m\u001b[0;34m[\u001b[0m\u001b[0;34m'incident_date'\u001b[0m\u001b[0;34m]\u001b[0m\u001b[0;34m)\u001b[0m\u001b[0;34m\u001b[0m\u001b[0m\n\u001b[1;32m      5\u001b[0m \u001b[0mdf\u001b[0m \u001b[0;34m=\u001b[0m \u001b[0mdf\u001b[0m\u001b[0;34m[\u001b[0m\u001b[0mdf\u001b[0m\u001b[0;34m[\u001b[0m\u001b[0;34m'disposition'\u001b[0m\u001b[0;34m]\u001b[0m \u001b[0;34m!=\u001b[0m \u001b[0;34m\"-\"\u001b[0m\u001b[0;34m]\u001b[0m\u001b[0;34m\u001b[0m\u001b[0m\n",
      "\u001b[0;32m~/anaconda3/lib/python3.6/site-packages/pandas/util/_decorators.py\u001b[0m in \u001b[0;36mwrapper\u001b[0;34m(*args, **kwargs)\u001b[0m\n\u001b[1;32m    176\u001b[0m                 \u001b[0;32melse\u001b[0m\u001b[0;34m:\u001b[0m\u001b[0;34m\u001b[0m\u001b[0m\n\u001b[1;32m    177\u001b[0m                     \u001b[0mkwargs\u001b[0m\u001b[0;34m[\u001b[0m\u001b[0mnew_arg_name\u001b[0m\u001b[0;34m]\u001b[0m \u001b[0;34m=\u001b[0m \u001b[0mnew_arg_value\u001b[0m\u001b[0;34m\u001b[0m\u001b[0m\n\u001b[0;32m--> 178\u001b[0;31m             \u001b[0;32mreturn\u001b[0m \u001b[0mfunc\u001b[0m\u001b[0;34m(\u001b[0m\u001b[0;34m*\u001b[0m\u001b[0margs\u001b[0m\u001b[0;34m,\u001b[0m \u001b[0;34m**\u001b[0m\u001b[0mkwargs\u001b[0m\u001b[0;34m)\u001b[0m\u001b[0;34m\u001b[0m\u001b[0m\n\u001b[0m\u001b[1;32m    179\u001b[0m         \u001b[0;32mreturn\u001b[0m \u001b[0mwrapper\u001b[0m\u001b[0;34m\u001b[0m\u001b[0m\n\u001b[1;32m    180\u001b[0m     \u001b[0;32mreturn\u001b[0m \u001b[0m_deprecate_kwarg\u001b[0m\u001b[0;34m\u001b[0m\u001b[0m\n",
      "\u001b[0;32m~/anaconda3/lib/python3.6/site-packages/pandas/util/_decorators.py\u001b[0m in \u001b[0;36mwrapper\u001b[0;34m(*args, **kwargs)\u001b[0m\n\u001b[1;32m    176\u001b[0m                 \u001b[0;32melse\u001b[0m\u001b[0;34m:\u001b[0m\u001b[0;34m\u001b[0m\u001b[0m\n\u001b[1;32m    177\u001b[0m                     \u001b[0mkwargs\u001b[0m\u001b[0;34m[\u001b[0m\u001b[0mnew_arg_name\u001b[0m\u001b[0;34m]\u001b[0m \u001b[0;34m=\u001b[0m \u001b[0mnew_arg_value\u001b[0m\u001b[0;34m\u001b[0m\u001b[0m\n\u001b[0;32m--> 178\u001b[0;31m             \u001b[0;32mreturn\u001b[0m \u001b[0mfunc\u001b[0m\u001b[0;34m(\u001b[0m\u001b[0;34m*\u001b[0m\u001b[0margs\u001b[0m\u001b[0;34m,\u001b[0m \u001b[0;34m**\u001b[0m\u001b[0mkwargs\u001b[0m\u001b[0;34m)\u001b[0m\u001b[0;34m\u001b[0m\u001b[0m\n\u001b[0m\u001b[1;32m    179\u001b[0m         \u001b[0;32mreturn\u001b[0m \u001b[0mwrapper\u001b[0m\u001b[0;34m\u001b[0m\u001b[0m\n\u001b[1;32m    180\u001b[0m     \u001b[0;32mreturn\u001b[0m \u001b[0m_deprecate_kwarg\u001b[0m\u001b[0;34m\u001b[0m\u001b[0m\n",
      "\u001b[0;32m~/anaconda3/lib/python3.6/site-packages/pandas/io/excel.py\u001b[0m in \u001b[0;36mread_excel\u001b[0;34m(io, sheet_name, header, names, index_col, usecols, squeeze, dtype, engine, converters, true_values, false_values, skiprows, nrows, na_values, parse_dates, date_parser, thousands, comment, skipfooter, convert_float, **kwds)\u001b[0m\n\u001b[1;32m    305\u001b[0m \u001b[0;34m\u001b[0m\u001b[0m\n\u001b[1;32m    306\u001b[0m     \u001b[0;32mif\u001b[0m \u001b[0;32mnot\u001b[0m \u001b[0misinstance\u001b[0m\u001b[0;34m(\u001b[0m\u001b[0mio\u001b[0m\u001b[0;34m,\u001b[0m \u001b[0mExcelFile\u001b[0m\u001b[0;34m)\u001b[0m\u001b[0;34m:\u001b[0m\u001b[0;34m\u001b[0m\u001b[0m\n\u001b[0;32m--> 307\u001b[0;31m         \u001b[0mio\u001b[0m \u001b[0;34m=\u001b[0m \u001b[0mExcelFile\u001b[0m\u001b[0;34m(\u001b[0m\u001b[0mio\u001b[0m\u001b[0;34m,\u001b[0m \u001b[0mengine\u001b[0m\u001b[0;34m=\u001b[0m\u001b[0mengine\u001b[0m\u001b[0;34m)\u001b[0m\u001b[0;34m\u001b[0m\u001b[0m\n\u001b[0m\u001b[1;32m    308\u001b[0m \u001b[0;34m\u001b[0m\u001b[0m\n\u001b[1;32m    309\u001b[0m     return io.parse(\n",
      "\u001b[0;32m~/anaconda3/lib/python3.6/site-packages/pandas/io/excel.py\u001b[0m in \u001b[0;36m__init__\u001b[0;34m(self, io, **kwds)\u001b[0m\n\u001b[1;32m    392\u001b[0m             \u001b[0mself\u001b[0m\u001b[0;34m.\u001b[0m\u001b[0mbook\u001b[0m \u001b[0;34m=\u001b[0m \u001b[0mxlrd\u001b[0m\u001b[0;34m.\u001b[0m\u001b[0mopen_workbook\u001b[0m\u001b[0;34m(\u001b[0m\u001b[0mfile_contents\u001b[0m\u001b[0;34m=\u001b[0m\u001b[0mdata\u001b[0m\u001b[0;34m)\u001b[0m\u001b[0;34m\u001b[0m\u001b[0m\n\u001b[1;32m    393\u001b[0m         \u001b[0;32melif\u001b[0m \u001b[0misinstance\u001b[0m\u001b[0;34m(\u001b[0m\u001b[0mself\u001b[0m\u001b[0;34m.\u001b[0m\u001b[0m_io\u001b[0m\u001b[0;34m,\u001b[0m \u001b[0mcompat\u001b[0m\u001b[0;34m.\u001b[0m\u001b[0mstring_types\u001b[0m\u001b[0;34m)\u001b[0m\u001b[0;34m:\u001b[0m\u001b[0;34m\u001b[0m\u001b[0m\n\u001b[0;32m--> 394\u001b[0;31m             \u001b[0mself\u001b[0m\u001b[0;34m.\u001b[0m\u001b[0mbook\u001b[0m \u001b[0;34m=\u001b[0m \u001b[0mxlrd\u001b[0m\u001b[0;34m.\u001b[0m\u001b[0mopen_workbook\u001b[0m\u001b[0;34m(\u001b[0m\u001b[0mself\u001b[0m\u001b[0;34m.\u001b[0m\u001b[0m_io\u001b[0m\u001b[0;34m)\u001b[0m\u001b[0;34m\u001b[0m\u001b[0m\n\u001b[0m\u001b[1;32m    395\u001b[0m         \u001b[0;32melse\u001b[0m\u001b[0;34m:\u001b[0m\u001b[0;34m\u001b[0m\u001b[0m\n\u001b[1;32m    396\u001b[0m             raise ValueError('Must explicitly set engine if not passing in'\n",
      "\u001b[0;32m~/anaconda3/lib/python3.6/site-packages/xlrd/__init__.py\u001b[0m in \u001b[0;36mopen_workbook\u001b[0;34m(filename, logfile, verbosity, use_mmap, file_contents, encoding_override, formatting_info, on_demand, ragged_rows)\u001b[0m\n\u001b[1;32m    114\u001b[0m         \u001b[0mpeek\u001b[0m \u001b[0;34m=\u001b[0m \u001b[0mfile_contents\u001b[0m\u001b[0;34m[\u001b[0m\u001b[0;34m:\u001b[0m\u001b[0mpeeksz\u001b[0m\u001b[0;34m]\u001b[0m\u001b[0;34m\u001b[0m\u001b[0m\n\u001b[1;32m    115\u001b[0m     \u001b[0;32melse\u001b[0m\u001b[0;34m:\u001b[0m\u001b[0;34m\u001b[0m\u001b[0m\n\u001b[0;32m--> 116\u001b[0;31m         \u001b[0;32mwith\u001b[0m \u001b[0mopen\u001b[0m\u001b[0;34m(\u001b[0m\u001b[0mfilename\u001b[0m\u001b[0;34m,\u001b[0m \u001b[0;34m\"rb\"\u001b[0m\u001b[0;34m)\u001b[0m \u001b[0;32mas\u001b[0m \u001b[0mf\u001b[0m\u001b[0;34m:\u001b[0m\u001b[0;34m\u001b[0m\u001b[0m\n\u001b[0m\u001b[1;32m    117\u001b[0m             \u001b[0mpeek\u001b[0m \u001b[0;34m=\u001b[0m \u001b[0mf\u001b[0m\u001b[0;34m.\u001b[0m\u001b[0mread\u001b[0m\u001b[0;34m(\u001b[0m\u001b[0mpeeksz\u001b[0m\u001b[0;34m)\u001b[0m\u001b[0;34m\u001b[0m\u001b[0m\n\u001b[1;32m    118\u001b[0m     \u001b[0;32mif\u001b[0m \u001b[0mpeek\u001b[0m \u001b[0;34m==\u001b[0m \u001b[0;34mb\"PK\\x03\\x04\"\u001b[0m\u001b[0;34m:\u001b[0m \u001b[0;31m# a ZIP file\u001b[0m\u001b[0;34m\u001b[0m\u001b[0m\n",
      "\u001b[0;31mFileNotFoundError\u001b[0m: [Errno 2] No such file or directory: 'raw/claims-2010-2013.xls'"
     ]
    }
   ],
   "source": [
    "df = pd.read_excel('raw/claims-2010-2013.xls', names=col_names)\n",
    "\n",
    "df['date_received'] = pd.to_datetime(df['date_received'])\n",
    "df['incident_date'] = pd.to_datetime(df['incident_date'])\n",
    "df = df[df['disposition'] != \"-\"]\n",
    "df = df.dropna()\n",
    "\n",
    "df['claim_number'] = df['claim_number'].astype('int64')\n",
    "df['close_amount'] = df['close_amount'].astype('int64')"
   ]
  },
  {
   "cell_type": "code",
   "execution_count": 6,
   "metadata": {},
   "outputs": [
    {
     "ename": "NameError",
     "evalue": "name 'df' is not defined",
     "output_type": "error",
     "traceback": [
      "\u001b[0;31m---------------------------------------------------------------------------\u001b[0m",
      "\u001b[0;31mNameError\u001b[0m                                 Traceback (most recent call last)",
      "\u001b[0;32m<ipython-input-6-f912c1b3e037>\u001b[0m in \u001b[0;36m<module>\u001b[0;34m()\u001b[0m\n\u001b[0;32m----> 1\u001b[0;31m \u001b[0mdf\u001b[0m\u001b[0;34m[\u001b[0m\u001b[0;34m'binary_disposition'\u001b[0m\u001b[0;34m]\u001b[0m \u001b[0;34m=\u001b[0m \u001b[0mdf\u001b[0m\u001b[0;34m[\u001b[0m\u001b[0;34m'disposition'\u001b[0m\u001b[0;34m]\u001b[0m\u001b[0;34m\u001b[0m\u001b[0m\n\u001b[0m\u001b[1;32m      2\u001b[0m \u001b[0mdf\u001b[0m\u001b[0;34m[\u001b[0m\u001b[0;34m'binary_disposition'\u001b[0m\u001b[0;34m]\u001b[0m \u001b[0;34m=\u001b[0m \u001b[0mdf\u001b[0m\u001b[0;34m[\u001b[0m\u001b[0;34m'binary_disposition'\u001b[0m\u001b[0;34m]\u001b[0m\u001b[0;34m.\u001b[0m\u001b[0mwhere\u001b[0m\u001b[0;34m(\u001b[0m\u001b[0mdf\u001b[0m\u001b[0;34m[\u001b[0m\u001b[0;34m'binary_disposition'\u001b[0m\u001b[0;34m]\u001b[0m \u001b[0;34m==\u001b[0m \u001b[0;34m'Deny'\u001b[0m\u001b[0;34m,\u001b[0m \u001b[0mother\u001b[0m\u001b[0;34m=\u001b[0m\u001b[0;34m'Compensate'\u001b[0m\u001b[0;34m)\u001b[0m\u001b[0;34m\u001b[0m\u001b[0m\n\u001b[1;32m      3\u001b[0m \u001b[0;34m\u001b[0m\u001b[0m\n\u001b[1;32m      4\u001b[0m \u001b[0;31m# Change some text to make it more human readable\u001b[0m\u001b[0;34m\u001b[0m\u001b[0;34m\u001b[0m\u001b[0m\n\u001b[1;32m      5\u001b[0m \u001b[0mdf\u001b[0m\u001b[0;34m.\u001b[0m\u001b[0mclaim_site\u001b[0m\u001b[0;34m[\u001b[0m\u001b[0mdf\u001b[0m\u001b[0;34m.\u001b[0m\u001b[0mclaim_site\u001b[0m \u001b[0;34m==\u001b[0m \u001b[0;34m'-'\u001b[0m\u001b[0;34m]\u001b[0m \u001b[0;34m=\u001b[0m \u001b[0;34m'Unknown'\u001b[0m\u001b[0;34m\u001b[0m\u001b[0m\n",
      "\u001b[0;31mNameError\u001b[0m: name 'df' is not defined"
     ]
    }
   ],
   "source": [
    "df['binary_disposition'] = df['disposition']\n",
    "df['binary_disposition'] = df['binary_disposition'].where(df['binary_disposition'] == 'Deny', other='Compensate')\n",
    "\n",
    "# Change some text to make it more human readable\n",
    "df.claim_site[df.claim_site == '-'] = 'Unknown'\n",
    "df.claim_type[df.claim_type == '-'] = 'Unknown'\n",
    "\n",
    "# Feature Engineering\n",
    "\n",
    "### Count of items claimed\n",
    "\n",
    "# TODO: Consider only using this for where claim_type is related to property.\n",
    "df['num_items_or_incidents_claimed'] = df['item_category'].str.split(pat=';').apply(lambda x: len(x))\n",
    "df['num_items_or_incidents_claimed'] = df['num_items_or_incidents_claimed'].where(df['claim_type'].str.contains('property', case=False) == True, other= 0)\n",
    "\n",
    "### Time calculation\n",
    "wait_period = df.date_received - df.incident_date\n",
    "df['days_waited_to_file_claim'] = wait_period.dt.days\n",
    "\n",
    "# Drop days where the 'date_received\" was reported before 'incident_date'\n",
    "df = df[df.days_waited_to_file_claim >= 0]\n",
    "\n",
    "df.reset_index(inplace=True,drop=True)\n",
    "df['bin_dispos_onehot'] = df['binary_disposition'].apply(lambda x: 1 if x == 'Compensate' else 0)"
   ]
  },
  {
   "cell_type": "code",
   "execution_count": 7,
   "metadata": {},
   "outputs": [],
   "source": [
    "## Figure out how to plot this shit. I want 12 months on the X axis, and then a bar for each month of the proportion of approved vs denied within each month (I think)"
   ]
  },
  {
   "cell_type": "markdown",
   "metadata": {},
   "source": [
    "# TIME BREAKOUT COLUMNS"
   ]
  },
  {
   "cell_type": "code",
   "execution_count": 8,
   "metadata": {},
   "outputs": [],
   "source": [
    "df['Week/Year_inc_date'] = df['incident_date'].apply(lambda x: \"%d/%d\" % (x.week, x.year))\n",
    "df['Week_inc_date'] = df['incident_date'].apply(lambda x: \"%d\" % (x.week))\n",
    "df['Month_inc_date'] = df['incident_date'].apply(lambda x: \"%d\" % (x.month))\n",
    "df['Year_inc_date'] = df['incident_date'].apply(lambda x: \"%d\" % (x.year))\n",
    "\n",
    "df['Week_received'] = df['date_received'].apply(lambda x: \"%d\" % (x.week))\n",
    "df['Month_received'] = df['date_received'].apply(lambda x: \"%d\" % (x.month))\n",
    "df['Year_received'] = df['date_received'].apply(lambda x: \"%d\" % (x.year))"
   ]
  },
  {
   "cell_type": "code",
   "execution_count": 9,
   "metadata": {},
   "outputs": [
    {
     "data": {
      "text/plain": [
       "<matplotlib.axes._subplots.AxesSubplot at 0x7f6548d3f518>"
      ]
     },
     "execution_count": 9,
     "metadata": {},
     "output_type": "execute_result"
    },
    {
     "data": {
      "image/png": "[encoded data removed]",
      "text/plain": [
       "<Figure size 576x432 with 1 Axes>"
      ]
     },
     "metadata": {
      "needs_background": "light"
     },
     "output_type": "display_data"
    }
   ],
   "source": [
    "df.groupby('Year_received').apply(lambda x: x.bin_dispos_onehot.sum() / x.bin_dispos_onehot.count()).plot(kind='barh', figsize=(8,6))"
   ]
  },
  {
   "cell_type": "code",
   "execution_count": 10,
   "metadata": {},
   "outputs": [
    {
     "data": {
      "image/png": "[encoded data removed]",
      "text/plain": [
       "<Figure size 576x432 with 1 Axes>"
      ]
     },
     "metadata": {
      "needs_background": "light"
     },
     "output_type": "display_data"
    }
   ],
   "source": [
    "df.groupby('Year_inc_date').apply(lambda x: x.bin_dispos_onehot.sum() / x.bin_dispos_onehot.count()).plot(kind='barh', figsize=(8,6));"
   ]
  },
  {
   "cell_type": "code",
   "execution_count": 11,
   "metadata": {},
   "outputs": [
    {
     "data": {
      "text/html": [
       "<div>\n",
       "<style scoped>\n",
       "    .dataframe tbody tr th:only-of-type {\n",
       "        vertical-align: middle;\n",
       "    }\n",
       "\n",
       "    .dataframe tbody tr th {\n",
       "        vertical-align: top;\n",
       "    }\n",
       "\n",
       "    .dataframe thead th {\n",
       "        text-align: right;\n",
       "    }\n",
       "</style>\n",
       "<table border=\"1\" class=\"dataframe\">\n",
       "  <thead>\n",
       "    <tr style=\"text-align: right;\">\n",
       "      <th></th>\n",
       "      <th>claim_number</th>\n",
       "      <th>date_received</th>\n",
       "      <th>incident_date</th>\n",
       "      <th>airport_code</th>\n",
       "      <th>airport_name</th>\n",
       "      <th>airline</th>\n",
       "      <th>claim_type</th>\n",
       "      <th>claim_site</th>\n",
       "      <th>item_category</th>\n",
       "      <th>close_amount</th>\n",
       "      <th>disposition</th>\n",
       "      <th>binary_disposition</th>\n",
       "      <th>num_items_or_incidents_claimed</th>\n",
       "      <th>days_waited_to_file_claim</th>\n",
       "      <th>bin_dispos_onehot</th>\n",
       "      <th>Week/Year_inc_date</th>\n",
       "      <th>Week_inc_date</th>\n",
       "      <th>Month_inc_date</th>\n",
       "      <th>Year_inc_date</th>\n",
       "      <th>Week_received</th>\n",
       "      <th>Month_received</th>\n",
       "      <th>Year_received</th>\n",
       "    </tr>\n",
       "  </thead>\n",
       "  <tbody>\n",
       "    <tr>\n",
       "      <th>15911</th>\n",
       "      <td>2011093087276</td>\n",
       "      <td>2011-08-15</td>\n",
       "      <td>2011-05-19 00:00:00</td>\n",
       "      <td>MEM</td>\n",
       "      <td>Memphis International Airport</td>\n",
       "      <td>Delta Air Lines</td>\n",
       "      <td>Personal Injury</td>\n",
       "      <td>Checkpoint</td>\n",
       "      <td>Medical/Science</td>\n",
       "      <td>0</td>\n",
       "      <td>Deny</td>\n",
       "      <td>Deny</td>\n",
       "      <td>0</td>\n",
       "      <td>88</td>\n",
       "      <td>0</td>\n",
       "      <td>20/2011</td>\n",
       "      <td>20</td>\n",
       "      <td>5</td>\n",
       "      <td>2011</td>\n",
       "      <td>33</td>\n",
       "      <td>8</td>\n",
       "      <td>2011</td>\n",
       "    </tr>\n",
       "    <tr>\n",
       "      <th>28523</th>\n",
       "      <td>2013020601073</td>\n",
       "      <td>2013-01-10</td>\n",
       "      <td>2013-01-04 00:00:00</td>\n",
       "      <td>SAN</td>\n",
       "      <td>San Diego International</td>\n",
       "      <td>USAir</td>\n",
       "      <td>Passenger Property Loss</td>\n",
       "      <td>Checked Baggage</td>\n",
       "      <td>Cosmetics &amp; Grooming</td>\n",
       "      <td>0</td>\n",
       "      <td>Deny</td>\n",
       "      <td>Deny</td>\n",
       "      <td>1</td>\n",
       "      <td>6</td>\n",
       "      <td>0</td>\n",
       "      <td>1/2013</td>\n",
       "      <td>1</td>\n",
       "      <td>1</td>\n",
       "      <td>2013</td>\n",
       "      <td>2</td>\n",
       "      <td>1</td>\n",
       "      <td>2013</td>\n",
       "    </tr>\n",
       "    <tr>\n",
       "      <th>4725</th>\n",
       "      <td>2010072173938</td>\n",
       "      <td>2010-07-12</td>\n",
       "      <td>2010-07-10 20:00:00</td>\n",
       "      <td>LAS</td>\n",
       "      <td>McCarran International</td>\n",
       "      <td>Continental Airlines</td>\n",
       "      <td>Property Damage</td>\n",
       "      <td>Checked Baggage</td>\n",
       "      <td>Baggage/Cases/Purses; Clothing; Clothing; Clot...</td>\n",
       "      <td>0</td>\n",
       "      <td>Deny</td>\n",
       "      <td>Deny</td>\n",
       "      <td>8</td>\n",
       "      <td>1</td>\n",
       "      <td>0</td>\n",
       "      <td>27/2010</td>\n",
       "      <td>27</td>\n",
       "      <td>7</td>\n",
       "      <td>2010</td>\n",
       "      <td>28</td>\n",
       "      <td>7</td>\n",
       "      <td>2010</td>\n",
       "    </tr>\n",
       "  </tbody>\n",
       "</table>\n",
       "</div>"
      ],
      "text/plain": [
       "        claim_number date_received       incident_date airport_code  \\\n",
       "15911  2011093087276    2011-08-15 2011-05-19 00:00:00          MEM   \n",
       "28523  2013020601073    2013-01-10 2013-01-04 00:00:00          SAN   \n",
       "4725   2010072173938    2010-07-12 2010-07-10 20:00:00          LAS   \n",
       "\n",
       "                        airport_name                 airline  \\\n",
       "15911  Memphis International Airport       Delta Air Lines     \n",
       "28523        San Diego International                 USAir     \n",
       "4725          McCarran International  Continental Airlines     \n",
       "\n",
       "                    claim_type       claim_site  \\\n",
       "15911          Personal Injury       Checkpoint   \n",
       "28523  Passenger Property Loss  Checked Baggage   \n",
       "4725           Property Damage  Checked Baggage   \n",
       "\n",
       "                                           item_category  close_amount  \\\n",
       "15911                                    Medical/Science             0   \n",
       "28523                               Cosmetics & Grooming             0   \n",
       "4725   Baggage/Cases/Purses; Clothing; Clothing; Clot...             0   \n",
       "\n",
       "      disposition binary_disposition  num_items_or_incidents_claimed  \\\n",
       "15911        Deny               Deny                               0   \n",
       "28523        Deny               Deny                               1   \n",
       "4725         Deny               Deny                               8   \n",
       "\n",
       "       days_waited_to_file_claim  bin_dispos_onehot Week/Year_inc_date  \\\n",
       "15911                         88                  0            20/2011   \n",
       "28523                          6                  0             1/2013   \n",
       "4725                           1                  0            27/2010   \n",
       "\n",
       "      Week_inc_date Month_inc_date Year_inc_date Week_received Month_received  \\\n",
       "15911            20              5          2011            33              8   \n",
       "28523             1              1          2013             2              1   \n",
       "4725             27              7          2010            28              7   \n",
       "\n",
       "      Year_received  \n",
       "15911          2011  \n",
       "28523          2013  \n",
       "4725           2010  "
      ]
     },
     "execution_count": 11,
     "metadata": {},
     "output_type": "execute_result"
    }
   ],
   "source": [
    "df.sample(3)"
   ]
  },
  {
   "cell_type": "code",
   "execution_count": null,
   "metadata": {},
   "outputs": [],
   "source": []
  },
  {
   "cell_type": "code",
   "execution_count": 12,
   "metadata": {},
   "outputs": [],
   "source": [
    "# df_simple = df.drop(['claim_number', 'airport_name', \n",
    "#                      #'binary_disposition',\n",
    "#                      'disposition', \n",
    "#                      'date_received', 'incident_date'\n",
    "#                     ]\n",
    "#                     , axis=1)"
   ]
  },
  {
   "cell_type": "code",
   "execution_count": 13,
   "metadata": {},
   "outputs": [],
   "source": [
    "X = df.drop(['claim_number', 'airport_name', 'binary_disposition', 'disposition', \n",
    "             'date_received', 'incident_date',\n",
    "             'close_amount',\n",
    "            ]\n",
    "            , axis=1)\n",
    "y = df['binary_disposition'].apply(lambda x: 1 if x == 'Compensate' else 0)"
   ]
  },
  {
   "cell_type": "code",
   "execution_count": 14,
   "metadata": {},
   "outputs": [],
   "source": [
    "categorical = ['airport_code', 'airline', 'claim_type', 'claim_site', 'Year_inc_date']\n",
    "continuous =  ['days_waited_to_file_claim', 'num_items_or_incidents_claimed']"
   ]
  },
  {
   "cell_type": "code",
   "execution_count": 15,
   "metadata": {},
   "outputs": [
    {
     "name": "stderr",
     "output_type": "stream",
     "text": [
      "/home/spencer/anaconda3/lib/python3.6/site-packages/sklearn/preprocessing/data.py:617: DataConversionWarning: Data with input dtype int64 were all converted to float64 by StandardScaler.\n",
      "  return self.partial_fit(X, y)\n",
      "/home/spencer/anaconda3/lib/python3.6/site-packages/sklearn/base.py:462: DataConversionWarning: Data with input dtype int64 were all converted to float64 by StandardScaler.\n",
      "  return self.fit(X, **fit_params).transform(X)\n"
     ]
    }
   ],
   "source": [
    "enc = OneHotEncoder(sparse=False)\n",
    "onehotarray = enc.fit_transform(X[categorical])\n",
    "\n",
    "ss = StandardScaler()\n",
    "continuousarray = ss.fit_transform(X[continuous])\n",
    "\n",
    "mlb = MultiLabelBinarizer(sparse_output=False)\n",
    "onehot_itemcategories = mlb.fit_transform(X['item_category'].str.replace(' ','').str.split(pat=';'))\n",
    "\n",
    "X = np.concatenate((onehotarray, continuousarray, onehot_itemcategories), axis=1)"
   ]
  },
  {
   "cell_type": "code",
   "execution_count": 16,
   "metadata": {},
   "outputs": [],
   "source": [
    "X_train, X_test, y_train, y_test = train_test_split(X, y, test_size=0.3, random_state=42, stratify=y)"
   ]
  },
  {
   "cell_type": "code",
   "execution_count": 17,
   "metadata": {},
   "outputs": [
    {
     "data": {
      "text/plain": [
       "(34478, 610)"
      ]
     },
     "execution_count": 17,
     "metadata": {},
     "output_type": "execute_result"
    }
   ],
   "source": [
    "X.shape"
   ]
  },
  {
   "cell_type": "markdown",
   "metadata": {},
   "source": [
    "# Model with Year included"
   ]
  },
  {
   "cell_type": "markdown",
   "metadata": {},
   "source": [
    "---\n",
    "some problems with this would be introducing YEAR and MONTH that has never been trained on. Is this where I need to do a timeseries thing"
   ]
  },
  {
   "cell_type": "markdown",
   "metadata": {},
   "source": [
    "---"
   ]
  },
  {
   "cell_type": "code",
   "execution_count": 20,
   "metadata": {},
   "outputs": [
    {
     "name": "stderr",
     "output_type": "stream",
     "text": [
      "/home/spencer/anaconda3/lib/python3.6/site-packages/sklearn/externals/joblib/externals/loky/process_executor.py:700: UserWarning: A worker stopped while some jobs were given to the executor. This can be caused by a too short worker timeout or by a memory leak.\n",
      "  \"timeout or by a memory leak.\", UserWarning\n",
      "/home/spencer/anaconda3/lib/python3.6/site-packages/sklearn/externals/joblib/externals/loky/process_executor.py:700: UserWarning: A worker stopped while some jobs were given to the executor. This can be caused by a too short worker timeout or by a memory leak.\n",
      "  \"timeout or by a memory leak.\", UserWarning\n",
      "/home/spencer/anaconda3/lib/python3.6/site-packages/sklearn/externals/joblib/externals/loky/process_executor.py:700: UserWarning: A worker stopped while some jobs were given to the executor. This can be caused by a too short worker timeout or by a memory leak.\n",
      "  \"timeout or by a memory leak.\", UserWarning\n",
      "/home/spencer/anaconda3/lib/python3.6/site-packages/sklearn/externals/joblib/externals/loky/process_executor.py:700: UserWarning: A worker stopped while some jobs were given to the executor. This can be caused by a too short worker timeout or by a memory leak.\n",
      "  \"timeout or by a memory leak.\", UserWarning\n",
      "/home/spencer/anaconda3/lib/python3.6/site-packages/sklearn/externals/joblib/externals/loky/process_executor.py:700: UserWarning: A worker stopped while some jobs were given to the executor. This can be caused by a too short worker timeout or by a memory leak.\n",
      "  \"timeout or by a memory leak.\", UserWarning\n",
      "/home/spencer/anaconda3/lib/python3.6/site-packages/sklearn/externals/joblib/externals/loky/process_executor.py:700: UserWarning: A worker stopped while some jobs were given to the executor. This can be caused by a too short worker timeout or by a memory leak.\n",
      "  \"timeout or by a memory leak.\", UserWarning\n"
     ]
    },
    {
     "name": "stdout",
     "output_type": "stream",
     "text": [
      "0.7357708102376144\n",
      "{'criterion': 'gini', 'max_depth': 25, 'n_estimators': 300}\n",
      "RandomForestClassifier(bootstrap=True, class_weight=None, criterion='gini',\n",
      "            max_depth=25, max_features='auto', max_leaf_nodes=None,\n",
      "            min_impurity_decrease=0.0, min_impurity_split=None,\n",
      "            min_samples_leaf=1, min_samples_split=2,\n",
      "            min_weight_fraction_leaf=0.0, n_estimators=300, n_jobs=None,\n",
      "            oob_score=False, random_state=42, verbose=0, warm_start=False)\n",
      "0.6232068609575628\n"
     ]
    }
   ],
   "source": [
    "rf = RandomForestClassifier(random_state=42)\n",
    "\n",
    "criterions = ['gini']#, 'entropy']\n",
    "n_ests = [300]\n",
    "m_depths = [20, 25, 30, 35]\n",
    "    \n",
    "param_grid = dict(criterion=criterions, n_estimators=n_ests, max_depth=m_depths)\n",
    "\n",
    "grid_rf = GridSearchCV(rf, param_grid, scoring='roc_auc', cv=8, n_jobs=4)\n",
    "\n",
    "grid_rf.fit(X_train, y_train)\n",
    "\n",
    "print(grid_rf.best_score_)\n",
    "print(grid_rf.best_params_)\n",
    "print(grid_rf.best_estimator_)\n",
    "\n",
    "y_pred = grid_rf.predict(X_test)\n",
    "print(roc_auc_score(y_test, y_pred))"
   ]
  },
  {
   "cell_type": "code",
   "execution_count": 21,
   "metadata": {},
   "outputs": [
    {
     "data": {
      "text/plain": [
       "['models/preliminary/rf_Year_of_incident_date_included']"
      ]
     },
     "execution_count": 21,
     "metadata": {},
     "output_type": "execute_result"
    }
   ],
   "source": [
    "dir = 'models/preliminary'\n",
    "joblib.dump(grid_rf.best_estimator_, f'{dir}/rf_Year_of_incident_date_included',compress=9)"
   ]
  },
  {
   "cell_type": "code",
   "execution_count": null,
   "metadata": {},
   "outputs": [],
   "source": []
  },
  {
   "cell_type": "code",
   "execution_count": null,
   "metadata": {},
   "outputs": [],
   "source": []
  },
  {
   "cell_type": "markdown",
   "metadata": {},
   "source": [
    "# Model below was BEFORE I added time elements"
   ]
  },
  {
   "cell_type": "code",
   "execution_count": 196,
   "metadata": {},
   "outputs": [
    {
     "name": "stdout",
     "output_type": "stream",
     "text": [
      "0.6814186309902636\n"
     ]
    }
   ],
   "source": [
    "rf_clf = RandomForestClassifier(n_estimators=100, criterion='gini', n_jobs=5, random_state=42)\n",
    "cvs = cross_val_score(rf_clf, X_train, y_train, cv=10, scoring='roc_auc')\n",
    "print(np.mean(cvs))"
   ]
  },
  {
   "cell_type": "code",
   "execution_count": 199,
   "metadata": {},
   "outputs": [
    {
     "data": {
      "text/plain": [
       "RandomForestClassifier(bootstrap=True, class_weight=None, criterion='gini',\n",
       "            max_depth=None, max_features='auto', max_leaf_nodes=None,\n",
       "            min_impurity_decrease=0.0, min_impurity_split=None,\n",
       "            min_samples_leaf=1, min_samples_split=2,\n",
       "            min_weight_fraction_leaf=0.0, n_estimators=100, n_jobs=5,\n",
       "            oob_score=False, random_state=42, verbose=0, warm_start=False)"
      ]
     },
     "execution_count": 199,
     "metadata": {},
     "output_type": "execute_result"
    }
   ],
   "source": [
    "rf_clf.fit(X_train, y_train)"
   ]
  },
  {
   "cell_type": "code",
   "execution_count": 203,
   "metadata": {},
   "outputs": [],
   "source": [
    "y_predict = rf_clf.predict(X_test)\n",
    "\n",
    "roc_auc_score(y_test, y_predict)"
   ]
  },
  {
   "cell_type": "code",
   "execution_count": null,
   "metadata": {},
   "outputs": [],
   "source": [
    "# make a schedule from now til Thursday\n",
    "# make change max_depth to [3, 5, 10] to see which works best if i am overfitting"
   ]
  },
  {
   "cell_type": "code",
   "execution_count": null,
   "metadata": {},
   "outputs": [],
   "source": []
  },
  {
   "cell_type": "code",
   "execution_count": 204,
   "metadata": {},
   "outputs": [
    {
     "name": "stdout",
     "output_type": "stream",
     "text": [
      "0.7220751078811192\n",
      "{'criterion': 'gini', 'max_depth': 15, 'n_estimators': 300}\n",
      "RandomForestClassifier(bootstrap=True, class_weight=None, criterion='gini',\n",
      "            max_depth=15, max_features='auto', max_leaf_nodes=None,\n",
      "            min_impurity_decrease=0.0, min_impurity_split=None,\n",
      "            min_samples_leaf=1, min_samples_split=2,\n",
      "            min_weight_fraction_leaf=0.0, n_estimators=300, n_jobs=None,\n",
      "            oob_score=False, random_state=42, verbose=0, warm_start=False)\n",
      "0.5953619560289024\n"
     ]
    }
   ],
   "source": [
    "rf = RandomForestClassifier(random_state=42)\n",
    "\n",
    "criterions = ['gini']#, 'entropy']\n",
    "n_ests = [300]\n",
    "m_depths = [15, 20, 25]\n",
    "    \n",
    "param_grid = dict(criterion=criterions, n_estimators=n_ests, max_depth=m_depths)\n",
    "\n",
    "grid_rf = GridSearchCV(rf, param_grid, scoring='roc_auc', cv=8, n_jobs=4)\n",
    "\n",
    "grid_rf.fit(X_train, y_train)\n",
    "\n",
    "print(grid_rf.best_score_)\n",
    "print(grid_rf.best_params_)\n",
    "print(grid_rf.best_estimator_)\n",
    "\n",
    "y_pred = grid_rf.predict(X_test)\n",
    "print(roc_auc_score(y_test, y_pred))"
   ]
  },
  {
   "cell_type": "code",
   "execution_count": 209,
   "metadata": {},
   "outputs": [
    {
     "data": {
      "text/plain": [
       "['models/preliminary/rf_mdepth_15']"
      ]
     },
     "execution_count": 209,
     "metadata": {},
     "output_type": "execute_result"
    }
   ],
   "source": [
    "dir = 'models/preliminary'\n",
    "joblib.dump(grid_rf.best_estimator_, f'{dir}/rf_mdepth_15',compress=9)"
   ]
  },
  {
   "cell_type": "code",
   "execution_count": 206,
   "metadata": {},
   "outputs": [
    {
     "name": "stdout",
     "output_type": "stream",
     "text": [
      "0.725709095769306\n",
      "{'criterion': 'gini', 'max_depth': 20, 'n_estimators': 300}\n",
      "RandomForestClassifier(bootstrap=True, class_weight=None, criterion='gini',\n",
      "            max_depth=20, max_features='auto', max_leaf_nodes=None,\n",
      "            min_impurity_decrease=0.0, min_impurity_split=None,\n",
      "            min_samples_leaf=1, min_samples_split=2,\n",
      "            min_weight_fraction_leaf=0.0, n_estimators=300, n_jobs=None,\n",
      "            oob_score=False, random_state=42, verbose=0, warm_start=False)\n",
      "0.6062968483199722\n"
     ]
    }
   ],
   "source": [
    "rf = RandomForestClassifier(random_state=42)\n",
    "\n",
    "criterions = ['gini']#, 'entropy']\n",
    "n_ests = [300]\n",
    "m_depths = [10, 15, 20]\n",
    "    \n",
    "param_grid = dict(criterion=criterions, n_estimators=n_ests, max_depth=m_depths)\n",
    "\n",
    "grid_rf3 = GridSearchCV(rf, param_grid, scoring='roc_auc', cv=8, n_jobs=4)\n",
    "\n",
    "grid_rf3.fit(X_train, y_train)\n",
    "\n",
    "print(grid_rf3.best_score_)\n",
    "print(grid_rf3.best_params_)\n",
    "print(grid_rf3.best_estimator_)\n",
    "\n",
    "y_pred3 = grid_rf3.predict(X_test)\n",
    "print(roc_auc_score(y_test, y_pred3))"
   ]
  },
  {
   "cell_type": "code",
   "execution_count": 516,
   "metadata": {},
   "outputs": [
    {
     "data": {
      "text/plain": [
       "['models/preliminary/rf_without_dates_or_requested_amount']"
      ]
     },
     "execution_count": 516,
     "metadata": {},
     "output_type": "execute_result"
    }
   ],
   "source": [
    "dir = 'models/preliminary'\n",
    "joblib.dump(grid_rf.best_estimator_, f'{dir}/rf_without_dates_or_requested_amount', compress=9)"
   ]
  },
  {
   "cell_type": "markdown",
   "metadata": {},
   "source": [
    "# Load for test run"
   ]
  },
  {
   "cell_type": "code",
   "execution_count": 3,
   "metadata": {},
   "outputs": [],
   "source": [
    "import pickle"
   ]
  },
  {
   "cell_type": "code",
   "execution_count": 4,
   "metadata": {},
   "outputs": [],
   "source": [
    "cleandir = 'data/clean'\n",
    "df = pd.read_pickle(f'{cleandir}/clean_for_classifier_df.pkl')"
   ]
  },
  {
   "cell_type": "code",
   "execution_count": 5,
   "metadata": {},
   "outputs": [
    {
     "data": {
      "text/html": [
       "<div>\n",
       "<style scoped>\n",
       "    .dataframe tbody tr th:only-of-type {\n",
       "        vertical-align: middle;\n",
       "    }\n",
       "\n",
       "    .dataframe tbody tr th {\n",
       "        vertical-align: top;\n",
       "    }\n",
       "\n",
       "    .dataframe thead th {\n",
       "        text-align: right;\n",
       "    }\n",
       "</style>\n",
       "<table border=\"1\" class=\"dataframe\">\n",
       "  <thead>\n",
       "    <tr style=\"text-align: right;\">\n",
       "      <th></th>\n",
       "      <th>date_received</th>\n",
       "      <th>incident_date</th>\n",
       "      <th>airport_code</th>\n",
       "      <th>airline</th>\n",
       "      <th>claim_type</th>\n",
       "      <th>claim_site</th>\n",
       "      <th>close_amount</th>\n",
       "      <th>disposition</th>\n",
       "      <th>item_category</th>\n",
       "    </tr>\n",
       "  </thead>\n",
       "  <tbody>\n",
       "    <tr>\n",
       "      <th>217668</th>\n",
       "      <td>2017-12-01</td>\n",
       "      <td>2017-11-30 00:00:00</td>\n",
       "      <td>MCO</td>\n",
       "      <td>Westjet Airlines Ltd</td>\n",
       "      <td>PropertyLoss</td>\n",
       "      <td>Checkpoint</td>\n",
       "      <td>17.990</td>\n",
       "      <td>Approve in Full</td>\n",
       "      <td>Household Items</td>\n",
       "    </tr>\n",
       "    <tr>\n",
       "      <th>216902</th>\n",
       "      <td>2017-11-28</td>\n",
       "      <td>2017-10-22 00:00:00</td>\n",
       "      <td>LAS</td>\n",
       "      <td>UAL</td>\n",
       "      <td>PropertyLoss</td>\n",
       "      <td>Checked Baggage</td>\n",
       "      <td>90.000</td>\n",
       "      <td>Settle</td>\n",
       "      <td>Clothing</td>\n",
       "    </tr>\n",
       "    <tr>\n",
       "      <th>217268</th>\n",
       "      <td>2017-11-20</td>\n",
       "      <td>2017-09-29 12:20:00</td>\n",
       "      <td>LAX</td>\n",
       "      <td>American Airlines</td>\n",
       "      <td>PropertyDamage</td>\n",
       "      <td>Checkpoint</td>\n",
       "      <td>485.550</td>\n",
       "      <td>Settle</td>\n",
       "      <td>Computer &amp; Accessories</td>\n",
       "    </tr>\n",
       "    <tr>\n",
       "      <th>215386</th>\n",
       "      <td>2017-10-26</td>\n",
       "      <td>2017-10-10 21:10:00</td>\n",
       "      <td>FLL</td>\n",
       "      <td>Emirates</td>\n",
       "      <td>PropertyLoss</td>\n",
       "      <td>Checked Baggage</td>\n",
       "      <td>111.300</td>\n",
       "      <td>Approve in Full</td>\n",
       "      <td>Other</td>\n",
       "    </tr>\n",
       "    <tr>\n",
       "      <th>218413</th>\n",
       "      <td>2017-10-25</td>\n",
       "      <td>2017-05-17 00:00:00</td>\n",
       "      <td>MIA</td>\n",
       "      <td>American Airlines</td>\n",
       "      <td>PropertyLoss</td>\n",
       "      <td>Checked Baggage</td>\n",
       "      <td>65.000</td>\n",
       "      <td>Approve in Full</td>\n",
       "      <td>Baggage/Cases/Purses; Clothing</td>\n",
       "    </tr>\n",
       "  </tbody>\n",
       "</table>\n",
       "</div>"
      ],
      "text/plain": [
       "       date_received       incident_date airport_code               airline  \\\n",
       "217668    2017-12-01 2017-11-30 00:00:00          MCO  Westjet Airlines Ltd   \n",
       "216902    2017-11-28 2017-10-22 00:00:00          LAS                   UAL   \n",
       "217268    2017-11-20 2017-09-29 12:20:00          LAX     American Airlines   \n",
       "215386    2017-10-26 2017-10-10 21:10:00          FLL              Emirates   \n",
       "218413    2017-10-25 2017-05-17 00:00:00          MIA     American Airlines   \n",
       "\n",
       "            claim_type       claim_site  close_amount      disposition  \\\n",
       "217668    PropertyLoss       Checkpoint        17.990  Approve in Full   \n",
       "216902    PropertyLoss  Checked Baggage        90.000           Settle   \n",
       "217268  PropertyDamage       Checkpoint       485.550           Settle   \n",
       "215386    PropertyLoss  Checked Baggage       111.300  Approve in Full   \n",
       "218413    PropertyLoss  Checked Baggage        65.000  Approve in Full   \n",
       "\n",
       "                         item_category  \n",
       "217668                 Household Items  \n",
       "216902                        Clothing  \n",
       "217268          Computer & Accessories  \n",
       "215386                           Other  \n",
       "218413  Baggage/Cases/Purses; Clothing  "
      ]
     },
     "execution_count": 5,
     "metadata": {},
     "output_type": "execute_result"
    }
   ],
   "source": [
    "df.head()"
   ]
  },
  {
   "cell_type": "code",
   "execution_count": 48,
   "metadata": {},
   "outputs": [
    {
     "data": {
      "text/plain": [
       "{'airport_code': 'SEA',\n",
       " 'airline': 'Emirates',\n",
       " 'claim_type': 'PropertyLoss',\n",
       " 'claim_site': 'Checkpoint',\n",
       " 'item_category': 'Clothing',\n",
       " 'num_items_or_incidents_claimed': 1,\n",
       " 'days_waited_to_file_claim': 7,\n",
       " 'Month_received': 1}"
      ]
     },
     "execution_count": 48,
     "metadata": {},
     "output_type": "execute_result"
    }
   ],
   "source": [
    "example"
   ]
  },
  {
   "cell_type": "code",
   "execution_count": 6,
   "metadata": {},
   "outputs": [
    {
     "name": "stderr",
     "output_type": "stream",
     "text": [
      "/home/spencer/anaconda3/lib/python3.6/site-packages/ipykernel_launcher.py:5: SettingWithCopyWarning: \n",
      "A value is trying to be set on a copy of a slice from a DataFrame\n",
      "\n",
      "See the caveats in the documentation: http://pandas.pydata.org/pandas-docs/stable/indexing.html#indexing-view-versus-copy\n",
      "  \"\"\"\n",
      "/home/spencer/anaconda3/lib/python3.6/site-packages/ipykernel_launcher.py:6: SettingWithCopyWarning: \n",
      "A value is trying to be set on a copy of a slice from a DataFrame\n",
      "\n",
      "See the caveats in the documentation: http://pandas.pydata.org/pandas-docs/stable/indexing.html#indexing-view-versus-copy\n",
      "  \n"
     ]
    }
   ],
   "source": [
    "df['binary_disposition'] = df['disposition']\n",
    "df['binary_disposition'] = df['binary_disposition'].where(df['binary_disposition'] == 'Deny', other='Compensate')\n",
    "\n",
    "# Change some text to make it more human readable\n",
    "df.claim_site[df.claim_site == '-'] = 'Unknown'\n",
    "df.claim_type[df.claim_type == '-'] = 'Unknown'\n",
    "\n",
    "# Feature Engineering\n",
    "\n",
    "### Count of items claimed\n",
    "\n",
    "# TODO: Consider only using this for where claim_type is related to property.\n",
    "df['num_items_or_incidents_claimed'] = df['item_category'].str.split(pat=';').apply(lambda x: len(x))\n",
    "df['num_items_or_incidents_claimed'] = df['num_items_or_incidents_claimed'].where(df['claim_type'].str.contains('property', case=False) == True, other= 0)\n",
    "\n",
    "### Time calculation\n",
    "wait_period = df.date_received - df.incident_date\n",
    "df['days_waited_to_file_claim'] = wait_period.dt.days\n",
    "\n",
    "# Drop days where the 'date_received\" was reported before 'incident_date'\n",
    "df = df[df.days_waited_to_file_claim >= 0]\n",
    "\n",
    "df.reset_index(inplace=True,drop=True)\n",
    "df['bin_dispos_onehot'] = df['binary_disposition'].apply(lambda x: 1 if x == 'Compensate' else 0)"
   ]
  },
  {
   "cell_type": "code",
   "execution_count": 7,
   "metadata": {},
   "outputs": [],
   "source": [
    "## Figure out how to plot this shit. I want 12 months on the X axis, and then a bar for each month of the proportion of approved vs denied within each month (I think)"
   ]
  },
  {
   "cell_type": "markdown",
   "metadata": {},
   "source": [
    "# TIME BREAKOUT COLUMNS"
   ]
  },
  {
   "cell_type": "code",
   "execution_count": 7,
   "metadata": {},
   "outputs": [],
   "source": [
    "# df['Week/Year_inc_date'] = df['incident_date'].apply(lambda x: \"%d/%d\" % (x.week, x.year))\n",
    "# df['Week_inc_date'] = df['incident_date'].apply(lambda x: \"%d\" % (x.week))\n",
    "# df['Month_inc_date'] = df['incident_date'].apply(lambda x: \"%d\" % (x.month))\n",
    "# df['Year_inc_date'] = df['incident_date'].apply(lambda x: \"%d\" % (x.year))\n",
    "\n",
    "# df['Week_received'] = df['date_received'].apply(lambda x: \"%d\" % (x.week))\n",
    "df['Month_received'] = df['date_received'].apply(lambda x: \"%d\" % (x.month))\n",
    "# df['Year_received'] = df['date_received'].apply(lambda x: \"%d\" % (x.year))"
   ]
  },
  {
   "cell_type": "code",
   "execution_count": 8,
   "metadata": {},
   "outputs": [
    {
     "data": {
      "text/html": [
       "<div>\n",
       "<style scoped>\n",
       "    .dataframe tbody tr th:only-of-type {\n",
       "        vertical-align: middle;\n",
       "    }\n",
       "\n",
       "    .dataframe tbody tr th {\n",
       "        vertical-align: top;\n",
       "    }\n",
       "\n",
       "    .dataframe thead th {\n",
       "        text-align: right;\n",
       "    }\n",
       "</style>\n",
       "<table border=\"1\" class=\"dataframe\">\n",
       "  <thead>\n",
       "    <tr style=\"text-align: right;\">\n",
       "      <th></th>\n",
       "      <th>date_received</th>\n",
       "      <th>incident_date</th>\n",
       "      <th>airport_code</th>\n",
       "      <th>airline</th>\n",
       "      <th>claim_type</th>\n",
       "      <th>claim_site</th>\n",
       "      <th>close_amount</th>\n",
       "      <th>disposition</th>\n",
       "      <th>item_category</th>\n",
       "      <th>binary_disposition</th>\n",
       "      <th>num_items_or_incidents_claimed</th>\n",
       "      <th>days_waited_to_file_claim</th>\n",
       "      <th>bin_dispos_onehot</th>\n",
       "      <th>Month_received</th>\n",
       "    </tr>\n",
       "  </thead>\n",
       "  <tbody>\n",
       "    <tr>\n",
       "      <th>0</th>\n",
       "      <td>2017-12-01</td>\n",
       "      <td>2017-11-30 00:00:00</td>\n",
       "      <td>MCO</td>\n",
       "      <td>Westjet Airlines Ltd</td>\n",
       "      <td>PropertyLoss</td>\n",
       "      <td>Checkpoint</td>\n",
       "      <td>17.990</td>\n",
       "      <td>Approve in Full</td>\n",
       "      <td>Household Items</td>\n",
       "      <td>Compensate</td>\n",
       "      <td>1</td>\n",
       "      <td>1</td>\n",
       "      <td>1</td>\n",
       "      <td>12</td>\n",
       "    </tr>\n",
       "    <tr>\n",
       "      <th>1</th>\n",
       "      <td>2017-11-28</td>\n",
       "      <td>2017-10-22 00:00:00</td>\n",
       "      <td>LAS</td>\n",
       "      <td>UAL</td>\n",
       "      <td>PropertyLoss</td>\n",
       "      <td>Checked Baggage</td>\n",
       "      <td>90.000</td>\n",
       "      <td>Settle</td>\n",
       "      <td>Clothing</td>\n",
       "      <td>Compensate</td>\n",
       "      <td>1</td>\n",
       "      <td>37</td>\n",
       "      <td>1</td>\n",
       "      <td>11</td>\n",
       "    </tr>\n",
       "    <tr>\n",
       "      <th>2</th>\n",
       "      <td>2017-11-20</td>\n",
       "      <td>2017-09-29 12:20:00</td>\n",
       "      <td>LAX</td>\n",
       "      <td>American Airlines</td>\n",
       "      <td>PropertyDamage</td>\n",
       "      <td>Checkpoint</td>\n",
       "      <td>485.550</td>\n",
       "      <td>Settle</td>\n",
       "      <td>Computer &amp; Accessories</td>\n",
       "      <td>Compensate</td>\n",
       "      <td>1</td>\n",
       "      <td>51</td>\n",
       "      <td>1</td>\n",
       "      <td>11</td>\n",
       "    </tr>\n",
       "    <tr>\n",
       "      <th>3</th>\n",
       "      <td>2017-10-26</td>\n",
       "      <td>2017-10-10 21:10:00</td>\n",
       "      <td>FLL</td>\n",
       "      <td>Emirates</td>\n",
       "      <td>PropertyLoss</td>\n",
       "      <td>Checked Baggage</td>\n",
       "      <td>111.300</td>\n",
       "      <td>Approve in Full</td>\n",
       "      <td>Other</td>\n",
       "      <td>Compensate</td>\n",
       "      <td>1</td>\n",
       "      <td>15</td>\n",
       "      <td>1</td>\n",
       "      <td>10</td>\n",
       "    </tr>\n",
       "    <tr>\n",
       "      <th>4</th>\n",
       "      <td>2017-10-25</td>\n",
       "      <td>2017-05-17 00:00:00</td>\n",
       "      <td>MIA</td>\n",
       "      <td>American Airlines</td>\n",
       "      <td>PropertyLoss</td>\n",
       "      <td>Checked Baggage</td>\n",
       "      <td>65.000</td>\n",
       "      <td>Approve in Full</td>\n",
       "      <td>Baggage/Cases/Purses; Clothing</td>\n",
       "      <td>Compensate</td>\n",
       "      <td>2</td>\n",
       "      <td>161</td>\n",
       "      <td>1</td>\n",
       "      <td>10</td>\n",
       "    </tr>\n",
       "  </tbody>\n",
       "</table>\n",
       "</div>"
      ],
      "text/plain": [
       "  date_received       incident_date airport_code               airline  \\\n",
       "0    2017-12-01 2017-11-30 00:00:00          MCO  Westjet Airlines Ltd   \n",
       "1    2017-11-28 2017-10-22 00:00:00          LAS                   UAL   \n",
       "2    2017-11-20 2017-09-29 12:20:00          LAX     American Airlines   \n",
       "3    2017-10-26 2017-10-10 21:10:00          FLL              Emirates   \n",
       "4    2017-10-25 2017-05-17 00:00:00          MIA     American Airlines   \n",
       "\n",
       "       claim_type       claim_site  close_amount      disposition  \\\n",
       "0    PropertyLoss       Checkpoint        17.990  Approve in Full   \n",
       "1    PropertyLoss  Checked Baggage        90.000           Settle   \n",
       "2  PropertyDamage       Checkpoint       485.550           Settle   \n",
       "3    PropertyLoss  Checked Baggage       111.300  Approve in Full   \n",
       "4    PropertyLoss  Checked Baggage        65.000  Approve in Full   \n",
       "\n",
       "                    item_category binary_disposition  \\\n",
       "0                 Household Items         Compensate   \n",
       "1                        Clothing         Compensate   \n",
       "2          Computer & Accessories         Compensate   \n",
       "3                           Other         Compensate   \n",
       "4  Baggage/Cases/Purses; Clothing         Compensate   \n",
       "\n",
       "   num_items_or_incidents_claimed  days_waited_to_file_claim  \\\n",
       "0                               1                          1   \n",
       "1                               1                         37   \n",
       "2                               1                         51   \n",
       "3                               1                         15   \n",
       "4                               2                        161   \n",
       "\n",
       "   bin_dispos_onehot Month_received  \n",
       "0                  1             12  \n",
       "1                  1             11  \n",
       "2                  1             11  \n",
       "3                  1             10  \n",
       "4                  1             10  "
      ]
     },
     "execution_count": 8,
     "metadata": {},
     "output_type": "execute_result"
    }
   ],
   "source": [
    "df.head()"
   ]
  },
  {
   "cell_type": "code",
   "execution_count": 9,
   "metadata": {},
   "outputs": [],
   "source": [
    "df.drop(columns=['date_received', 'incident_date', 'bin_dispos_onehot'], inplace=True)"
   ]
  },
  {
   "cell_type": "code",
   "execution_count": 37,
   "metadata": {},
   "outputs": [
    {
     "data": {
      "text/plain": [
       "<matplotlib.axes._subplots.AxesSubplot at 0x7f64fd063400>"
      ]
     },
     "execution_count": 37,
     "metadata": {},
     "output_type": "execute_result"
    },
    {
     "data": {
      "image/png": "[encoded data removed]",
      "text/plain": [
       "<Figure size 576x432 with 1 Axes>"
      ]
     },
     "metadata": {
      "needs_background": "light"
     },
     "output_type": "display_data"
    }
   ],
   "source": [
    "df.groupby('Month_received').apply(lambda x: x.bin_dispos_onehot.sum() / x.bin_dispos_onehot.count()).plot(kind='barh', figsize=(8,6))"
   ]
  },
  {
   "cell_type": "code",
   "execution_count": 38,
   "metadata": {},
   "outputs": [
    {
     "data": {
      "image/png": "[encoded data removed]",
      "text/plain": [
       "<Figure size 576x432 with 1 Axes>"
      ]
     },
     "metadata": {
      "needs_background": "light"
     },
     "output_type": "display_data"
    }
   ],
   "source": [
    "df.groupby('Month_inc_date').apply(lambda x: x.bin_dispos_onehot.sum() / x.bin_dispos_onehot.count()).plot(kind='barh', figsize=(8,6));"
   ]
  },
  {
   "cell_type": "code",
   "execution_count": 24,
   "metadata": {},
   "outputs": [
    {
     "data": {
      "text/plain": [
       "(145421, 11)"
      ]
     },
     "execution_count": 24,
     "metadata": {},
     "output_type": "execute_result"
    }
   ],
   "source": [
    "df.shape"
   ]
  },
  {
   "cell_type": "code",
   "execution_count": 10,
   "metadata": {},
   "outputs": [],
   "source": [
    "df = df.dropna()"
   ]
  },
  {
   "cell_type": "code",
   "execution_count": 11,
   "metadata": {},
   "outputs": [
    {
     "data": {
      "text/html": [
       "<div>\n",
       "<style scoped>\n",
       "    .dataframe tbody tr th:only-of-type {\n",
       "        vertical-align: middle;\n",
       "    }\n",
       "\n",
       "    .dataframe tbody tr th {\n",
       "        vertical-align: top;\n",
       "    }\n",
       "\n",
       "    .dataframe thead th {\n",
       "        text-align: right;\n",
       "    }\n",
       "</style>\n",
       "<table border=\"1\" class=\"dataframe\">\n",
       "  <thead>\n",
       "    <tr style=\"text-align: right;\">\n",
       "      <th></th>\n",
       "      <th>airport_code</th>\n",
       "      <th>airline</th>\n",
       "      <th>claim_type</th>\n",
       "      <th>claim_site</th>\n",
       "      <th>close_amount</th>\n",
       "      <th>disposition</th>\n",
       "      <th>item_category</th>\n",
       "      <th>binary_disposition</th>\n",
       "      <th>num_items_or_incidents_claimed</th>\n",
       "      <th>days_waited_to_file_claim</th>\n",
       "      <th>Month_received</th>\n",
       "    </tr>\n",
       "  </thead>\n",
       "  <tbody>\n",
       "    <tr>\n",
       "      <th>0</th>\n",
       "      <td>MCO</td>\n",
       "      <td>Westjet Airlines Ltd</td>\n",
       "      <td>PropertyLoss</td>\n",
       "      <td>Checkpoint</td>\n",
       "      <td>17.990</td>\n",
       "      <td>Approve in Full</td>\n",
       "      <td>Household Items</td>\n",
       "      <td>Compensate</td>\n",
       "      <td>1</td>\n",
       "      <td>1</td>\n",
       "      <td>12</td>\n",
       "    </tr>\n",
       "    <tr>\n",
       "      <th>1</th>\n",
       "      <td>LAS</td>\n",
       "      <td>UAL</td>\n",
       "      <td>PropertyLoss</td>\n",
       "      <td>Checked Baggage</td>\n",
       "      <td>90.000</td>\n",
       "      <td>Settle</td>\n",
       "      <td>Clothing</td>\n",
       "      <td>Compensate</td>\n",
       "      <td>1</td>\n",
       "      <td>37</td>\n",
       "      <td>11</td>\n",
       "    </tr>\n",
       "    <tr>\n",
       "      <th>2</th>\n",
       "      <td>LAX</td>\n",
       "      <td>American Airlines</td>\n",
       "      <td>PropertyDamage</td>\n",
       "      <td>Checkpoint</td>\n",
       "      <td>485.550</td>\n",
       "      <td>Settle</td>\n",
       "      <td>Computer &amp; Accessories</td>\n",
       "      <td>Compensate</td>\n",
       "      <td>1</td>\n",
       "      <td>51</td>\n",
       "      <td>11</td>\n",
       "    </tr>\n",
       "    <tr>\n",
       "      <th>3</th>\n",
       "      <td>FLL</td>\n",
       "      <td>Emirates</td>\n",
       "      <td>PropertyLoss</td>\n",
       "      <td>Checked Baggage</td>\n",
       "      <td>111.300</td>\n",
       "      <td>Approve in Full</td>\n",
       "      <td>Other</td>\n",
       "      <td>Compensate</td>\n",
       "      <td>1</td>\n",
       "      <td>15</td>\n",
       "      <td>10</td>\n",
       "    </tr>\n",
       "    <tr>\n",
       "      <th>4</th>\n",
       "      <td>MIA</td>\n",
       "      <td>American Airlines</td>\n",
       "      <td>PropertyLoss</td>\n",
       "      <td>Checked Baggage</td>\n",
       "      <td>65.000</td>\n",
       "      <td>Approve in Full</td>\n",
       "      <td>Baggage/Cases/Purses; Clothing</td>\n",
       "      <td>Compensate</td>\n",
       "      <td>2</td>\n",
       "      <td>161</td>\n",
       "      <td>10</td>\n",
       "    </tr>\n",
       "  </tbody>\n",
       "</table>\n",
       "</div>"
      ],
      "text/plain": [
       "  airport_code               airline      claim_type       claim_site  \\\n",
       "0          MCO  Westjet Airlines Ltd    PropertyLoss       Checkpoint   \n",
       "1          LAS                   UAL    PropertyLoss  Checked Baggage   \n",
       "2          LAX     American Airlines  PropertyDamage       Checkpoint   \n",
       "3          FLL              Emirates    PropertyLoss  Checked Baggage   \n",
       "4          MIA     American Airlines    PropertyLoss  Checked Baggage   \n",
       "\n",
       "   close_amount      disposition                   item_category  \\\n",
       "0        17.990  Approve in Full                 Household Items   \n",
       "1        90.000           Settle                        Clothing   \n",
       "2       485.550           Settle          Computer & Accessories   \n",
       "3       111.300  Approve in Full                           Other   \n",
       "4        65.000  Approve in Full  Baggage/Cases/Purses; Clothing   \n",
       "\n",
       "  binary_disposition  num_items_or_incidents_claimed  \\\n",
       "0         Compensate                               1   \n",
       "1         Compensate                               1   \n",
       "2         Compensate                               1   \n",
       "3         Compensate                               1   \n",
       "4         Compensate                               2   \n",
       "\n",
       "   days_waited_to_file_claim Month_received  \n",
       "0                          1             12  \n",
       "1                         37             11  \n",
       "2                         51             11  \n",
       "3                         15             10  \n",
       "4                        161             10  "
      ]
     },
     "execution_count": 11,
     "metadata": {},
     "output_type": "execute_result"
    }
   ],
   "source": [
    "df.head()"
   ]
  },
  {
   "cell_type": "code",
   "execution_count": 12,
   "metadata": {},
   "outputs": [],
   "source": [
    "X = df.drop(['binary_disposition', 'disposition', \n",
    "             #'date_received', 'incident_date',\n",
    "             'close_amount',\n",
    "            ]\n",
    "            , axis=1)\n",
    "y = df['binary_disposition'].apply(lambda x: 1 if x == 'Compensate' else 0)"
   ]
  },
  {
   "cell_type": "code",
   "execution_count": 13,
   "metadata": {},
   "outputs": [
    {
     "data": {
      "text/html": [
       "<div>\n",
       "<style scoped>\n",
       "    .dataframe tbody tr th:only-of-type {\n",
       "        vertical-align: middle;\n",
       "    }\n",
       "\n",
       "    .dataframe tbody tr th {\n",
       "        vertical-align: top;\n",
       "    }\n",
       "\n",
       "    .dataframe thead th {\n",
       "        text-align: right;\n",
       "    }\n",
       "</style>\n",
       "<table border=\"1\" class=\"dataframe\">\n",
       "  <thead>\n",
       "    <tr style=\"text-align: right;\">\n",
       "      <th></th>\n",
       "      <th>airport_code</th>\n",
       "      <th>airline</th>\n",
       "      <th>claim_type</th>\n",
       "      <th>claim_site</th>\n",
       "      <th>item_category</th>\n",
       "      <th>num_items_or_incidents_claimed</th>\n",
       "      <th>days_waited_to_file_claim</th>\n",
       "      <th>Month_received</th>\n",
       "    </tr>\n",
       "  </thead>\n",
       "  <tbody>\n",
       "    <tr>\n",
       "      <th>0</th>\n",
       "      <td>MCO</td>\n",
       "      <td>Westjet Airlines Ltd</td>\n",
       "      <td>PropertyLoss</td>\n",
       "      <td>Checkpoint</td>\n",
       "      <td>Household Items</td>\n",
       "      <td>1</td>\n",
       "      <td>1</td>\n",
       "      <td>12</td>\n",
       "    </tr>\n",
       "    <tr>\n",
       "      <th>1</th>\n",
       "      <td>LAS</td>\n",
       "      <td>UAL</td>\n",
       "      <td>PropertyLoss</td>\n",
       "      <td>Checked Baggage</td>\n",
       "      <td>Clothing</td>\n",
       "      <td>1</td>\n",
       "      <td>37</td>\n",
       "      <td>11</td>\n",
       "    </tr>\n",
       "    <tr>\n",
       "      <th>2</th>\n",
       "      <td>LAX</td>\n",
       "      <td>American Airlines</td>\n",
       "      <td>PropertyDamage</td>\n",
       "      <td>Checkpoint</td>\n",
       "      <td>Computer &amp; Accessories</td>\n",
       "      <td>1</td>\n",
       "      <td>51</td>\n",
       "      <td>11</td>\n",
       "    </tr>\n",
       "    <tr>\n",
       "      <th>3</th>\n",
       "      <td>FLL</td>\n",
       "      <td>Emirates</td>\n",
       "      <td>PropertyLoss</td>\n",
       "      <td>Checked Baggage</td>\n",
       "      <td>Other</td>\n",
       "      <td>1</td>\n",
       "      <td>15</td>\n",
       "      <td>10</td>\n",
       "    </tr>\n",
       "    <tr>\n",
       "      <th>4</th>\n",
       "      <td>MIA</td>\n",
       "      <td>American Airlines</td>\n",
       "      <td>PropertyLoss</td>\n",
       "      <td>Checked Baggage</td>\n",
       "      <td>Baggage/Cases/Purses; Clothing</td>\n",
       "      <td>2</td>\n",
       "      <td>161</td>\n",
       "      <td>10</td>\n",
       "    </tr>\n",
       "  </tbody>\n",
       "</table>\n",
       "</div>"
      ],
      "text/plain": [
       "  airport_code               airline      claim_type       claim_site  \\\n",
       "0          MCO  Westjet Airlines Ltd    PropertyLoss       Checkpoint   \n",
       "1          LAS                   UAL    PropertyLoss  Checked Baggage   \n",
       "2          LAX     American Airlines  PropertyDamage       Checkpoint   \n",
       "3          FLL              Emirates    PropertyLoss  Checked Baggage   \n",
       "4          MIA     American Airlines    PropertyLoss  Checked Baggage   \n",
       "\n",
       "                    item_category  num_items_or_incidents_claimed  \\\n",
       "0                 Household Items                               1   \n",
       "1                        Clothing                               1   \n",
       "2          Computer & Accessories                               1   \n",
       "3                           Other                               1   \n",
       "4  Baggage/Cases/Purses; Clothing                               2   \n",
       "\n",
       "   days_waited_to_file_claim Month_received  \n",
       "0                          1             12  \n",
       "1                         37             11  \n",
       "2                         51             11  \n",
       "3                         15             10  \n",
       "4                        161             10  "
      ]
     },
     "execution_count": 13,
     "metadata": {},
     "output_type": "execute_result"
    }
   ],
   "source": [
    "X.head()"
   ]
  },
  {
   "cell_type": "code",
   "execution_count": 45,
   "metadata": {},
   "outputs": [],
   "source": [
    "categorical = ['airport_code', 'airline', 'claim_type', 'claim_site', 'Month_received']\n",
    "continuous =  ['days_waited_to_file_claim', 'num_items_or_incidents_claimed']"
   ]
  },
  {
   "cell_type": "code",
   "execution_count": 28,
   "metadata": {},
   "outputs": [
    {
     "name": "stderr",
     "output_type": "stream",
     "text": [
      "/home/spencer/anaconda3/lib/python3.6/site-packages/sklearn/preprocessing/data.py:617: DataConversionWarning: Data with input dtype int64 were all converted to float64 by StandardScaler.\n",
      "  return self.partial_fit(X, y)\n",
      "/home/spencer/anaconda3/lib/python3.6/site-packages/sklearn/base.py:462: DataConversionWarning: Data with input dtype int64 were all converted to float64 by StandardScaler.\n",
      "  return self.fit(X, **fit_params).transform(X)\n"
     ]
    }
   ],
   "source": [
    "enc = OneHotEncoder(sparse=False)\n",
    "onehotarray = enc.fit_transform(X[categorical])\n",
    "\n",
    "ss = StandardScaler()\n",
    "continuousarray = ss.fit_transform(X[continuous])\n",
    "\n",
    "mlb = MultiLabelBinarizer(sparse_output=False)\n",
    "onehot_itemcategories = mlb.fit_transform(X['item_category'].str.replace(' ','').str.split(pat=';'))\n",
    "\n",
    "X = np.concatenate((onehotarray, continuousarray, onehot_itemcategories), axis=1)"
   ]
  },
  {
   "cell_type": "code",
   "execution_count": 47,
   "metadata": {},
   "outputs": [
    {
     "name": "stderr",
     "output_type": "stream",
     "text": [
      "/home/spencer/anaconda3/lib/python3.6/site-packages/sklearn/preprocessing/data.py:617: DataConversionWarning: Data with input dtype int64 were all converted to float64 by StandardScaler.\n",
      "  return self.partial_fit(X, y)\n"
     ]
    },
    {
     "data": {
      "text/plain": [
       "['./models/transformers/item_category.joblib']"
      ]
     },
     "execution_count": 47,
     "metadata": {},
     "output_type": "execute_result"
    }
   ],
   "source": [
    "trans_dir = './models/transformers'\n",
    "\n",
    "enc = OneHotEncoder(sparse=False)\n",
    "enc.fit(X[categorical])\n",
    "joblib.dump(enc, f'{trans_dir}/onehotencode.joblib')\n",
    "# onehotarray = enc.transform(X[categorical])\n",
    "\n",
    "ss = StandardScaler()\n",
    "ss.fit(X[continuous])\n",
    "joblib.dump(ss, f'{trans_dir}/standardscaler.joblib')\n",
    "\n",
    "\n",
    "mlb = MultiLabelBinarizer(sparse_output=False)\n",
    "mlb.fit(X['item_category'].str.replace(' ','').str.split(pat=';'))\n",
    "joblib.dump(mlb, f'{trans_dir}/item_category.joblib')"
   ]
  },
  {
   "cell_type": "code",
   "execution_count": null,
   "metadata": {},
   "outputs": [],
   "source": [
    "# IT needs to be one entry in the master array. So like (1, 869)\n",
    "# how do I get there? I need all the 869 features, and then I need to plug in the values as appropriate for the features I do have."
   ]
  },
  {
   "cell_type": "code",
   "execution_count": null,
   "metadata": {},
   "outputs": [],
   "source": [
    "# I think I need to take the big X with all the data, get its 869 feature array, then store the features for that.\n",
    "\n",
    "# then with my example, I need to not fit_transform, but just transform it or something?!"
   ]
  },
  {
   "cell_type": "code",
   "execution_count": null,
   "metadata": {},
   "outputs": [],
   "source": []
  },
  {
   "cell_type": "code",
   "execution_count": 19,
   "metadata": {},
   "outputs": [],
   "source": [
    "model = joblib.load(open('./models/rf_full_month_rec', 'rb'))"
   ]
  },
  {
   "cell_type": "code",
   "execution_count": 21,
   "metadata": {},
   "outputs": [
    {
     "ename": "ValueError",
     "evalue": "could not convert string to float: 'MCO'",
     "output_type": "error",
     "traceback": [
      "\u001b[0;31m---------------------------------------------------------------------------\u001b[0m",
      "\u001b[0;31mValueError\u001b[0m                                Traceback (most recent call last)",
      "\u001b[0;32m<ipython-input-21-d8ac03d51d88>\u001b[0m in \u001b[0;36m<module>\u001b[0;34m()\u001b[0m\n\u001b[1;32m     18\u001b[0m                   \u001b[0mexample\u001b[0m\u001b[0;34m[\u001b[0m\u001b[0;34m'days_waited_to_file_claim'\u001b[0m\u001b[0;34m]\u001b[0m\u001b[0;34m,\u001b[0m\u001b[0;34m\u001b[0m\u001b[0m\n\u001b[1;32m     19\u001b[0m                   example['Month_received']]).reshape(1,-1)\n\u001b[0;32m---> 20\u001b[0;31m \u001b[0mprob_survived\u001b[0m \u001b[0;34m=\u001b[0m \u001b[0mmodel\u001b[0m\u001b[0;34m.\u001b[0m\u001b[0mpredict_proba\u001b[0m\u001b[0;34m(\u001b[0m\u001b[0mX\u001b[0m\u001b[0;34m)\u001b[0m\u001b[0;34m[\u001b[0m\u001b[0;36m0\u001b[0m\u001b[0;34m,\u001b[0m \u001b[0;36m1\u001b[0m\u001b[0;34m]\u001b[0m\u001b[0;34m\u001b[0m\u001b[0m\n\u001b[0m",
      "\u001b[0;32m~/anaconda3/lib/python3.6/site-packages/sklearn/ensemble/forest.py\u001b[0m in \u001b[0;36mpredict_proba\u001b[0;34m(self, X)\u001b[0m\n\u001b[1;32m    583\u001b[0m         \u001b[0mcheck_is_fitted\u001b[0m\u001b[0;34m(\u001b[0m\u001b[0mself\u001b[0m\u001b[0;34m,\u001b[0m \u001b[0;34m'estimators_'\u001b[0m\u001b[0;34m)\u001b[0m\u001b[0;34m\u001b[0m\u001b[0m\n\u001b[1;32m    584\u001b[0m         \u001b[0;31m# Check data\u001b[0m\u001b[0;34m\u001b[0m\u001b[0;34m\u001b[0m\u001b[0m\n\u001b[0;32m--> 585\u001b[0;31m         \u001b[0mX\u001b[0m \u001b[0;34m=\u001b[0m \u001b[0mself\u001b[0m\u001b[0;34m.\u001b[0m\u001b[0m_validate_X_predict\u001b[0m\u001b[0;34m(\u001b[0m\u001b[0mX\u001b[0m\u001b[0;34m)\u001b[0m\u001b[0;34m\u001b[0m\u001b[0m\n\u001b[0m\u001b[1;32m    586\u001b[0m \u001b[0;34m\u001b[0m\u001b[0m\n\u001b[1;32m    587\u001b[0m         \u001b[0;31m# Assign chunk of trees to jobs\u001b[0m\u001b[0;34m\u001b[0m\u001b[0;34m\u001b[0m\u001b[0m\n",
      "\u001b[0;32m~/anaconda3/lib/python3.6/site-packages/sklearn/ensemble/forest.py\u001b[0m in \u001b[0;36m_validate_X_predict\u001b[0;34m(self, X)\u001b[0m\n\u001b[1;32m    362\u001b[0m                                  \"call `fit` before exploiting the model.\")\n\u001b[1;32m    363\u001b[0m \u001b[0;34m\u001b[0m\u001b[0m\n\u001b[0;32m--> 364\u001b[0;31m         \u001b[0;32mreturn\u001b[0m \u001b[0mself\u001b[0m\u001b[0;34m.\u001b[0m\u001b[0mestimators_\u001b[0m\u001b[0;34m[\u001b[0m\u001b[0;36m0\u001b[0m\u001b[0;34m]\u001b[0m\u001b[0;34m.\u001b[0m\u001b[0m_validate_X_predict\u001b[0m\u001b[0;34m(\u001b[0m\u001b[0mX\u001b[0m\u001b[0;34m,\u001b[0m \u001b[0mcheck_input\u001b[0m\u001b[0;34m=\u001b[0m\u001b[0;32mTrue\u001b[0m\u001b[0;34m)\u001b[0m\u001b[0;34m\u001b[0m\u001b[0m\n\u001b[0m\u001b[1;32m    365\u001b[0m \u001b[0;34m\u001b[0m\u001b[0m\n\u001b[1;32m    366\u001b[0m     \u001b[0;34m@\u001b[0m\u001b[0mproperty\u001b[0m\u001b[0;34m\u001b[0m\u001b[0m\n",
      "\u001b[0;32m~/anaconda3/lib/python3.6/site-packages/sklearn/tree/tree.py\u001b[0m in \u001b[0;36m_validate_X_predict\u001b[0;34m(self, X, check_input)\u001b[0m\n\u001b[1;32m    374\u001b[0m         \u001b[0;34m\"\"\"Validate X whenever one tries to predict, apply, predict_proba\"\"\"\u001b[0m\u001b[0;34m\u001b[0m\u001b[0m\n\u001b[1;32m    375\u001b[0m         \u001b[0;32mif\u001b[0m \u001b[0mcheck_input\u001b[0m\u001b[0;34m:\u001b[0m\u001b[0;34m\u001b[0m\u001b[0m\n\u001b[0;32m--> 376\u001b[0;31m             \u001b[0mX\u001b[0m \u001b[0;34m=\u001b[0m \u001b[0mcheck_array\u001b[0m\u001b[0;34m(\u001b[0m\u001b[0mX\u001b[0m\u001b[0;34m,\u001b[0m \u001b[0mdtype\u001b[0m\u001b[0;34m=\u001b[0m\u001b[0mDTYPE\u001b[0m\u001b[0;34m,\u001b[0m \u001b[0maccept_sparse\u001b[0m\u001b[0;34m=\u001b[0m\u001b[0;34m\"csr\"\u001b[0m\u001b[0;34m)\u001b[0m\u001b[0;34m\u001b[0m\u001b[0m\n\u001b[0m\u001b[1;32m    377\u001b[0m             if issparse(X) and (X.indices.dtype != np.intc or\n\u001b[1;32m    378\u001b[0m                                 X.indptr.dtype != np.intc):\n",
      "\u001b[0;32m~/anaconda3/lib/python3.6/site-packages/sklearn/utils/validation.py\u001b[0m in \u001b[0;36mcheck_array\u001b[0;34m(array, accept_sparse, accept_large_sparse, dtype, order, copy, force_all_finite, ensure_2d, allow_nd, ensure_min_samples, ensure_min_features, warn_on_dtype, estimator)\u001b[0m\n\u001b[1;32m    520\u001b[0m             \u001b[0;32mtry\u001b[0m\u001b[0;34m:\u001b[0m\u001b[0;34m\u001b[0m\u001b[0m\n\u001b[1;32m    521\u001b[0m                 \u001b[0mwarnings\u001b[0m\u001b[0;34m.\u001b[0m\u001b[0msimplefilter\u001b[0m\u001b[0;34m(\u001b[0m\u001b[0;34m'error'\u001b[0m\u001b[0;34m,\u001b[0m \u001b[0mComplexWarning\u001b[0m\u001b[0;34m)\u001b[0m\u001b[0;34m\u001b[0m\u001b[0m\n\u001b[0;32m--> 522\u001b[0;31m                 \u001b[0marray\u001b[0m \u001b[0;34m=\u001b[0m \u001b[0mnp\u001b[0m\u001b[0;34m.\u001b[0m\u001b[0masarray\u001b[0m\u001b[0;34m(\u001b[0m\u001b[0marray\u001b[0m\u001b[0;34m,\u001b[0m \u001b[0mdtype\u001b[0m\u001b[0;34m=\u001b[0m\u001b[0mdtype\u001b[0m\u001b[0;34m,\u001b[0m \u001b[0morder\u001b[0m\u001b[0;34m=\u001b[0m\u001b[0morder\u001b[0m\u001b[0;34m)\u001b[0m\u001b[0;34m\u001b[0m\u001b[0m\n\u001b[0m\u001b[1;32m    523\u001b[0m             \u001b[0;32mexcept\u001b[0m \u001b[0mComplexWarning\u001b[0m\u001b[0;34m:\u001b[0m\u001b[0;34m\u001b[0m\u001b[0m\n\u001b[1;32m    524\u001b[0m                 raise ValueError(\"Complex data not supported\\n\"\n",
      "\u001b[0;32m~/anaconda3/lib/python3.6/site-packages/numpy/core/numeric.py\u001b[0m in \u001b[0;36masarray\u001b[0;34m(a, dtype, order)\u001b[0m\n\u001b[1;32m    499\u001b[0m \u001b[0;34m\u001b[0m\u001b[0m\n\u001b[1;32m    500\u001b[0m     \"\"\"\n\u001b[0;32m--> 501\u001b[0;31m     \u001b[0;32mreturn\u001b[0m \u001b[0marray\u001b[0m\u001b[0;34m(\u001b[0m\u001b[0ma\u001b[0m\u001b[0;34m,\u001b[0m \u001b[0mdtype\u001b[0m\u001b[0;34m,\u001b[0m \u001b[0mcopy\u001b[0m\u001b[0;34m=\u001b[0m\u001b[0;32mFalse\u001b[0m\u001b[0;34m,\u001b[0m \u001b[0morder\u001b[0m\u001b[0;34m=\u001b[0m\u001b[0morder\u001b[0m\u001b[0;34m)\u001b[0m\u001b[0;34m\u001b[0m\u001b[0m\n\u001b[0m\u001b[1;32m    502\u001b[0m \u001b[0;34m\u001b[0m\u001b[0m\n\u001b[1;32m    503\u001b[0m \u001b[0;34m\u001b[0m\u001b[0m\n",
      "\u001b[0;31mValueError\u001b[0m: could not convert string to float: 'MCO'"
     ]
    }
   ],
   "source": [
    "example = {\n",
    "  'airport_code': 'SEA',  # str\n",
    "  'airline': 'Emirates',    # str\n",
    "  'claim_type': 'PropertyLoss',    # str\n",
    "  'claim_site': 'Checkpoint',  # str\n",
    "  'item_category': 'Clothing',  # str\n",
    "  'num_items_or_incidents_claimed': 1,  # int\n",
    "  'days_waited_to_file_claim': 7, # int\n",
    "  'Month_received': 1, # int (1-12)\n",
    "}\n",
    "\n",
    "Z = np.array([example['airport_code'],\n",
    "                  int(example['airline'] == 'M'),\n",
    "                  example['claim_type'],\n",
    "                  example['claim_site'],\n",
    "                  example['item_category'],\n",
    "                  example['num_items_or_incidents_claimed'],\n",
    "                  example['days_waited_to_file_claim'],\n",
    "                  example['Month_received']]).reshape(1,-1)\n",
    "prob_survived = model.predict_proba(X)[0, 1]"
   ]
  },
  {
   "cell_type": "code",
   "execution_count": null,
   "metadata": {},
   "outputs": [],
   "source": [
    "np.array([features['airport_code'],\n",
    "              int(features['airline'] == 'M'),\n",
    "              features['claim_type'],\n",
    "              features['claim_site'],\n",
    "              features['item_category'],\n",
    "              features['num_items_or_incidents_claimed'],\n",
    "              features['days_waited_to_file_claim'],\n",
    "              features['Month_received']]).reshape(1,-1)"
   ]
  },
  {
   "cell_type": "code",
   "execution_count": 55,
   "metadata": {},
   "outputs": [
    {
     "data": {
      "text/html": [
       "<div>\n",
       "<style scoped>\n",
       "    .dataframe tbody tr th:only-of-type {\n",
       "        vertical-align: middle;\n",
       "    }\n",
       "\n",
       "    .dataframe tbody tr th {\n",
       "        vertical-align: top;\n",
       "    }\n",
       "\n",
       "    .dataframe thead th {\n",
       "        text-align: right;\n",
       "    }\n",
       "</style>\n",
       "<table border=\"1\" class=\"dataframe\">\n",
       "  <thead>\n",
       "    <tr style=\"text-align: right;\">\n",
       "      <th></th>\n",
       "      <th>airport_code</th>\n",
       "      <th>airline</th>\n",
       "      <th>claim_type</th>\n",
       "      <th>claim_site</th>\n",
       "      <th>Month_received</th>\n",
       "    </tr>\n",
       "  </thead>\n",
       "  <tbody>\n",
       "    <tr>\n",
       "      <th>0</th>\n",
       "      <td>MCO</td>\n",
       "      <td>Westjet Airlines Ltd</td>\n",
       "      <td>PropertyLoss</td>\n",
       "      <td>Checkpoint</td>\n",
       "      <td>12</td>\n",
       "    </tr>\n",
       "    <tr>\n",
       "      <th>1</th>\n",
       "      <td>LAS</td>\n",
       "      <td>UAL</td>\n",
       "      <td>PropertyLoss</td>\n",
       "      <td>Checked Baggage</td>\n",
       "      <td>11</td>\n",
       "    </tr>\n",
       "    <tr>\n",
       "      <th>2</th>\n",
       "      <td>LAX</td>\n",
       "      <td>American Airlines</td>\n",
       "      <td>PropertyDamage</td>\n",
       "      <td>Checkpoint</td>\n",
       "      <td>11</td>\n",
       "    </tr>\n",
       "    <tr>\n",
       "      <th>3</th>\n",
       "      <td>FLL</td>\n",
       "      <td>Emirates</td>\n",
       "      <td>PropertyLoss</td>\n",
       "      <td>Checked Baggage</td>\n",
       "      <td>10</td>\n",
       "    </tr>\n",
       "    <tr>\n",
       "      <th>4</th>\n",
       "      <td>MIA</td>\n",
       "      <td>American Airlines</td>\n",
       "      <td>PropertyLoss</td>\n",
       "      <td>Checked Baggage</td>\n",
       "      <td>10</td>\n",
       "    </tr>\n",
       "    <tr>\n",
       "      <th>5</th>\n",
       "      <td>PHL</td>\n",
       "      <td>Southwest Airlines</td>\n",
       "      <td>PropertyLoss</td>\n",
       "      <td>Checked Baggage</td>\n",
       "      <td>10</td>\n",
       "    </tr>\n",
       "    <tr>\n",
       "      <th>6</th>\n",
       "      <td>IAD</td>\n",
       "      <td>UAL</td>\n",
       "      <td>PropertyLoss</td>\n",
       "      <td>Checked Baggage</td>\n",
       "      <td>10</td>\n",
       "    </tr>\n",
       "    <tr>\n",
       "      <th>7</th>\n",
       "      <td>PHX</td>\n",
       "      <td>Southwest Airlines</td>\n",
       "      <td>PropertyLoss</td>\n",
       "      <td>Checkpoint</td>\n",
       "      <td>10</td>\n",
       "    </tr>\n",
       "    <tr>\n",
       "      <th>8</th>\n",
       "      <td>EWR</td>\n",
       "      <td>-</td>\n",
       "      <td>PropertyDamage</td>\n",
       "      <td>Checkpoint</td>\n",
       "      <td>10</td>\n",
       "    </tr>\n",
       "    <tr>\n",
       "      <th>9</th>\n",
       "      <td>PHL</td>\n",
       "      <td>-</td>\n",
       "      <td>PropertyLoss</td>\n",
       "      <td>Checkpoint</td>\n",
       "      <td>10</td>\n",
       "    </tr>\n",
       "    <tr>\n",
       "      <th>10</th>\n",
       "      <td>DAL</td>\n",
       "      <td>Delta Air Lines</td>\n",
       "      <td>PropertyDamage</td>\n",
       "      <td>Checkpoint</td>\n",
       "      <td>10</td>\n",
       "    </tr>\n",
       "    <tr>\n",
       "      <th>11</th>\n",
       "      <td>BDL</td>\n",
       "      <td>Southwest Airlines</td>\n",
       "      <td>PropertyDamage</td>\n",
       "      <td>Checkpoint</td>\n",
       "      <td>10</td>\n",
       "    </tr>\n",
       "    <tr>\n",
       "      <th>12</th>\n",
       "      <td>MIA</td>\n",
       "      <td>American Airlines</td>\n",
       "      <td>PropertyDamage</td>\n",
       "      <td>Checked Baggage</td>\n",
       "      <td>10</td>\n",
       "    </tr>\n",
       "    <tr>\n",
       "      <th>13</th>\n",
       "      <td>DEN</td>\n",
       "      <td>UAL</td>\n",
       "      <td>PropertyDamage</td>\n",
       "      <td>Checkpoint</td>\n",
       "      <td>10</td>\n",
       "    </tr>\n",
       "    <tr>\n",
       "      <th>14</th>\n",
       "      <td>EWR</td>\n",
       "      <td>UAL</td>\n",
       "      <td>PropertyDamage</td>\n",
       "      <td>Checked Baggage</td>\n",
       "      <td>9</td>\n",
       "    </tr>\n",
       "    <tr>\n",
       "      <th>15</th>\n",
       "      <td>EGE</td>\n",
       "      <td>American Airlines</td>\n",
       "      <td>PropertyLoss</td>\n",
       "      <td>Checkpoint</td>\n",
       "      <td>9</td>\n",
       "    </tr>\n",
       "    <tr>\n",
       "      <th>16</th>\n",
       "      <td>LAS</td>\n",
       "      <td>Southwest Airlines</td>\n",
       "      <td>PropertyLoss</td>\n",
       "      <td>Checked Baggage</td>\n",
       "      <td>9</td>\n",
       "    </tr>\n",
       "    <tr>\n",
       "      <th>17</th>\n",
       "      <td>ELP</td>\n",
       "      <td>Southwest Airlines</td>\n",
       "      <td>PropertyDamage</td>\n",
       "      <td>Checked Baggage</td>\n",
       "      <td>9</td>\n",
       "    </tr>\n",
       "    <tr>\n",
       "      <th>18</th>\n",
       "      <td>SJC</td>\n",
       "      <td>Southwest Airlines</td>\n",
       "      <td>PropertyDamage</td>\n",
       "      <td>Checkpoint</td>\n",
       "      <td>9</td>\n",
       "    </tr>\n",
       "    <tr>\n",
       "      <th>19</th>\n",
       "      <td>MHT</td>\n",
       "      <td>-</td>\n",
       "      <td>MotorVehicle</td>\n",
       "      <td>Motor Vehicle</td>\n",
       "      <td>9</td>\n",
       "    </tr>\n",
       "    <tr>\n",
       "      <th>20</th>\n",
       "      <td>LAS</td>\n",
       "      <td>Southwest Airlines</td>\n",
       "      <td>PropertyLoss</td>\n",
       "      <td>Checked Baggage</td>\n",
       "      <td>9</td>\n",
       "    </tr>\n",
       "    <tr>\n",
       "      <th>21</th>\n",
       "      <td>HNL</td>\n",
       "      <td>American Airlines</td>\n",
       "      <td>PropertyLoss</td>\n",
       "      <td>Checkpoint</td>\n",
       "      <td>9</td>\n",
       "    </tr>\n",
       "    <tr>\n",
       "      <th>22</th>\n",
       "      <td>BHM</td>\n",
       "      <td>Southwest Airlines</td>\n",
       "      <td>PropertyLoss</td>\n",
       "      <td>Checked Baggage</td>\n",
       "      <td>9</td>\n",
       "    </tr>\n",
       "    <tr>\n",
       "      <th>23</th>\n",
       "      <td>BDL</td>\n",
       "      <td>American Airlines</td>\n",
       "      <td>PropertyDamage</td>\n",
       "      <td>Checkpoint</td>\n",
       "      <td>9</td>\n",
       "    </tr>\n",
       "    <tr>\n",
       "      <th>24</th>\n",
       "      <td>BOS</td>\n",
       "      <td>Jet Blue</td>\n",
       "      <td>PropertyLoss</td>\n",
       "      <td>Checked Baggage</td>\n",
       "      <td>9</td>\n",
       "    </tr>\n",
       "    <tr>\n",
       "      <th>25</th>\n",
       "      <td>CLT</td>\n",
       "      <td>American Airlines</td>\n",
       "      <td>PropertyLoss</td>\n",
       "      <td>Checked Baggage</td>\n",
       "      <td>9</td>\n",
       "    </tr>\n",
       "    <tr>\n",
       "      <th>26</th>\n",
       "      <td>CHS</td>\n",
       "      <td>UAL</td>\n",
       "      <td>PropertyDamage</td>\n",
       "      <td>Checked Baggage</td>\n",
       "      <td>9</td>\n",
       "    </tr>\n",
       "    <tr>\n",
       "      <th>27</th>\n",
       "      <td>DTW</td>\n",
       "      <td>American Airlines</td>\n",
       "      <td>PropertyLoss</td>\n",
       "      <td>Checked Baggage</td>\n",
       "      <td>9</td>\n",
       "    </tr>\n",
       "    <tr>\n",
       "      <th>28</th>\n",
       "      <td>MSP</td>\n",
       "      <td>Delta Air Lines</td>\n",
       "      <td>PropertyLoss</td>\n",
       "      <td>Checkpoint</td>\n",
       "      <td>9</td>\n",
       "    </tr>\n",
       "    <tr>\n",
       "      <th>29</th>\n",
       "      <td>PHL</td>\n",
       "      <td>American Airlines</td>\n",
       "      <td>PropertyDamage</td>\n",
       "      <td>Checked Baggage</td>\n",
       "      <td>9</td>\n",
       "    </tr>\n",
       "    <tr>\n",
       "      <th>...</th>\n",
       "      <td>...</td>\n",
       "      <td>...</td>\n",
       "      <td>...</td>\n",
       "      <td>...</td>\n",
       "      <td>...</td>\n",
       "    </tr>\n",
       "    <tr>\n",
       "      <th>171591</th>\n",
       "      <td>OKC</td>\n",
       "      <td>American Airlines</td>\n",
       "      <td>PropertyDamage</td>\n",
       "      <td>Checkpoint</td>\n",
       "      <td>11</td>\n",
       "    </tr>\n",
       "    <tr>\n",
       "      <th>171592</th>\n",
       "      <td>JFK</td>\n",
       "      <td>Jet Blue</td>\n",
       "      <td>PropertyDamage</td>\n",
       "      <td>Checkpoint</td>\n",
       "      <td>11</td>\n",
       "    </tr>\n",
       "    <tr>\n",
       "      <th>171595</th>\n",
       "      <td>ATL</td>\n",
       "      <td>Delta Air Lines</td>\n",
       "      <td>PropertyDamage</td>\n",
       "      <td>Checkpoint</td>\n",
       "      <td>11</td>\n",
       "    </tr>\n",
       "    <tr>\n",
       "      <th>171598</th>\n",
       "      <td>BWI</td>\n",
       "      <td>Southwest Airlines</td>\n",
       "      <td>PropertyDamage</td>\n",
       "      <td>Checkpoint</td>\n",
       "      <td>10</td>\n",
       "    </tr>\n",
       "    <tr>\n",
       "      <th>171601</th>\n",
       "      <td>EWR</td>\n",
       "      <td>American Airlines</td>\n",
       "      <td>PropertyLoss</td>\n",
       "      <td>Checkpoint</td>\n",
       "      <td>10</td>\n",
       "    </tr>\n",
       "    <tr>\n",
       "      <th>171603</th>\n",
       "      <td>CMH</td>\n",
       "      <td>American Airlines</td>\n",
       "      <td>PropertyDamage</td>\n",
       "      <td>Checkpoint</td>\n",
       "      <td>10</td>\n",
       "    </tr>\n",
       "    <tr>\n",
       "      <th>171604</th>\n",
       "      <td>DTW</td>\n",
       "      <td>American Airlines</td>\n",
       "      <td>PropertyDamage</td>\n",
       "      <td>Checkpoint</td>\n",
       "      <td>10</td>\n",
       "    </tr>\n",
       "    <tr>\n",
       "      <th>171605</th>\n",
       "      <td>SMF</td>\n",
       "      <td>Southwest Airlines</td>\n",
       "      <td>PropertyLoss</td>\n",
       "      <td>Checkpoint</td>\n",
       "      <td>10</td>\n",
       "    </tr>\n",
       "    <tr>\n",
       "      <th>171607</th>\n",
       "      <td>JFK</td>\n",
       "      <td>Jet Blue</td>\n",
       "      <td>PropertyLoss</td>\n",
       "      <td>Checkpoint</td>\n",
       "      <td>10</td>\n",
       "    </tr>\n",
       "    <tr>\n",
       "      <th>171608</th>\n",
       "      <td>JFK</td>\n",
       "      <td>American Airlines</td>\n",
       "      <td>PropertyDamage</td>\n",
       "      <td>Checkpoint</td>\n",
       "      <td>10</td>\n",
       "    </tr>\n",
       "    <tr>\n",
       "      <th>171610</th>\n",
       "      <td>SLC</td>\n",
       "      <td>Delta Air Lines</td>\n",
       "      <td>PropertyDamage</td>\n",
       "      <td>Checked Baggage</td>\n",
       "      <td>10</td>\n",
       "    </tr>\n",
       "    <tr>\n",
       "      <th>171613</th>\n",
       "      <td>JFK</td>\n",
       "      <td>American Airlines</td>\n",
       "      <td>PropertyDamage</td>\n",
       "      <td>Checkpoint</td>\n",
       "      <td>10</td>\n",
       "    </tr>\n",
       "    <tr>\n",
       "      <th>171614</th>\n",
       "      <td>BNA</td>\n",
       "      <td>USAir</td>\n",
       "      <td>PropertyLoss</td>\n",
       "      <td>Checkpoint</td>\n",
       "      <td>10</td>\n",
       "    </tr>\n",
       "    <tr>\n",
       "      <th>171618</th>\n",
       "      <td>MCO</td>\n",
       "      <td>Virgin Atlantic</td>\n",
       "      <td>PropertyDamage</td>\n",
       "      <td>Checkpoint</td>\n",
       "      <td>10</td>\n",
       "    </tr>\n",
       "    <tr>\n",
       "      <th>171619</th>\n",
       "      <td>JFK</td>\n",
       "      <td>American Airlines</td>\n",
       "      <td>PropertyLoss</td>\n",
       "      <td>Checkpoint</td>\n",
       "      <td>10</td>\n",
       "    </tr>\n",
       "    <tr>\n",
       "      <th>171621</th>\n",
       "      <td>MCO</td>\n",
       "      <td>American Airlines</td>\n",
       "      <td>PropertyDamage</td>\n",
       "      <td>Checkpoint</td>\n",
       "      <td>10</td>\n",
       "    </tr>\n",
       "    <tr>\n",
       "      <th>171622</th>\n",
       "      <td>BOS</td>\n",
       "      <td>American Airlines</td>\n",
       "      <td>PropertyLoss</td>\n",
       "      <td>Checkpoint</td>\n",
       "      <td>10</td>\n",
       "    </tr>\n",
       "    <tr>\n",
       "      <th>171626</th>\n",
       "      <td>RDU</td>\n",
       "      <td>Continental Airlines</td>\n",
       "      <td>PropertyDamage</td>\n",
       "      <td>Checkpoint</td>\n",
       "      <td>10</td>\n",
       "    </tr>\n",
       "    <tr>\n",
       "      <th>171627</th>\n",
       "      <td>BOS</td>\n",
       "      <td>UAL</td>\n",
       "      <td>PropertyDamage</td>\n",
       "      <td>Checkpoint</td>\n",
       "      <td>10</td>\n",
       "    </tr>\n",
       "    <tr>\n",
       "      <th>171629</th>\n",
       "      <td>MDW</td>\n",
       "      <td>Southwest Airlines</td>\n",
       "      <td>PropertyLoss</td>\n",
       "      <td>Checkpoint</td>\n",
       "      <td>10</td>\n",
       "    </tr>\n",
       "    <tr>\n",
       "      <th>171630</th>\n",
       "      <td>JFK</td>\n",
       "      <td>Jet Blue</td>\n",
       "      <td>PropertyDamage</td>\n",
       "      <td>Checkpoint</td>\n",
       "      <td>10</td>\n",
       "    </tr>\n",
       "    <tr>\n",
       "      <th>171631</th>\n",
       "      <td>BWI</td>\n",
       "      <td>USAir</td>\n",
       "      <td>PropertyLoss</td>\n",
       "      <td>Checkpoint</td>\n",
       "      <td>9</td>\n",
       "    </tr>\n",
       "    <tr>\n",
       "      <th>171633</th>\n",
       "      <td>BHM</td>\n",
       "      <td>Delta Air Lines</td>\n",
       "      <td>PropertyLoss</td>\n",
       "      <td>Checkpoint</td>\n",
       "      <td>9</td>\n",
       "    </tr>\n",
       "    <tr>\n",
       "      <th>171635</th>\n",
       "      <td>BWI</td>\n",
       "      <td>Southwest Airlines</td>\n",
       "      <td>PropertyDamage</td>\n",
       "      <td>Other</td>\n",
       "      <td>9</td>\n",
       "    </tr>\n",
       "    <tr>\n",
       "      <th>171636</th>\n",
       "      <td>BOS</td>\n",
       "      <td>UAL</td>\n",
       "      <td>PropertyDamage</td>\n",
       "      <td>Checkpoint</td>\n",
       "      <td>9</td>\n",
       "    </tr>\n",
       "    <tr>\n",
       "      <th>171637</th>\n",
       "      <td>JFK</td>\n",
       "      <td>UAL</td>\n",
       "      <td>PropertyLoss</td>\n",
       "      <td>Checkpoint</td>\n",
       "      <td>9</td>\n",
       "    </tr>\n",
       "    <tr>\n",
       "      <th>171642</th>\n",
       "      <td>RDU</td>\n",
       "      <td>USAir</td>\n",
       "      <td>PropertyDamage</td>\n",
       "      <td>Checkpoint</td>\n",
       "      <td>9</td>\n",
       "    </tr>\n",
       "    <tr>\n",
       "      <th>171644</th>\n",
       "      <td>BWI</td>\n",
       "      <td>Southwest Airlines</td>\n",
       "      <td>PropertyLoss</td>\n",
       "      <td>Checkpoint</td>\n",
       "      <td>8</td>\n",
       "    </tr>\n",
       "    <tr>\n",
       "      <th>171645</th>\n",
       "      <td>BWI</td>\n",
       "      <td>America West</td>\n",
       "      <td>PropertyDamage</td>\n",
       "      <td>Checkpoint</td>\n",
       "      <td>8</td>\n",
       "    </tr>\n",
       "    <tr>\n",
       "      <th>171646</th>\n",
       "      <td>SDF</td>\n",
       "      <td>Delta Air Lines</td>\n",
       "      <td>PropertyLoss</td>\n",
       "      <td>Checkpoint</td>\n",
       "      <td>7</td>\n",
       "    </tr>\n",
       "  </tbody>\n",
       "</table>\n",
       "<p>145421 rows × 5 columns</p>\n",
       "</div>"
      ],
      "text/plain": [
       "       airport_code               airline      claim_type       claim_site  \\\n",
       "0               MCO  Westjet Airlines Ltd    PropertyLoss       Checkpoint   \n",
       "1               LAS                   UAL    PropertyLoss  Checked Baggage   \n",
       "2               LAX     American Airlines  PropertyDamage       Checkpoint   \n",
       "3               FLL              Emirates    PropertyLoss  Checked Baggage   \n",
       "4               MIA     American Airlines    PropertyLoss  Checked Baggage   \n",
       "5               PHL    Southwest Airlines    PropertyLoss  Checked Baggage   \n",
       "6               IAD                   UAL    PropertyLoss  Checked Baggage   \n",
       "7               PHX    Southwest Airlines    PropertyLoss       Checkpoint   \n",
       "8               EWR                     -  PropertyDamage       Checkpoint   \n",
       "9               PHL                     -    PropertyLoss       Checkpoint   \n",
       "10              DAL       Delta Air Lines  PropertyDamage       Checkpoint   \n",
       "11              BDL    Southwest Airlines  PropertyDamage       Checkpoint   \n",
       "12              MIA     American Airlines  PropertyDamage  Checked Baggage   \n",
       "13              DEN                   UAL  PropertyDamage       Checkpoint   \n",
       "14              EWR                   UAL  PropertyDamage  Checked Baggage   \n",
       "15              EGE     American Airlines    PropertyLoss       Checkpoint   \n",
       "16              LAS    Southwest Airlines    PropertyLoss  Checked Baggage   \n",
       "17              ELP    Southwest Airlines  PropertyDamage  Checked Baggage   \n",
       "18              SJC    Southwest Airlines  PropertyDamage       Checkpoint   \n",
       "19              MHT                     -    MotorVehicle    Motor Vehicle   \n",
       "20              LAS    Southwest Airlines    PropertyLoss  Checked Baggage   \n",
       "21              HNL     American Airlines    PropertyLoss       Checkpoint   \n",
       "22              BHM    Southwest Airlines    PropertyLoss  Checked Baggage   \n",
       "23              BDL     American Airlines  PropertyDamage       Checkpoint   \n",
       "24              BOS              Jet Blue    PropertyLoss  Checked Baggage   \n",
       "25              CLT     American Airlines    PropertyLoss  Checked Baggage   \n",
       "26              CHS                   UAL  PropertyDamage  Checked Baggage   \n",
       "27              DTW     American Airlines    PropertyLoss  Checked Baggage   \n",
       "28              MSP       Delta Air Lines    PropertyLoss       Checkpoint   \n",
       "29              PHL     American Airlines  PropertyDamage  Checked Baggage   \n",
       "...             ...                   ...             ...              ...   \n",
       "171591          OKC     American Airlines  PropertyDamage       Checkpoint   \n",
       "171592          JFK              Jet Blue  PropertyDamage       Checkpoint   \n",
       "171595          ATL       Delta Air Lines  PropertyDamage       Checkpoint   \n",
       "171598          BWI    Southwest Airlines  PropertyDamage       Checkpoint   \n",
       "171601          EWR     American Airlines    PropertyLoss       Checkpoint   \n",
       "171603          CMH     American Airlines  PropertyDamage       Checkpoint   \n",
       "171604          DTW     American Airlines  PropertyDamage       Checkpoint   \n",
       "171605          SMF    Southwest Airlines    PropertyLoss       Checkpoint   \n",
       "171607          JFK              Jet Blue    PropertyLoss       Checkpoint   \n",
       "171608          JFK     American Airlines  PropertyDamage       Checkpoint   \n",
       "171610          SLC       Delta Air Lines  PropertyDamage  Checked Baggage   \n",
       "171613          JFK     American Airlines  PropertyDamage       Checkpoint   \n",
       "171614          BNA                 USAir    PropertyLoss       Checkpoint   \n",
       "171618          MCO       Virgin Atlantic  PropertyDamage       Checkpoint   \n",
       "171619          JFK     American Airlines    PropertyLoss       Checkpoint   \n",
       "171621          MCO     American Airlines  PropertyDamage       Checkpoint   \n",
       "171622          BOS     American Airlines    PropertyLoss       Checkpoint   \n",
       "171626          RDU  Continental Airlines  PropertyDamage       Checkpoint   \n",
       "171627          BOS                   UAL  PropertyDamage       Checkpoint   \n",
       "171629          MDW    Southwest Airlines    PropertyLoss       Checkpoint   \n",
       "171630          JFK              Jet Blue  PropertyDamage       Checkpoint   \n",
       "171631          BWI                 USAir    PropertyLoss       Checkpoint   \n",
       "171633          BHM       Delta Air Lines    PropertyLoss       Checkpoint   \n",
       "171635          BWI    Southwest Airlines  PropertyDamage            Other   \n",
       "171636          BOS                   UAL  PropertyDamage       Checkpoint   \n",
       "171637          JFK                   UAL    PropertyLoss       Checkpoint   \n",
       "171642          RDU                 USAir  PropertyDamage       Checkpoint   \n",
       "171644          BWI    Southwest Airlines    PropertyLoss       Checkpoint   \n",
       "171645          BWI          America West  PropertyDamage       Checkpoint   \n",
       "171646          SDF       Delta Air Lines    PropertyLoss       Checkpoint   \n",
       "\n",
       "       Month_received  \n",
       "0                  12  \n",
       "1                  11  \n",
       "2                  11  \n",
       "3                  10  \n",
       "4                  10  \n",
       "5                  10  \n",
       "6                  10  \n",
       "7                  10  \n",
       "8                  10  \n",
       "9                  10  \n",
       "10                 10  \n",
       "11                 10  \n",
       "12                 10  \n",
       "13                 10  \n",
       "14                  9  \n",
       "15                  9  \n",
       "16                  9  \n",
       "17                  9  \n",
       "18                  9  \n",
       "19                  9  \n",
       "20                  9  \n",
       "21                  9  \n",
       "22                  9  \n",
       "23                  9  \n",
       "24                  9  \n",
       "25                  9  \n",
       "26                  9  \n",
       "27                  9  \n",
       "28                  9  \n",
       "29                  9  \n",
       "...               ...  \n",
       "171591             11  \n",
       "171592             11  \n",
       "171595             11  \n",
       "171598             10  \n",
       "171601             10  \n",
       "171603             10  \n",
       "171604             10  \n",
       "171605             10  \n",
       "171607             10  \n",
       "171608             10  \n",
       "171610             10  \n",
       "171613             10  \n",
       "171614             10  \n",
       "171618             10  \n",
       "171619             10  \n",
       "171621             10  \n",
       "171622             10  \n",
       "171626             10  \n",
       "171627             10  \n",
       "171629             10  \n",
       "171630             10  \n",
       "171631              9  \n",
       "171633              9  \n",
       "171635              9  \n",
       "171636              9  \n",
       "171637              9  \n",
       "171642              9  \n",
       "171644              8  \n",
       "171645              8  \n",
       "171646              7  \n",
       "\n",
       "[145421 rows x 5 columns]"
      ]
     },
     "execution_count": 55,
     "metadata": {},
     "output_type": "execute_result"
    }
   ],
   "source": [
    "categorical = ['airport_code', 'airline', 'claim_type', 'claim_site', 'Month_received']\n",
    "X[categorical]"
   ]
  },
  {
   "cell_type": "code",
   "execution_count": 60,
   "metadata": {},
   "outputs": [
    {
     "data": {
      "text/html": [
       "<div>\n",
       "<style scoped>\n",
       "    .dataframe tbody tr th:only-of-type {\n",
       "        vertical-align: middle;\n",
       "    }\n",
       "\n",
       "    .dataframe tbody tr th {\n",
       "        vertical-align: top;\n",
       "    }\n",
       "\n",
       "    .dataframe thead th {\n",
       "        text-align: right;\n",
       "    }\n",
       "</style>\n",
       "<table border=\"1\" class=\"dataframe\">\n",
       "  <thead>\n",
       "    <tr style=\"text-align: right;\">\n",
       "      <th></th>\n",
       "      <th>airport_code</th>\n",
       "      <th>airline</th>\n",
       "      <th>claim_type</th>\n",
       "      <th>claim_site</th>\n",
       "      <th>item_category</th>\n",
       "      <th>num_items_or_incidents_claimed</th>\n",
       "      <th>days_waited_to_file_claim</th>\n",
       "      <th>Month_received</th>\n",
       "    </tr>\n",
       "  </thead>\n",
       "  <tbody>\n",
       "    <tr>\n",
       "      <th>0</th>\n",
       "      <td>SEA</td>\n",
       "      <td>Emirates</td>\n",
       "      <td>PropertyLoss</td>\n",
       "      <td>Checkpoint</td>\n",
       "      <td>Clothing</td>\n",
       "      <td>1</td>\n",
       "      <td>7</td>\n",
       "      <td>1</td>\n",
       "    </tr>\n",
       "  </tbody>\n",
       "</table>\n",
       "</div>"
      ],
      "text/plain": [
       "  airport_code   airline    claim_type  claim_site item_category  \\\n",
       "0          SEA  Emirates  PropertyLoss  Checkpoint      Clothing   \n",
       "\n",
       "   num_items_or_incidents_claimed  days_waited_to_file_claim  Month_received  \n",
       "0                               1                          7               1  "
      ]
     },
     "execution_count": 60,
     "metadata": {},
     "output_type": "execute_result"
    }
   ],
   "source": [
    "pd.DataFrame(example, index =[0])"
   ]
  },
  {
   "cell_type": "code",
   "execution_count": null,
   "metadata": {},
   "outputs": [],
   "source": []
  },
  {
   "cell_type": "code",
   "execution_count": 148,
   "metadata": {},
   "outputs": [],
   "source": [
    "def make_prediction(features):\n",
    "    X = pd.DataFrame(data=features, index=[0])\n",
    "\n",
    "    categorical = ['airport_code', 'airline', 'claim_type', 'claim_site', 'Month_received']\n",
    "    continuous = ['days_waited_to_file_claim', 'num_items_or_incidents_claimed']\n",
    "\n",
    "    trans_dir = './models/transformers'\n",
    "    enc = joblib.load(f'{trans_dir}/onehotencode.joblib')\n",
    "    onehotarray = enc.transform(X[categorical])\n",
    "\n",
    "    ss = joblib.load(f'{trans_dir}/standardscaler.joblib')\n",
    "    continuousarray = ss.transform(X[continuous])\n",
    "\n",
    "    mlb = joblib.load(f'{trans_dir}/item_category.joblib')\n",
    "    onehot_itemcategories = mlb.transform(X['item_category'].str.replace(' ', '').str.split(pat=';'))\n",
    "\n",
    "    X = np.concatenate((onehotarray, continuousarray, onehot_itemcategories), axis=1)\n",
    "    \n",
    "    prob_receive_compensation = model.predict_proba(X)[0, 1]\n",
    "\n",
    "    result = {\n",
    "        'compensation': int(prob_receive_compensation > 0.5),\n",
    "        'prob_receive_compensation': prob_receive_compensation\n",
    "    }\n",
    "    return result"
   ]
  },
  {
   "cell_type": "code",
   "execution_count": 149,
   "metadata": {},
   "outputs": [],
   "source": [
    "example = {\n",
    "  'airport_code': 'ATL',  # str\n",
    "  'airline': 'Southwest Airlines',    # str\n",
    "  'claim_type': 'PropertyLoss',    # str\n",
    "  'claim_site': 'Checkpoint',  # str\n",
    "  'item_category': 'Computers',  # str\n",
    "  'num_items_or_incidents_claimed': 1,  # int\n",
    "  'days_waited_to_file_claim':15, # int\n",
    "  'Month_received': '10', # int (1-12)\n",
    "}"
   ]
  },
  {
   "cell_type": "code",
   "execution_count": 150,
   "metadata": {},
   "outputs": [
    {
     "name": "stderr",
     "output_type": "stream",
     "text": [
      "/home/spencer/anaconda3/lib/python3.6/site-packages/ipykernel_launcher.py:12: DataConversionWarning: Data with input dtype int64 were all converted to float64 by StandardScaler.\n",
      "  if sys.path[0] == '':\n",
      "/home/spencer/anaconda3/lib/python3.6/site-packages/sklearn/preprocessing/label.py:930: UserWarning: unknown class(es) ['Computers'] will be ignored\n",
      "  .format(sorted(unknown, key=str)))\n"
     ]
    },
    {
     "data": {
      "text/plain": [
       "{'compensation': 0, 'prob_receive_compensation': 0.42149469724065525}"
      ]
     },
     "execution_count": 150,
     "metadata": {},
     "output_type": "execute_result"
    }
   ],
   "source": [
    "make_prediction(example)"
   ]
  },
  {
   "cell_type": "code",
   "execution_count": null,
   "metadata": {},
   "outputs": [],
   "source": []
  },
  {
   "cell_type": "code",
   "execution_count": 29,
   "metadata": {},
   "outputs": [],
   "source": [
    "df = None"
   ]
  },
  {
   "cell_type": "code",
   "execution_count": 31,
   "metadata": {},
   "outputs": [],
   "source": [
    "X_train, X_test, y_train, y_test = train_test_split(X, y, test_size=0.3, random_state=42, stratify=y)"
   ]
  },
  {
   "cell_type": "code",
   "execution_count": 32,
   "metadata": {},
   "outputs": [
    {
     "data": {
      "text/plain": [
       "(145421, 869)"
      ]
     },
     "execution_count": 32,
     "metadata": {},
     "output_type": "execute_result"
    }
   ],
   "source": [
    "X.shape"
   ]
  },
  {
   "cell_type": "markdown",
   "metadata": {},
   "source": [
    "# Model with Year included"
   ]
  },
  {
   "cell_type": "markdown",
   "metadata": {},
   "source": [
    "---\n",
    "some problems with this would be introducing YEAR and MONTH that has never been trained on. Is this where I need to do a timeseries thing"
   ]
  },
  {
   "cell_type": "markdown",
   "metadata": {},
   "source": [
    "---"
   ]
  },
  {
   "cell_type": "code",
   "execution_count": 33,
   "metadata": {},
   "outputs": [
    {
     "name": "stdout",
     "output_type": "stream",
     "text": [
      "0.7056302032660803\n",
      "{'criterion': 'gini', 'max_depth': 30, 'n_estimators': 300}\n",
      "RandomForestClassifier(bootstrap=True, class_weight=None, criterion='gini',\n",
      "            max_depth=30, max_features='auto', max_leaf_nodes=None,\n",
      "            min_impurity_decrease=0.0, min_impurity_split=None,\n",
      "            min_samples_leaf=1, min_samples_split=2,\n",
      "            min_weight_fraction_leaf=0.0, n_estimators=300, n_jobs=None,\n",
      "            oob_score=False, random_state=42, verbose=0, warm_start=False)\n",
      "0.6033733117354854\n"
     ]
    }
   ],
   "source": [
    "rf = RandomForestClassifier(random_state=42)\n",
    "\n",
    "criterions = ['gini']#, 'entropy']\n",
    "n_ests = [300]\n",
    "m_depths = [20, 25, 30]\n",
    "    \n",
    "param_grid = dict(criterion=criterions, n_estimators=n_ests, max_depth=m_depths)\n",
    "\n",
    "grid_rf = GridSearchCV(rf, param_grid, scoring='roc_auc', cv=8, n_jobs=4)\n",
    "\n",
    "grid_rf.fit(X_train, y_train)\n",
    "\n",
    "print(grid_rf.best_score_)\n",
    "print(grid_rf.best_params_)\n",
    "print(grid_rf.best_estimator_)\n",
    "\n",
    "y_pred = grid_rf.predict(X_test)\n",
    "print(roc_auc_score(y_test, y_pred))"
   ]
  },
  {
   "cell_type": "code",
   "execution_count": 34,
   "metadata": {},
   "outputs": [
    {
     "data": {
      "text/plain": [
       "['models/preliminary/rf_full_month_rec']"
      ]
     },
     "execution_count": 34,
     "metadata": {},
     "output_type": "execute_result"
    }
   ],
   "source": [
    "dir = 'models'\n",
    "joblib.dump(grid_rf.best_estimator_, f'{dir}/rf_full_month_rec',compress=9)"
   ]
  },
  {
   "cell_type": "code",
   "execution_count": 41,
   "metadata": {},
   "outputs": [
    {
     "ename": "ValueError",
     "evalue": "Expected 2D array, got scalar array instead:\narray=3.0.\nReshape your data either using array.reshape(-1, 1) if your data has a single feature or array.reshape(1, -1) if it contains a single sample.",
     "output_type": "error",
     "traceback": [
      "\u001b[0;31m---------------------------------------------------------------------------\u001b[0m",
      "\u001b[0;31mValueError\u001b[0m                                Traceback (most recent call last)",
      "\u001b[0;32m<ipython-input-41-b3f47e92e5b6>\u001b[0m in \u001b[0;36m<module>\u001b[0;34m()\u001b[0m\n\u001b[0;32m----> 1\u001b[0;31m \u001b[0mmodel\u001b[0m\u001b[0;34m.\u001b[0m\u001b[0mpredict_proba\u001b[0m\u001b[0;34m(\u001b[0m\u001b[0;36m3\u001b[0m\u001b[0;34m)\u001b[0m\u001b[0;34m\u001b[0m\u001b[0m\n\u001b[0m",
      "\u001b[0;32m~/anaconda3/lib/python3.6/site-packages/sklearn/ensemble/forest.py\u001b[0m in \u001b[0;36mpredict_proba\u001b[0;34m(self, X)\u001b[0m\n\u001b[1;32m    583\u001b[0m         \u001b[0mcheck_is_fitted\u001b[0m\u001b[0;34m(\u001b[0m\u001b[0mself\u001b[0m\u001b[0;34m,\u001b[0m \u001b[0;34m'estimators_'\u001b[0m\u001b[0;34m)\u001b[0m\u001b[0;34m\u001b[0m\u001b[0m\n\u001b[1;32m    584\u001b[0m         \u001b[0;31m# Check data\u001b[0m\u001b[0;34m\u001b[0m\u001b[0;34m\u001b[0m\u001b[0m\n\u001b[0;32m--> 585\u001b[0;31m         \u001b[0mX\u001b[0m \u001b[0;34m=\u001b[0m \u001b[0mself\u001b[0m\u001b[0;34m.\u001b[0m\u001b[0m_validate_X_predict\u001b[0m\u001b[0;34m(\u001b[0m\u001b[0mX\u001b[0m\u001b[0;34m)\u001b[0m\u001b[0;34m\u001b[0m\u001b[0m\n\u001b[0m\u001b[1;32m    586\u001b[0m \u001b[0;34m\u001b[0m\u001b[0m\n\u001b[1;32m    587\u001b[0m         \u001b[0;31m# Assign chunk of trees to jobs\u001b[0m\u001b[0;34m\u001b[0m\u001b[0;34m\u001b[0m\u001b[0m\n",
      "\u001b[0;32m~/anaconda3/lib/python3.6/site-packages/sklearn/ensemble/forest.py\u001b[0m in \u001b[0;36m_validate_X_predict\u001b[0;34m(self, X)\u001b[0m\n\u001b[1;32m    362\u001b[0m                                  \"call `fit` before exploiting the model.\")\n\u001b[1;32m    363\u001b[0m \u001b[0;34m\u001b[0m\u001b[0m\n\u001b[0;32m--> 364\u001b[0;31m         \u001b[0;32mreturn\u001b[0m \u001b[0mself\u001b[0m\u001b[0;34m.\u001b[0m\u001b[0mestimators_\u001b[0m\u001b[0;34m[\u001b[0m\u001b[0;36m0\u001b[0m\u001b[0;34m]\u001b[0m\u001b[0;34m.\u001b[0m\u001b[0m_validate_X_predict\u001b[0m\u001b[0;34m(\u001b[0m\u001b[0mX\u001b[0m\u001b[0;34m,\u001b[0m \u001b[0mcheck_input\u001b[0m\u001b[0;34m=\u001b[0m\u001b[0;32mTrue\u001b[0m\u001b[0;34m)\u001b[0m\u001b[0;34m\u001b[0m\u001b[0m\n\u001b[0m\u001b[1;32m    365\u001b[0m \u001b[0;34m\u001b[0m\u001b[0m\n\u001b[1;32m    366\u001b[0m     \u001b[0;34m@\u001b[0m\u001b[0mproperty\u001b[0m\u001b[0;34m\u001b[0m\u001b[0m\n",
      "\u001b[0;32m~/anaconda3/lib/python3.6/site-packages/sklearn/tree/tree.py\u001b[0m in \u001b[0;36m_validate_X_predict\u001b[0;34m(self, X, check_input)\u001b[0m\n\u001b[1;32m    374\u001b[0m         \u001b[0;34m\"\"\"Validate X whenever one tries to predict, apply, predict_proba\"\"\"\u001b[0m\u001b[0;34m\u001b[0m\u001b[0m\n\u001b[1;32m    375\u001b[0m         \u001b[0;32mif\u001b[0m \u001b[0mcheck_input\u001b[0m\u001b[0;34m:\u001b[0m\u001b[0;34m\u001b[0m\u001b[0m\n\u001b[0;32m--> 376\u001b[0;31m             \u001b[0mX\u001b[0m \u001b[0;34m=\u001b[0m \u001b[0mcheck_array\u001b[0m\u001b[0;34m(\u001b[0m\u001b[0mX\u001b[0m\u001b[0;34m,\u001b[0m \u001b[0mdtype\u001b[0m\u001b[0;34m=\u001b[0m\u001b[0mDTYPE\u001b[0m\u001b[0;34m,\u001b[0m \u001b[0maccept_sparse\u001b[0m\u001b[0;34m=\u001b[0m\u001b[0;34m\"csr\"\u001b[0m\u001b[0;34m)\u001b[0m\u001b[0;34m\u001b[0m\u001b[0m\n\u001b[0m\u001b[1;32m    377\u001b[0m             if issparse(X) and (X.indices.dtype != np.intc or\n\u001b[1;32m    378\u001b[0m                                 X.indptr.dtype != np.intc):\n",
      "\u001b[0;32m~/anaconda3/lib/python3.6/site-packages/sklearn/utils/validation.py\u001b[0m in \u001b[0;36mcheck_array\u001b[0;34m(array, accept_sparse, accept_large_sparse, dtype, order, copy, force_all_finite, ensure_2d, allow_nd, ensure_min_samples, ensure_min_features, warn_on_dtype, estimator)\u001b[0m\n\u001b[1;32m    538\u001b[0m                     \u001b[0;34m\"Reshape your data either using array.reshape(-1, 1) if \"\u001b[0m\u001b[0;34m\u001b[0m\u001b[0m\n\u001b[1;32m    539\u001b[0m                     \u001b[0;34m\"your data has a single feature or array.reshape(1, -1) \"\u001b[0m\u001b[0;34m\u001b[0m\u001b[0m\n\u001b[0;32m--> 540\u001b[0;31m                     \"if it contains a single sample.\".format(array))\n\u001b[0m\u001b[1;32m    541\u001b[0m             \u001b[0;31m# If input is 1D raise error\u001b[0m\u001b[0;34m\u001b[0m\u001b[0;34m\u001b[0m\u001b[0m\n\u001b[1;32m    542\u001b[0m             \u001b[0;32mif\u001b[0m \u001b[0marray\u001b[0m\u001b[0;34m.\u001b[0m\u001b[0mndim\u001b[0m \u001b[0;34m==\u001b[0m \u001b[0;36m1\u001b[0m\u001b[0;34m:\u001b[0m\u001b[0;34m\u001b[0m\u001b[0m\n",
      "\u001b[0;31mValueError\u001b[0m: Expected 2D array, got scalar array instead:\narray=3.0.\nReshape your data either using array.reshape(-1, 1) if your data has a single feature or array.reshape(1, -1) if it contains a single sample."
     ]
    }
   ],
   "source": [
    "model.predict_proba()"
   ]
  },
  {
   "cell_type": "code",
   "execution_count": null,
   "metadata": {},
   "outputs": [],
   "source": []
  }
 ],
 "metadata": {
  "kernelspec": {
   "display_name": "Python 3",
   "language": "python",
   "name": "python3"
  },
  "language_info": {
   "codemirror_mode": {
    "name": "ipython",
    "version": 3
   },
   "file_extension": ".py",
   "mimetype": "text/x-python",
   "name": "python",
   "nbconvert_exporter": "python",
   "pygments_lexer": "ipython3",
   "version": "3.6.6"
  }
 },
 "nbformat": 4,
 "nbformat_minor": 2
}
