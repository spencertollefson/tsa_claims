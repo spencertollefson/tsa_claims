{
 "cells": [
  {
   "cell_type": "markdown",
   "metadata": {},
   "source": [
    "# Questions"
   ]
  },
  {
   "cell_type": "markdown",
   "metadata": {},
   "source": [
    "* Should I calculate business days since incident? or Total days?\n",
    "* How to do timeseries?\n",
    "  * Only predict a date based on the info that's happened BEFORE it?\n",
    "  * Book by week? exact day of year? month?\n",
    " ---\n",
    "* Could I make an EITHER/OR case?\n",
    "  * First do a classifier for Compensate or Deny. If compensate, then do a Regression for HOW MUCH they'll get back?\n",
    "  * I could also do models that ONLY take into account how much they asked for, IF I have enough data\n",
    "* Why is my RF 410 MB?\n",
    "* **I may be parsing 'ITEMS' wrong. Semicolon may indicate the various items missing**"
   ]
  },
  {
   "cell_type": "markdown",
   "metadata": {},
   "source": [
    "### 1st simple model, \"settle\" or \"compensate\" I got 67.40% ROC!\n",
    "### 2nd model, with claim_request_amount, roc_auc got 68.64%"
   ]
  },
  {
   "cell_type": "markdown",
   "metadata": {},
   "source": [
    "# Next Steps\n",
    "* Try a Rolling Window of 12 months to remove seasonality and see if there are changes from 2002 onward\n",
    "* See if I can spot trends by day/week/month/holidays/weekends during the year"
   ]
  },
  {
   "cell_type": "markdown",
   "metadata": {},
   "source": [
    "### *Is it an issue with 370 airports and 170 airlines?*\n",
    "### I should consider dropping some of the claim_types and maybe other stuff too"
   ]
  },
  {
   "cell_type": "markdown",
   "metadata": {},
   "source": [
    "# Feature engineer count of how many claims"
   ]
  },
  {
   "cell_type": "code",
   "execution_count": 1,
   "metadata": {},
   "outputs": [],
   "source": [
    "import numpy as np\n",
    "import pandas as pd\n",
    "import matplotlib.pyplot as plt\n",
    "%matplotlib inline\n",
    "import seaborn as sns\n",
    "\n",
    "import pyspark\n",
    "\n",
    "import datetime as dt\n",
    "\n",
    "import tabula\n",
    "import joblib"
   ]
  },
  {
   "cell_type": "code",
   "execution_count": 2,
   "metadata": {},
   "outputs": [],
   "source": [
    "pd.set_option('display.max_columns', 300)\n",
    "pd.set_option('display.max_rows', 60)\n",
    "pd.set_option('display.precision', 3)\n",
    "pd.set_option('display.float_format', lambda x: '%.3f' % x)\n",
    "\n",
    "import sklearn\n",
    "from sklearn.preprocessing import StandardScaler, MultiLabelBinarizer, OneHotEncoder\n",
    "from sklearn.model_selection import GridSearchCV, RandomizedSearchCV, cross_val_score, cross_validate \\\n",
    "                                    ,cross_val_predict, GridSearchCV, RandomizedSearchCV\n",
    "from sklearn.svm import SVC\n",
    "from sklearn.neighbors import KNeighborsClassifier\n",
    "from sklearn import metrics\n",
    "from sklearn.metrics import confusion_matrix,recall_score,precision_score, f1_score, roc_auc_score\n",
    "from sklearn.model_selection import train_test_split, cross_validate, cross_val_score\n",
    "from sklearn.linear_model import LogisticRegression, LogisticRegressionCV\n",
    "from sklearn.tree import DecisionTreeClassifier\n",
    "from sklearn.ensemble import RandomForestClassifier, GradientBoostingClassifier\n",
    "from sklearn.naive_bayes import GaussianNB, MultinomialNB, BernoulliNB\n",
    "\n",
    "from sklearn.metrics import roc_curve, auc\n",
    "\n",
    "import itertools\n",
    "from sklearn.metrics import confusion_matrix\n",
    "from sklearn.externals import joblib\n",
    "from imblearn.over_sampling import SMOTE"
   ]
  },
  {
   "cell_type": "code",
   "execution_count": 3,
   "metadata": {},
   "outputs": [],
   "source": [
    "dir = 'models/preliminary'"
   ]
  },
  {
   "cell_type": "markdown",
   "metadata": {},
   "source": [
    "-----"
   ]
  },
  {
   "cell_type": "markdown",
   "metadata": {},
   "source": [
    "-----"
   ]
  },
  {
   "cell_type": "code",
   "execution_count": 3,
   "metadata": {},
   "outputs": [],
   "source": [
    "df = pd.read_pickle('./data/clean/clean_for_classifier_df.pkl')"
   ]
  },
  {
   "cell_type": "code",
   "execution_count": 4,
   "metadata": {},
   "outputs": [],
   "source": [
    "col_names = ['claim_number', 'date_received', 'incident_date', 'airport_code', 'airport_name',\n",
    "           'airline', 'claim_type', 'claim_site', 'item_category', 'close_amount', 'disposition']\n",
    "           "
   ]
  },
  {
   "cell_type": "code",
   "execution_count": 5,
   "metadata": {},
   "outputs": [
    {
     "name": "stderr",
     "output_type": "stream",
     "text": [
      "/home/spencer/anaconda3/lib/python3.6/site-packages/ipykernel_launcher.py:5: SettingWithCopyWarning: \n",
      "A value is trying to be set on a copy of a slice from a DataFrame\n",
      "\n",
      "See the caveats in the documentation: http://pandas.pydata.org/pandas-docs/stable/indexing.html#indexing-view-versus-copy\n",
      "  \"\"\"\n",
      "/home/spencer/anaconda3/lib/python3.6/site-packages/ipykernel_launcher.py:6: SettingWithCopyWarning: \n",
      "A value is trying to be set on a copy of a slice from a DataFrame\n",
      "\n",
      "See the caveats in the documentation: http://pandas.pydata.org/pandas-docs/stable/indexing.html#indexing-view-versus-copy\n",
      "  \n"
     ]
    }
   ],
   "source": [
    "df['binary_disposition'] = df['disposition']\n",
    "df['binary_disposition'] = df['binary_disposition'].where(df['binary_disposition'] == 'Deny', other='Compensate')\n",
    "\n",
    "# Change some text to make it more human readable\n",
    "df.claim_site[df.claim_site == '-'] = 'Unknown'\n",
    "df.claim_type[df.claim_type == '-'] = 'Unknown'\n",
    "\n",
    "# Feature Engineering\n",
    "\n",
    "### Count of items claimed\n",
    "\n",
    "# TODO: Consider only using this for where claim_type is related to property.\n",
    "df['num_items_or_incidents_claimed'] = df['item_category'].str.split(pat=';').apply(lambda x: len(x))\n",
    "df['num_items_or_incidents_claimed'] = df['num_items_or_incidents_claimed'].where(df['claim_type'].str.contains('property', case=False) == True, other= 0)\n",
    "\n",
    "### Time calculation\n",
    "wait_period = df.date_received - df.incident_date\n",
    "df['days_waited_to_file_claim'] = wait_period.dt.days\n",
    "\n",
    "# Drop days where the 'date_received\" was reported before 'incident_date'\n",
    "df = df[df.days_waited_to_file_claim >= 0]\n",
    "\n",
    "df.reset_index(inplace=True,drop=True)\n",
    "df['bin_dispos_onehot'] = df['binary_disposition'].apply(lambda x: 1 if x == 'Compensate' else 0)"
   ]
  },
  {
   "cell_type": "code",
   "execution_count": 6,
   "metadata": {},
   "outputs": [],
   "source": [
    "# df['Week/Year_inc_date'] = df['incident_date'].apply(lambda x: \"%d/%d\" % (x.week, x.year))\n",
    "# df['Week_inc_date'] = df['incident_date'].apply(lambda x: \"%d\" % (x.week))\n",
    "# df['Month_inc_date'] = df['incident_date'].apply(lambda x: \"%d\" % (x.month))\n",
    "# df['Year_inc_date'] = df['incident_date'].apply(lambda x: \"%d\" % (x.year))\n",
    "\n",
    "# df['Week_received'] = df['date_received'].apply(lambda x: \"%d\" % (x.week))\n",
    "df['Month_received'] = df['date_received'].apply(lambda x: \"%d\" % (x.month))\n",
    "# df['Year_received'] = df['date_received'].apply(lambda x: \"%d\" % (x.year))"
   ]
  },
  {
   "cell_type": "code",
   "execution_count": 7,
   "metadata": {},
   "outputs": [],
   "source": [
    "## Figure out how to plot this shit. I want 12 months on the X axis, and then a bar for each month of the proportion of approved vs denied within each month (I think)"
   ]
  },
  {
   "cell_type": "markdown",
   "metadata": {},
   "source": [
    "# TIME BREAKOUT COLUMNS"
   ]
  },
  {
   "cell_type": "code",
   "execution_count": 9,
   "metadata": {},
   "outputs": [
    {
     "data": {
      "text/plain": [
       "<matplotlib.axes._subplots.AxesSubplot at 0x7f6548d3f518>"
      ]
     },
     "execution_count": 9,
     "metadata": {},
     "output_type": "execute_result"
    },
    {
     "data": {
      "image/png": "[encoded data removed]",
      "text/plain": [
       "<Figure size 576x432 with 1 Axes>"
      ]
     },
     "metadata": {
      "needs_background": "light"
     },
     "output_type": "display_data"
    }
   ],
   "source": [
    "# df.groupby('Year_received').apply(lambda x: x.bin_dispos_onehot.sum() / x.bin_dispos_onehot.count()).plot(kind='barh', figsize=(8,6))"
   ]
  },
  {
   "cell_type": "code",
   "execution_count": 10,
   "metadata": {},
   "outputs": [
    {
     "data": {
      "image/png": "[encoded data removed]",
      "text/plain": [
       "<Figure size 576x432 with 1 Axes>"
      ]
     },
     "metadata": {
      "needs_background": "light"
     },
     "output_type": "display_data"
    }
   ],
   "source": [
    "# df.groupby('Year_inc_date').apply(lambda x: x.bin_dispos_onehot.sum() / x.bin_dispos_onehot.count()).plot(kind='barh', figsize=(8,6));"
   ]
  },
  {
   "cell_type": "code",
   "execution_count": 254,
   "metadata": {},
   "outputs": [],
   "source": [
    "X_df = df.drop(['binary_disposition', 'disposition', \n",
    "             'date_received', 'incident_date',\n",
    "             'close_amount', 'num_items_or_incidents_claimed']\n",
    "            ]\n",
    "            , axis=1)\n",
    "y = df['binary_disposition'].apply(lambda x: 1 if x == 'Compensate' else 0)"
   ]
  },
  {
   "cell_type": "code",
   "execution_count": 255,
   "metadata": {},
   "outputs": [],
   "source": [
    "categorical = ['airport_code', 'airline', 'claim_type', 'claim_site', 'Month_received']\n",
    "continuous =  ['days_waited_to_file_claim']"
   ]
  },
  {
   "cell_type": "code",
   "execution_count": 256,
   "metadata": {},
   "outputs": [
    {
     "name": "stderr",
     "output_type": "stream",
     "text": [
      "/home/spencer/anaconda3/lib/python3.6/site-packages/sklearn/preprocessing/data.py:617: DataConversionWarning: Data with input dtype int64 were all converted to float64 by StandardScaler.\n",
      "  return self.partial_fit(X, y)\n",
      "/home/spencer/anaconda3/lib/python3.6/site-packages/sklearn/base.py:462: DataConversionWarning: Data with input dtype int64 were all converted to float64 by StandardScaler.\n",
      "  return self.fit(X, **fit_params).transform(X)\n"
     ]
    }
   ],
   "source": [
    "enc = OneHotEncoder(sparse=False)\n",
    "onehotarray = enc.fit_transform(X_df[categorical])\n",
    "\n",
    "ss = StandardScaler()\n",
    "continuousarray = ss.fit_transform(X_df[continuous])\n",
    "\n",
    "mlb = MultiLabelBinarizer(sparse_output=False)\n",
    "onehot_itemcategories = mlb.fit_transform(X_df['item_category'].str.replace(' ','').str.split(pat=';'))\n",
    "\n",
    "X = np.concatenate((onehotarray, continuousarray, onehot_itemcategories), axis=1)"
   ]
  },
  {
   "cell_type": "code",
   "execution_count": 201,
   "metadata": {},
   "outputs": [],
   "source": [
    "X_train, X_test, y_train, y_test = train_test_split(X, y, test_size=0.3, random_state=42, stratify=y)"
   ]
  },
  {
   "cell_type": "markdown",
   "metadata": {},
   "source": [
    "# Code to get pkled FIT shapes ready for Flask App"
   ]
  },
  {
   "cell_type": "code",
   "execution_count": 259,
   "metadata": {},
   "outputs": [],
   "source": [
    "trans_dir = './web_app/stat_models/transformers'\n",
    "\n",
    "enc = OneHotEncoder(sparse=False)\n",
    "enc.fit(X_df[categorical])\n",
    "joblib.dump(enc, f'{trans_dir}/onehotencode.joblib')\n",
    "# onehotarray = enc.transform(X[categorical])\n",
    "\n",
    "ss = StandardScaler()\n",
    "ss.fit(X_df[continuous])\n",
    "joblib.dump(ss, f'{trans_dir}/standardscaler.joblib')\n",
    "\n",
    "\n",
    "mlb = MultiLabelBinarizer(sparse_output=False)\n",
    "mlb.fit(X_df['item_category'].str.replace(' ','').str.split(pat=';'))\n",
    "joblib.dump(mlb, f'{trans_dir}/item_category.joblib')"
   ]
  },
  {
   "cell_type": "markdown",
   "metadata": {},
   "source": [
    "---"
   ]
  },
  {
   "cell_type": "code",
   "execution_count": 203,
   "metadata": {},
   "outputs": [
    {
     "name": "stdout",
     "output_type": "stream",
     "text": [
      "0.7033272641221381\n",
      "{'criterion': 'gini', 'max_depth': 25, 'n_estimators': 300}\n",
      "RandomForestClassifier(bootstrap=True, class_weight=None, criterion='gini',\n",
      "            max_depth=25, max_features='auto', max_leaf_nodes=None,\n",
      "            min_impurity_decrease=0.0, min_impurity_split=None,\n",
      "            min_samples_leaf=1, min_samples_split=2,\n",
      "            min_weight_fraction_leaf=0.0, n_estimators=300, n_jobs=None,\n",
      "            oob_score=False, random_state=42, verbose=0, warm_start=False)\n",
      "0.5969929111540007\n"
     ]
    }
   ],
   "source": [
    "%%time\n",
    "rf = RandomForestClassifier(random_state=42)\n",
    "\n",
    "criterions = ['gini']#, 'entropy']\n",
    "n_ests = [300]\n",
    "m_depths = [25]\n",
    "    \n",
    "param_grid = dict(criterion=criterions, n_estimators=n_ests, max_depth=m_depths)\n",
    "\n",
    "grid_rf = GridSearchCV(rf, param_grid, scoring='roc_auc', cv=10, n_jobs=4)\n",
    "\n",
    "grid_rf.fit(X_train, y_train)\n",
    "\n",
    "print(grid_rf.best_score_)\n",
    "print(grid_rf.best_params_)\n",
    "print(grid_rf.best_estimator_)\n",
    "\n",
    "y_pred = grid_rf.predict(X_test)\n",
    "print(roc_auc_score(y_test, y_pred))"
   ]
  },
  {
   "cell_type": "code",
   "execution_count": 242,
   "metadata": {},
   "outputs": [
    {
     "data": {
      "text/plain": [
       "['models/rf_months_12.03.2018.joblib']"
      ]
     },
     "execution_count": 242,
     "metadata": {},
     "output_type": "execute_result"
    }
   ],
   "source": [
    "savedir = 'models'\n",
    "joblib.dump(grid_rf.best_estimator_, f'{savedir}/rf_months_12.03.2018.joblib',compress=9)"
   ]
  },
  {
   "cell_type": "code",
   "execution_count": 318,
   "metadata": {},
   "outputs": [],
   "source": [
    "import catboost\n",
    "from catboost import CatBoostClassifier"
   ]
  },
  {
   "cell_type": "code",
   "execution_count": 323,
   "metadata": {},
   "outputs": [
    {
     "name": "stderr",
     "output_type": "stream",
     "text": [
      "/home/spencer/anaconda3/lib/python3.6/site-packages/sklearn/externals/joblib/externals/loky/process_executor.py:700: UserWarning: A worker stopped while some jobs were given to the executor. This can be caused by a too short worker timeout or by a memory leak.\n",
      "  \"timeout or by a memory leak.\", UserWarning\n",
      "/home/spencer/anaconda3/lib/python3.6/site-packages/sklearn/externals/joblib/externals/loky/process_executor.py:700: UserWarning: A worker stopped while some jobs were given to the executor. This can be caused by a too short worker timeout or by a memory leak.\n",
      "  \"timeout or by a memory leak.\", UserWarning\n",
      "/home/spencer/anaconda3/lib/python3.6/site-packages/sklearn/externals/joblib/externals/loky/process_executor.py:700: UserWarning: A worker stopped while some jobs were given to the executor. This can be caused by a too short worker timeout or by a memory leak.\n",
      "  \"timeout or by a memory leak.\", UserWarning\n",
      "/home/spencer/anaconda3/lib/python3.6/site-packages/sklearn/externals/joblib/externals/loky/process_executor.py:700: UserWarning: A worker stopped while some jobs were given to the executor. This can be caused by a too short worker timeout or by a memory leak.\n",
      "  \"timeout or by a memory leak.\", UserWarning\n",
      "/home/spencer/anaconda3/lib/python3.6/site-packages/sklearn/externals/joblib/externals/loky/process_executor.py:700: UserWarning: A worker stopped while some jobs were given to the executor. This can be caused by a too short worker timeout or by a memory leak.\n",
      "  \"timeout or by a memory leak.\", UserWarning\n",
      "/home/spencer/anaconda3/lib/python3.6/site-packages/sklearn/externals/joblib/externals/loky/process_executor.py:700: UserWarning: A worker stopped while some jobs were given to the executor. This can be caused by a too short worker timeout or by a memory leak.\n",
      "  \"timeout or by a memory leak.\", UserWarning\n"
     ]
    },
    {
     "name": "stdout",
     "output_type": "stream",
     "text": [
      "0.7000132331531255\n",
      "{'max_depth': 30, 'n_estimators': 300}\n",
      "RandomForestClassifier(bootstrap=True, class_weight=None, criterion='gini',\n",
      "            max_depth=30, max_features='auto', max_leaf_nodes=None,\n",
      "            min_impurity_decrease=0.0, min_impurity_split=None,\n",
      "            min_samples_leaf=1, min_samples_split=2,\n",
      "            min_weight_fraction_leaf=0.0, n_estimators=300, n_jobs=None,\n",
      "            oob_score=False, random_state=42, verbose=0, warm_start=False)\n",
      "0.5942895864007496\n",
      "CPU times: user 1min 13s, sys: 2.38 s, total: 1min 16s\n",
      "Wall time: 14min 28s\n"
     ]
    }
   ],
   "source": [
    "%%time\n",
    "cboost = CatBoostClassifier(learning_rate=0.1, random_seed=42)\n",
    "n_ests = [300]\n",
    "m_depths = [30]\n",
    "    \n",
    "param_grid = dict(n_estimators=n_ests, max_depth=m_depths)\n",
    "\n",
    "cat_clf = GridSearchCV(rf, param_grid, scoring='roc_auc', cv=10, n_jobs=4)\n",
    "\n",
    "cat_clf.fit(X_train[-30000:], y_train[-30000:])\n",
    "\n",
    "print(cat_clf.best_score_)\n",
    "print(cat_clf.best_params_)\n",
    "print(cat_clf.best_estimator_)\n",
    "\n",
    "y_pred = cat_clf.predict(X_test[-30000:])\n",
    "print(roc_auc_score(y_test[-30000:], y_pred[-30000:]))"
   ]
  },
  {
   "cell_type": "code",
   "execution_count": null,
   "metadata": {},
   "outputs": [],
   "source": []
  },
  {
   "cell_type": "markdown",
   "metadata": {},
   "source": [
    "# TIME BREAKOUT COLUMNS"
   ]
  },
  {
   "cell_type": "code",
   "execution_count": 276,
   "metadata": {},
   "outputs": [],
   "source": [
    "df['Week/Year_inc_date'] = df['incident_date'].apply(lambda x: \"%d/%d\" % (x.week, x.year))\n",
    "df['Week_inc_date'] = df['incident_date'].apply(lambda x: \"%d\" % (x.week))\n",
    "df['Month_inc_date'] = df['incident_date'].apply(lambda x: \"%d\" % (x.month))\n",
    "df['Year_inc_date'] = df['incident_date'].apply(lambda x: \"%d\" % (x.year))\n",
    "\n",
    "df['Week_received'] = df['date_received'].apply(lambda x: \"%d\" % (x.week))\n",
    "df['Month_received'] = df['date_received'].apply(lambda x: \"%d\" % (x.month))\n",
    "df['Year_received'] = df['date_received'].apply(lambda x: \"%d\" % (x.year))"
   ]
  },
  {
   "cell_type": "code",
   "execution_count": 267,
   "metadata": {},
   "outputs": [
    {
     "data": {
      "text/plain": [
       "array([[<matplotlib.axes._subplots.AxesSubplot object at 0x7f9a2761eac8>]],\n",
       "      dtype=object)"
      ]
     },
     "execution_count": 267,
     "metadata": {},
     "output_type": "execute_result"
    },
    {
     "data": {
      "image/png": "[encoded data removed]",
      "text/plain": [
       "<Figure size 432x288 with 1 Axes>"
      ]
     },
     "metadata": {
      "needs_background": "light"
     },
     "output_type": "display_data"
    }
   ],
   "source": [
    "df.hist(column='num_items_or_incidents_claimed', bins=15)"
   ]
  },
  {
   "cell_type": "code",
   "execution_count": 262,
   "metadata": {},
   "outputs": [
    {
     "data": {
      "text/plain": [
       "<matplotlib.axes._subplots.AxesSubplot at 0x7f9a27590208>"
      ]
     },
     "execution_count": 262,
     "metadata": {},
     "output_type": "execute_result"
    },
    {
     "data": {
      "image/png": "[encoded data removed]",
      "text/plain": [
       "<Figure size 576x432 with 1 Axes>"
      ]
     },
     "metadata": {
      "needs_background": "light"
     },
     "output_type": "display_data"
    }
   ],
   "source": [
    "df.groupby('num_i').apply(lambda x: x.num_items_or_incidents_claimed.count()).plot(kind='barh', figsize=(8,6))"
   ]
  },
  {
   "cell_type": "code",
   "execution_count": 274,
   "metadata": {},
   "outputs": [
    {
     "data": {
      "text/plain": [
       "<matplotlib.axes._subplots.AxesSubplot at 0x7f9a276106a0>"
      ]
     },
     "execution_count": 274,
     "metadata": {},
     "output_type": "execute_result"
    },
    {
     "data": {
      "image/png": "[encoded data removed]",
      "text/plain": [
       "<Figure size 576x432 with 1 Axes>"
      ]
     },
     "metadata": {
      "needs_background": "light"
     },
     "output_type": "display_data"
    }
   ],
   "source": [
    "df.groupby('Month_received').apply(lambda x: x.bin_dispos_onehot.sum() / x.bin_dispos_onehot.count()).plot(kind='barh', figsize=(8,6), sort_columns=True)"
   ]
  },
  {
   "cell_type": "code",
   "execution_count": 38,
   "metadata": {},
   "outputs": [
    {
     "data": {
      "image/png": "[encoded data removed]",
      "text/plain": [
       "<Figure size 576x432 with 1 Axes>"
      ]
     },
     "metadata": {
      "needs_background": "light"
     },
     "output_type": "display_data"
    }
   ],
   "source": [
    "df.groupby('Month_inc_date').apply(lambda x: x.bin_dispos_onehot.sum() / x.bin_dispos_onehot.count()).plot(kind='barh', figsize=(8,6));"
   ]
  },
  {
   "cell_type": "code",
   "execution_count": 277,
   "metadata": {},
   "outputs": [
    {
     "data": {
      "image/png": "[encoded data removed]",
      "text/plain": [
       "<Figure size 576x432 with 1 Axes>"
      ]
     },
     "metadata": {
      "needs_background": "light"
     },
     "output_type": "display_data"
    }
   ],
   "source": [
    "df.groupby('Year_received').apply(lambda x: x.bin_dispos_onehot.sum() / x.bin_dispos_onehot.count()).plot(kind='barh', figsize=(8,6));"
   ]
  },
  {
   "cell_type": "code",
   "execution_count": 93,
   "metadata": {},
   "outputs": [
    {
     "ename": "AttributeError",
     "evalue": "'NoneType' object has no attribute 'days_waited_to_file_claim'",
     "output_type": "error",
     "traceback": [
      "\u001b[0;31m---------------------------------------------------------------------------\u001b[0m",
      "\u001b[0;31mAttributeError\u001b[0m                            Traceback (most recent call last)",
      "\u001b[0;32m<ipython-input-93-730b45916eea>\u001b[0m in \u001b[0;36m<module>\u001b[0;34m()\u001b[0m\n\u001b[1;32m      1\u001b[0m \u001b[0;31m#\u001b[0m\u001b[0;34m\u001b[0m\u001b[0;34m\u001b[0m\u001b[0m\n\u001b[0;32m----> 2\u001b[0;31m \u001b[0mdf\u001b[0m\u001b[0;34m[\u001b[0m\u001b[0mdf\u001b[0m\u001b[0;34m.\u001b[0m\u001b[0mdays_waited_to_file_claim\u001b[0m \u001b[0;34m<\u001b[0m \u001b[0;36m180\u001b[0m\u001b[0;34m]\u001b[0m\u001b[0;34m.\u001b[0m\u001b[0mhist\u001b[0m\u001b[0;34m(\u001b[0m\u001b[0mcolumn\u001b[0m\u001b[0;34m=\u001b[0m\u001b[0;34m'days_waited_to_file_claim'\u001b[0m\u001b[0;34m,\u001b[0m\u001b[0mbins\u001b[0m\u001b[0;34m=\u001b[0m\u001b[0;36m180\u001b[0m\u001b[0;34m,\u001b[0m \u001b[0mfigsize\u001b[0m\u001b[0;34m=\u001b[0m\u001b[0;34m(\u001b[0m\u001b[0;36m14\u001b[0m\u001b[0;34m,\u001b[0m\u001b[0;36m8\u001b[0m\u001b[0;34m)\u001b[0m\u001b[0;34m)\u001b[0m\u001b[0;34m\u001b[0m\u001b[0m\n\u001b[0m",
      "\u001b[0;31mAttributeError\u001b[0m: 'NoneType' object has no attribute 'days_waited_to_file_claim'"
     ]
    }
   ],
   "source": [
    "# \n",
    "df[df.days_waited_to_file_claim < 180].hist(column='days_waited_to_file_claim',bins=180, figsize=(14,8))"
   ]
  },
  {
   "cell_type": "code",
   "execution_count": 228,
   "metadata": {},
   "outputs": [
    {
     "data": {
      "text/plain": [
       "<matplotlib.axes._subplots.AxesSubplot at 0x7fd6958d5da0>"
      ]
     },
     "execution_count": 228,
     "metadata": {},
     "output_type": "execute_result"
    },
    {
     "data": {
      "image/png": "[encoded data removed]",
      "text/plain": [
       "<Figure size 1152x720 with 1 Axes>"
      ]
     },
     "metadata": {
      "needs_background": "light"
     },
     "output_type": "display_data"
    }
   ],
   "source": [
    "df.groupby('days_waited_to_file_claim').mean().plot(y='bin_dispos_onehot', xlim=(0,150),figsize=(16,10))"
   ]
  },
  {
   "cell_type": "markdown",
   "metadata": {},
   "source": [
    "What are factors of play in driving results here?\n",
    "What are most interesting ways to slice the data to see how the results may differ?\n",
    "As a user of this model - what is the best ways I can use this information to make better decisions? (See above (file claim between 20-75). Can we get a tighter range on ideal filing time based on odds of fully/settled reimbursed?)"
   ]
  },
  {
   "cell_type": "code",
   "execution_count": 278,
   "metadata": {},
   "outputs": [
    {
     "data": {
      "image/png": "[encoded data removed]",
      "text/plain": [
       "<Figure size 576x432 with 1 Axes>"
      ]
     },
     "metadata": {
      "needs_background": "light"
     },
     "output_type": "display_data"
    }
   ],
   "source": [
    "df.groupby('Year_inc_date').apply(lambda x: x.bin_dispos_onehot.sum() / x.bin_dispos_onehot.count()).plot(kind='barh', figsize=(8,6));"
   ]
  },
  {
   "cell_type": "code",
   "execution_count": null,
   "metadata": {},
   "outputs": [],
   "source": [
    "# IT needs to be one entry in the master array. So like (1, 869)\n",
    "# how do I get there? I need all the 869 features, and then I need to plug in the values as appropriate for the features I do have."
   ]
  },
  {
   "cell_type": "code",
   "execution_count": null,
   "metadata": {},
   "outputs": [],
   "source": [
    "# I think I need to take the big X with all the data, get its 869 feature array, then store the features for that.\n",
    "\n",
    "# then with my example, I need to not fit_transform, but just transform it or something?!"
   ]
  },
  {
   "cell_type": "markdown",
   "metadata": {},
   "source": [
    "# Explore with smaller data set\n",
    "\n",
    "### Top 40 airports carried 80% of enplaning passengers in 2017\n",
    "\n",
    "### Cutting list of airports down to the top 50 with most incidents still leaves 103011 out of 145421 observations (70.8%)\n",
    "### From there, limiting to 14 out of 220 airlines gives us 89% of that (down to 90902 observations)"
   ]
  },
  {
   "cell_type": "code",
   "execution_count": null,
   "metadata": {},
   "outputs": [],
   "source": []
  },
  {
   "cell_type": "code",
   "execution_count": 174,
   "metadata": {},
   "outputs": [
    {
     "data": {
      "text/plain": [
       "array([7051, 6950, 5242, 5169, 5126, 4654, 4526, 4032, 3989, 3722, 3553,\n",
       "       3326, 3177, 3065, 3049, 3023, 2820, 2571, 2489, 2435, 2375, 2191,\n",
       "       2136, 1630, 1495, 1485, 1418, 1269, 1156, 1147, 1097, 1055, 1052,\n",
       "       1036, 1028,  977,  941,  902,  887,  862,  851,  828,  822,  766,\n",
       "        728,  708,  554,  460,   21,   12])"
      ]
     },
     "execution_count": 174,
     "metadata": {},
     "output_type": "execute_result"
    }
   ],
   "source": [
    "df[df.airport_code.isin(top_airports)].airport_code.value_counts().values"
   ]
  },
  {
   "cell_type": "code",
   "execution_count": 171,
   "metadata": {},
   "outputs": [],
   "source": [
    "# Create Dataset limited to top 40 airports and top 14 airlines\n",
    "passengers = pd.read_pickle('./data/clean/usa2016-17-enplanements.pkl')\n",
    "\n",
    "top_airports = passengers.airport_code.iloc[:40].values.tolist()\n",
    "top_airlines = df.airline.value_counts()[:14].index.tolist()\n",
    "\n",
    "smalldf = df[df.airport_code.isin(top_airports)]\n",
    "smalldf = smalldf[smalldf.airline.isin(top_airlines)]"
   ]
  },
  {
   "cell_type": "markdown",
   "metadata": {},
   "source": [
    "# Test model with new data"
   ]
  },
  {
   "cell_type": "code",
   "execution_count": 47,
   "metadata": {},
   "outputs": [],
   "source": [
    "import numpy as np\n",
    "import pandas as pd\n",
    "import matplotlib.pyplot as plt\n",
    "%matplotlib inline\n",
    "import seaborn as sns\n",
    "\n",
    "import pyspark\n",
    "\n",
    "import datetime as dt\n",
    "\n",
    "import tabula\n",
    "import joblib"
   ]
  },
  {
   "cell_type": "code",
   "execution_count": 48,
   "metadata": {},
   "outputs": [],
   "source": [
    "pd.set_option('display.max_columns', 300)\n",
    "pd.set_option('display.max_rows', 60)\n",
    "pd.set_option('display.precision', 3)\n",
    "pd.set_option('display.float_format', lambda x: '%.3f' % x)\n",
    "\n",
    "import sklearn\n",
    "from sklearn.preprocessing import StandardScaler, MultiLabelBinarizer, OneHotEncoder\n",
    "from sklearn.model_selection import GridSearchCV, RandomizedSearchCV, cross_val_score, cross_validate \\\n",
    "                                    ,cross_val_predict, GridSearchCV, RandomizedSearchCV\n",
    "from sklearn.svm import SVC\n",
    "from sklearn.neighbors import KNeighborsClassifier\n",
    "from sklearn import metrics\n",
    "from sklearn.metrics import confusion_matrix,recall_score,precision_score, f1_score, roc_auc_score\n",
    "from sklearn.model_selection import train_test_split, cross_validate, cross_val_score\n",
    "from sklearn.linear_model import LogisticRegression, LogisticRegressionCV\n",
    "from sklearn.tree import DecisionTreeClassifier\n",
    "from sklearn.ensemble import RandomForestClassifier, GradientBoostingClassifier\n",
    "from sklearn.naive_bayes import GaussianNB, MultinomialNB, BernoulliNB\n",
    "\n",
    "from sklearn.metrics import roc_curve, auc\n",
    "\n",
    "import itertools\n",
    "from sklearn.metrics import confusion_matrix\n",
    "# from sklearn.externals import joblib\n",
    "from imblearn.over_sampling import SMOTE"
   ]
  },
  {
   "cell_type": "code",
   "execution_count": 49,
   "metadata": {},
   "outputs": [],
   "source": [
    "df = pd.read_pickle('./data/clean/clean_for_classifier_df.pkl')"
   ]
  },
  {
   "cell_type": "code",
   "execution_count": 50,
   "metadata": {},
   "outputs": [],
   "source": [
    "col_names = ['claim_number', 'date_received', 'incident_date', 'airport_code', 'airport_name',\n",
    "           'airline', 'claim_type', 'claim_site', 'item_category', 'close_amount', 'disposition']\n",
    "           "
   ]
  },
  {
   "cell_type": "code",
   "execution_count": 51,
   "metadata": {},
   "outputs": [],
   "source": [
    "# Create Dataset limited to top 40 airports and top 14 airlines\n",
    "passengers = pd.read_pickle('./data/clean/usa2016-17-enplanements.pkl')\n",
    "\n",
    "top_airports = list(passengers.airport_code.iloc[:40].unique())\n",
    "top_airports.remove('MCI')\n",
    "top_airports.remove('SFO')\n",
    "top_airlines = df.airline.value_counts()[:14].index.tolist()\n",
    "\n",
    "\n",
    "df = df[df.airport_code.isin(top_airports)]\n",
    "df = df[df.airline.isin(top_airlines)]\n",
    "df = df[(df.claim_site == 'Checked Baggage') | (df.claim_site == 'Checkpoint')]\n",
    "df = df[(df.claim_type == 'PropertyLoss') | (df.claim_type == 'PropertyDamage')]"
   ]
  },
  {
   "cell_type": "code",
   "execution_count": 52,
   "metadata": {},
   "outputs": [],
   "source": [
    "passengers = None\n",
    "top_airports = None\n",
    "top_airlines = None"
   ]
  },
  {
   "cell_type": "code",
   "execution_count": 53,
   "metadata": {},
   "outputs": [],
   "source": [
    "df.dropna(inplace=True)"
   ]
  },
  {
   "cell_type": "code",
   "execution_count": 54,
   "metadata": {},
   "outputs": [
    {
     "name": "stderr",
     "output_type": "stream",
     "text": [
      "/home/spencer/anaconda3/lib/python3.6/site-packages/ipykernel_launcher.py:5: SettingWithCopyWarning: \n",
      "A value is trying to be set on a copy of a slice from a DataFrame\n",
      "\n",
      "See the caveats in the documentation: http://pandas.pydata.org/pandas-docs/stable/indexing.html#indexing-view-versus-copy\n",
      "  \"\"\"\n",
      "/home/spencer/anaconda3/lib/python3.6/site-packages/ipykernel_launcher.py:6: SettingWithCopyWarning: \n",
      "A value is trying to be set on a copy of a slice from a DataFrame\n",
      "\n",
      "See the caveats in the documentation: http://pandas.pydata.org/pandas-docs/stable/indexing.html#indexing-view-versus-copy\n",
      "  \n"
     ]
    }
   ],
   "source": [
    "df['binary_disposition'] = df['disposition']\n",
    "df['binary_disposition'] = df['binary_disposition'].where(df['binary_disposition'] == 'Deny', other='Compensate')\n",
    "\n",
    "# Change some text to make it more human readable\n",
    "df.claim_site[df.claim_site == '-'] = 'Unknown'\n",
    "df.claim_type[df.claim_type == '-'] = 'Unknown'\n",
    "\n",
    "# Feature Engineering\n",
    "\n",
    "### Count of items claimed\n",
    "\n",
    "# TODO: Consider only using this for where claim_type is related to property.\n",
    "df['num_items_or_incidents_claimed'] = df['item_category'].str.split(pat=';').apply(lambda x: len(x))\n",
    "df['num_items_or_incidents_claimed'] = df['num_items_or_incidents_claimed'].where(df['claim_type'].str.contains('property', case=False) == True, other= 0)\n",
    "\n",
    "### Time calculation\n",
    "wait_period = df.date_received - df.incident_date\n",
    "df['days_waited_to_file_claim'] = wait_period.dt.days\n",
    "\n",
    "# Drop days where the 'date_received\" was reported before 'incident_date'\n",
    "df = df[df.days_waited_to_file_claim >= 0]\n",
    "\n",
    "df.reset_index(inplace=True,drop=True)\n",
    "df['bin_dispos_onehot'] = df['binary_disposition'].apply(lambda x: 1 if x == 'Compensate' else 0)"
   ]
  },
  {
   "cell_type": "code",
   "execution_count": 55,
   "metadata": {},
   "outputs": [],
   "source": [
    "# df['Week/Year_inc_date'] = df['incident_date'].apply(lambda x: \"%d/%d\" % (x.week, x.year))\n",
    "# df['Week_inc_date'] = df['incident_date'].apply(lambda x: \"%d\" % (x.week))\n",
    "df['Month_inc_date'] = df['incident_date'].apply(lambda x: \"%d\" % (x.month))\n",
    "# df['Year_inc_date'] = df['incident_date'].apply(lambda x: \"%d\" % (x.year))\n",
    "\n",
    "# df['Week_received'] = df['date_received'].apply(lambda x: \"%d\" % (x.week))\n",
    "df['Month_received'] = df['date_received'].apply(lambda x: \"%d\" % (x.month))\n",
    "# df['Year_received'] = df['date_received'].apply(lambda x: \"%d\" % (x.year))"
   ]
  },
  {
   "cell_type": "code",
   "execution_count": 56,
   "metadata": {},
   "outputs": [],
   "source": [
    "df['squared_days_waited'] = df['days_waited_to_file_claim'].apply(lambda x: x**2)"
   ]
  },
  {
   "cell_type": "code",
   "execution_count": 57,
   "metadata": {},
   "outputs": [],
   "source": [
    "X_small_df = df[['airport_code', 'airline', 'claim_type', 'claim_site', 'item_category', 'days_waited_to_file_claim', 'Month_received', 'Month_inc_date', 'squared_days_waited']]\n",
    "y_small = df['binary_disposition'].apply(lambda x: 1 if x == 'Compensate' else 0)"
   ]
  },
  {
   "cell_type": "code",
   "execution_count": 58,
   "metadata": {},
   "outputs": [],
   "source": [
    "categorical = ['airport_code', 'airline', 'claim_type', 'claim_site', 'Month_inc_date']\n",
    "continuous =  ['days_waited_to_file_claim'] #, 'squared_days_waited']"
   ]
  },
  {
   "cell_type": "code",
   "execution_count": 60,
   "metadata": {},
   "outputs": [
    {
     "name": "stderr",
     "output_type": "stream",
     "text": [
      "/home/spencer/anaconda3/lib/python3.6/site-packages/sklearn/preprocessing/data.py:617: DataConversionWarning: Data with input dtype int64 were all converted to float64 by StandardScaler.\n",
      "  return self.partial_fit(X, y)\n"
     ]
    },
    {
     "data": {
      "text/plain": [
       "['./web_app/stat_models/transformers/item_category.joblib']"
      ]
     },
     "execution_count": 60,
     "metadata": {},
     "output_type": "execute_result"
    }
   ],
   "source": [
    "# Save fit models to be transformed later in \n",
    "import joblib\n",
    "trans_dir = './web_app/stat_models/transformers'\n",
    "\n",
    "enc = OneHotEncoder(sparse=False)\n",
    "enc.fit(X_small_df[categorical])\n",
    "joblib.dump(enc, f'{trans_dir}/onehotencode.joblib')\n",
    "# onehotarray = enc.transform(X[categorical])\n",
    "\n",
    "ss = StandardScaler()\n",
    "ss.fit(X_small_df[continuous])\n",
    "joblib.dump(ss, f'{trans_dir}/standardscaler.joblib')\n",
    "\n",
    "\n",
    "mlb = MultiLabelBinarizer(sparse_output=False)\n",
    "mlb.fit(X_small_df['item_category'].str.replace(' ','').str.split(pat=';'))\n",
    "joblib.dump(mlb, f'{trans_dir}/item_category.joblib')"
   ]
  },
  {
   "cell_type": "code",
   "execution_count": 18,
   "metadata": {},
   "outputs": [
    {
     "name": "stderr",
     "output_type": "stream",
     "text": [
      "/home/spencer/anaconda3/lib/python3.6/site-packages/sklearn/preprocessing/data.py:617: DataConversionWarning: Data with input dtype int64 were all converted to float64 by StandardScaler.\n",
      "  return self.partial_fit(X, y)\n",
      "/home/spencer/anaconda3/lib/python3.6/site-packages/sklearn/base.py:462: DataConversionWarning: Data with input dtype int64 were all converted to float64 by StandardScaler.\n",
      "  return self.fit(X, **fit_params).transform(X)\n"
     ]
    }
   ],
   "source": [
    "enc = OneHotEncoder(sparse=False)\n",
    "onehotarray = enc.fit_transform(X_small_df[categorical])\n",
    "\n",
    "ss = StandardScaler()\n",
    "continuousarray = ss.fit_transform(X_small_df[continuous])\n",
    "\n",
    "mlb = MultiLabelBinarizer(sparse_output=False)\n",
    "onehot_itemcategories = mlb.fit_transform(X_small_df['item_category'].str.replace(' ','').str.split(pat=';'))\n",
    "\n",
    "X_small = np.concatenate((onehotarray, continuousarray, onehot_itemcategories), axis=1)"
   ]
  },
  {
   "cell_type": "code",
   "execution_count": 19,
   "metadata": {},
   "outputs": [
    {
     "data": {
      "text/plain": [
       "(90193, 192)"
      ]
     },
     "execution_count": 19,
     "metadata": {},
     "output_type": "execute_result"
    }
   ],
   "source": [
    "X_small.shape"
   ]
  },
  {
   "cell_type": "code",
   "execution_count": 20,
   "metadata": {},
   "outputs": [],
   "source": [
    "X_train, X_test, y_train, y_test = train_test_split(X_small, y_small, test_size=0.3, random_state=42, stratify=y_small)"
   ]
  },
  {
   "cell_type": "code",
   "execution_count": 55,
   "metadata": {},
   "outputs": [
    {
     "name": "stderr",
     "output_type": "stream",
     "text": [
      "/home/spencer/anaconda3/lib/python3.6/site-packages/sklearn/preprocessing/data.py:617: DataConversionWarning: Data with input dtype int64 were all converted to float64 by StandardScaler.\n",
      "  return self.partial_fit(X, y)\n"
     ]
    },
    {
     "data": {
      "text/plain": [
       "['./web_app/stat_models/transformers/item_category.joblib']"
      ]
     },
     "execution_count": 55,
     "metadata": {},
     "output_type": "execute_result"
    }
   ],
   "source": [
    "# Saving these inputs for flask app modelling\n",
    "trans_dir = './web_app/stat_models/transformers'\n",
    "\n",
    "enc = OneHotEncoder(sparse=False)\n",
    "enc.fit(X_small_df[categorical])\n",
    "joblib.dump(enc, f'{trans_dir}/onehotencode.joblib')\n",
    "\n",
    "ss = StandardScaler()\n",
    "ss.fit(X_small_df[continuous])\n",
    "joblib.dump(ss, f'{trans_dir}/standardscaler.joblib')\n",
    "\n",
    "mlb = MultiLabelBinarizer(sparse_output=False)\n",
    "mlb.fit(X_small_df['item_category'].str.replace(' ','').str.split(pat=';'))\n",
    "joblib.dump(mlb, f'{trans_dir}/item_category.joblib')"
   ]
  },
  {
   "cell_type": "code",
   "execution_count": 174,
   "metadata": {},
   "outputs": [],
   "source": [
    "df = None"
   ]
  },
  {
   "cell_type": "code",
   "execution_count": 22,
   "metadata": {},
   "outputs": [
    {
     "name": "stdout",
     "output_type": "stream",
     "text": [
      "0.6290906065526554\n",
      "{'criterion': 'gini', 'max_depth': 1, 'n_estimators': 300}\n",
      "RandomForestClassifier(bootstrap=True, class_weight=None, criterion='gini',\n",
      "            max_depth=1, max_features='auto', max_leaf_nodes=None,\n",
      "            min_impurity_decrease=0.0, min_impurity_split=None,\n",
      "            min_samples_leaf=1, min_samples_split=2,\n",
      "            min_weight_fraction_leaf=0.0, n_estimators=300, n_jobs=None,\n",
      "            oob_score=False, random_state=42, verbose=0, warm_start=False)\n",
      "0.5\n",
      "CPU times: user 57.1 s, sys: 264 ms, total: 57.3 s\n",
      "Wall time: 57.3 s\n"
     ]
    }
   ],
   "source": [
    "make_prediction"
   ]
  },
  {
   "cell_type": "code",
   "execution_count": 142,
   "metadata": {},
   "outputs": [],
   "source": [
    "from sklearn.ensemble import ExtraTreesClassifier, GradientBoostingClassifier\n",
    "from sklearn.model_selection import RandomizedSearchCV\n",
    "from sklearn.naive_bayes import BernoulliNB, GaussianNB, MultinomialNB\n",
    "from sklearn.linear_model import LogisticRegression, LogisticRegressionCV, SGDClassifier\n",
    "from sklearn.svm import SVC"
   ]
  },
  {
   "cell_type": "code",
   "execution_count": 20,
   "metadata": {},
   "outputs": [
    {
     "name": "stdout",
     "output_type": "stream",
     "text": [
      "0.6916683486382915\n",
      "{'criterion': 'gini', 'max_depth': 30, 'n_estimators': 300}\n",
      "RandomForestClassifier(bootstrap=True, class_weight=None, criterion='gini',\n",
      "            max_depth=30, max_features='auto', max_leaf_nodes=None,\n",
      "            min_impurity_decrease=0.0, min_impurity_split=None,\n",
      "            min_samples_leaf=1, min_samples_split=2,\n",
      "            min_weight_fraction_leaf=0.0, n_estimators=300, n_jobs=None,\n",
      "            oob_score=False, random_state=42, verbose=0, warm_start=False)\n",
      "0.6083105773516357\n",
      "CPU times: user 8min 26s, sys: 312 ms, total: 8min 26s\n",
      "Wall time: 8min 26s\n"
     ]
    }
   ],
   "source": [
    "%%time\n",
    "rf = RandomForestClassifier(random_state=42)\n",
    "\n",
    "criterions = ['gini']#, 'entropy']\n",
    "n_ests = [300]\n",
    "m_depths = [30]\n",
    "param_grid = dict(criterion=criterions, n_estimators=n_ests, max_depth=m_depths)\n",
    "\n",
    "grid_rf = GridSearchCV(rf, param_grid, scoring='roc_auc', cv=6, n_jobs=1)\n",
    "\n",
    "grid_rf.fit(X_train, y_train)\n",
    "\n",
    "print(grid_rf.best_score_)\n",
    "print(grid_rf.best_params_)\n",
    "print(grid_rf.best_estimator_)\n",
    "\n",
    "y_pred = grid_rf.predict(X_test)\n",
    "print(roc_auc_score(y_test, y_pred))"
   ]
  },
  {
   "cell_type": "code",
   "execution_count": 21,
   "metadata": {},
   "outputs": [
    {
     "data": {
      "text/plain": [
       "['models/rf_subset_airports_airlines_12.04.2018.joblib']"
      ]
     },
     "execution_count": 21,
     "metadata": {},
     "output_type": "execute_result"
    }
   ],
   "source": [
    "savedir = 'models'\n",
    "joblib.dump(grid_rf.best_estimator_, f'{savedir}/rf_subset_airports_airlines_12.04.2018.joblib',compress=9)"
   ]
  },
  {
   "cell_type": "code",
   "execution_count": 221,
   "metadata": {},
   "outputs": [
    {
     "data": {
      "text/plain": [
       "[('PropertyDamage', 14.80457116992758),\n",
       " ('Checked Baggage', 13.94616011307361),\n",
       " ('Computer&Accessories', 8.410017501846227),\n",
       " ('Jewelry&Watches', 5.663559364740651),\n",
       " ('days_waited_to_file_claim', 5.5206834680435675),\n",
       " ('Other', 4.464489824679669),\n",
       " ('Clothing', 4.4385487892889985),\n",
       " ('Cameras', 3.8674810023065485),\n",
       " ('Locks', 3.332997505939351),\n",
       " ('TravelAccessories', 3.080187885886824),\n",
       " ('Baggage/Cases/Purses', 2.7784295482581407),\n",
       " ('Cosmetics&Grooming', 2.7332875936039667),\n",
       " ('Checkpoint', 2.6733375875272127),\n",
       " ('LAS', 1.630675188861261),\n",
       " ('PropertyLoss', 1.284444392580773),\n",
       " ('PersonalElectronics', 1.1956155712803254),\n",
       " ('Watches', 1.1607889153218092),\n",
       " ('Alcoholicbeverages', 1.0889182128186303),\n",
       " ('EWR', 1.02832627650266),\n",
       " ('MP3Players-(iPods,etc)', 1.0056720621479067),\n",
       " ('Toys&Games', 1.0014493720052677),\n",
       " ('GPS', 0.9040522430295685),\n",
       " ('Handbags&Purses', 0.8758478929837927),\n",
       " ('Currency', 0.8754906347139596),\n",
       " ('JFK', 0.8667092021650332),\n",
       " ('AutomobileParts&Accessories', 0.8305158003977927),\n",
       " ('Luggage', 0.7464450452639323),\n",
       " ('SEA', 0.6875937805099689),\n",
       " ('Alaska Airlines', 0.5501569184792876),\n",
       " ('MIA', 0.405967418534085),\n",
       " ('5', 0.4022997635605024),\n",
       " ('PersonalAccessories', 0.3205036685757815),\n",
       " ('CellPhones', 0.3147112765801941),\n",
       " ('DEN', 0.30956857581422614),\n",
       " ('Delta Air Lines', 0.30388705886929296),\n",
       " ('Baby', 0.2962624693650478),\n",
       " ('Northwest Airlines', 0.26777838896375755),\n",
       " ('Jet Blue', 0.26661045053504645),\n",
       " ('10', 0.23017597478122293),\n",
       " ('American Airlines', 0.2281721258596703),\n",
       " ('MSY', 0.20293607939377165),\n",
       " ('Eyeglasses', 0.19757308411606625),\n",
       " ('BWI', 0.1844440080649314),\n",
       " ('DTW', 0.17872713085357872),\n",
       " ('UAL', 0.17849244527810856),\n",
       " ('MDW', 0.17433235219512844),\n",
       " ('Southwest Airlines', 0.15746475540701543),\n",
       " ('OAK', 0.15354881732635184),\n",
       " ('Continental Airlines', 0.14857449115112342),\n",
       " ('SJC', 0.1480821288984366),\n",
       " ('AUS', 0.1444849444464731),\n",
       " ('Food&Drink', 0.14358947166692534),\n",
       " ('6', 0.14286732847405104),\n",
       " ('PHX', 0.14105072799028487),\n",
       " ('Dishes,Pottery,Glassware,Plasticware', 0.13847096947648768),\n",
       " ('ATL', 0.1357330345519834),\n",
       " ('MCO', 0.12760652910875464),\n",
       " ('Tools&HomeImprovementSupplies', 0.10853960031680784),\n",
       " ('SportingEquipment&Supplies', 0.10795454080687328),\n",
       " ('8', 0.10580587185393181),\n",
       " ('-', 0.10549698288969481),\n",
       " ('PaintingsandPictures', 0.09993665884788691),\n",
       " ('BNA', 0.09895779322219671),\n",
       " ('SAN', 0.08714172604651857),\n",
       " ('Bags', 0.08504780984733366),\n",
       " ('2', 0.07740798301631754),\n",
       " ('Boxes', 0.07194563340978007),\n",
       " ('FLL', 0.07151820604071163),\n",
       " ('USAir', 0.06809160592064109),\n",
       " ('Frontier Airlines', 0.06744002339000069),\n",
       " ('9', 0.06533166119008268),\n",
       " ('CLT', 0.06294170084478783),\n",
       " ('1', 0.06186446979033608),\n",
       " ('LAX', 0.0609865546498433),\n",
       " ('12', 0.05810770323429737),\n",
       " ('4', 0.057107308705071184),\n",
       " ('STL', 0.054158172864055325),\n",
       " ('11', 0.052322608087863876),\n",
       " ('MusicalInstruments&Accessories', 0.05166335610192842),\n",
       " ('Fish/Game', 0.04696560505047571),\n",
       " ('VideoRecordings', 0.043322718646100426),\n",
       " ('British Airways', 0.04246629382365774),\n",
       " ('ORD', 0.040740135052077575),\n",
       " ('RDU', 0.040550280460075874),\n",
       " ('KitchenUtensils', 0.03880771414746899),\n",
       " ('Lighters', 0.03729801803871554),\n",
       " ('Medicines', 0.036000779873982),\n",
       " ('3', 0.03581933718764898),\n",
       " ('IAD', 0.03503748284341712),\n",
       " ('Hunting&Fishing', 0.03491393539996866),\n",
       " ('KnickKnacks', 0.03261528648080345),\n",
       " ('PhotographicFilm', 0.03115346639989489),\n",
       " ('StereoItems&Accessories', 0.029852707090597872),\n",
       " ('Bicycles', 0.028814518203857557),\n",
       " ('-', 0.025224009520535346),\n",
       " ('IAH', 0.024100349880206953),\n",
       " ('PHL', 0.023691742856313446),\n",
       " ('Clocks', 0.02307703400297678),\n",
       " ('HomeDecor', 0.01994753128672475),\n",
       " ('DFW', 0.017955184535537738),\n",
       " ('BarberSupplies', 0.015965860929219255),\n",
       " ('7', 0.013520784775786982),\n",
       " ('PDX', 0.01286880734287598),\n",
       " ('AirTran Airlines', 0.012382106095090538),\n",
       " ('Audio/Video', 0.01072383538714231),\n",
       " ('Flashlights', 0.010707585520665442),\n",
       " ('Books', 0.009380495451635015),\n",
       " ('BOS', 0.009247001823702255),\n",
       " ('ToolChests&ToolBoxes', 0.006519412833140388),\n",
       " ('HouseholdItems', 0.00583176179845174),\n",
       " ('ProfessionalEquipment', 0.004801613526440189),\n",
       " ('DVD/CDPlayers', 0.004533711315486365),\n",
       " ('Spirit Airlines', 0.003992632802231836),\n",
       " ('SLC', 0.0033243620258206863),\n",
       " ('MSP', 0.0031677538626178493),\n",
       " ('Medical/Science', 0.0030735187678410875),\n",
       " ('ElectricalandGasAppliancesMinor', 0.003052118139183521),\n",
       " ('Briefcases', 0.0024856261008926943),\n",
       " ('DCA', 0.0023011555966135403),\n",
       " ('Sunglasses', 0.0022152789130875524),\n",
       " ('PDA', 0.0014141411115009565),\n",
       " ('DAL', 0.0),\n",
       " ('HNL', 0.0),\n",
       " ('HOU', 0.0),\n",
       " ('LGA', 0.0),\n",
       " ('TPA', 0.0),\n",
       " ('', 0.0),\n",
       " ('Artificialflowers&Fruits', 0.0),\n",
       " ('BarbequeGrills', 0.0),\n",
       " ('Baskets', 0.0),\n",
       " ('Batteries', 0.0),\n",
       " ('Bedding', 0.0),\n",
       " ('Binoculars', 0.0),\n",
       " ('BoatingEquiment&supplies', 0.0),\n",
       " ('Books,Magazines&Other', 0.0),\n",
       " ('Brushes', 0.0),\n",
       " ('Calculators', 0.0),\n",
       " ('CampingEquipment&Supplies', 0.0),\n",
       " ('Candles', 0.0),\n",
       " ('Cards', 0.0),\n",
       " ('Ceramics', 0.0),\n",
       " ('Compasses', 0.0),\n",
       " ('Computerperipherals', 0.0),\n",
       " ('Crafting&Hobby', 0.0),\n",
       " ('Curtains', 0.0),\n",
       " ('Decorations', 0.0),\n",
       " ('DentalEquipmentandInstruments', 0.0),\n",
       " ('DeskandWritingEquipment', 0.0),\n",
       " ('Dolls', 0.0),\n",
       " ('Drafting,Mapping,andSketchingEquipment', 0.0),\n",
       " ('Drapes', 0.0),\n",
       " ('Firearms', 0.0),\n",
       " ('FishingItems', 0.0),\n",
       " ('Furniture', 0.0),\n",
       " ('Furs', 0.0),\n",
       " ('GameEquipment', 0.0),\n",
       " ('GardenEquipment', 0.0),\n",
       " ('HearingAids', 0.0),\n",
       " ('HouseKeepingItems', 0.0),\n",
       " ('Incidentals', 0.0),\n",
       " ('Lamps', 0.0),\n",
       " ('Lampshade', 0.0),\n",
       " ('LightingSupplies', 0.0),\n",
       " ('Linens', 0.0),\n",
       " ('Material', 0.0),\n",
       " ('MedicalEquipment&Insturments', 0.0),\n",
       " ('Microscopes&Telescopes', 0.0),\n",
       " ('Mirrors', 0.0),\n",
       " ('OfficeEquipment&Supplies', 0.0),\n",
       " ('OfficeFurnishings', 0.0),\n",
       " ('OutdoorItems', 0.0),\n",
       " ('OutdoorStructures', 0.0),\n",
       " ('PersonalDocuments', 0.0),\n",
       " ('PersonalNavigation', 0.0),\n",
       " ('PetSupplies', 0.0),\n",
       " ('Posters', 0.0),\n",
       " ('Purses', 0.0),\n",
       " ('Razors', 0.0),\n",
       " ('Rugs', 0.0),\n",
       " ('Scissors,Shears', 0.0),\n",
       " ('SewingMachines', 0.0),\n",
       " ('Silverplate,Goldplate,Pewter,StainlessSteel,Copperware,Bronzeware', 0.0),\n",
       " ('Stationery', 0.0),\n",
       " ('StuffedAnimals', 0.0),\n",
       " ('Supplies', 0.0),\n",
       " ('TVTrays', 0.0),\n",
       " ('TaxidermyItems', 0.0),\n",
       " ('Telephones,AnsweringMachines,TelecommunicationfortheDeaf', 0.0),\n",
       " ('Typewriters', 0.0),\n",
       " ('Umbrellas', 0.0),\n",
       " ('WeddingGowns', 0.0),\n",
       " ('Wigs', 0.0)]"
      ]
     },
     "execution_count": 221,
     "metadata": {},
     "output_type": "execute_result"
    }
   ],
   "source": [
    "values"
   ]
  },
  {
   "cell_type": "markdown",
   "metadata": {},
   "source": [
    "# Create Lists to use in Web App"
   ]
  },
  {
   "cell_type": "code",
   "execution_count": 93,
   "metadata": {},
   "outputs": [
    {
     "data": {
      "text/plain": [
       "['./web_app/featurelists/item_category.joblib']"
      ]
     },
     "execution_count": 93,
     "metadata": {},
     "output_type": "execute_result"
    }
   ],
   "source": [
    "import joblib\n",
    "\n",
    "itemlist = None\n",
    "flat_list = None\n",
    "flat_list2 = None\n",
    "\n",
    "itemlist = []\n",
    "X_small_df['item_category'].str.split(';').map(lambda x: itemlist.append(x) if x is not np.nan else 0)\n",
    "flat_list = [item for sublist in itemlist for item in sublist]\n",
    "\n",
    "flat_list2 = [item.strip() for item in flat_list]\n",
    "\n",
    "featuredirs = './web_app/featurelists'\n",
    "airports = X_small_df.airport_code.unique().tolist()\n",
    "airlines = sorted(X_small_df.airline.unique().tolist())[1:]\n",
    "claim_types = X_small_df.claim_type.unique().tolist()\n",
    "claim_sites = X_small_df.claim_site.unique().tolist()\n",
    "item_cats = sorted(list(set(flat_list2)))[2:]\n",
    "\n",
    "joblib.dump(airports, f'{featuredirs}/airports.joblib')\n",
    "joblib.dump(airlines, f'{featuredirs}/airlines.joblib')\n",
    "joblib.dump(claim_types, f'{featuredirs}/claim_types.joblib')\n",
    "joblib.dump(claim_sites, f'{featuredirs}/claim_sites.joblib')\n",
    "joblib.dump(item_cats, f'{featuredirs}/item_category.joblib')"
   ]
  },
  {
   "cell_type": "code",
   "execution_count": null,
   "metadata": {},
   "outputs": [],
   "source": []
  },
  {
   "cell_type": "code",
   "execution_count": 96,
   "metadata": {},
   "outputs": [
    {
     "data": {
      "text/plain": [
       "['./models/catboost_best_12.05_feature_importance_list']"
      ]
     },
     "execution_count": 96,
     "metadata": {},
     "output_type": "execute_result"
    }
   ],
   "source": [
    "feat_names = list(enc.categories_[0]) + list(enc.categories_[1]) + list(enc.categories_[2]) + list(enc.categories_[3]) + list(enc.categories_[4])+ list(X_small_df[continuous].columns) + list(mlb.classes_)\n",
    "\n",
    "values = sorted(zip(feat_names, cat_clf.best_estimator_.feature_importances_), key=lambda x: x[1] * -1)\n",
    "\n",
    "joblib.dump(values, './models/catboost_best_12.05_feature_importance_list')"
   ]
  },
  {
   "cell_type": "code",
   "execution_count": 102,
   "metadata": {},
   "outputs": [],
   "source": [
    "feat_names = list(enc.categories_[0]) + list(enc.categories_[1]) + list(enc.categories_[2]) + list(enc.categories_[3]) + list(enc.categories_[4])+ list(X_small_df[continuous].columns) + list(mlb.classes_)\n",
    "\n",
    "values = sorted(zip(feat_names, grid_rf.best_estimator_.feature_importances_), key=lambda x: x[1] * -1)\n",
    "\n",
    "joblib.dump(values, './models/rf_12.04_feature_importance_list')"
   ]
  },
  {
   "cell_type": "code",
   "execution_count": 18,
   "metadata": {},
   "outputs": [
    {
     "name": "stdout",
     "output_type": "stream",
     "text": [
      "0.6839737567441151\n",
      "0.5794886547601418\n",
      "CPU times: user 1min 48s, sys: 414 ms, total: 1min 48s\n",
      "Wall time: 8min 13s\n"
     ]
    }
   ],
   "source": [
    "%%time\n",
    "gbclf = GradientBoostingClassifier(random_state=42)\n",
    "\n",
    "n_ests = [300]\n",
    "m_depths = [5, 10, 15]\n",
    "learning_rates = [0.05, 0.1, 0.15]\n",
    "param_grid = dict()#n_estimators=n_ests, max_depth=m_depths, learning_rate = learning_rates)\n",
    "\n",
    "gb = GridSearchCV(gbclf, param_grid, scoring='roc_auc', cv=6, n_jobs=5)\n",
    "\n",
    "gb.fit(X_train, y_train)\n",
    "\n",
    "print(gb.best_score_)\n",
    "# print(grid_rf.best_params_)\n",
    "# print(grid_rf.best_estimator_)\n",
    "\n",
    "y_pred = gb.predict(X_test)\n",
    "print(roc_auc_score(y_test, y_pred))\n",
    "\n",
    "savedir = 'models'\n",
    "joblib.dump(gb.best_estimator_, f'{savedir}/gradboost_12.04.2018.joblib',compress=9)"
   ]
  },
  {
   "cell_type": "code",
   "execution_count": 126,
   "metadata": {},
   "outputs": [
    {
     "name": "stderr",
     "output_type": "stream",
     "text": [
      "/home/spencer/anaconda3/lib/python3.6/site-packages/sklearn/linear_model/sag.py:334: ConvergenceWarning: The max_iter was reached which means the coef_ did not converge\n",
      "  \"the coef_ did not converge\", ConvergenceWarning)\n",
      "/home/spencer/anaconda3/lib/python3.6/site-packages/sklearn/linear_model/sag.py:334: ConvergenceWarning: The max_iter was reached which means the coef_ did not converge\n",
      "  \"the coef_ did not converge\", ConvergenceWarning)\n",
      "/home/spencer/anaconda3/lib/python3.6/site-packages/sklearn/linear_model/sag.py:334: ConvergenceWarning: The max_iter was reached which means the coef_ did not converge\n",
      "  \"the coef_ did not converge\", ConvergenceWarning)\n",
      "/home/spencer/anaconda3/lib/python3.6/site-packages/sklearn/linear_model/sag.py:334: ConvergenceWarning: The max_iter was reached which means the coef_ did not converge\n",
      "  \"the coef_ did not converge\", ConvergenceWarning)\n",
      "/home/spencer/anaconda3/lib/python3.6/site-packages/sklearn/linear_model/sag.py:334: ConvergenceWarning: The max_iter was reached which means the coef_ did not converge\n",
      "  \"the coef_ did not converge\", ConvergenceWarning)\n",
      "/home/spencer/anaconda3/lib/python3.6/site-packages/sklearn/linear_model/sag.py:334: ConvergenceWarning: The max_iter was reached which means the coef_ did not converge\n",
      "  \"the coef_ did not converge\", ConvergenceWarning)\n",
      "/home/spencer/anaconda3/lib/python3.6/site-packages/sklearn/linear_model/sag.py:334: ConvergenceWarning: The max_iter was reached which means the coef_ did not converge\n",
      "  \"the coef_ did not converge\", ConvergenceWarning)\n",
      "/home/spencer/anaconda3/lib/python3.6/site-packages/sklearn/linear_model/sag.py:334: ConvergenceWarning: The max_iter was reached which means the coef_ did not converge\n",
      "  \"the coef_ did not converge\", ConvergenceWarning)\n",
      "/home/spencer/anaconda3/lib/python3.6/site-packages/sklearn/linear_model/sag.py:334: ConvergenceWarning: The max_iter was reached which means the coef_ did not converge\n",
      "  \"the coef_ did not converge\", ConvergenceWarning)\n",
      "/home/spencer/anaconda3/lib/python3.6/site-packages/sklearn/linear_model/sag.py:334: ConvergenceWarning: The max_iter was reached which means the coef_ did not converge\n",
      "  \"the coef_ did not converge\", ConvergenceWarning)\n",
      "/home/spencer/anaconda3/lib/python3.6/site-packages/sklearn/linear_model/sag.py:334: ConvergenceWarning: The max_iter was reached which means the coef_ did not converge\n",
      "  \"the coef_ did not converge\", ConvergenceWarning)\n",
      "/home/spencer/anaconda3/lib/python3.6/site-packages/sklearn/linear_model/sag.py:334: ConvergenceWarning: The max_iter was reached which means the coef_ did not converge\n",
      "  \"the coef_ did not converge\", ConvergenceWarning)\n",
      "/home/spencer/anaconda3/lib/python3.6/site-packages/sklearn/linear_model/sag.py:334: ConvergenceWarning: The max_iter was reached which means the coef_ did not converge\n",
      "  \"the coef_ did not converge\", ConvergenceWarning)\n",
      "/home/spencer/anaconda3/lib/python3.6/site-packages/sklearn/linear_model/sag.py:334: ConvergenceWarning: The max_iter was reached which means the coef_ did not converge\n",
      "  \"the coef_ did not converge\", ConvergenceWarning)\n",
      "/home/spencer/anaconda3/lib/python3.6/site-packages/sklearn/linear_model/sag.py:334: ConvergenceWarning: The max_iter was reached which means the coef_ did not converge\n",
      "  \"the coef_ did not converge\", ConvergenceWarning)\n",
      "/home/spencer/anaconda3/lib/python3.6/site-packages/sklearn/linear_model/sag.py:334: ConvergenceWarning: The max_iter was reached which means the coef_ did not converge\n",
      "  \"the coef_ did not converge\", ConvergenceWarning)\n",
      "/home/spencer/anaconda3/lib/python3.6/site-packages/sklearn/linear_model/sag.py:334: ConvergenceWarning: The max_iter was reached which means the coef_ did not converge\n",
      "  \"the coef_ did not converge\", ConvergenceWarning)\n",
      "/home/spencer/anaconda3/lib/python3.6/site-packages/sklearn/linear_model/sag.py:334: ConvergenceWarning: The max_iter was reached which means the coef_ did not converge\n",
      "  \"the coef_ did not converge\", ConvergenceWarning)\n",
      "/home/spencer/anaconda3/lib/python3.6/site-packages/sklearn/linear_model/sag.py:334: ConvergenceWarning: The max_iter was reached which means the coef_ did not converge\n",
      "  \"the coef_ did not converge\", ConvergenceWarning)\n",
      "/home/spencer/anaconda3/lib/python3.6/site-packages/sklearn/linear_model/sag.py:334: ConvergenceWarning: The max_iter was reached which means the coef_ did not converge\n",
      "  \"the coef_ did not converge\", ConvergenceWarning)\n",
      "/home/spencer/anaconda3/lib/python3.6/site-packages/sklearn/linear_model/sag.py:334: ConvergenceWarning: The max_iter was reached which means the coef_ did not converge\n",
      "  \"the coef_ did not converge\", ConvergenceWarning)\n",
      "/home/spencer/anaconda3/lib/python3.6/site-packages/sklearn/linear_model/sag.py:334: ConvergenceWarning: The max_iter was reached which means the coef_ did not converge\n",
      "  \"the coef_ did not converge\", ConvergenceWarning)\n",
      "/home/spencer/anaconda3/lib/python3.6/site-packages/sklearn/linear_model/sag.py:334: ConvergenceWarning: The max_iter was reached which means the coef_ did not converge\n",
      "  \"the coef_ did not converge\", ConvergenceWarning)\n",
      "/home/spencer/anaconda3/lib/python3.6/site-packages/sklearn/linear_model/sag.py:334: ConvergenceWarning: The max_iter was reached which means the coef_ did not converge\n",
      "  \"the coef_ did not converge\", ConvergenceWarning)\n",
      "/home/spencer/anaconda3/lib/python3.6/site-packages/sklearn/linear_model/logistic.py:757: ConvergenceWarning: lbfgs failed to converge. Increase the number of iterations.\n",
      "  \"of iterations.\", ConvergenceWarning)\n",
      "/home/spencer/anaconda3/lib/python3.6/site-packages/sklearn/linear_model/logistic.py:757: ConvergenceWarning: lbfgs failed to converge. Increase the number of iterations.\n",
      "  \"of iterations.\", ConvergenceWarning)\n",
      "/home/spencer/anaconda3/lib/python3.6/site-packages/sklearn/linear_model/logistic.py:757: ConvergenceWarning: lbfgs failed to converge. Increase the number of iterations.\n",
      "  \"of iterations.\", ConvergenceWarning)\n",
      "/home/spencer/anaconda3/lib/python3.6/site-packages/sklearn/linear_model/logistic.py:757: ConvergenceWarning: lbfgs failed to converge. Increase the number of iterations.\n",
      "  \"of iterations.\", ConvergenceWarning)\n",
      "/home/spencer/anaconda3/lib/python3.6/site-packages/sklearn/linear_model/logistic.py:757: ConvergenceWarning: lbfgs failed to converge. Increase the number of iterations.\n",
      "  \"of iterations.\", ConvergenceWarning)\n",
      "/home/spencer/anaconda3/lib/python3.6/site-packages/sklearn/linear_model/logistic.py:757: ConvergenceWarning: lbfgs failed to converge. Increase the number of iterations.\n",
      "  \"of iterations.\", ConvergenceWarning)\n",
      "/home/spencer/anaconda3/lib/python3.6/site-packages/sklearn/linear_model/logistic.py:757: ConvergenceWarning: lbfgs failed to converge. Increase the number of iterations.\n",
      "  \"of iterations.\", ConvergenceWarning)\n",
      "/home/spencer/anaconda3/lib/python3.6/site-packages/sklearn/linear_model/logistic.py:757: ConvergenceWarning: lbfgs failed to converge. Increase the number of iterations.\n",
      "  \"of iterations.\", ConvergenceWarning)\n",
      "/home/spencer/anaconda3/lib/python3.6/site-packages/sklearn/linear_model/logistic.py:757: ConvergenceWarning: lbfgs failed to converge. Increase the number of iterations.\n",
      "  \"of iterations.\", ConvergenceWarning)\n",
      "/home/spencer/anaconda3/lib/python3.6/site-packages/sklearn/linear_model/logistic.py:757: ConvergenceWarning: lbfgs failed to converge. Increase the number of iterations.\n",
      "  \"of iterations.\", ConvergenceWarning)\n",
      "/home/spencer/anaconda3/lib/python3.6/site-packages/sklearn/linear_model/logistic.py:757: ConvergenceWarning: lbfgs failed to converge. Increase the number of iterations.\n",
      "  \"of iterations.\", ConvergenceWarning)\n",
      "/home/spencer/anaconda3/lib/python3.6/site-packages/sklearn/linear_model/logistic.py:757: ConvergenceWarning: lbfgs failed to converge. Increase the number of iterations.\n",
      "  \"of iterations.\", ConvergenceWarning)\n",
      "/home/spencer/anaconda3/lib/python3.6/site-packages/sklearn/linear_model/logistic.py:757: ConvergenceWarning: lbfgs failed to converge. Increase the number of iterations.\n",
      "  \"of iterations.\", ConvergenceWarning)\n",
      "/home/spencer/anaconda3/lib/python3.6/site-packages/sklearn/linear_model/logistic.py:757: ConvergenceWarning: lbfgs failed to converge. Increase the number of iterations.\n",
      "  \"of iterations.\", ConvergenceWarning)\n",
      "/home/spencer/anaconda3/lib/python3.6/site-packages/sklearn/linear_model/logistic.py:757: ConvergenceWarning: lbfgs failed to converge. Increase the number of iterations.\n",
      "  \"of iterations.\", ConvergenceWarning)\n",
      "/home/spencer/anaconda3/lib/python3.6/site-packages/sklearn/linear_model/logistic.py:757: ConvergenceWarning: lbfgs failed to converge. Increase the number of iterations.\n",
      "  \"of iterations.\", ConvergenceWarning)\n",
      "/home/spencer/anaconda3/lib/python3.6/site-packages/sklearn/linear_model/logistic.py:757: ConvergenceWarning: lbfgs failed to converge. Increase the number of iterations.\n",
      "  \"of iterations.\", ConvergenceWarning)\n",
      "/home/spencer/anaconda3/lib/python3.6/site-packages/sklearn/linear_model/logistic.py:757: ConvergenceWarning: lbfgs failed to converge. Increase the number of iterations.\n",
      "  \"of iterations.\", ConvergenceWarning)\n",
      "/home/spencer/anaconda3/lib/python3.6/site-packages/sklearn/linear_model/logistic.py:757: ConvergenceWarning: lbfgs failed to converge. Increase the number of iterations.\n",
      "  \"of iterations.\", ConvergenceWarning)\n",
      "/home/spencer/anaconda3/lib/python3.6/site-packages/sklearn/linear_model/logistic.py:757: ConvergenceWarning: lbfgs failed to converge. Increase the number of iterations.\n",
      "  \"of iterations.\", ConvergenceWarning)\n",
      "/home/spencer/anaconda3/lib/python3.6/site-packages/sklearn/linear_model/logistic.py:757: ConvergenceWarning: lbfgs failed to converge. Increase the number of iterations.\n",
      "  \"of iterations.\", ConvergenceWarning)\n",
      "/home/spencer/anaconda3/lib/python3.6/site-packages/sklearn/linear_model/logistic.py:757: ConvergenceWarning: lbfgs failed to converge. Increase the number of iterations.\n",
      "  \"of iterations.\", ConvergenceWarning)\n",
      "/home/spencer/anaconda3/lib/python3.6/site-packages/sklearn/linear_model/logistic.py:757: ConvergenceWarning: lbfgs failed to converge. Increase the number of iterations.\n",
      "  \"of iterations.\", ConvergenceWarning)\n",
      "/home/spencer/anaconda3/lib/python3.6/site-packages/sklearn/linear_model/logistic.py:757: ConvergenceWarning: lbfgs failed to converge. Increase the number of iterations.\n",
      "  \"of iterations.\", ConvergenceWarning)\n",
      "/home/spencer/anaconda3/lib/python3.6/site-packages/sklearn/linear_model/sag.py:334: ConvergenceWarning: The max_iter was reached which means the coef_ did not converge\n",
      "  \"the coef_ did not converge\", ConvergenceWarning)\n",
      "/home/spencer/anaconda3/lib/python3.6/site-packages/sklearn/linear_model/sag.py:334: ConvergenceWarning: The max_iter was reached which means the coef_ did not converge\n",
      "  \"the coef_ did not converge\", ConvergenceWarning)\n",
      "/home/spencer/anaconda3/lib/python3.6/site-packages/sklearn/linear_model/sag.py:334: ConvergenceWarning: The max_iter was reached which means the coef_ did not converge\n",
      "  \"the coef_ did not converge\", ConvergenceWarning)\n",
      "/home/spencer/anaconda3/lib/python3.6/site-packages/sklearn/linear_model/sag.py:334: ConvergenceWarning: The max_iter was reached which means the coef_ did not converge\n",
      "  \"the coef_ did not converge\", ConvergenceWarning)\n",
      "/home/spencer/anaconda3/lib/python3.6/site-packages/sklearn/linear_model/sag.py:334: ConvergenceWarning: The max_iter was reached which means the coef_ did not converge\n",
      "  \"the coef_ did not converge\", ConvergenceWarning)\n",
      "/home/spencer/anaconda3/lib/python3.6/site-packages/sklearn/linear_model/sag.py:334: ConvergenceWarning: The max_iter was reached which means the coef_ did not converge\n",
      "  \"the coef_ did not converge\", ConvergenceWarning)\n",
      "/home/spencer/anaconda3/lib/python3.6/site-packages/sklearn/linear_model/sag.py:334: ConvergenceWarning: The max_iter was reached which means the coef_ did not converge\n",
      "  \"the coef_ did not converge\", ConvergenceWarning)\n",
      "/home/spencer/anaconda3/lib/python3.6/site-packages/sklearn/linear_model/sag.py:334: ConvergenceWarning: The max_iter was reached which means the coef_ did not converge\n",
      "  \"the coef_ did not converge\", ConvergenceWarning)\n",
      "/home/spencer/anaconda3/lib/python3.6/site-packages/sklearn/linear_model/sag.py:334: ConvergenceWarning: The max_iter was reached which means the coef_ did not converge\n",
      "  \"the coef_ did not converge\", ConvergenceWarning)\n",
      "/home/spencer/anaconda3/lib/python3.6/site-packages/sklearn/linear_model/sag.py:334: ConvergenceWarning: The max_iter was reached which means the coef_ did not converge\n",
      "  \"the coef_ did not converge\", ConvergenceWarning)\n",
      "/home/spencer/anaconda3/lib/python3.6/site-packages/sklearn/linear_model/sag.py:334: ConvergenceWarning: The max_iter was reached which means the coef_ did not converge\n",
      "  \"the coef_ did not converge\", ConvergenceWarning)\n",
      "/home/spencer/anaconda3/lib/python3.6/site-packages/sklearn/linear_model/sag.py:334: ConvergenceWarning: The max_iter was reached which means the coef_ did not converge\n",
      "  \"the coef_ did not converge\", ConvergenceWarning)\n",
      "/home/spencer/anaconda3/lib/python3.6/site-packages/sklearn/linear_model/sag.py:334: ConvergenceWarning: The max_iter was reached which means the coef_ did not converge\n",
      "  \"the coef_ did not converge\", ConvergenceWarning)\n",
      "/home/spencer/anaconda3/lib/python3.6/site-packages/sklearn/linear_model/sag.py:334: ConvergenceWarning: The max_iter was reached which means the coef_ did not converge\n",
      "  \"the coef_ did not converge\", ConvergenceWarning)\n",
      "/home/spencer/anaconda3/lib/python3.6/site-packages/sklearn/linear_model/sag.py:334: ConvergenceWarning: The max_iter was reached which means the coef_ did not converge\n",
      "  \"the coef_ did not converge\", ConvergenceWarning)\n",
      "/home/spencer/anaconda3/lib/python3.6/site-packages/sklearn/linear_model/sag.py:334: ConvergenceWarning: The max_iter was reached which means the coef_ did not converge\n",
      "  \"the coef_ did not converge\", ConvergenceWarning)\n",
      "/home/spencer/anaconda3/lib/python3.6/site-packages/sklearn/linear_model/sag.py:334: ConvergenceWarning: The max_iter was reached which means the coef_ did not converge\n",
      "  \"the coef_ did not converge\", ConvergenceWarning)\n",
      "/home/spencer/anaconda3/lib/python3.6/site-packages/sklearn/linear_model/sag.py:334: ConvergenceWarning: The max_iter was reached which means the coef_ did not converge\n",
      "  \"the coef_ did not converge\", ConvergenceWarning)\n",
      "/home/spencer/anaconda3/lib/python3.6/site-packages/sklearn/linear_model/sag.py:334: ConvergenceWarning: The max_iter was reached which means the coef_ did not converge\n",
      "  \"the coef_ did not converge\", ConvergenceWarning)\n",
      "/home/spencer/anaconda3/lib/python3.6/site-packages/sklearn/linear_model/sag.py:334: ConvergenceWarning: The max_iter was reached which means the coef_ did not converge\n",
      "  \"the coef_ did not converge\", ConvergenceWarning)\n",
      "/home/spencer/anaconda3/lib/python3.6/site-packages/sklearn/linear_model/sag.py:334: ConvergenceWarning: The max_iter was reached which means the coef_ did not converge\n",
      "  \"the coef_ did not converge\", ConvergenceWarning)\n",
      "/home/spencer/anaconda3/lib/python3.6/site-packages/sklearn/linear_model/sag.py:334: ConvergenceWarning: The max_iter was reached which means the coef_ did not converge\n",
      "  \"the coef_ did not converge\", ConvergenceWarning)\n",
      "/home/spencer/anaconda3/lib/python3.6/site-packages/sklearn/linear_model/sag.py:334: ConvergenceWarning: The max_iter was reached which means the coef_ did not converge\n",
      "  \"the coef_ did not converge\", ConvergenceWarning)\n",
      "/home/spencer/anaconda3/lib/python3.6/site-packages/sklearn/linear_model/sag.py:334: ConvergenceWarning: The max_iter was reached which means the coef_ did not converge\n",
      "  \"the coef_ did not converge\", ConvergenceWarning)\n",
      "/home/spencer/anaconda3/lib/python3.6/site-packages/sklearn/linear_model/logistic.py:757: ConvergenceWarning: lbfgs failed to converge. Increase the number of iterations.\n",
      "  \"of iterations.\", ConvergenceWarning)\n",
      "/home/spencer/anaconda3/lib/python3.6/site-packages/sklearn/linear_model/logistic.py:757: ConvergenceWarning: lbfgs failed to converge. Increase the number of iterations.\n",
      "  \"of iterations.\", ConvergenceWarning)\n",
      "/home/spencer/anaconda3/lib/python3.6/site-packages/sklearn/linear_model/logistic.py:757: ConvergenceWarning: lbfgs failed to converge. Increase the number of iterations.\n",
      "  \"of iterations.\", ConvergenceWarning)\n",
      "/home/spencer/anaconda3/lib/python3.6/site-packages/sklearn/linear_model/logistic.py:757: ConvergenceWarning: lbfgs failed to converge. Increase the number of iterations.\n",
      "  \"of iterations.\", ConvergenceWarning)\n",
      "/home/spencer/anaconda3/lib/python3.6/site-packages/sklearn/linear_model/logistic.py:757: ConvergenceWarning: lbfgs failed to converge. Increase the number of iterations.\n",
      "  \"of iterations.\", ConvergenceWarning)\n",
      "/home/spencer/anaconda3/lib/python3.6/site-packages/sklearn/linear_model/logistic.py:757: ConvergenceWarning: lbfgs failed to converge. Increase the number of iterations.\n",
      "  \"of iterations.\", ConvergenceWarning)\n",
      "/home/spencer/anaconda3/lib/python3.6/site-packages/sklearn/linear_model/logistic.py:757: ConvergenceWarning: lbfgs failed to converge. Increase the number of iterations.\n",
      "  \"of iterations.\", ConvergenceWarning)\n",
      "/home/spencer/anaconda3/lib/python3.6/site-packages/sklearn/linear_model/logistic.py:757: ConvergenceWarning: lbfgs failed to converge. Increase the number of iterations.\n",
      "  \"of iterations.\", ConvergenceWarning)\n",
      "/home/spencer/anaconda3/lib/python3.6/site-packages/sklearn/linear_model/logistic.py:757: ConvergenceWarning: lbfgs failed to converge. Increase the number of iterations.\n",
      "  \"of iterations.\", ConvergenceWarning)\n",
      "/home/spencer/anaconda3/lib/python3.6/site-packages/sklearn/linear_model/logistic.py:757: ConvergenceWarning: lbfgs failed to converge. Increase the number of iterations.\n",
      "  \"of iterations.\", ConvergenceWarning)\n",
      "/home/spencer/anaconda3/lib/python3.6/site-packages/sklearn/linear_model/logistic.py:757: ConvergenceWarning: lbfgs failed to converge. Increase the number of iterations.\n",
      "  \"of iterations.\", ConvergenceWarning)\n",
      "/home/spencer/anaconda3/lib/python3.6/site-packages/sklearn/linear_model/logistic.py:757: ConvergenceWarning: lbfgs failed to converge. Increase the number of iterations.\n",
      "  \"of iterations.\", ConvergenceWarning)\n",
      "/home/spencer/anaconda3/lib/python3.6/site-packages/sklearn/linear_model/logistic.py:757: ConvergenceWarning: lbfgs failed to converge. Increase the number of iterations.\n",
      "  \"of iterations.\", ConvergenceWarning)\n",
      "/home/spencer/anaconda3/lib/python3.6/site-packages/sklearn/linear_model/logistic.py:757: ConvergenceWarning: lbfgs failed to converge. Increase the number of iterations.\n",
      "  \"of iterations.\", ConvergenceWarning)\n",
      "/home/spencer/anaconda3/lib/python3.6/site-packages/sklearn/linear_model/logistic.py:757: ConvergenceWarning: lbfgs failed to converge. Increase the number of iterations.\n",
      "  \"of iterations.\", ConvergenceWarning)\n",
      "/home/spencer/anaconda3/lib/python3.6/site-packages/sklearn/linear_model/logistic.py:757: ConvergenceWarning: lbfgs failed to converge. Increase the number of iterations.\n",
      "  \"of iterations.\", ConvergenceWarning)\n",
      "/home/spencer/anaconda3/lib/python3.6/site-packages/sklearn/linear_model/logistic.py:757: ConvergenceWarning: lbfgs failed to converge. Increase the number of iterations.\n",
      "  \"of iterations.\", ConvergenceWarning)\n",
      "/home/spencer/anaconda3/lib/python3.6/site-packages/sklearn/linear_model/logistic.py:757: ConvergenceWarning: lbfgs failed to converge. Increase the number of iterations.\n",
      "  \"of iterations.\", ConvergenceWarning)\n",
      "/home/spencer/anaconda3/lib/python3.6/site-packages/sklearn/linear_model/logistic.py:757: ConvergenceWarning: lbfgs failed to converge. Increase the number of iterations.\n",
      "  \"of iterations.\", ConvergenceWarning)\n",
      "/home/spencer/anaconda3/lib/python3.6/site-packages/sklearn/linear_model/logistic.py:757: ConvergenceWarning: lbfgs failed to converge. Increase the number of iterations.\n",
      "  \"of iterations.\", ConvergenceWarning)\n",
      "/home/spencer/anaconda3/lib/python3.6/site-packages/sklearn/linear_model/logistic.py:757: ConvergenceWarning: lbfgs failed to converge. Increase the number of iterations.\n",
      "  \"of iterations.\", ConvergenceWarning)\n",
      "/home/spencer/anaconda3/lib/python3.6/site-packages/sklearn/linear_model/logistic.py:757: ConvergenceWarning: lbfgs failed to converge. Increase the number of iterations.\n",
      "  \"of iterations.\", ConvergenceWarning)\n",
      "/home/spencer/anaconda3/lib/python3.6/site-packages/sklearn/linear_model/logistic.py:757: ConvergenceWarning: lbfgs failed to converge. Increase the number of iterations.\n",
      "  \"of iterations.\", ConvergenceWarning)\n",
      "/home/spencer/anaconda3/lib/python3.6/site-packages/sklearn/linear_model/logistic.py:757: ConvergenceWarning: lbfgs failed to converge. Increase the number of iterations.\n",
      "  \"of iterations.\", ConvergenceWarning)\n",
      "/home/spencer/anaconda3/lib/python3.6/site-packages/sklearn/linear_model/sag.py:334: ConvergenceWarning: The max_iter was reached which means the coef_ did not converge\n",
      "  \"the coef_ did not converge\", ConvergenceWarning)\n",
      "/home/spencer/anaconda3/lib/python3.6/site-packages/sklearn/linear_model/sag.py:334: ConvergenceWarning: The max_iter was reached which means the coef_ did not converge\n",
      "  \"the coef_ did not converge\", ConvergenceWarning)\n",
      "/home/spencer/anaconda3/lib/python3.6/site-packages/sklearn/linear_model/sag.py:334: ConvergenceWarning: The max_iter was reached which means the coef_ did not converge\n",
      "  \"the coef_ did not converge\", ConvergenceWarning)\n",
      "/home/spencer/anaconda3/lib/python3.6/site-packages/sklearn/linear_model/sag.py:334: ConvergenceWarning: The max_iter was reached which means the coef_ did not converge\n",
      "  \"the coef_ did not converge\", ConvergenceWarning)\n",
      "/home/spencer/anaconda3/lib/python3.6/site-packages/sklearn/linear_model/sag.py:334: ConvergenceWarning: The max_iter was reached which means the coef_ did not converge\n",
      "  \"the coef_ did not converge\", ConvergenceWarning)\n",
      "/home/spencer/anaconda3/lib/python3.6/site-packages/sklearn/linear_model/sag.py:334: ConvergenceWarning: The max_iter was reached which means the coef_ did not converge\n",
      "  \"the coef_ did not converge\", ConvergenceWarning)\n",
      "/home/spencer/anaconda3/lib/python3.6/site-packages/sklearn/linear_model/sag.py:334: ConvergenceWarning: The max_iter was reached which means the coef_ did not converge\n",
      "  \"the coef_ did not converge\", ConvergenceWarning)\n",
      "/home/spencer/anaconda3/lib/python3.6/site-packages/sklearn/linear_model/sag.py:334: ConvergenceWarning: The max_iter was reached which means the coef_ did not converge\n",
      "  \"the coef_ did not converge\", ConvergenceWarning)\n",
      "/home/spencer/anaconda3/lib/python3.6/site-packages/sklearn/linear_model/sag.py:334: ConvergenceWarning: The max_iter was reached which means the coef_ did not converge\n",
      "  \"the coef_ did not converge\", ConvergenceWarning)\n",
      "/home/spencer/anaconda3/lib/python3.6/site-packages/sklearn/linear_model/sag.py:334: ConvergenceWarning: The max_iter was reached which means the coef_ did not converge\n",
      "  \"the coef_ did not converge\", ConvergenceWarning)\n",
      "/home/spencer/anaconda3/lib/python3.6/site-packages/sklearn/linear_model/sag.py:334: ConvergenceWarning: The max_iter was reached which means the coef_ did not converge\n",
      "  \"the coef_ did not converge\", ConvergenceWarning)\n",
      "/home/spencer/anaconda3/lib/python3.6/site-packages/sklearn/linear_model/sag.py:334: ConvergenceWarning: The max_iter was reached which means the coef_ did not converge\n",
      "  \"the coef_ did not converge\", ConvergenceWarning)\n",
      "/home/spencer/anaconda3/lib/python3.6/site-packages/sklearn/linear_model/sag.py:334: ConvergenceWarning: The max_iter was reached which means the coef_ did not converge\n",
      "  \"the coef_ did not converge\", ConvergenceWarning)\n",
      "/home/spencer/anaconda3/lib/python3.6/site-packages/sklearn/linear_model/sag.py:334: ConvergenceWarning: The max_iter was reached which means the coef_ did not converge\n",
      "  \"the coef_ did not converge\", ConvergenceWarning)\n",
      "/home/spencer/anaconda3/lib/python3.6/site-packages/sklearn/linear_model/sag.py:334: ConvergenceWarning: The max_iter was reached which means the coef_ did not converge\n",
      "  \"the coef_ did not converge\", ConvergenceWarning)\n",
      "/home/spencer/anaconda3/lib/python3.6/site-packages/sklearn/linear_model/sag.py:334: ConvergenceWarning: The max_iter was reached which means the coef_ did not converge\n",
      "  \"the coef_ did not converge\", ConvergenceWarning)\n",
      "/home/spencer/anaconda3/lib/python3.6/site-packages/sklearn/linear_model/sag.py:334: ConvergenceWarning: The max_iter was reached which means the coef_ did not converge\n",
      "  \"the coef_ did not converge\", ConvergenceWarning)\n",
      "/home/spencer/anaconda3/lib/python3.6/site-packages/sklearn/linear_model/sag.py:334: ConvergenceWarning: The max_iter was reached which means the coef_ did not converge\n",
      "  \"the coef_ did not converge\", ConvergenceWarning)\n",
      "/home/spencer/anaconda3/lib/python3.6/site-packages/sklearn/linear_model/sag.py:334: ConvergenceWarning: The max_iter was reached which means the coef_ did not converge\n",
      "  \"the coef_ did not converge\", ConvergenceWarning)\n",
      "/home/spencer/anaconda3/lib/python3.6/site-packages/sklearn/linear_model/sag.py:334: ConvergenceWarning: The max_iter was reached which means the coef_ did not converge\n",
      "  \"the coef_ did not converge\", ConvergenceWarning)\n",
      "/home/spencer/anaconda3/lib/python3.6/site-packages/sklearn/linear_model/sag.py:334: ConvergenceWarning: The max_iter was reached which means the coef_ did not converge\n",
      "  \"the coef_ did not converge\", ConvergenceWarning)\n",
      "/home/spencer/anaconda3/lib/python3.6/site-packages/sklearn/linear_model/sag.py:334: ConvergenceWarning: The max_iter was reached which means the coef_ did not converge\n",
      "  \"the coef_ did not converge\", ConvergenceWarning)\n",
      "/home/spencer/anaconda3/lib/python3.6/site-packages/sklearn/linear_model/sag.py:334: ConvergenceWarning: The max_iter was reached which means the coef_ did not converge\n",
      "  \"the coef_ did not converge\", ConvergenceWarning)\n",
      "/home/spencer/anaconda3/lib/python3.6/site-packages/sklearn/linear_model/sag.py:334: ConvergenceWarning: The max_iter was reached which means the coef_ did not converge\n",
      "  \"the coef_ did not converge\", ConvergenceWarning)\n",
      "/home/spencer/anaconda3/lib/python3.6/site-packages/sklearn/linear_model/logistic.py:757: ConvergenceWarning: lbfgs failed to converge. Increase the number of iterations.\n",
      "  \"of iterations.\", ConvergenceWarning)\n",
      "/home/spencer/anaconda3/lib/python3.6/site-packages/sklearn/linear_model/logistic.py:757: ConvergenceWarning: lbfgs failed to converge. Increase the number of iterations.\n",
      "  \"of iterations.\", ConvergenceWarning)\n",
      "/home/spencer/anaconda3/lib/python3.6/site-packages/sklearn/linear_model/logistic.py:757: ConvergenceWarning: lbfgs failed to converge. Increase the number of iterations.\n",
      "  \"of iterations.\", ConvergenceWarning)\n",
      "/home/spencer/anaconda3/lib/python3.6/site-packages/sklearn/linear_model/logistic.py:757: ConvergenceWarning: lbfgs failed to converge. Increase the number of iterations.\n",
      "  \"of iterations.\", ConvergenceWarning)\n",
      "/home/spencer/anaconda3/lib/python3.6/site-packages/sklearn/linear_model/logistic.py:757: ConvergenceWarning: lbfgs failed to converge. Increase the number of iterations.\n",
      "  \"of iterations.\", ConvergenceWarning)\n",
      "/home/spencer/anaconda3/lib/python3.6/site-packages/sklearn/linear_model/logistic.py:757: ConvergenceWarning: lbfgs failed to converge. Increase the number of iterations.\n",
      "  \"of iterations.\", ConvergenceWarning)\n",
      "/home/spencer/anaconda3/lib/python3.6/site-packages/sklearn/linear_model/logistic.py:757: ConvergenceWarning: lbfgs failed to converge. Increase the number of iterations.\n",
      "  \"of iterations.\", ConvergenceWarning)\n",
      "/home/spencer/anaconda3/lib/python3.6/site-packages/sklearn/linear_model/logistic.py:757: ConvergenceWarning: lbfgs failed to converge. Increase the number of iterations.\n",
      "  \"of iterations.\", ConvergenceWarning)\n",
      "/home/spencer/anaconda3/lib/python3.6/site-packages/sklearn/linear_model/logistic.py:757: ConvergenceWarning: lbfgs failed to converge. Increase the number of iterations.\n",
      "  \"of iterations.\", ConvergenceWarning)\n",
      "/home/spencer/anaconda3/lib/python3.6/site-packages/sklearn/linear_model/logistic.py:757: ConvergenceWarning: lbfgs failed to converge. Increase the number of iterations.\n",
      "  \"of iterations.\", ConvergenceWarning)\n",
      "/home/spencer/anaconda3/lib/python3.6/site-packages/sklearn/linear_model/logistic.py:757: ConvergenceWarning: lbfgs failed to converge. Increase the number of iterations.\n",
      "  \"of iterations.\", ConvergenceWarning)\n",
      "/home/spencer/anaconda3/lib/python3.6/site-packages/sklearn/linear_model/logistic.py:757: ConvergenceWarning: lbfgs failed to converge. Increase the number of iterations.\n",
      "  \"of iterations.\", ConvergenceWarning)\n",
      "/home/spencer/anaconda3/lib/python3.6/site-packages/sklearn/linear_model/logistic.py:757: ConvergenceWarning: lbfgs failed to converge. Increase the number of iterations.\n",
      "  \"of iterations.\", ConvergenceWarning)\n",
      "/home/spencer/anaconda3/lib/python3.6/site-packages/sklearn/linear_model/logistic.py:757: ConvergenceWarning: lbfgs failed to converge. Increase the number of iterations.\n",
      "  \"of iterations.\", ConvergenceWarning)\n",
      "/home/spencer/anaconda3/lib/python3.6/site-packages/sklearn/linear_model/logistic.py:757: ConvergenceWarning: lbfgs failed to converge. Increase the number of iterations.\n",
      "  \"of iterations.\", ConvergenceWarning)\n",
      "/home/spencer/anaconda3/lib/python3.6/site-packages/sklearn/linear_model/logistic.py:757: ConvergenceWarning: lbfgs failed to converge. Increase the number of iterations.\n",
      "  \"of iterations.\", ConvergenceWarning)\n",
      "/home/spencer/anaconda3/lib/python3.6/site-packages/sklearn/linear_model/logistic.py:757: ConvergenceWarning: lbfgs failed to converge. Increase the number of iterations.\n",
      "  \"of iterations.\", ConvergenceWarning)\n",
      "/home/spencer/anaconda3/lib/python3.6/site-packages/sklearn/linear_model/logistic.py:757: ConvergenceWarning: lbfgs failed to converge. Increase the number of iterations.\n",
      "  \"of iterations.\", ConvergenceWarning)\n",
      "/home/spencer/anaconda3/lib/python3.6/site-packages/sklearn/linear_model/logistic.py:757: ConvergenceWarning: lbfgs failed to converge. Increase the number of iterations.\n",
      "  \"of iterations.\", ConvergenceWarning)\n",
      "/home/spencer/anaconda3/lib/python3.6/site-packages/sklearn/linear_model/logistic.py:757: ConvergenceWarning: lbfgs failed to converge. Increase the number of iterations.\n",
      "  \"of iterations.\", ConvergenceWarning)\n",
      "/home/spencer/anaconda3/lib/python3.6/site-packages/sklearn/linear_model/logistic.py:757: ConvergenceWarning: lbfgs failed to converge. Increase the number of iterations.\n",
      "  \"of iterations.\", ConvergenceWarning)\n",
      "/home/spencer/anaconda3/lib/python3.6/site-packages/sklearn/linear_model/logistic.py:757: ConvergenceWarning: lbfgs failed to converge. Increase the number of iterations.\n",
      "  \"of iterations.\", ConvergenceWarning)\n",
      "/home/spencer/anaconda3/lib/python3.6/site-packages/sklearn/linear_model/logistic.py:757: ConvergenceWarning: lbfgs failed to converge. Increase the number of iterations.\n",
      "  \"of iterations.\", ConvergenceWarning)\n",
      "/home/spencer/anaconda3/lib/python3.6/site-packages/sklearn/linear_model/logistic.py:757: ConvergenceWarning: lbfgs failed to converge. Increase the number of iterations.\n",
      "  \"of iterations.\", ConvergenceWarning)\n"
     ]
    },
    {
     "name": "stdout",
     "output_type": "stream",
     "text": [
      "0.6731556467229697\n",
      "0.5960707825108541\n",
      "CPU times: user 1h 13min 14s, sys: 1min 11s, total: 1h 14min 26s\n",
      "Wall time: 26min 54s\n"
     ]
    }
   ],
   "source": [
    "%%time\n",
    "logitclf = LogisticRegression(random_state=42)\n",
    "\n",
    "solvers = ['newton-cg', 'sag', 'lbfgs']\n",
    "penalties = ['l2']\n",
    "tols = [.001, .0001, .00001]\n",
    "Cs = [0.5, 1.0, 1.5]\n",
    "param_grid = dict(solver=solvers, penalty=penalties, tol=tols, C=Cs)\n",
    "\n",
    "logit = GridSearchCV(logitclf, param_grid, scoring='roc_auc', cv=8, n_jobs=1)\n",
    "\n",
    "logit.fit(X_train, y_train)\n",
    "\n",
    "print(logit.best_score_)\n",
    "# print(grid_rf.best_params_)\n",
    "# print(grid_rf.best_estimator_)\n",
    "\n",
    "y_pred = logit.predict(X_test)\n",
    "print(roc_auc_score(y_test, y_pred))\n",
    "\n",
    "savedir = 'models'\n",
    "joblib.dump(logit.best_estimator_, f'{savedir}/logit_12.04.2018.joblib',compress=9)"
   ]
  },
  {
   "cell_type": "code",
   "execution_count": 123,
   "metadata": {},
   "outputs": [
    {
     "name": "stdout",
     "output_type": "stream",
     "text": [
      "0.6422614422937925\n",
      "0.5849968847221777\n",
      "CPU times: user 8.91 s, sys: 1.28 s, total: 10.2 s\n",
      "Wall time: 2.68 s\n"
     ]
    }
   ],
   "source": [
    "%%time\n",
    "bNBclf = BernoulliNB()\n",
    "\n",
    "solvers = ['newton-cg', 'sag', 'lbfgs']\n",
    "penalties = ['l2']\n",
    "n_ests = [300]\n",
    "m_depths = [30]\n",
    "param_grid = dict()\n",
    "\n",
    "bNB = GridSearchCV(bNBclf, param_grid, scoring='roc_auc', cv=8, n_jobs=1)\n",
    "\n",
    "bNB.fit(X_train, y_train)\n",
    "\n",
    "print(bNB.best_score_)\n",
    "# print(grid_rf.best_params_)\n",
    "# print(grid_rf.best_estimator_)\n",
    "\n",
    "y_pred = bNB.predict(X_test)\n",
    "print(roc_auc_score(y_test, y_pred))\n",
    "\n",
    "savedir = 'models'\n",
    "joblib.dump(bNB.best_estimator_, f'{savedir}/bernoulliNB_12.04.2018.joblib',compress=9)"
   ]
  },
  {
   "cell_type": "code",
   "execution_count": 19,
   "metadata": {},
   "outputs": [
    {
     "name": "stderr",
     "output_type": "stream",
     "text": [
      "/home/spencer/anaconda3/lib/python3.6/site-packages/sklearn/externals/joblib/externals/loky/process_executor.py:700: UserWarning: A worker stopped while some jobs were given to the executor. This can be caused by a too short worker timeout or by a memory leak.\n",
      "  \"timeout or by a memory leak.\", UserWarning\n"
     ]
    },
    {
     "name": "stdout",
     "output_type": "stream",
     "text": [
      "0.6580844464200435\n",
      "0.5566937910955249\n",
      "CPU times: user 25min 8s, sys: 367 ms, total: 25min 9s\n",
      "Wall time: 2h 7min 41s\n"
     ]
    }
   ],
   "source": [
    "%%time\n",
    "SVCclf = SVC(random_state=42, gamma='auto')\n",
    "\n",
    "kernels = [#'linear', \n",
    "           #'poly',\n",
    "           #'sigmoid', \n",
    "           'rbf']\n",
    "Cs = [5, 10, 15]\n",
    "tols = [0.0001, 0.001, 0.01]\n",
    "param_grid = dict(kernel=kernels)#, tol=tols, C=Cs)\n",
    "\n",
    "SVC = GridSearchCV(SVCclf, param_grid, scoring='roc_auc', cv=8, n_jobs=4)\n",
    "\n",
    "SVC.fit(X_train, y_train)\n",
    "\n",
    "print(SVC.best_score_)\n",
    "# print(grid_rf.best_params_)\n",
    "# print(grid_rf.best_estimator_)\n",
    "\n",
    "y_pred = SVC.predict(X_test)\n",
    "print(roc_auc_score(y_test, y_pred))\n",
    "\n",
    "savedir = 'models'\n",
    "joblib.dump(SVC.best_estimator_, f'{savedir}/supportvector_12.04.2018.joblib',compress=9)"
   ]
  },
  {
   "cell_type": "code",
   "execution_count": 22,
   "metadata": {},
   "outputs": [
    {
     "name": "stdout",
     "output_type": "stream",
     "text": [
      "0.68361139641582\n",
      "0.6011070003410419\n",
      "CPU times: user 3min 4s, sys: 420 ms, total: 3min 4s\n",
      "Wall time: 8min 5s\n"
     ]
    }
   ],
   "source": [
    "%%time\n",
    "exclf = ExtraTreesClassifier(random_state=42)\n",
    "\n",
    "criterions = ['gini']#, 'entropy']\n",
    "n_ests = [300]\n",
    "m_depths = [30] #, 30, 40]\n",
    "param_grid = dict(criterion=criterions, n_estimators=n_ests, max_depth=m_depths)\n",
    "\n",
    "extra = GridSearchCV(exclf, param_grid, scoring='roc_auc', cv=8, n_jobs=5)\n",
    "\n",
    "extra.fit(X_train, y_train)\n",
    "\n",
    "print(extra.best_score_)\n",
    "# print(grid_rf.best_params_)\n",
    "# print(grid_rf.best_estimator_)\n",
    "\n",
    "y_pred = extra.predict(X_test)\n",
    "print(roc_auc_score(y_test, y_pred))\n",
    "\n",
    "savedir = 'models'\n",
    "joblib.dump(extra.best_estimator_, f'{savedir}/extratrees_12.04.2018.joblib',compress=9)"
   ]
  },
  {
   "cell_type": "code",
   "execution_count": 4,
   "metadata": {},
   "outputs": [],
   "source": [
    "import catboost\n",
    "from catboost import CatBoostClassifier"
   ]
  },
  {
   "cell_type": "code",
   "execution_count": 177,
   "metadata": {},
   "outputs": [
    {
     "name": "stdout",
     "output_type": "stream",
     "text": [
      "0.7022735521377326\n",
      "{}\n",
      "<catboost.core.CatBoostClassifier object at 0x7fa6e1e8ea20>\n",
      "0.6278820646943781\n",
      "CPU times: user 3min 47s, sys: 6.84 s, total: 3min 53s\n",
      "Wall time: 5min 12s\n"
     ]
    }
   ],
   "source": [
    "%%time\n",
    "cboost = CatBoostClassifier(silent=True, one_hot_max_size=5, random_seed=42)\n",
    "    \n",
    "param_grid = dict() # n_estimators=n_ests)\n",
    "\n",
    "cat_clf = GridSearchCV(cboost, param_grid, scoring='roc_auc', cv=8, n_jobs=5)\n",
    "\n",
    "cat_clf.fit(X_train, y_train)\n",
    "\n",
    "print(cat_clf.best_score_)\n",
    "print(cat_clf.best_params_)\n",
    "print(cat_clf.best_estimator_)\n",
    "\n",
    "y_pred = cat_clf.predict(X_test)\n",
    "print(roc_auc_score(y_test, y_pred))\n",
    "\n",
    "\n",
    "savedir = 'models'\n",
    "joblib.dump(cat_clf.best_estimator_, f'{savedir}/catboost_month_incident_oh5_12.06.2018.joblib',compress=3)"
   ]
  },
  {
   "cell_type": "code",
   "execution_count": 182,
   "metadata": {},
   "outputs": [
    {
     "name": "stdout",
     "output_type": "stream",
     "text": [
      "0.7022735521377326\n",
      "{}\n",
      "<catboost.core.CatBoostClassifier object at 0x7fa6e1e8c518>\n",
      "0.6278820646943781\n",
      "CPU times: user 3min 46s, sys: 7.67 s, total: 3min 54s\n",
      "Wall time: 5min 46s\n"
     ]
    }
   ],
   "source": [
    "%%time\n",
    "cboost = CatBoostClassifier(silent=True, random_seed=42)\n",
    "    \n",
    "param_grid = dict() # n_estimators=n_ests)\n",
    "\n",
    "cat_clf = GridSearchCV(cboost, param_grid, scoring='roc_auc', cv=8, n_jobs=5)\n",
    "\n",
    "cat_clf.fit(X_train, y_train)\n",
    "\n",
    "print(cat_clf.best_score_)\n",
    "print(cat_clf.best_params_)\n",
    "print(cat_clf.best_estimator_)\n",
    "\n",
    "y_pred = cat_clf.predict(X_test)\n",
    "print(roc_auc_score(y_test, y_pred))\n",
    "\n",
    "\n",
    "savedir = 'models'\n",
    "joblib.dump(cat_clf.best_estimator_, f'{savedir}/catboost_month_incident_12.06.2018.joblib',compress=3)"
   ]
  },
  {
   "cell_type": "code",
   "execution_count": 6,
   "metadata": {},
   "outputs": [],
   "source": [
    "from sklearn.externals import joblib\n",
    "savedir = 'models'\n",
    "cat_clf = joblib.load(f'{savedir}/catboost_month_incident_12.06.2018.joblib')"
   ]
  },
  {
   "cell_type": "code",
   "execution_count": 142,
   "metadata": {},
   "outputs": [
    {
     "data": {
      "text/plain": [
       "<Figure size 432x288 with 0 Axes>"
      ]
     },
     "metadata": {},
     "output_type": "display_data"
    },
    {
     "data": {
      "image/png": "[encoded data removed]",
      "text/plain": [
       "<Figure size 2400x2400 with 1 Axes>"
      ]
     },
     "metadata": {
      "needs_background": "dark"
     },
     "output_type": "display_data"
    }
   ],
   "source": [
    "def plot_roc_curve_single(main_model):\n",
    "    y_score_main = main_model.predict_proba(X_test)[:,1]\n",
    "#     y_score_second = secondary_model.predict_proba(X_test2)[:,1]\n",
    "    \n",
    "    \n",
    "    hfont = {'fontname':'Carlito',\n",
    "             'size': 22}\n",
    "    \n",
    "    tickfont = {'fontname':'Carlito',\n",
    "             'size': 16}\n",
    "    \n",
    "    titlefont = {'fontname':'Carlito',\n",
    "             'size': 30}\n",
    "    \n",
    "    fpr1, tpr1, _ = roc_curve(y_test, y_score_main)\n",
    "#     fpr2, tpr2, _ = roc_curve(y_test2, y_score_second)\n",
    "    plt.clf()\n",
    "    plt.rc_context({'axes.edgecolor':'white', 'xtick.color':'white', 'ytick.color':'white'})\n",
    "    plt.figure(figsize = (8,8), dpi=300)\n",
    "    plt.xlim(xmin=0, xmax=1)\n",
    "    plt.ylim(ymin=0, ymax=1.001)\n",
    "#     plt.f\n",
    "#     plt.figlegend(\n",
    "    plt.figtext(.55, .35,'AUC  =  .627',bbox=dict(\n",
    "#         facecolor='#ff9900ff', \n",
    "        # edgecolor='#ff9900ff',\n",
    "        facecolor='none',\n",
    "        edgecolor='none',\n",
    "        alpha=1), color='white', **titlefont)\n",
    "#     plt.figtext(.55, .30,\"GB  AUC  =  .806\",bbox=dict(facecolor='#2274a5', alpha=0.5), **titlefont)\n",
    "\n",
    "    #Plot the baseline\n",
    "    plt.plot([0,1],[0,1], c='white', ls='--')\n",
    "    plt.plot(fpr1, tpr1, c='#ff9900ff', linewidth=3.5, alpha = 0.9)\n",
    "#     plt.plot(fpr2, tpr2, c='#2274a5', linewidth=2)\n",
    "    plt.title('ROC Curve', color='white', fontweight='bold', **titlefont)\n",
    "    plt.xlabel('False Positive Rate', color='white', horizontalalignment='left', x=0, **hfont)\n",
    "    plt.ylabel('True Positive Rate', color='white', verticalalignment='top', y=1.062, rotation=0, labelpad = -81, **hfont)\n",
    "    plt.xticks(list(np.linspace(.1,1,10)), color='white', **tickfont)\n",
    "    plt.yticks(list(np.linspace(.1,1,10)), color='white', **tickfont)\n",
    "#     plt.grid(b=True, color='white', which='major', axis='both', alpha=0.2)\n",
    "    plt.gca().set_yticklabels(['{:.0f}%'.format(x*100) for x in plt.gca().get_yticks()], color='white', **hfont)\n",
    "    plt.gca().set_xticklabels(['{:.0f}%'.format(x*100) for x in plt.gca().get_xticks()], color='white', **hfont)\n",
    "    sns.despine(ax=plt.gca())\n",
    "    return plt\n",
    "\n",
    "fig = plot_roc_curve_single(cat_clf)\n",
    "\n",
    "savedir = 'images'\n",
    "fig.savefig(f'./{savedir}/presentation_AUC_plot.png', format='png', dpi=300, bbox_inches='tight', Frameon=True, transparent=True)"
   ]
  },
  {
   "cell_type": "code",
   "execution_count": 160,
   "metadata": {},
   "outputs": [
    {
     "name": "stdout",
     "output_type": "stream",
     "text": [
      "0.7017768352354733\n",
      "{}\n",
      "<catboost.core.CatBoostClassifier object at 0x7fa6f46b7470>\n",
      "0.6276856711426504\n",
      "CPU times: user 3min 16s, sys: 4.89 s, total: 3min 21s\n",
      "Wall time: 4min 14s\n"
     ]
    }
   ],
   "source": [
    "%%time\n",
    "cboost = CatBoostClassifier(silent=True, random_seed=42)\n",
    "    \n",
    "param_grid = dict() # n_estimators=n_ests)\n",
    "\n",
    "cat_clf = GridSearchCV(cboost, param_grid, scoring='roc_auc', cv=8, n_jobs=5)\n",
    "\n",
    "cat_clf.fit(X_train, y_train)\n",
    "\n",
    "print(cat_clf.best_score_)\n",
    "print(cat_clf.best_params_)\n",
    "print(cat_clf.best_estimator_)\n",
    "\n",
    "y_pred = cat_clf.predict(X_test)\n",
    "print(roc_auc_score(y_test, y_pred))\n",
    "\n",
    "\n",
    "savedir = 'models'\n",
    "joblib.dump(cat_clf.best_estimator_, f'{savedir}/catboost_month_inc_and_squared_days_12.06.2018.joblib',compress=9)"
   ]
  },
  {
   "cell_type": "code",
   "execution_count": 161,
   "metadata": {},
   "outputs": [
    {
     "name": "stdout",
     "output_type": "stream",
     "text": [
      "0.7017768352354733\n",
      "{}\n",
      "<catboost.core.CatBoostClassifier object at 0x7fa6e2519908>\n",
      "0.6276856711426504\n",
      "CPU times: user 3min 49s, sys: 7.37 s, total: 3min 57s\n",
      "Wall time: 5min 16s\n"
     ]
    }
   ],
   "source": [
    "%%time\n",
    "cboost = CatBoostClassifier(silent=True, one_hot_max_size=200, random_seed=42)\n",
    "    \n",
    "param_grid = dict() # n_estimators=n_ests)\n",
    "\n",
    "cat_clf = GridSearchCV(cboost, param_grid, scoring='roc_auc', cv=8, n_jobs=5)\n",
    "\n",
    "cat_clf.fit(X_train, y_train)\n",
    "\n",
    "print(cat_clf.best_score_)\n",
    "print(cat_clf.best_params_)\n",
    "print(cat_clf.best_estimator_)\n",
    "\n",
    "y_pred = cat_clf.predict(X_test)\n",
    "print(roc_auc_score(y_test, y_pred))\n",
    "\n",
    "\n",
    "savedir = 'models'\n",
    "joblib.dump(cat_clf.best_estimator_, f'{savedir}/catboost_month_inc_and_squared_days_tweaked_12.06.2018.joblib',compress=9)"
   ]
  },
  {
   "cell_type": "code",
   "execution_count": 183,
   "metadata": {},
   "outputs": [],
   "source": [
    "example = {\n",
    "  'airport_code': 'SEA',  # str\n",
    "  'airline': 'Delta Air Lines',    # str\n",
    "  'claim_type': 'PropertyLoss',    # str\n",
    "  'claim_site': 'Checkpoint',  # str\n",
    "  'item_category': 'Clothing',  # str\n",
    "  'days_waited_to_file_claim': 7,  # int\n",
    "  'Month_inc_date': '1'  # int (1-12)\n",
    "}\n",
    "\n",
    "\n",
    "def make_prediction(features):\n",
    "    '''\n",
    "    :param features: dictionary like 'example' above\n",
    "    :return: 2 pair dict of binary outcome (compensate and not compensate) and the probablity\n",
    "    '''\n",
    "    X = pd.DataFrame(data=features, index=[0])\n",
    "\n",
    "    categorical = ['airport_code', 'airline', 'claim_type', 'claim_site', 'Month_inc_date']\n",
    "    continuous = ['days_waited_to_file_claim']\n",
    "\n",
    "    trans_dir = './web_app/stat_models/transformers'\n",
    "    enc = joblib.load(f'{trans_dir}/onehotencode.joblib')\n",
    "    onehotarray = enc.transform(X[categorical])\n",
    "\n",
    "    ss = joblib.load(f'{trans_dir}/standardscaler.joblib')\n",
    "    continuousarray = ss.transform(X[continuous])\n",
    "\n",
    "    mlb = joblib.load(f'{trans_dir}/item_category.joblib')\n",
    "    onehot_itemcategories = mlb.transform(X['item_category'].str.replace(' ', '').str.split(pat=';'))\n",
    "\n",
    "    X = np.concatenate((onehotarray, continuousarray, onehot_itemcategories), axis=1)\n",
    "\n",
    "    prob_receive_compensation = cat_clf.predict_proba(X)[0, 1]\n",
    "\n",
    "    result = {\n",
    "        'compensation': int(prob_receive_compensation > 0.5),\n",
    "        'prob_receive_compensation': prob_receive_compensation\n",
    "    }\n",
    "    return prob_receive_compensation"
   ]
  },
  {
   "cell_type": "code",
   "execution_count": null,
   "metadata": {},
   "outputs": [],
   "source": [
    "SEA, Delta, Damage, Checkpoint\n",
    " ('Computer&Accessories', 67),\n",
    " ('Jewelry&Watches', 69),\n",
    " ('Clothing', 75),\n",
    " ('Other', 78),\n",
    " ('Cameras', 63),\n",
    " ('Locks', 52),\n",
    " ('Baggage/Cases/Purses', 83),\n",
    " ('Cosmetics&Grooming', 72),\n",
    " ('Furniture', 72)"
   ]
  },
  {
   "cell_type": "code",
   "execution_count": null,
   "metadata": {},
   "outputs": [],
   "source": [
    "67, 69, 75, 78, 63, 52, 83, 72, 72"
   ]
  },
  {
   "cell_type": "code",
   "execution_count": null,
   "metadata": {},
   "outputs": [],
   "source": [
    "DFW, UAL, Lost, Checked Baggage\n",
    " ('Computer&Accessories', 15),\n",
    " ('Jewelry&Watches', 23),\n",
    " ('Clothing', 40),\n",
    " ('Other', 41),\n",
    " ('Cameras', 27),\n",
    " ('Locks', 56),\n",
    " ('Baggage/Cases/Purses', 28),\n",
    " ('Cosmetics&Grooming', 35),\n",
    " ('Furniture', 34)"
   ]
  },
  {
   "cell_type": "code",
   "execution_count": 242,
   "metadata": {},
   "outputs": [
    {
     "data": {
      "text/plain": [
       "0.15482768369413913"
      ]
     },
     "execution_count": 242,
     "metadata": {},
     "output_type": "execute_result"
    }
   ],
   "source": [
    "example = {\n",
    "  'airport_code': 'DFW',  # str\n",
    "  'airline': 'UAL',    # str\n",
    "  'claim_type': 'PropertyLoss',    # str\n",
    "  'claim_site': 'Checked Baggage',  # str\n",
    "  'item_category': 'Computer&Accessories',  # str\n",
    "  'days_waited_to_file_claim': 7,  # int\n",
    "  'Month_inc_date': '1'  # int (1-12)\n",
    "}\n",
    "make_prediction(example)"
   ]
  },
  {
   "cell_type": "code",
   "execution_count": 185,
   "metadata": {},
   "outputs": [],
   "source": [
    "import warnings\n",
    "warnings.filterwarnings('ignore')"
   ]
  },
  {
   "cell_type": "code",
   "execution_count": null,
   "metadata": {},
   "outputs": [],
   "source": []
  },
  {
   "cell_type": "code",
   "execution_count": 190,
   "metadata": {},
   "outputs": [
    {
     "data": {
      "text/plain": [
       "<matplotlib.collections.PathCollection at 0x7fa6e1e6c7f0>"
      ]
     },
     "execution_count": 190,
     "metadata": {},
     "output_type": "execute_result"
    },
    {
     "data": {
      "image/png": "[encoded data removed]",
      "text/plain": [
       "<Figure size 1080x432 with 1 Axes>"
      ]
     },
     "metadata": {
      "needs_background": "light"
     },
     "output_type": "display_data"
    }
   ],
   "source": [
    "example = {\n",
    "  'airport_code': 'SEA',  # str\n",
    "  'airline': 'Delta Air Lines',    # str\n",
    "  'claim_type': 'PropertyLoss',    # str\n",
    "  'claim_site': 'Checkpoint',  # str\n",
    "  'item_category': 'Clothing',  # str\n",
    "  'days_waited_to_file_claim': 7,  # int\n",
    "  'Month_inc_date': '1'  # int (1-12)\n",
    "}\n",
    "\n",
    "period = range(1,60)\n",
    "\n",
    "el1 = []\n",
    "for i in period:\n",
    "    example['days_waited_to_file_claim'] = i\n",
    "    el1.append(make_prediction(example))\n",
    "\n",
    "example = {\n",
    "  'airport_code': 'JFK',  # str\n",
    "  'airline': 'Southwest Airlines',    # str\n",
    "  'claim_type': 'PropertyDamage',    # str\n",
    "  'claim_site': 'Checkpoint',  # str\n",
    "  'item_category': 'Clothing',  # str\n",
    "  'days_waited_to_file_claim': 7,  # int\n",
    "  'Month_inc_date': '10'  # int (1-12)\n",
    "}\n",
    "el2 = []\n",
    "for i in period:\n",
    "    example['days_waited_to_file_claim'] = i\n",
    "    el2.append(make_prediction(example))\n",
    "\n",
    "example = {\n",
    "  'airport_code': 'ORD',  # str\n",
    "  'airline': 'UAL',    # str\n",
    "  'claim_type': 'PropertyDamage',    # str\n",
    "  'claim_site': 'Checkpoint',  # str\n",
    "  'item_category': 'Jewelry',  # str\n",
    "  'days_waited_to_file_claim': 7,  # int\n",
    "  'Month_inc_date': '11'  # int (1-12)\n",
    "}\n",
    "el3 = []\n",
    "for i in period:\n",
    "    example['days_waited_to_file_claim'] = i\n",
    "    el3.append(make_prediction(example))\n",
    "\n",
    "example = {\n",
    "  'airport_code': 'ORD',  # str\n",
    "  'airline': 'UAL',    # str\n",
    "  'claim_type': 'PropertyDamage',    # str\n",
    "  'claim_site': 'Checked Baggage',  # str\n",
    "  'item_category': 'Jewelry',  # str\n",
    "  'days_waited_to_file_claim': 7,  # int\n",
    "  'Month_inc_date': '11'  # int (1-12)\n",
    "}\n",
    "el4 = []\n",
    "for i in period:\n",
    "    example['days_waited_to_file_claim'] = i\n",
    "    el4.append(make_prediction(example))\n",
    "\n",
    "example = {\n",
    "  'airport_code': 'LAX',  # str\n",
    "  'airline': 'American Airlines',    # str\n",
    "  'claim_type': 'PropertyLoss',    # str\n",
    "  'claim_site': 'Checked Baggage',  # str\n",
    "  'item_category': 'Computer',  # str\n",
    "  'days_waited_to_file_claim': 30,  # int\n",
    "  'Month_inc_date': '6'  # int (1-12)\n",
    "}\n",
    "el5 = []\n",
    "for i in period:\n",
    "    example['days_waited_to_file_claim'] = i\n",
    "    el5.append(make_prediction(example))\n",
    "\n",
    "example = {\n",
    "  'airport_code': 'PDX',  # str\n",
    "  'airline': 'Alaska Airlines',    # str\n",
    "  'claim_type': 'PropertyLoss',    # str\n",
    "  'claim_site': 'Checkpoint',  # str\n",
    "  'item_category': 'Purse',  # str\n",
    "  'days_waited_to_file_claim': 5000,  # int\n",
    "  'Month_inc_date': '3'  # int (1-12)\n",
    "}\n",
    "el6 = []\n",
    "for i in period:\n",
    "    example['days_waited_to_file_claim'] = i\n",
    "    el6.append(make_prediction(example))\n",
    "\n",
    "fig, ax = plt.subplots(figsize = (15,6))\n",
    "ax.scatter(x=period, y=el1)\n",
    "ax.scatter(x=period, y=el2)\n",
    "ax.scatter(x=period, y=el3)\n",
    "ax.scatter(x=period, y=el4)\n",
    "ax.scatter(x=period, y=el5)\n",
    "ax.scatter(x=period, y=el6)"
   ]
  },
  {
   "cell_type": "code",
   "execution_count": 102,
   "metadata": {},
   "outputs": [],
   "source": [
    "def make_prediction(features):\n",
    "    '''\n",
    "    :param features: dictionary like 'example' above\n",
    "    :return: 2 pair dict of binary outcome (compensate and not compensate) and the probablity\n",
    "    '''\n",
    "    X = pd.DataFrame(data=features, index=[0])\n",
    "\n",
    "    categorical = ['airport_code', 'airline', 'claim_type', 'claim_site', 'Month_inc_date']\n",
    "    continuous = ['days_waited_to_file_claim']\n",
    "\n",
    "    trans_dir = './web_app/stat_models/transformers'\n",
    "    enc = joblib.load(f'{trans_dir}/onehotencode.joblib')\n",
    "    onehotarray = enc.transform(X[categorical])\n",
    "\n",
    "    ss = joblib.load(f'{trans_dir}/standardscaler.joblib')\n",
    "    continuousarray = ss.transform(X[continuous])\n",
    "\n",
    "    mlb = joblib.load(f'{trans_dir}/item_category.joblib')\n",
    "    onehot_itemcategories = mlb.transform(X['item_category'].str.replace(' ', '').str.split(pat=';'))\n",
    "\n",
    "    X = np.concatenate((onehotarray, continuousarray, onehot_itemcategories), axis=1)\n",
    "\n",
    "    prob_receive_compensation = cat_clf.predict_proba(X)[0, 1]\n",
    "\n",
    "    result = {\n",
    "        'compensation': int(prob_receive_compensation > 0.5),\n",
    "        'prob_receive_compensation': prob_receive_compensation\n",
    "    }\n",
    "\n",
    "    return prob_receive_compensation"
   ]
  },
  {
   "cell_type": "code",
   "execution_count": 112,
   "metadata": {},
   "outputs": [
    {
     "data": {
      "text/plain": [
       "60"
      ]
     },
     "execution_count": 112,
     "metadata": {},
     "output_type": "execute_result"
    }
   ],
   "source": [
    "len(smoothscores)"
   ]
  },
  {
   "cell_type": "code",
   "execution_count": 114,
   "metadata": {},
   "outputs": [],
   "source": [
    "import bokeh"
   ]
  },
  {
   "cell_type": "code",
   "execution_count": 115,
   "metadata": {},
   "outputs": [],
   "source": [
    "from bokeh.models.sources import AjaxDataSource"
   ]
  },
  {
   "cell_type": "code",
   "execution_count": 121,
   "metadata": {},
   "outputs": [
    {
     "data": {
      "text/html": [
       "<div>\n",
       "<style scoped>\n",
       "    .dataframe tbody tr th:only-of-type {\n",
       "        vertical-align: middle;\n",
       "    }\n",
       "\n",
       "    .dataframe tbody tr th {\n",
       "        vertical-align: top;\n",
       "    }\n",
       "\n",
       "    .dataframe thead th {\n",
       "        text-align: right;\n",
       "    }\n",
       "</style>\n",
       "<table border=\"1\" class=\"dataframe\">\n",
       "  <thead>\n",
       "    <tr style=\"text-align: right;\">\n",
       "      <th></th>\n",
       "      <th>probs</th>\n",
       "      <th>days</th>\n",
       "    </tr>\n",
       "  </thead>\n",
       "  <tbody>\n",
       "    <tr>\n",
       "      <th>0</th>\n",
       "      <td>0.296</td>\n",
       "      <td>1</td>\n",
       "    </tr>\n",
       "    <tr>\n",
       "      <th>1</th>\n",
       "      <td>0.301</td>\n",
       "      <td>2</td>\n",
       "    </tr>\n",
       "    <tr>\n",
       "      <th>2</th>\n",
       "      <td>0.308</td>\n",
       "      <td>3</td>\n",
       "    </tr>\n",
       "    <tr>\n",
       "      <th>3</th>\n",
       "      <td>0.316</td>\n",
       "      <td>4</td>\n",
       "    </tr>\n",
       "    <tr>\n",
       "      <th>4</th>\n",
       "      <td>0.346</td>\n",
       "      <td>5</td>\n",
       "    </tr>\n",
       "  </tbody>\n",
       "</table>\n",
       "</div>"
      ],
      "text/plain": [
       "   probs  days\n",
       "0  0.296     1\n",
       "1  0.301     2\n",
       "2  0.308     3\n",
       "3  0.316     4\n",
       "4  0.346     5"
      ]
     },
     "execution_count": 121,
     "metadata": {},
     "output_type": "execute_result"
    }
   ],
   "source": [
    "pd.DataFrame({'probs':list1, 'days':list2})"
   ]
  },
  {
   "cell_type": "code",
   "execution_count": 130,
   "metadata": {},
   "outputs": [
    {
     "data": {
      "text/html": [
       "<div>\n",
       "<style scoped>\n",
       "    .dataframe tbody tr th:only-of-type {\n",
       "        vertical-align: middle;\n",
       "    }\n",
       "\n",
       "    .dataframe tbody tr th {\n",
       "        vertical-align: top;\n",
       "    }\n",
       "\n",
       "    .dataframe thead th {\n",
       "        text-align: right;\n",
       "    }\n",
       "</style>\n",
       "<table border=\"1\" class=\"dataframe\">\n",
       "  <thead>\n",
       "    <tr style=\"text-align: right;\">\n",
       "      <th></th>\n",
       "      <th>date_received</th>\n",
       "      <th>incident_date</th>\n",
       "      <th>airport_code</th>\n",
       "      <th>airline</th>\n",
       "      <th>claim_type</th>\n",
       "      <th>claim_site</th>\n",
       "      <th>close_amount</th>\n",
       "      <th>disposition</th>\n",
       "      <th>item_category</th>\n",
       "      <th>binary_disposition</th>\n",
       "      <th>num_items_or_incidents_claimed</th>\n",
       "      <th>days_waited_to_file_claim</th>\n",
       "      <th>bin_dispos_onehot</th>\n",
       "      <th>Month_received</th>\n",
       "      <th>Month_inc_date</th>\n",
       "      <th>squared_days_waited</th>\n",
       "    </tr>\n",
       "  </thead>\n",
       "  <tbody>\n",
       "    <tr>\n",
       "      <th>79965</th>\n",
       "      <td>2004-06-18</td>\n",
       "      <td>2004-06-08 00:00:00</td>\n",
       "      <td>MSP</td>\n",
       "      <td>American Airlines</td>\n",
       "      <td>PropertyDamage</td>\n",
       "      <td>Checked Baggage</td>\n",
       "      <td>11552.000</td>\n",
       "      <td>Settle</td>\n",
       "      <td>Musical Instruments &amp; Accessories</td>\n",
       "      <td>Compensate</td>\n",
       "      <td>1</td>\n",
       "      <td>10</td>\n",
       "      <td>1</td>\n",
       "      <td>6</td>\n",
       "      <td>6</td>\n",
       "      <td>100</td>\n",
       "    </tr>\n",
       "    <tr>\n",
       "      <th>79141</th>\n",
       "      <td>2004-07-23</td>\n",
       "      <td>2004-06-15 00:00:00</td>\n",
       "      <td>EWR</td>\n",
       "      <td>Continental Airlines</td>\n",
       "      <td>PropertyLoss</td>\n",
       "      <td>Checked Baggage</td>\n",
       "      <td>11000.000</td>\n",
       "      <td>Settle</td>\n",
       "      <td>Musical Instruments &amp; Accessories</td>\n",
       "      <td>Compensate</td>\n",
       "      <td>1</td>\n",
       "      <td>38</td>\n",
       "      <td>1</td>\n",
       "      <td>7</td>\n",
       "      <td>6</td>\n",
       "      <td>1444</td>\n",
       "    </tr>\n",
       "    <tr>\n",
       "      <th>75563</th>\n",
       "      <td>2004-12-20</td>\n",
       "      <td>2004-12-12 00:00:00</td>\n",
       "      <td>DEN</td>\n",
       "      <td>Delta Air Lines</td>\n",
       "      <td>PropertyDamage</td>\n",
       "      <td>Checkpoint</td>\n",
       "      <td>9803.870</td>\n",
       "      <td>Settle</td>\n",
       "      <td>Jewelry &amp; Watches</td>\n",
       "      <td>Compensate</td>\n",
       "      <td>1</td>\n",
       "      <td>8</td>\n",
       "      <td>1</td>\n",
       "      <td>12</td>\n",
       "      <td>12</td>\n",
       "      <td>64</td>\n",
       "    </tr>\n",
       "    <tr>\n",
       "      <th>23649</th>\n",
       "      <td>2011-06-06</td>\n",
       "      <td>2010-10-26 21:00:00</td>\n",
       "      <td>LAX</td>\n",
       "      <td>UAL</td>\n",
       "      <td>PropertyLoss</td>\n",
       "      <td>Checkpoint</td>\n",
       "      <td>9660.000</td>\n",
       "      <td>Settle</td>\n",
       "      <td>Jewelry &amp; Watches</td>\n",
       "      <td>Compensate</td>\n",
       "      <td>1</td>\n",
       "      <td>222</td>\n",
       "      <td>1</td>\n",
       "      <td>6</td>\n",
       "      <td>10</td>\n",
       "      <td>49284</td>\n",
       "    </tr>\n",
       "    <tr>\n",
       "      <th>80026</th>\n",
       "      <td>2004-06-16</td>\n",
       "      <td>2004-06-08 00:00:00</td>\n",
       "      <td>SEA</td>\n",
       "      <td>Alaska Airlines</td>\n",
       "      <td>PropertyLoss</td>\n",
       "      <td>Checkpoint</td>\n",
       "      <td>9325.000</td>\n",
       "      <td>Settle</td>\n",
       "      <td>Jewelry &amp; Watches</td>\n",
       "      <td>Compensate</td>\n",
       "      <td>1</td>\n",
       "      <td>8</td>\n",
       "      <td>1</td>\n",
       "      <td>6</td>\n",
       "      <td>6</td>\n",
       "      <td>64</td>\n",
       "    </tr>\n",
       "    <tr>\n",
       "      <th>50069</th>\n",
       "      <td>2007-09-07</td>\n",
       "      <td>2007-08-20 00:00:00</td>\n",
       "      <td>SJC</td>\n",
       "      <td>Southwest Airlines</td>\n",
       "      <td>PropertyLoss</td>\n",
       "      <td>Checkpoint</td>\n",
       "      <td>9000.000</td>\n",
       "      <td>Settle</td>\n",
       "      <td>Watches</td>\n",
       "      <td>Compensate</td>\n",
       "      <td>1</td>\n",
       "      <td>18</td>\n",
       "      <td>1</td>\n",
       "      <td>9</td>\n",
       "      <td>8</td>\n",
       "      <td>324</td>\n",
       "    </tr>\n",
       "    <tr>\n",
       "      <th>83928</th>\n",
       "      <td>2004-01-26</td>\n",
       "      <td>2003-06-05 00:00:00</td>\n",
       "      <td>FLL</td>\n",
       "      <td>UAL</td>\n",
       "      <td>PropertyLoss</td>\n",
       "      <td>Checked Baggage</td>\n",
       "      <td>8976.000</td>\n",
       "      <td>Settle</td>\n",
       "      <td>Jewelry &amp; Watches</td>\n",
       "      <td>Compensate</td>\n",
       "      <td>1</td>\n",
       "      <td>235</td>\n",
       "      <td>1</td>\n",
       "      <td>1</td>\n",
       "      <td>6</td>\n",
       "      <td>55225</td>\n",
       "    </tr>\n",
       "    <tr>\n",
       "      <th>84547</th>\n",
       "      <td>2003-12-17</td>\n",
       "      <td>2003-11-21 00:00:00</td>\n",
       "      <td>LAX</td>\n",
       "      <td>American Airlines</td>\n",
       "      <td>PropertyLoss</td>\n",
       "      <td>Checked Baggage</td>\n",
       "      <td>8140.000</td>\n",
       "      <td>Settle</td>\n",
       "      <td>Jewelry &amp; Watches</td>\n",
       "      <td>Compensate</td>\n",
       "      <td>1</td>\n",
       "      <td>26</td>\n",
       "      <td>1</td>\n",
       "      <td>12</td>\n",
       "      <td>11</td>\n",
       "      <td>676</td>\n",
       "    </tr>\n",
       "    <tr>\n",
       "      <th>62357</th>\n",
       "      <td>2006-05-03</td>\n",
       "      <td>2006-04-22 00:00:00</td>\n",
       "      <td>HNL</td>\n",
       "      <td>Continental Airlines</td>\n",
       "      <td>PropertyLoss</td>\n",
       "      <td>Checkpoint</td>\n",
       "      <td>7893.830</td>\n",
       "      <td>Approve in Full</td>\n",
       "      <td>Jewelry &amp; Watches; Watches</td>\n",
       "      <td>Compensate</td>\n",
       "      <td>2</td>\n",
       "      <td>11</td>\n",
       "      <td>1</td>\n",
       "      <td>5</td>\n",
       "      <td>4</td>\n",
       "      <td>121</td>\n",
       "    </tr>\n",
       "    <tr>\n",
       "      <th>65187</th>\n",
       "      <td>2006-01-10</td>\n",
       "      <td>2005-01-21 00:00:00</td>\n",
       "      <td>MIA</td>\n",
       "      <td>Alaska Airlines</td>\n",
       "      <td>PropertyLoss</td>\n",
       "      <td>Checked Baggage</td>\n",
       "      <td>7725.000</td>\n",
       "      <td>Approve in Full</td>\n",
       "      <td>Jewelry &amp; Watches</td>\n",
       "      <td>Compensate</td>\n",
       "      <td>1</td>\n",
       "      <td>354</td>\n",
       "      <td>1</td>\n",
       "      <td>1</td>\n",
       "      <td>1</td>\n",
       "      <td>125316</td>\n",
       "    </tr>\n",
       "    <tr>\n",
       "      <th>84513</th>\n",
       "      <td>2003-12-17</td>\n",
       "      <td>2003-11-18 00:00:00</td>\n",
       "      <td>MCO</td>\n",
       "      <td>AirTran Airlines</td>\n",
       "      <td>PropertyDamage</td>\n",
       "      <td>Checked Baggage</td>\n",
       "      <td>7355.750</td>\n",
       "      <td>Approve in Full</td>\n",
       "      <td>Other</td>\n",
       "      <td>Compensate</td>\n",
       "      <td>1</td>\n",
       "      <td>29</td>\n",
       "      <td>1</td>\n",
       "      <td>12</td>\n",
       "      <td>11</td>\n",
       "      <td>841</td>\n",
       "    </tr>\n",
       "    <tr>\n",
       "      <th>62857</th>\n",
       "      <td>2006-04-10</td>\n",
       "      <td>2006-03-01 00:00:00</td>\n",
       "      <td>DFW</td>\n",
       "      <td>American Airlines</td>\n",
       "      <td>PropertyDamage</td>\n",
       "      <td>Checked Baggage</td>\n",
       "      <td>7320.460</td>\n",
       "      <td>Approve in Full</td>\n",
       "      <td>Stereo Items &amp; Accessories</td>\n",
       "      <td>Compensate</td>\n",
       "      <td>1</td>\n",
       "      <td>40</td>\n",
       "      <td>1</td>\n",
       "      <td>4</td>\n",
       "      <td>3</td>\n",
       "      <td>1600</td>\n",
       "    </tr>\n",
       "    <tr>\n",
       "      <th>84451</th>\n",
       "      <td>2003-12-17</td>\n",
       "      <td>2003-10-17 00:00:00</td>\n",
       "      <td>DCA</td>\n",
       "      <td>USAir</td>\n",
       "      <td>PropertyDamage</td>\n",
       "      <td>Checkpoint</td>\n",
       "      <td>7241.240</td>\n",
       "      <td>Approve in Full</td>\n",
       "      <td>Cameras</td>\n",
       "      <td>Compensate</td>\n",
       "      <td>1</td>\n",
       "      <td>61</td>\n",
       "      <td>1</td>\n",
       "      <td>12</td>\n",
       "      <td>10</td>\n",
       "      <td>3721</td>\n",
       "    </tr>\n",
       "    <tr>\n",
       "      <th>20144</th>\n",
       "      <td>2012-01-04</td>\n",
       "      <td>2011-12-29 17:00:00</td>\n",
       "      <td>MCO</td>\n",
       "      <td>Southwest Airlines</td>\n",
       "      <td>PropertyLoss</td>\n",
       "      <td>Checkpoint</td>\n",
       "      <td>7000.000</td>\n",
       "      <td>Settle</td>\n",
       "      <td>Jewelry &amp; Watches</td>\n",
       "      <td>Compensate</td>\n",
       "      <td>1</td>\n",
       "      <td>5</td>\n",
       "      <td>1</td>\n",
       "      <td>1</td>\n",
       "      <td>12</td>\n",
       "      <td>25</td>\n",
       "    </tr>\n",
       "    <tr>\n",
       "      <th>85778</th>\n",
       "      <td>2003-09-25</td>\n",
       "      <td>2003-08-04 00:00:00</td>\n",
       "      <td>LGA</td>\n",
       "      <td>American Airlines</td>\n",
       "      <td>PropertyDamage</td>\n",
       "      <td>Checked Baggage</td>\n",
       "      <td>6783.630</td>\n",
       "      <td>Approve in Full</td>\n",
       "      <td>Other</td>\n",
       "      <td>Compensate</td>\n",
       "      <td>1</td>\n",
       "      <td>52</td>\n",
       "      <td>1</td>\n",
       "      <td>9</td>\n",
       "      <td>8</td>\n",
       "      <td>2704</td>\n",
       "    </tr>\n",
       "  </tbody>\n",
       "</table>\n",
       "</div>"
      ],
      "text/plain": [
       "      date_received       incident_date airport_code               airline  \\\n",
       "79965    2004-06-18 2004-06-08 00:00:00          MSP     American Airlines   \n",
       "79141    2004-07-23 2004-06-15 00:00:00          EWR  Continental Airlines   \n",
       "75563    2004-12-20 2004-12-12 00:00:00          DEN       Delta Air Lines   \n",
       "23649    2011-06-06 2010-10-26 21:00:00          LAX                   UAL   \n",
       "80026    2004-06-16 2004-06-08 00:00:00          SEA       Alaska Airlines   \n",
       "50069    2007-09-07 2007-08-20 00:00:00          SJC    Southwest Airlines   \n",
       "83928    2004-01-26 2003-06-05 00:00:00          FLL                   UAL   \n",
       "84547    2003-12-17 2003-11-21 00:00:00          LAX     American Airlines   \n",
       "62357    2006-05-03 2006-04-22 00:00:00          HNL  Continental Airlines   \n",
       "65187    2006-01-10 2005-01-21 00:00:00          MIA       Alaska Airlines   \n",
       "84513    2003-12-17 2003-11-18 00:00:00          MCO      AirTran Airlines   \n",
       "62857    2006-04-10 2006-03-01 00:00:00          DFW     American Airlines   \n",
       "84451    2003-12-17 2003-10-17 00:00:00          DCA                 USAir   \n",
       "20144    2012-01-04 2011-12-29 17:00:00          MCO    Southwest Airlines   \n",
       "85778    2003-09-25 2003-08-04 00:00:00          LGA     American Airlines   \n",
       "\n",
       "           claim_type       claim_site  close_amount      disposition  \\\n",
       "79965  PropertyDamage  Checked Baggage     11552.000           Settle   \n",
       "79141    PropertyLoss  Checked Baggage     11000.000           Settle   \n",
       "75563  PropertyDamage       Checkpoint      9803.870           Settle   \n",
       "23649    PropertyLoss       Checkpoint      9660.000           Settle   \n",
       "80026    PropertyLoss       Checkpoint      9325.000           Settle   \n",
       "50069    PropertyLoss       Checkpoint      9000.000           Settle   \n",
       "83928    PropertyLoss  Checked Baggage      8976.000           Settle   \n",
       "84547    PropertyLoss  Checked Baggage      8140.000           Settle   \n",
       "62357    PropertyLoss       Checkpoint      7893.830  Approve in Full   \n",
       "65187    PropertyLoss  Checked Baggage      7725.000  Approve in Full   \n",
       "84513  PropertyDamage  Checked Baggage      7355.750  Approve in Full   \n",
       "62857  PropertyDamage  Checked Baggage      7320.460  Approve in Full   \n",
       "84451  PropertyDamage       Checkpoint      7241.240  Approve in Full   \n",
       "20144    PropertyLoss       Checkpoint      7000.000           Settle   \n",
       "85778  PropertyDamage  Checked Baggage      6783.630  Approve in Full   \n",
       "\n",
       "                           item_category binary_disposition  \\\n",
       "79965  Musical Instruments & Accessories         Compensate   \n",
       "79141  Musical Instruments & Accessories         Compensate   \n",
       "75563                  Jewelry & Watches         Compensate   \n",
       "23649                  Jewelry & Watches         Compensate   \n",
       "80026                  Jewelry & Watches         Compensate   \n",
       "50069                            Watches         Compensate   \n",
       "83928                  Jewelry & Watches         Compensate   \n",
       "84547                  Jewelry & Watches         Compensate   \n",
       "62357         Jewelry & Watches; Watches         Compensate   \n",
       "65187                  Jewelry & Watches         Compensate   \n",
       "84513                              Other         Compensate   \n",
       "62857         Stereo Items & Accessories         Compensate   \n",
       "84451                            Cameras         Compensate   \n",
       "20144                  Jewelry & Watches         Compensate   \n",
       "85778                              Other         Compensate   \n",
       "\n",
       "       num_items_or_incidents_claimed  days_waited_to_file_claim  \\\n",
       "79965                               1                         10   \n",
       "79141                               1                         38   \n",
       "75563                               1                          8   \n",
       "23649                               1                        222   \n",
       "80026                               1                          8   \n",
       "50069                               1                         18   \n",
       "83928                               1                        235   \n",
       "84547                               1                         26   \n",
       "62357                               2                         11   \n",
       "65187                               1                        354   \n",
       "84513                               1                         29   \n",
       "62857                               1                         40   \n",
       "84451                               1                         61   \n",
       "20144                               1                          5   \n",
       "85778                               1                         52   \n",
       "\n",
       "       bin_dispos_onehot Month_received Month_inc_date  squared_days_waited  \n",
       "79965                  1              6              6                  100  \n",
       "79141                  1              7              6                 1444  \n",
       "75563                  1             12             12                   64  \n",
       "23649                  1              6             10                49284  \n",
       "80026                  1              6              6                   64  \n",
       "50069                  1              9              8                  324  \n",
       "83928                  1              1              6                55225  \n",
       "84547                  1             12             11                  676  \n",
       "62357                  1              5              4                  121  \n",
       "65187                  1              1              1               125316  \n",
       "84513                  1             12             11                  841  \n",
       "62857                  1              4              3                 1600  \n",
       "84451                  1             12             10                 3721  \n",
       "20144                  1              1             12                   25  \n",
       "85778                  1              9              8                 2704  "
      ]
     },
     "execution_count": 130,
     "metadata": {},
     "output_type": "execute_result"
    }
   ],
   "source": [
    "df[df.disposition != 'Deny'].sort_values(by='close_amount', ascending=False).head(15)"
   ]
  },
  {
   "cell_type": "code",
   "execution_count": 116,
   "metadata": {},
   "outputs": [],
   "source": [
    "list1 = smoothscores[:5]\n",
    "list2 = list(range(1,6))"
   ]
  },
  {
   "cell_type": "code",
   "execution_count": 111,
   "metadata": {},
   "outputs": [
    {
     "data": {
      "text/plain": [
       "[0.28697248156985816,\n",
       " 0.29837803782403943,\n",
       " 0.30138636800685603,\n",
       " 0.30452273200579266,\n",
       " 0.3169092062826236]"
      ]
     },
     "execution_count": 111,
     "metadata": {},
     "output_type": "execute_result"
    }
   ],
   "source": [
    "scores[:5]"
   ]
  },
  {
   "cell_type": "code",
   "execution_count": 108,
   "metadata": {},
   "outputs": [
    {
     "data": {
      "text/plain": [
       "62"
      ]
     },
     "execution_count": 108,
     "metadata": {},
     "output_type": "execute_result"
    }
   ],
   "source": [
    "len(period)"
   ]
  },
  {
   "cell_type": "code",
   "execution_count": 109,
   "metadata": {},
   "outputs": [
    {
     "name": "stderr",
     "output_type": "stream",
     "text": [
      "/home/spencer/anaconda3/lib/python3.6/site-packages/ipykernel_launcher.py:16: DataConversionWarning: Data with input dtype int64 were all converted to float64 by StandardScaler.\n",
      "  app.launch_new_instance()\n",
      "/home/spencer/anaconda3/lib/python3.6/site-packages/ipykernel_launcher.py:16: DataConversionWarning: Data with input dtype int64 were all converted to float64 by StandardScaler.\n",
      "  app.launch_new_instance()\n",
      "/home/spencer/anaconda3/lib/python3.6/site-packages/ipykernel_launcher.py:16: DataConversionWarning: Data with input dtype int64 were all converted to float64 by StandardScaler.\n",
      "  app.launch_new_instance()\n",
      "/home/spencer/anaconda3/lib/python3.6/site-packages/ipykernel_launcher.py:16: DataConversionWarning: Data with input dtype int64 were all converted to float64 by StandardScaler.\n",
      "  app.launch_new_instance()\n",
      "/home/spencer/anaconda3/lib/python3.6/site-packages/ipykernel_launcher.py:16: DataConversionWarning: Data with input dtype int64 were all converted to float64 by StandardScaler.\n",
      "  app.launch_new_instance()\n",
      "/home/spencer/anaconda3/lib/python3.6/site-packages/ipykernel_launcher.py:16: DataConversionWarning: Data with input dtype int64 were all converted to float64 by StandardScaler.\n",
      "  app.launch_new_instance()\n",
      "/home/spencer/anaconda3/lib/python3.6/site-packages/ipykernel_launcher.py:16: DataConversionWarning: Data with input dtype int64 were all converted to float64 by StandardScaler.\n",
      "  app.launch_new_instance()\n",
      "/home/spencer/anaconda3/lib/python3.6/site-packages/ipykernel_launcher.py:16: DataConversionWarning: Data with input dtype int64 were all converted to float64 by StandardScaler.\n",
      "  app.launch_new_instance()\n",
      "/home/spencer/anaconda3/lib/python3.6/site-packages/ipykernel_launcher.py:16: DataConversionWarning: Data with input dtype int64 were all converted to float64 by StandardScaler.\n",
      "  app.launch_new_instance()\n",
      "/home/spencer/anaconda3/lib/python3.6/site-packages/ipykernel_launcher.py:16: DataConversionWarning: Data with input dtype int64 were all converted to float64 by StandardScaler.\n",
      "  app.launch_new_instance()\n",
      "/home/spencer/anaconda3/lib/python3.6/site-packages/ipykernel_launcher.py:16: DataConversionWarning: Data with input dtype int64 were all converted to float64 by StandardScaler.\n",
      "  app.launch_new_instance()\n",
      "/home/spencer/anaconda3/lib/python3.6/site-packages/ipykernel_launcher.py:16: DataConversionWarning: Data with input dtype int64 were all converted to float64 by StandardScaler.\n",
      "  app.launch_new_instance()\n",
      "/home/spencer/anaconda3/lib/python3.6/site-packages/ipykernel_launcher.py:16: DataConversionWarning: Data with input dtype int64 were all converted to float64 by StandardScaler.\n",
      "  app.launch_new_instance()\n",
      "/home/spencer/anaconda3/lib/python3.6/site-packages/ipykernel_launcher.py:16: DataConversionWarning: Data with input dtype int64 were all converted to float64 by StandardScaler.\n",
      "  app.launch_new_instance()\n",
      "/home/spencer/anaconda3/lib/python3.6/site-packages/ipykernel_launcher.py:16: DataConversionWarning: Data with input dtype int64 were all converted to float64 by StandardScaler.\n",
      "  app.launch_new_instance()\n",
      "/home/spencer/anaconda3/lib/python3.6/site-packages/ipykernel_launcher.py:16: DataConversionWarning: Data with input dtype int64 were all converted to float64 by StandardScaler.\n",
      "  app.launch_new_instance()\n",
      "/home/spencer/anaconda3/lib/python3.6/site-packages/ipykernel_launcher.py:16: DataConversionWarning: Data with input dtype int64 were all converted to float64 by StandardScaler.\n",
      "  app.launch_new_instance()\n",
      "/home/spencer/anaconda3/lib/python3.6/site-packages/ipykernel_launcher.py:16: DataConversionWarning: Data with input dtype int64 were all converted to float64 by StandardScaler.\n",
      "  app.launch_new_instance()\n",
      "/home/spencer/anaconda3/lib/python3.6/site-packages/ipykernel_launcher.py:16: DataConversionWarning: Data with input dtype int64 were all converted to float64 by StandardScaler.\n",
      "  app.launch_new_instance()\n",
      "/home/spencer/anaconda3/lib/python3.6/site-packages/ipykernel_launcher.py:16: DataConversionWarning: Data with input dtype int64 were all converted to float64 by StandardScaler.\n",
      "  app.launch_new_instance()\n",
      "/home/spencer/anaconda3/lib/python3.6/site-packages/ipykernel_launcher.py:16: DataConversionWarning: Data with input dtype int64 were all converted to float64 by StandardScaler.\n",
      "  app.launch_new_instance()\n",
      "/home/spencer/anaconda3/lib/python3.6/site-packages/ipykernel_launcher.py:16: DataConversionWarning: Data with input dtype int64 were all converted to float64 by StandardScaler.\n",
      "  app.launch_new_instance()\n",
      "/home/spencer/anaconda3/lib/python3.6/site-packages/ipykernel_launcher.py:16: DataConversionWarning: Data with input dtype int64 were all converted to float64 by StandardScaler.\n",
      "  app.launch_new_instance()\n",
      "/home/spencer/anaconda3/lib/python3.6/site-packages/ipykernel_launcher.py:16: DataConversionWarning: Data with input dtype int64 were all converted to float64 by StandardScaler.\n",
      "  app.launch_new_instance()\n",
      "/home/spencer/anaconda3/lib/python3.6/site-packages/ipykernel_launcher.py:16: DataConversionWarning: Data with input dtype int64 were all converted to float64 by StandardScaler.\n",
      "  app.launch_new_instance()\n",
      "/home/spencer/anaconda3/lib/python3.6/site-packages/ipykernel_launcher.py:16: DataConversionWarning: Data with input dtype int64 were all converted to float64 by StandardScaler.\n",
      "  app.launch_new_instance()\n",
      "/home/spencer/anaconda3/lib/python3.6/site-packages/ipykernel_launcher.py:16: DataConversionWarning: Data with input dtype int64 were all converted to float64 by StandardScaler.\n",
      "  app.launch_new_instance()\n",
      "/home/spencer/anaconda3/lib/python3.6/site-packages/ipykernel_launcher.py:16: DataConversionWarning: Data with input dtype int64 were all converted to float64 by StandardScaler.\n",
      "  app.launch_new_instance()\n",
      "/home/spencer/anaconda3/lib/python3.6/site-packages/ipykernel_launcher.py:16: DataConversionWarning: Data with input dtype int64 were all converted to float64 by StandardScaler.\n",
      "  app.launch_new_instance()\n",
      "/home/spencer/anaconda3/lib/python3.6/site-packages/ipykernel_launcher.py:16: DataConversionWarning: Data with input dtype int64 were all converted to float64 by StandardScaler.\n",
      "  app.launch_new_instance()\n",
      "/home/spencer/anaconda3/lib/python3.6/site-packages/ipykernel_launcher.py:16: DataConversionWarning: Data with input dtype int64 were all converted to float64 by StandardScaler.\n",
      "  app.launch_new_instance()\n",
      "/home/spencer/anaconda3/lib/python3.6/site-packages/ipykernel_launcher.py:16: DataConversionWarning: Data with input dtype int64 were all converted to float64 by StandardScaler.\n",
      "  app.launch_new_instance()\n",
      "/home/spencer/anaconda3/lib/python3.6/site-packages/ipykernel_launcher.py:16: DataConversionWarning: Data with input dtype int64 were all converted to float64 by StandardScaler.\n",
      "  app.launch_new_instance()\n",
      "/home/spencer/anaconda3/lib/python3.6/site-packages/ipykernel_launcher.py:16: DataConversionWarning: Data with input dtype int64 were all converted to float64 by StandardScaler.\n",
      "  app.launch_new_instance()\n",
      "/home/spencer/anaconda3/lib/python3.6/site-packages/ipykernel_launcher.py:16: DataConversionWarning: Data with input dtype int64 were all converted to float64 by StandardScaler.\n",
      "  app.launch_new_instance()\n",
      "/home/spencer/anaconda3/lib/python3.6/site-packages/ipykernel_launcher.py:16: DataConversionWarning: Data with input dtype int64 were all converted to float64 by StandardScaler.\n",
      "  app.launch_new_instance()\n",
      "/home/spencer/anaconda3/lib/python3.6/site-packages/ipykernel_launcher.py:16: DataConversionWarning: Data with input dtype int64 were all converted to float64 by StandardScaler.\n",
      "  app.launch_new_instance()\n",
      "/home/spencer/anaconda3/lib/python3.6/site-packages/ipykernel_launcher.py:16: DataConversionWarning: Data with input dtype int64 were all converted to float64 by StandardScaler.\n",
      "  app.launch_new_instance()\n",
      "/home/spencer/anaconda3/lib/python3.6/site-packages/ipykernel_launcher.py:16: DataConversionWarning: Data with input dtype int64 were all converted to float64 by StandardScaler.\n",
      "  app.launch_new_instance()\n",
      "/home/spencer/anaconda3/lib/python3.6/site-packages/ipykernel_launcher.py:16: DataConversionWarning: Data with input dtype int64 were all converted to float64 by StandardScaler.\n",
      "  app.launch_new_instance()\n",
      "/home/spencer/anaconda3/lib/python3.6/site-packages/ipykernel_launcher.py:16: DataConversionWarning: Data with input dtype int64 were all converted to float64 by StandardScaler.\n",
      "  app.launch_new_instance()\n",
      "/home/spencer/anaconda3/lib/python3.6/site-packages/ipykernel_launcher.py:16: DataConversionWarning: Data with input dtype int64 were all converted to float64 by StandardScaler.\n",
      "  app.launch_new_instance()\n",
      "/home/spencer/anaconda3/lib/python3.6/site-packages/ipykernel_launcher.py:16: DataConversionWarning: Data with input dtype int64 were all converted to float64 by StandardScaler.\n",
      "  app.launch_new_instance()\n",
      "/home/spencer/anaconda3/lib/python3.6/site-packages/ipykernel_launcher.py:16: DataConversionWarning: Data with input dtype int64 were all converted to float64 by StandardScaler.\n",
      "  app.launch_new_instance()\n",
      "/home/spencer/anaconda3/lib/python3.6/site-packages/ipykernel_launcher.py:16: DataConversionWarning: Data with input dtype int64 were all converted to float64 by StandardScaler.\n",
      "  app.launch_new_instance()\n",
      "/home/spencer/anaconda3/lib/python3.6/site-packages/ipykernel_launcher.py:16: DataConversionWarning: Data with input dtype int64 were all converted to float64 by StandardScaler.\n",
      "  app.launch_new_instance()\n",
      "/home/spencer/anaconda3/lib/python3.6/site-packages/ipykernel_launcher.py:16: DataConversionWarning: Data with input dtype int64 were all converted to float64 by StandardScaler.\n",
      "  app.launch_new_instance()\n",
      "/home/spencer/anaconda3/lib/python3.6/site-packages/ipykernel_launcher.py:16: DataConversionWarning: Data with input dtype int64 were all converted to float64 by StandardScaler.\n",
      "  app.launch_new_instance()\n",
      "/home/spencer/anaconda3/lib/python3.6/site-packages/ipykernel_launcher.py:16: DataConversionWarning: Data with input dtype int64 were all converted to float64 by StandardScaler.\n",
      "  app.launch_new_instance()\n",
      "/home/spencer/anaconda3/lib/python3.6/site-packages/ipykernel_launcher.py:16: DataConversionWarning: Data with input dtype int64 were all converted to float64 by StandardScaler.\n",
      "  app.launch_new_instance()\n",
      "/home/spencer/anaconda3/lib/python3.6/site-packages/ipykernel_launcher.py:16: DataConversionWarning: Data with input dtype int64 were all converted to float64 by StandardScaler.\n",
      "  app.launch_new_instance()\n",
      "/home/spencer/anaconda3/lib/python3.6/site-packages/ipykernel_launcher.py:16: DataConversionWarning: Data with input dtype int64 were all converted to float64 by StandardScaler.\n",
      "  app.launch_new_instance()\n",
      "/home/spencer/anaconda3/lib/python3.6/site-packages/ipykernel_launcher.py:16: DataConversionWarning: Data with input dtype int64 were all converted to float64 by StandardScaler.\n",
      "  app.launch_new_instance()\n",
      "/home/spencer/anaconda3/lib/python3.6/site-packages/ipykernel_launcher.py:16: DataConversionWarning: Data with input dtype int64 were all converted to float64 by StandardScaler.\n",
      "  app.launch_new_instance()\n",
      "/home/spencer/anaconda3/lib/python3.6/site-packages/ipykernel_launcher.py:16: DataConversionWarning: Data with input dtype int64 were all converted to float64 by StandardScaler.\n",
      "  app.launch_new_instance()\n",
      "/home/spencer/anaconda3/lib/python3.6/site-packages/ipykernel_launcher.py:16: DataConversionWarning: Data with input dtype int64 were all converted to float64 by StandardScaler.\n",
      "  app.launch_new_instance()\n",
      "/home/spencer/anaconda3/lib/python3.6/site-packages/ipykernel_launcher.py:16: DataConversionWarning: Data with input dtype int64 were all converted to float64 by StandardScaler.\n",
      "  app.launch_new_instance()\n",
      "/home/spencer/anaconda3/lib/python3.6/site-packages/ipykernel_launcher.py:16: DataConversionWarning: Data with input dtype int64 were all converted to float64 by StandardScaler.\n",
      "  app.launch_new_instance()\n",
      "/home/spencer/anaconda3/lib/python3.6/site-packages/ipykernel_launcher.py:16: DataConversionWarning: Data with input dtype int64 were all converted to float64 by StandardScaler.\n",
      "  app.launch_new_instance()\n",
      "/home/spencer/anaconda3/lib/python3.6/site-packages/ipykernel_launcher.py:16: DataConversionWarning: Data with input dtype int64 were all converted to float64 by StandardScaler.\n",
      "  app.launch_new_instance()\n",
      "/home/spencer/anaconda3/lib/python3.6/site-packages/ipykernel_launcher.py:16: DataConversionWarning: Data with input dtype int64 were all converted to float64 by StandardScaler.\n",
      "  app.launch_new_instance()\n",
      "/home/spencer/anaconda3/lib/python3.6/site-packages/ipykernel_launcher.py:16: DataConversionWarning: Data with input dtype int64 were all converted to float64 by StandardScaler.\n",
      "  app.launch_new_instance()\n"
     ]
    }
   ],
   "source": [
    "period = list(range(1,63))\n",
    "scores = []\n",
    "smoothscores = []\n",
    "example = {\n",
    "  'airport_code': 'LAX',  # str\n",
    "  'airline': 'American Airlines',    # str\n",
    "  'claim_type': 'PropertyLoss',    # str\n",
    "  'claim_site': 'Checked Baggage',  # str\n",
    "  'item_category': 'Clothing',  # str\n",
    "  'days_waited_to_file_claim': 0,  # int\n",
    "  'Month_inc_date': '6'  # int (1-12)\n",
    "}\n",
    "\n",
    "for i in period:\n",
    "    example['days_waited_to_file_claim'] = i\n",
    "    scores.append(make_prediction(example))\n",
    "\n",
    "for i in range(0, len(period)-2):\n",
    "    smoothscores.append((scores[i] + scores[i + 1] + scores[i+2]) / 3)"
   ]
  },
  {
   "cell_type": "code",
   "execution_count": 243,
   "metadata": {},
   "outputs": [
    {
     "data": {
      "text/plain": [
       "<matplotlib.collections.PathCollection at 0x7fa6e10cfda0>"
      ]
     },
     "execution_count": 243,
     "metadata": {},
     "output_type": "execute_result"
    },
    {
     "data": {
      "image/png": "[encoded data removed]",
      "text/plain": [
       "<Figure size 1080x432 with 1 Axes>"
      ]
     },
     "metadata": {
      "needs_background": "light"
     },
     "output_type": "display_data"
    }
   ],
   "source": [
    "fig, ax = plt.subplots(figsize = (15,6))\n",
    "ax.scatter(x=period, y=el3)\n"
   ]
  },
  {
   "cell_type": "code",
   "execution_count": 123,
   "metadata": {},
   "outputs": [
    {
     "data": {
      "text/plain": [
       "<matplotlib.collections.PathCollection at 0x7fa6f4fa28d0>"
      ]
     },
     "execution_count": 123,
     "metadata": {},
     "output_type": "execute_result"
    },
    {
     "data": {
      "image/png": "[encoded data removed]",
      "text/plain": [
       "<Figure size 360x288 with 1 Axes>"
      ]
     },
     "metadata": {
      "needs_background": "light"
     },
     "output_type": "display_data"
    }
   ],
   "source": [
    "example = {\n",
    "  'airport_code': 'SEA',  # str\n",
    "  'airline': 'Delta Air Lines',    # str\n",
    "  'claim_type': 'PropertyLoss',    # str\n",
    "  'claim_site': 'Checkpoint',  # str\n",
    "  'item_category': 'Clothing',  # str\n",
    "  'days_waited_to_file_claim': 20,  # int\n",
    "  'Month_received': '1'  # int (1-12)\n",
    "}\n",
    "el1 = []\n",
    "for i in range(1,13):\n",
    "    example['Month_received'] = str(i)\n",
    "    el1.append(make_prediction(example))\n",
    "\n",
    "example = {\n",
    "  'airport_code': 'JFK',  # str\n",
    "  'airline': 'Southwest Airlines',    # str\n",
    "  'claim_type': 'PropertyDamage',    # str\n",
    "  'claim_site': 'Checkpoint',  # str\n",
    "  'item_category': 'Clothing',  # str\n",
    "  'days_waited_to_file_claim': 20,  # int\n",
    "  'Month_received': '10'  # int (1-12)\n",
    "}\n",
    "el2 = []\n",
    "for i in range(1,13):\n",
    "    example['Month_received'] = str(i)\n",
    "    el2.append(make_prediction(example))\n",
    "\n",
    "example = {\n",
    "  'airport_code': 'ORD',  # str\n",
    "  'airline': 'UAL',    # str\n",
    "  'claim_type': 'PropertyDamage',    # str\n",
    "  'claim_site': 'Checkpoint',  # str\n",
    "  'item_category': 'Jewelry',  # str\n",
    "  'days_waited_to_file_claim': 20,  # int\n",
    "  'Month_received': '11'  # int (1-12)\n",
    "}\n",
    "el3 = []\n",
    "for i in range(1,13):\n",
    "    example['Month_received'] = str(i)\n",
    "    el3.append(make_prediction(example))\n",
    "\n",
    "example = {\n",
    "  'airport_code': 'ORD',  # str\n",
    "  'airline': 'UAL',    # str\n",
    "  'claim_type': 'PropertyDamage',    # str\n",
    "  'claim_site': 'Checked Baggage',  # str\n",
    "  'item_category': 'Jewelry',  # str\n",
    "  'days_waited_to_file_claim': 20,  # int\n",
    "  'Month_received': '11'  # int (1-12)\n",
    "}\n",
    "el4 = []\n",
    "for i in range(1,13):\n",
    "    example['Month_received'] = str(i)\n",
    "    el4.append(make_prediction(example))\n",
    "\n",
    "example = {\n",
    "  'airport_code': 'LAX',  # str\n",
    "  'airline': 'American Airlines',    # str\n",
    "  'claim_type': 'PropertyLoss',    # str\n",
    "  'claim_site': 'Checked Baggage',  # str\n",
    "  'item_category': 'Computer',  # str\n",
    "  'days_waited_to_file_claim': 20,  # int\n",
    "  'Month_received': '6'  # int (1-12)\n",
    "}\n",
    "el5 = []\n",
    "for i in range(1,13):\n",
    "    example['Month_received'] = str(i)\n",
    "    el5.append(make_prediction(example))\n",
    "\n",
    "example = {\n",
    "  'airport_code': 'PDX',  # str\n",
    "  'airline': 'Alaska Airlines',    # str\n",
    "  'claim_type': 'PropertyLoss',    # str\n",
    "  'claim_site': 'Checkpoint',  # str\n",
    "  'item_category': 'Purse',  # str\n",
    "  'days_waited_to_file_claim': 20,  # int\n",
    "  'Month_received': '3'  # int (1-12)\n",
    "}\n",
    "el6 = []\n",
    "for i in range(1,13):\n",
    "    example['Month_received'] = str(i)\n",
    "    el6.append(make_prediction(example))\n",
    "\n",
    "fig, ax = plt.subplots(figsize = (5,4))\n",
    "ax.scatter(x=range(1,13), y=el1)\n",
    "ax.scatter(x=range(1,13), y=el2)\n",
    "ax.scatter(x=range(1,13), y=el3)\n",
    "ax.scatter(x=range(1,13), y=el4)\n",
    "ax.scatter(x=range(1,13), y=el5)\n",
    "ax.scatter(x=range(1,13), y=el6)"
   ]
  },
  {
   "cell_type": "code",
   "execution_count": 124,
   "metadata": {},
   "outputs": [
    {
     "data": {
      "text/plain": [
       "<matplotlib.collections.PathCollection at 0x7fa6f4e4b9b0>"
      ]
     },
     "execution_count": 124,
     "metadata": {},
     "output_type": "execute_result"
    },
    {
     "data": {
      "image/png": "[encoded data removed]",
      "text/plain": [
       "<Figure size 1080x432 with 1 Axes>"
      ]
     },
     "metadata": {
      "needs_background": "light"
     },
     "output_type": "display_data"
    }
   ],
   "source": [
    "example = {\n",
    "  'airport_code': 'SEA',  # str\n",
    "  'airline': 'Delta Air Lines',    # str\n",
    "  'claim_type': 'PropertyLoss',    # str\n",
    "  'claim_site': 'Checkpoint',  # str\n",
    "  'item_category': 'Clothing',  # str\n",
    "  'days_waited_to_file_claim': 7,  # int\n",
    "  'Month_received': '1'  # int (1-12)\n",
    "}\n",
    "el1 = []\n",
    "for i in range(1,60):\n",
    "    example['days_waited_to_file_claim'] = i\n",
    "    el1.append(make_prediction(example))\n",
    "\n",
    "example = {\n",
    "  'airport_code': 'JFK',  # str\n",
    "  'airline': 'Southwest Airlines',    # str\n",
    "  'claim_type': 'PropertyDamage',    # str\n",
    "  'claim_site': 'Checkpoint',  # str\n",
    "  'item_category': 'Clothing',  # str\n",
    "  'days_waited_to_file_claim': 7,  # int\n",
    "  'Month_received': '10'  # int (1-12)\n",
    "}\n",
    "el2 = []\n",
    "for i in range(1,60):\n",
    "    example['days_waited_to_file_claim'] = i\n",
    "    el2.append(make_prediction(example))\n",
    "\n",
    "example = {\n",
    "  'airport_code': 'ORD',  # str\n",
    "  'airline': 'UAL',    # str\n",
    "  'claim_type': 'PropertyDamage',    # str\n",
    "  'claim_site': 'Checkpoint',  # str\n",
    "  'item_category': 'Jewelry',  # str\n",
    "  'days_waited_to_file_claim': 7,  # int\n",
    "  'Month_received': '11'  # int (1-12)\n",
    "}\n",
    "el3 = []\n",
    "for i in range(1,60):\n",
    "    example['days_waited_to_file_claim'] = i\n",
    "    el3.append(make_prediction(example))\n",
    "\n",
    "example = {\n",
    "  'airport_code': 'ORD',  # str\n",
    "  'airline': 'UAL',    # str\n",
    "  'claim_type': 'PropertyDamage',    # str\n",
    "  'claim_site': 'Checked Baggage',  # str\n",
    "  'item_category': 'Jewelry',  # str\n",
    "  'days_waited_to_file_claim': 7,  # int\n",
    "  'Month_received': '11'  # int (1-12)\n",
    "}\n",
    "el4 = []\n",
    "for i in range(1,60):\n",
    "    example['days_waited_to_file_claim'] = i\n",
    "    el4.append(make_prediction(example))\n",
    "\n",
    "example = {\n",
    "  'airport_code': 'LAX',  # str\n",
    "  'airline': 'American Airlines',    # str\n",
    "  'claim_type': 'PropertyLoss',    # str\n",
    "  'claim_site': 'Checked Baggage',  # str\n",
    "  'item_category': 'Computer',  # str\n",
    "  'days_waited_to_file_claim': 30,  # int\n",
    "  'Month_received': '6'  # int (1-12)\n",
    "}\n",
    "el5 = []\n",
    "for i in range(1,60):\n",
    "    example['days_waited_to_file_claim'] = i\n",
    "    el5.append(make_prediction(example))\n",
    "\n",
    "example = {\n",
    "  'airport_code': 'PDX',  # str\n",
    "  'airline': 'Alaska Airlines',    # str\n",
    "  'claim_type': 'PropertyLoss',    # str\n",
    "  'claim_site': 'Checkpoint',  # str\n",
    "  'item_category': 'Purse',  # str\n",
    "  'days_waited_to_file_claim': 5000,  # int\n",
    "  'Month_received': '3'  # int (1-12)\n",
    "}\n",
    "el6 = []\n",
    "for i in range(1,60):\n",
    "    example['days_waited_to_file_claim'] = i\n",
    "    el6.append(make_prediction(example))\n",
    "\n",
    "fig, ax = plt.subplots(figsize = (15,6))\n",
    "ax.scatter(x=range(1,60), y=el1)\n",
    "ax.scatter(x=range(1,60), y=el2)\n",
    "ax.scatter(x=range(1,60), y=el3)\n",
    "ax.scatter(x=range(1,60), y=el4)\n",
    "ax.scatter(x=range(1,60), y=el5)\n",
    "ax.scatter(x=range(1,60), y=el6)"
   ]
  },
  {
   "cell_type": "code",
   "execution_count": 43,
   "metadata": {},
   "outputs": [],
   "source": [
    "import xgboost\n",
    "from xgboost import XGBClassifier"
   ]
  },
  {
   "cell_type": "code",
   "execution_count": 44,
   "metadata": {},
   "outputs": [
    {
     "name": "stdout",
     "output_type": "stream",
     "text": [
      "[17:12:41] src/tree/updater_prune.cc:74: tree pruning end, 1 roots, 14 extra nodes, 0 pruned nodes, max_depth=3\n",
      "[17:12:42] src/tree/updater_prune.cc:74: tree pruning end, 1 roots, 14 extra nodes, 0 pruned nodes, max_depth=3\n",
      "[17:12:42] src/tree/updater_prune.cc:74: tree pruning end, 1 roots, 14 extra nodes, 0 pruned nodes, max_depth=3\n",
      "[17:12:42] src/tree/updater_prune.cc:74: tree pruning end, 1 roots, 14 extra nodes, 0 pruned nodes, max_depth=3\n",
      "[17:12:42] src/tree/updater_prune.cc:74: tree pruning end, 1 roots, 14 extra nodes, 0 pruned nodes, max_depth=3\n",
      "[17:12:43] src/tree/updater_prune.cc:74: tree pruning end, 1 roots, 14 extra nodes, 0 pruned nodes, max_depth=3\n",
      "[17:12:43] src/tree/updater_prune.cc:74: tree pruning end, 1 roots, 14 extra nodes, 0 pruned nodes, max_depth=3\n",
      "[17:12:43] src/tree/updater_prune.cc:74: tree pruning end, 1 roots, 14 extra nodes, 0 pruned nodes, max_depth=3\n",
      "[17:12:43] src/tree/updater_prune.cc:74: tree pruning end, 1 roots, 14 extra nodes, 0 pruned nodes, max_depth=3\n",
      "[17:12:43] src/tree/updater_prune.cc:74: tree pruning end, 1 roots, 14 extra nodes, 0 pruned nodes, max_depth=3\n",
      "[17:12:44] src/tree/updater_prune.cc:74: tree pruning end, 1 roots, 14 extra nodes, 0 pruned nodes, max_depth=3\n",
      "[17:12:44] src/tree/updater_prune.cc:74: tree pruning end, 1 roots, 14 extra nodes, 0 pruned nodes, max_depth=3\n",
      "[17:12:44] src/tree/updater_prune.cc:74: tree pruning end, 1 roots, 14 extra nodes, 0 pruned nodes, max_depth=3\n",
      "[17:12:44] src/tree/updater_prune.cc:74: tree pruning end, 1 roots, 14 extra nodes, 0 pruned nodes, max_depth=3\n",
      "[17:12:45] src/tree/updater_prune.cc:74: tree pruning end, 1 roots, 14 extra nodes, 0 pruned nodes, max_depth=3\n",
      "[17:12:45] src/tree/updater_prune.cc:74: tree pruning end, 1 roots, 14 extra nodes, 0 pruned nodes, max_depth=3\n",
      "[17:12:45] src/tree/updater_prune.cc:74: tree pruning end, 1 roots, 14 extra nodes, 0 pruned nodes, max_depth=3\n",
      "[17:12:45] src/tree/updater_prune.cc:74: tree pruning end, 1 roots, 14 extra nodes, 0 pruned nodes, max_depth=3\n",
      "[17:12:46] src/tree/updater_prune.cc:74: tree pruning end, 1 roots, 14 extra nodes, 0 pruned nodes, max_depth=3\n",
      "[17:12:46] src/tree/updater_prune.cc:74: tree pruning end, 1 roots, 14 extra nodes, 0 pruned nodes, max_depth=3\n",
      "[17:12:46] src/tree/updater_prune.cc:74: tree pruning end, 1 roots, 14 extra nodes, 0 pruned nodes, max_depth=3\n",
      "[17:12:46] src/tree/updater_prune.cc:74: tree pruning end, 1 roots, 14 extra nodes, 0 pruned nodes, max_depth=3\n",
      "[17:12:47] src/tree/updater_prune.cc:74: tree pruning end, 1 roots, 14 extra nodes, 0 pruned nodes, max_depth=3\n",
      "[17:12:47] src/tree/updater_prune.cc:74: tree pruning end, 1 roots, 14 extra nodes, 0 pruned nodes, max_depth=3\n",
      "[17:12:47] src/tree/updater_prune.cc:74: tree pruning end, 1 roots, 14 extra nodes, 0 pruned nodes, max_depth=3\n",
      "[17:12:47] src/tree/updater_prune.cc:74: tree pruning end, 1 roots, 14 extra nodes, 0 pruned nodes, max_depth=3\n",
      "[17:12:48] src/tree/updater_prune.cc:74: tree pruning end, 1 roots, 14 extra nodes, 0 pruned nodes, max_depth=3\n",
      "[17:12:48] src/tree/updater_prune.cc:74: tree pruning end, 1 roots, 14 extra nodes, 0 pruned nodes, max_depth=3\n",
      "[17:12:48] src/tree/updater_prune.cc:74: tree pruning end, 1 roots, 14 extra nodes, 0 pruned nodes, max_depth=3\n",
      "[17:12:48] src/tree/updater_prune.cc:74: tree pruning end, 1 roots, 14 extra nodes, 0 pruned nodes, max_depth=3\n",
      "[17:12:48] src/tree/updater_prune.cc:74: tree pruning end, 1 roots, 14 extra nodes, 0 pruned nodes, max_depth=3\n",
      "[17:12:49] src/tree/updater_prune.cc:74: tree pruning end, 1 roots, 14 extra nodes, 0 pruned nodes, max_depth=3\n",
      "[17:12:49] src/tree/updater_prune.cc:74: tree pruning end, 1 roots, 14 extra nodes, 0 pruned nodes, max_depth=3\n",
      "[17:12:49] src/tree/updater_prune.cc:74: tree pruning end, 1 roots, 14 extra nodes, 0 pruned nodes, max_depth=3\n",
      "[17:12:49] src/tree/updater_prune.cc:74: tree pruning end, 1 roots, 14 extra nodes, 0 pruned nodes, max_depth=3\n",
      "[17:12:50] src/tree/updater_prune.cc:74: tree pruning end, 1 roots, 14 extra nodes, 0 pruned nodes, max_depth=3\n",
      "[17:12:50] src/tree/updater_prune.cc:74: tree pruning end, 1 roots, 14 extra nodes, 0 pruned nodes, max_depth=3\n",
      "[17:12:50] src/tree/updater_prune.cc:74: tree pruning end, 1 roots, 8 extra nodes, 0 pruned nodes, max_depth=3\n",
      "[17:12:50] src/tree/updater_prune.cc:74: tree pruning end, 1 roots, 14 extra nodes, 0 pruned nodes, max_depth=3\n",
      "[17:12:51] src/tree/updater_prune.cc:74: tree pruning end, 1 roots, 14 extra nodes, 0 pruned nodes, max_depth=3\n",
      "[17:12:51] src/tree/updater_prune.cc:74: tree pruning end, 1 roots, 14 extra nodes, 0 pruned nodes, max_depth=3\n",
      "[17:12:51] src/tree/updater_prune.cc:74: tree pruning end, 1 roots, 14 extra nodes, 0 pruned nodes, max_depth=3\n",
      "[17:12:51] src/tree/updater_prune.cc:74: tree pruning end, 1 roots, 14 extra nodes, 0 pruned nodes, max_depth=3\n",
      "[17:12:52] src/tree/updater_prune.cc:74: tree pruning end, 1 roots, 14 extra nodes, 0 pruned nodes, max_depth=3\n",
      "[17:12:52] src/tree/updater_prune.cc:74: tree pruning end, 1 roots, 14 extra nodes, 0 pruned nodes, max_depth=3\n",
      "[17:12:52] src/tree/updater_prune.cc:74: tree pruning end, 1 roots, 14 extra nodes, 0 pruned nodes, max_depth=3\n",
      "[17:12:52] src/tree/updater_prune.cc:74: tree pruning end, 1 roots, 14 extra nodes, 0 pruned nodes, max_depth=3\n",
      "[17:12:53] src/tree/updater_prune.cc:74: tree pruning end, 1 roots, 14 extra nodes, 0 pruned nodes, max_depth=3\n",
      "[17:12:53] src/tree/updater_prune.cc:74: tree pruning end, 1 roots, 14 extra nodes, 0 pruned nodes, max_depth=3\n",
      "[17:12:53] src/tree/updater_prune.cc:74: tree pruning end, 1 roots, 14 extra nodes, 0 pruned nodes, max_depth=3\n",
      "[17:12:53] src/tree/updater_prune.cc:74: tree pruning end, 1 roots, 14 extra nodes, 0 pruned nodes, max_depth=3\n",
      "[17:12:53] src/tree/updater_prune.cc:74: tree pruning end, 1 roots, 14 extra nodes, 0 pruned nodes, max_depth=3\n",
      "[17:12:54] src/tree/updater_prune.cc:74: tree pruning end, 1 roots, 14 extra nodes, 0 pruned nodes, max_depth=3\n",
      "[17:12:54] src/tree/updater_prune.cc:74: tree pruning end, 1 roots, 12 extra nodes, 0 pruned nodes, max_depth=3\n",
      "[17:12:54] src/tree/updater_prune.cc:74: tree pruning end, 1 roots, 14 extra nodes, 0 pruned nodes, max_depth=3\n",
      "[17:12:54] src/tree/updater_prune.cc:74: tree pruning end, 1 roots, 14 extra nodes, 0 pruned nodes, max_depth=3\n",
      "[17:12:55] src/tree/updater_prune.cc:74: tree pruning end, 1 roots, 14 extra nodes, 0 pruned nodes, max_depth=3\n",
      "[17:12:55] src/tree/updater_prune.cc:74: tree pruning end, 1 roots, 14 extra nodes, 0 pruned nodes, max_depth=3\n",
      "[17:12:55] src/tree/updater_prune.cc:74: tree pruning end, 1 roots, 14 extra nodes, 0 pruned nodes, max_depth=3\n",
      "[17:12:55] src/tree/updater_prune.cc:74: tree pruning end, 1 roots, 12 extra nodes, 0 pruned nodes, max_depth=3\n",
      "[17:12:56] src/tree/updater_prune.cc:74: tree pruning end, 1 roots, 14 extra nodes, 0 pruned nodes, max_depth=3\n",
      "[17:12:56] src/tree/updater_prune.cc:74: tree pruning end, 1 roots, 14 extra nodes, 0 pruned nodes, max_depth=3\n",
      "[17:12:56] src/tree/updater_prune.cc:74: tree pruning end, 1 roots, 14 extra nodes, 0 pruned nodes, max_depth=3\n",
      "[17:12:56] src/tree/updater_prune.cc:74: tree pruning end, 1 roots, 14 extra nodes, 0 pruned nodes, max_depth=3\n",
      "[17:12:57] src/tree/updater_prune.cc:74: tree pruning end, 1 roots, 14 extra nodes, 0 pruned nodes, max_depth=3\n",
      "[17:12:57] src/tree/updater_prune.cc:74: tree pruning end, 1 roots, 12 extra nodes, 0 pruned nodes, max_depth=3\n",
      "[17:12:57] src/tree/updater_prune.cc:74: tree pruning end, 1 roots, 14 extra nodes, 0 pruned nodes, max_depth=3\n",
      "[17:12:57] src/tree/updater_prune.cc:74: tree pruning end, 1 roots, 14 extra nodes, 0 pruned nodes, max_depth=3\n",
      "[17:12:58] src/tree/updater_prune.cc:74: tree pruning end, 1 roots, 14 extra nodes, 0 pruned nodes, max_depth=3\n",
      "[17:12:58] src/tree/updater_prune.cc:74: tree pruning end, 1 roots, 14 extra nodes, 0 pruned nodes, max_depth=3\n",
      "[17:12:58] src/tree/updater_prune.cc:74: tree pruning end, 1 roots, 14 extra nodes, 0 pruned nodes, max_depth=3\n",
      "[17:12:58] src/tree/updater_prune.cc:74: tree pruning end, 1 roots, 14 extra nodes, 0 pruned nodes, max_depth=3\n",
      "[17:12:58] src/tree/updater_prune.cc:74: tree pruning end, 1 roots, 14 extra nodes, 0 pruned nodes, max_depth=3\n",
      "[17:12:59] src/tree/updater_prune.cc:74: tree pruning end, 1 roots, 14 extra nodes, 0 pruned nodes, max_depth=3\n",
      "[17:12:59] src/tree/updater_prune.cc:74: tree pruning end, 1 roots, 12 extra nodes, 0 pruned nodes, max_depth=3\n",
      "[17:12:59] src/tree/updater_prune.cc:74: tree pruning end, 1 roots, 12 extra nodes, 0 pruned nodes, max_depth=3\n",
      "[17:12:59] src/tree/updater_prune.cc:74: tree pruning end, 1 roots, 12 extra nodes, 0 pruned nodes, max_depth=3\n",
      "[17:13:00] src/tree/updater_prune.cc:74: tree pruning end, 1 roots, 14 extra nodes, 0 pruned nodes, max_depth=3\n",
      "[17:13:00] src/tree/updater_prune.cc:74: tree pruning end, 1 roots, 14 extra nodes, 0 pruned nodes, max_depth=3\n",
      "[17:13:00] src/tree/updater_prune.cc:74: tree pruning end, 1 roots, 12 extra nodes, 0 pruned nodes, max_depth=3\n",
      "[17:13:00] src/tree/updater_prune.cc:74: tree pruning end, 1 roots, 14 extra nodes, 0 pruned nodes, max_depth=3\n",
      "[17:13:01] src/tree/updater_prune.cc:74: tree pruning end, 1 roots, 14 extra nodes, 0 pruned nodes, max_depth=3\n",
      "[17:13:01] src/tree/updater_prune.cc:74: tree pruning end, 1 roots, 14 extra nodes, 0 pruned nodes, max_depth=3\n",
      "[17:13:01] src/tree/updater_prune.cc:74: tree pruning end, 1 roots, 14 extra nodes, 0 pruned nodes, max_depth=3\n",
      "[17:13:01] src/tree/updater_prune.cc:74: tree pruning end, 1 roots, 12 extra nodes, 0 pruned nodes, max_depth=3\n",
      "[17:13:02] src/tree/updater_prune.cc:74: tree pruning end, 1 roots, 14 extra nodes, 0 pruned nodes, max_depth=3\n",
      "[17:13:02] src/tree/updater_prune.cc:74: tree pruning end, 1 roots, 14 extra nodes, 0 pruned nodes, max_depth=3\n",
      "[17:13:02] src/tree/updater_prune.cc:74: tree pruning end, 1 roots, 14 extra nodes, 0 pruned nodes, max_depth=3\n",
      "[17:13:02] src/tree/updater_prune.cc:74: tree pruning end, 1 roots, 14 extra nodes, 0 pruned nodes, max_depth=3\n",
      "[17:13:03] src/tree/updater_prune.cc:74: tree pruning end, 1 roots, 14 extra nodes, 0 pruned nodes, max_depth=3\n",
      "[17:13:03] src/tree/updater_prune.cc:74: tree pruning end, 1 roots, 14 extra nodes, 0 pruned nodes, max_depth=3\n",
      "[17:13:03] src/tree/updater_prune.cc:74: tree pruning end, 1 roots, 14 extra nodes, 0 pruned nodes, max_depth=3\n",
      "[17:13:03] src/tree/updater_prune.cc:74: tree pruning end, 1 roots, 14 extra nodes, 0 pruned nodes, max_depth=3\n",
      "[17:13:03] src/tree/updater_prune.cc:74: tree pruning end, 1 roots, 14 extra nodes, 0 pruned nodes, max_depth=3\n",
      "[17:13:04] src/tree/updater_prune.cc:74: tree pruning end, 1 roots, 12 extra nodes, 0 pruned nodes, max_depth=3\n",
      "[17:13:04] src/tree/updater_prune.cc:74: tree pruning end, 1 roots, 14 extra nodes, 0 pruned nodes, max_depth=3\n",
      "[17:13:04] src/tree/updater_prune.cc:74: tree pruning end, 1 roots, 14 extra nodes, 0 pruned nodes, max_depth=3\n",
      "[17:13:04] src/tree/updater_prune.cc:74: tree pruning end, 1 roots, 14 extra nodes, 0 pruned nodes, max_depth=3\n",
      "[17:13:05] src/tree/updater_prune.cc:74: tree pruning end, 1 roots, 14 extra nodes, 0 pruned nodes, max_depth=3\n",
      "[17:13:05] src/tree/updater_prune.cc:74: tree pruning end, 1 roots, 14 extra nodes, 0 pruned nodes, max_depth=3\n",
      "[17:13:05] src/tree/updater_prune.cc:74: tree pruning end, 1 roots, 12 extra nodes, 0 pruned nodes, max_depth=3\n",
      "[17:13:05] src/tree/updater_prune.cc:74: tree pruning end, 1 roots, 14 extra nodes, 0 pruned nodes, max_depth=3\n",
      "[17:13:06] src/tree/updater_prune.cc:74: tree pruning end, 1 roots, 14 extra nodes, 0 pruned nodes, max_depth=3\n",
      "[17:13:06] src/tree/updater_prune.cc:74: tree pruning end, 1 roots, 12 extra nodes, 0 pruned nodes, max_depth=3\n",
      "[17:13:06] src/tree/updater_prune.cc:74: tree pruning end, 1 roots, 14 extra nodes, 0 pruned nodes, max_depth=3\n",
      "[17:13:06] src/tree/updater_prune.cc:74: tree pruning end, 1 roots, 14 extra nodes, 0 pruned nodes, max_depth=3\n",
      "[17:13:06] src/tree/updater_prune.cc:74: tree pruning end, 1 roots, 14 extra nodes, 0 pruned nodes, max_depth=3\n",
      "[17:13:07] src/tree/updater_prune.cc:74: tree pruning end, 1 roots, 14 extra nodes, 0 pruned nodes, max_depth=3\n",
      "[17:13:07] src/tree/updater_prune.cc:74: tree pruning end, 1 roots, 14 extra nodes, 0 pruned nodes, max_depth=3\n",
      "[17:13:07] src/tree/updater_prune.cc:74: tree pruning end, 1 roots, 14 extra nodes, 0 pruned nodes, max_depth=3\n",
      "[17:13:07] src/tree/updater_prune.cc:74: tree pruning end, 1 roots, 14 extra nodes, 0 pruned nodes, max_depth=3\n",
      "[17:13:08] src/tree/updater_prune.cc:74: tree pruning end, 1 roots, 14 extra nodes, 0 pruned nodes, max_depth=3\n",
      "[17:13:08] src/tree/updater_prune.cc:74: tree pruning end, 1 roots, 14 extra nodes, 0 pruned nodes, max_depth=3\n",
      "[17:13:08] src/tree/updater_prune.cc:74: tree pruning end, 1 roots, 14 extra nodes, 0 pruned nodes, max_depth=3\n",
      "[17:13:08] src/tree/updater_prune.cc:74: tree pruning end, 1 roots, 14 extra nodes, 0 pruned nodes, max_depth=3\n",
      "[17:13:09] src/tree/updater_prune.cc:74: tree pruning end, 1 roots, 14 extra nodes, 0 pruned nodes, max_depth=3\n",
      "[17:13:09] src/tree/updater_prune.cc:74: tree pruning end, 1 roots, 12 extra nodes, 0 pruned nodes, max_depth=3\n",
      "[17:13:09] src/tree/updater_prune.cc:74: tree pruning end, 1 roots, 10 extra nodes, 0 pruned nodes, max_depth=3\n",
      "[17:13:09] src/tree/updater_prune.cc:74: tree pruning end, 1 roots, 14 extra nodes, 0 pruned nodes, max_depth=3\n",
      "[17:13:10] src/tree/updater_prune.cc:74: tree pruning end, 1 roots, 12 extra nodes, 0 pruned nodes, max_depth=3\n",
      "[17:13:10] src/tree/updater_prune.cc:74: tree pruning end, 1 roots, 14 extra nodes, 0 pruned nodes, max_depth=3\n",
      "[17:13:10] src/tree/updater_prune.cc:74: tree pruning end, 1 roots, 14 extra nodes, 0 pruned nodes, max_depth=3\n",
      "[17:13:10] src/tree/updater_prune.cc:74: tree pruning end, 1 roots, 14 extra nodes, 0 pruned nodes, max_depth=3\n",
      "[17:13:11] src/tree/updater_prune.cc:74: tree pruning end, 1 roots, 14 extra nodes, 0 pruned nodes, max_depth=3\n",
      "[17:13:11] src/tree/updater_prune.cc:74: tree pruning end, 1 roots, 14 extra nodes, 0 pruned nodes, max_depth=3\n",
      "[17:13:11] src/tree/updater_prune.cc:74: tree pruning end, 1 roots, 12 extra nodes, 0 pruned nodes, max_depth=3\n",
      "[17:13:11] src/tree/updater_prune.cc:74: tree pruning end, 1 roots, 14 extra nodes, 0 pruned nodes, max_depth=3\n",
      "[17:13:12] src/tree/updater_prune.cc:74: tree pruning end, 1 roots, 14 extra nodes, 0 pruned nodes, max_depth=3\n",
      "[17:13:12] src/tree/updater_prune.cc:74: tree pruning end, 1 roots, 12 extra nodes, 0 pruned nodes, max_depth=3\n",
      "[17:13:12] src/tree/updater_prune.cc:74: tree pruning end, 1 roots, 14 extra nodes, 0 pruned nodes, max_depth=3\n",
      "[17:13:12] src/tree/updater_prune.cc:74: tree pruning end, 1 roots, 14 extra nodes, 0 pruned nodes, max_depth=3\n",
      "[17:13:13] src/tree/updater_prune.cc:74: tree pruning end, 1 roots, 12 extra nodes, 0 pruned nodes, max_depth=3\n",
      "[17:13:13] src/tree/updater_prune.cc:74: tree pruning end, 1 roots, 14 extra nodes, 0 pruned nodes, max_depth=3\n",
      "[17:13:13] src/tree/updater_prune.cc:74: tree pruning end, 1 roots, 12 extra nodes, 0 pruned nodes, max_depth=3\n",
      "[17:13:13] src/tree/updater_prune.cc:74: tree pruning end, 1 roots, 14 extra nodes, 0 pruned nodes, max_depth=3\n",
      "[17:13:13] src/tree/updater_prune.cc:74: tree pruning end, 1 roots, 14 extra nodes, 0 pruned nodes, max_depth=3\n",
      "[17:13:14] src/tree/updater_prune.cc:74: tree pruning end, 1 roots, 12 extra nodes, 0 pruned nodes, max_depth=3\n",
      "[17:13:14] src/tree/updater_prune.cc:74: tree pruning end, 1 roots, 14 extra nodes, 0 pruned nodes, max_depth=3\n",
      "[17:13:14] src/tree/updater_prune.cc:74: tree pruning end, 1 roots, 12 extra nodes, 0 pruned nodes, max_depth=3\n",
      "[17:13:14] src/tree/updater_prune.cc:74: tree pruning end, 1 roots, 14 extra nodes, 0 pruned nodes, max_depth=3\n",
      "[17:13:15] src/tree/updater_prune.cc:74: tree pruning end, 1 roots, 12 extra nodes, 0 pruned nodes, max_depth=3\n",
      "[17:13:15] src/tree/updater_prune.cc:74: tree pruning end, 1 roots, 14 extra nodes, 0 pruned nodes, max_depth=3\n",
      "[17:13:15] src/tree/updater_prune.cc:74: tree pruning end, 1 roots, 12 extra nodes, 0 pruned nodes, max_depth=3\n",
      "[17:13:15] src/tree/updater_prune.cc:74: tree pruning end, 1 roots, 12 extra nodes, 0 pruned nodes, max_depth=3\n",
      "[17:13:16] src/tree/updater_prune.cc:74: tree pruning end, 1 roots, 14 extra nodes, 0 pruned nodes, max_depth=3\n",
      "[17:13:16] src/tree/updater_prune.cc:74: tree pruning end, 1 roots, 12 extra nodes, 0 pruned nodes, max_depth=3\n",
      "[17:13:16] src/tree/updater_prune.cc:74: tree pruning end, 1 roots, 10 extra nodes, 0 pruned nodes, max_depth=3\n",
      "[17:13:16] src/tree/updater_prune.cc:74: tree pruning end, 1 roots, 12 extra nodes, 0 pruned nodes, max_depth=3\n",
      "[17:13:17] src/tree/updater_prune.cc:74: tree pruning end, 1 roots, 14 extra nodes, 0 pruned nodes, max_depth=3\n",
      "[17:13:17] src/tree/updater_prune.cc:74: tree pruning end, 1 roots, 14 extra nodes, 0 pruned nodes, max_depth=3\n",
      "[17:13:17] src/tree/updater_prune.cc:74: tree pruning end, 1 roots, 14 extra nodes, 0 pruned nodes, max_depth=3\n",
      "[17:13:17] src/tree/updater_prune.cc:74: tree pruning end, 1 roots, 14 extra nodes, 0 pruned nodes, max_depth=3\n",
      "[17:13:18] src/tree/updater_prune.cc:74: tree pruning end, 1 roots, 14 extra nodes, 0 pruned nodes, max_depth=3\n",
      "[17:13:18] src/tree/updater_prune.cc:74: tree pruning end, 1 roots, 14 extra nodes, 0 pruned nodes, max_depth=3\n",
      "[17:13:18] src/tree/updater_prune.cc:74: tree pruning end, 1 roots, 10 extra nodes, 0 pruned nodes, max_depth=3\n",
      "[17:13:18] src/tree/updater_prune.cc:74: tree pruning end, 1 roots, 14 extra nodes, 0 pruned nodes, max_depth=3\n",
      "[17:13:19] src/tree/updater_prune.cc:74: tree pruning end, 1 roots, 12 extra nodes, 0 pruned nodes, max_depth=3\n",
      "[17:13:19] src/tree/updater_prune.cc:74: tree pruning end, 1 roots, 14 extra nodes, 0 pruned nodes, max_depth=3\n",
      "[17:13:19] src/tree/updater_prune.cc:74: tree pruning end, 1 roots, 12 extra nodes, 0 pruned nodes, max_depth=3\n",
      "[17:13:19] src/tree/updater_prune.cc:74: tree pruning end, 1 roots, 14 extra nodes, 0 pruned nodes, max_depth=3\n",
      "[17:13:19] src/tree/updater_prune.cc:74: tree pruning end, 1 roots, 14 extra nodes, 0 pruned nodes, max_depth=3\n",
      "[17:13:20] src/tree/updater_prune.cc:74: tree pruning end, 1 roots, 14 extra nodes, 0 pruned nodes, max_depth=3\n",
      "[17:13:20] src/tree/updater_prune.cc:74: tree pruning end, 1 roots, 12 extra nodes, 0 pruned nodes, max_depth=3\n",
      "[17:13:20] src/tree/updater_prune.cc:74: tree pruning end, 1 roots, 12 extra nodes, 0 pruned nodes, max_depth=3\n",
      "[17:13:20] src/tree/updater_prune.cc:74: tree pruning end, 1 roots, 14 extra nodes, 0 pruned nodes, max_depth=3\n",
      "[17:13:21] src/tree/updater_prune.cc:74: tree pruning end, 1 roots, 10 extra nodes, 0 pruned nodes, max_depth=3\n",
      "[17:13:21] src/tree/updater_prune.cc:74: tree pruning end, 1 roots, 14 extra nodes, 0 pruned nodes, max_depth=3\n",
      "[17:13:21] src/tree/updater_prune.cc:74: tree pruning end, 1 roots, 14 extra nodes, 0 pruned nodes, max_depth=3\n",
      "[17:13:21] src/tree/updater_prune.cc:74: tree pruning end, 1 roots, 14 extra nodes, 0 pruned nodes, max_depth=3\n",
      "[17:13:22] src/tree/updater_prune.cc:74: tree pruning end, 1 roots, 14 extra nodes, 0 pruned nodes, max_depth=3\n",
      "[17:13:22] src/tree/updater_prune.cc:74: tree pruning end, 1 roots, 14 extra nodes, 0 pruned nodes, max_depth=3\n",
      "[17:13:22] src/tree/updater_prune.cc:74: tree pruning end, 1 roots, 14 extra nodes, 0 pruned nodes, max_depth=3\n",
      "[17:13:22] src/tree/updater_prune.cc:74: tree pruning end, 1 roots, 14 extra nodes, 0 pruned nodes, max_depth=3\n",
      "[17:13:22] src/tree/updater_prune.cc:74: tree pruning end, 1 roots, 12 extra nodes, 0 pruned nodes, max_depth=3\n",
      "[17:13:23] src/tree/updater_prune.cc:74: tree pruning end, 1 roots, 12 extra nodes, 0 pruned nodes, max_depth=3\n",
      "[17:13:23] src/tree/updater_prune.cc:74: tree pruning end, 1 roots, 12 extra nodes, 0 pruned nodes, max_depth=3\n",
      "[17:13:23] src/tree/updater_prune.cc:74: tree pruning end, 1 roots, 14 extra nodes, 0 pruned nodes, max_depth=3\n",
      "[17:13:23] src/tree/updater_prune.cc:74: tree pruning end, 1 roots, 12 extra nodes, 0 pruned nodes, max_depth=3\n",
      "[17:13:24] src/tree/updater_prune.cc:74: tree pruning end, 1 roots, 14 extra nodes, 0 pruned nodes, max_depth=3\n",
      "[17:13:24] src/tree/updater_prune.cc:74: tree pruning end, 1 roots, 14 extra nodes, 0 pruned nodes, max_depth=3\n",
      "[17:13:24] src/tree/updater_prune.cc:74: tree pruning end, 1 roots, 14 extra nodes, 0 pruned nodes, max_depth=3\n",
      "[17:13:24] src/tree/updater_prune.cc:74: tree pruning end, 1 roots, 14 extra nodes, 0 pruned nodes, max_depth=3\n",
      "[17:13:25] src/tree/updater_prune.cc:74: tree pruning end, 1 roots, 14 extra nodes, 0 pruned nodes, max_depth=3\n",
      "[17:13:25] src/tree/updater_prune.cc:74: tree pruning end, 1 roots, 14 extra nodes, 0 pruned nodes, max_depth=3\n",
      "[17:13:25] src/tree/updater_prune.cc:74: tree pruning end, 1 roots, 14 extra nodes, 0 pruned nodes, max_depth=3\n",
      "[17:13:25] src/tree/updater_prune.cc:74: tree pruning end, 1 roots, 14 extra nodes, 0 pruned nodes, max_depth=3\n",
      "[17:13:26] src/tree/updater_prune.cc:74: tree pruning end, 1 roots, 12 extra nodes, 0 pruned nodes, max_depth=3\n",
      "[17:13:26] src/tree/updater_prune.cc:74: tree pruning end, 1 roots, 14 extra nodes, 0 pruned nodes, max_depth=3\n",
      "[17:13:26] src/tree/updater_prune.cc:74: tree pruning end, 1 roots, 14 extra nodes, 0 pruned nodes, max_depth=3\n",
      "[17:13:26] src/tree/updater_prune.cc:74: tree pruning end, 1 roots, 14 extra nodes, 0 pruned nodes, max_depth=3\n",
      "[17:13:27] src/tree/updater_prune.cc:74: tree pruning end, 1 roots, 12 extra nodes, 0 pruned nodes, max_depth=3\n",
      "[17:13:27] src/tree/updater_prune.cc:74: tree pruning end, 1 roots, 14 extra nodes, 0 pruned nodes, max_depth=3\n",
      "[17:13:27] src/tree/updater_prune.cc:74: tree pruning end, 1 roots, 8 extra nodes, 0 pruned nodes, max_depth=3\n",
      "[17:13:27] src/tree/updater_prune.cc:74: tree pruning end, 1 roots, 14 extra nodes, 0 pruned nodes, max_depth=3\n",
      "[17:13:28] src/tree/updater_prune.cc:74: tree pruning end, 1 roots, 14 extra nodes, 0 pruned nodes, max_depth=3\n",
      "[17:13:28] src/tree/updater_prune.cc:74: tree pruning end, 1 roots, 14 extra nodes, 0 pruned nodes, max_depth=3\n",
      "[17:13:29] src/tree/updater_prune.cc:74: tree pruning end, 1 roots, 14 extra nodes, 0 pruned nodes, max_depth=3\n",
      "[17:13:29] src/tree/updater_prune.cc:74: tree pruning end, 1 roots, 14 extra nodes, 0 pruned nodes, max_depth=3\n",
      "[17:13:30] src/tree/updater_prune.cc:74: tree pruning end, 1 roots, 14 extra nodes, 0 pruned nodes, max_depth=3\n",
      "[17:13:30] src/tree/updater_prune.cc:74: tree pruning end, 1 roots, 14 extra nodes, 0 pruned nodes, max_depth=3\n",
      "[17:13:30] src/tree/updater_prune.cc:74: tree pruning end, 1 roots, 12 extra nodes, 0 pruned nodes, max_depth=3\n",
      "[17:13:31] src/tree/updater_prune.cc:74: tree pruning end, 1 roots, 14 extra nodes, 0 pruned nodes, max_depth=3\n",
      "[17:13:31] src/tree/updater_prune.cc:74: tree pruning end, 1 roots, 14 extra nodes, 0 pruned nodes, max_depth=3\n",
      "[17:13:31] src/tree/updater_prune.cc:74: tree pruning end, 1 roots, 12 extra nodes, 0 pruned nodes, max_depth=3\n",
      "[17:13:31] src/tree/updater_prune.cc:74: tree pruning end, 1 roots, 14 extra nodes, 0 pruned nodes, max_depth=3\n",
      "[17:13:32] src/tree/updater_prune.cc:74: tree pruning end, 1 roots, 14 extra nodes, 0 pruned nodes, max_depth=3\n",
      "[17:13:32] src/tree/updater_prune.cc:74: tree pruning end, 1 roots, 14 extra nodes, 0 pruned nodes, max_depth=3\n",
      "[17:13:32] src/tree/updater_prune.cc:74: tree pruning end, 1 roots, 14 extra nodes, 0 pruned nodes, max_depth=3\n",
      "[17:13:32] src/tree/updater_prune.cc:74: tree pruning end, 1 roots, 14 extra nodes, 0 pruned nodes, max_depth=3\n",
      "[17:13:33] src/tree/updater_prune.cc:74: tree pruning end, 1 roots, 14 extra nodes, 0 pruned nodes, max_depth=3\n",
      "[17:13:33] src/tree/updater_prune.cc:74: tree pruning end, 1 roots, 14 extra nodes, 0 pruned nodes, max_depth=3\n",
      "[17:13:33] src/tree/updater_prune.cc:74: tree pruning end, 1 roots, 14 extra nodes, 0 pruned nodes, max_depth=3\n",
      "[17:13:34] src/tree/updater_prune.cc:74: tree pruning end, 1 roots, 14 extra nodes, 0 pruned nodes, max_depth=3\n",
      "[17:13:34] src/tree/updater_prune.cc:74: tree pruning end, 1 roots, 14 extra nodes, 0 pruned nodes, max_depth=3\n",
      "[17:13:34] src/tree/updater_prune.cc:74: tree pruning end, 1 roots, 12 extra nodes, 0 pruned nodes, max_depth=3\n",
      "[17:13:34] src/tree/updater_prune.cc:74: tree pruning end, 1 roots, 14 extra nodes, 0 pruned nodes, max_depth=3\n",
      "[17:13:35] src/tree/updater_prune.cc:74: tree pruning end, 1 roots, 14 extra nodes, 0 pruned nodes, max_depth=3\n",
      "[17:13:35] src/tree/updater_prune.cc:74: tree pruning end, 1 roots, 12 extra nodes, 0 pruned nodes, max_depth=3\n",
      "[17:13:35] src/tree/updater_prune.cc:74: tree pruning end, 1 roots, 14 extra nodes, 0 pruned nodes, max_depth=3\n",
      "[17:13:36] src/tree/updater_prune.cc:74: tree pruning end, 1 roots, 14 extra nodes, 0 pruned nodes, max_depth=3\n",
      "[17:13:36] src/tree/updater_prune.cc:74: tree pruning end, 1 roots, 14 extra nodes, 0 pruned nodes, max_depth=3\n",
      "[17:13:37] src/tree/updater_prune.cc:74: tree pruning end, 1 roots, 14 extra nodes, 0 pruned nodes, max_depth=3\n",
      "[17:13:37] src/tree/updater_prune.cc:74: tree pruning end, 1 roots, 12 extra nodes, 0 pruned nodes, max_depth=3\n",
      "[17:13:38] src/tree/updater_prune.cc:74: tree pruning end, 1 roots, 12 extra nodes, 0 pruned nodes, max_depth=3\n",
      "[17:13:38] src/tree/updater_prune.cc:74: tree pruning end, 1 roots, 14 extra nodes, 0 pruned nodes, max_depth=3\n",
      "[17:13:39] src/tree/updater_prune.cc:74: tree pruning end, 1 roots, 12 extra nodes, 0 pruned nodes, max_depth=3\n",
      "[17:13:39] src/tree/updater_prune.cc:74: tree pruning end, 1 roots, 14 extra nodes, 0 pruned nodes, max_depth=3\n",
      "[17:13:39] src/tree/updater_prune.cc:74: tree pruning end, 1 roots, 14 extra nodes, 0 pruned nodes, max_depth=3\n",
      "[17:13:40] src/tree/updater_prune.cc:74: tree pruning end, 1 roots, 14 extra nodes, 0 pruned nodes, max_depth=3\n",
      "[17:13:40] src/tree/updater_prune.cc:74: tree pruning end, 1 roots, 12 extra nodes, 0 pruned nodes, max_depth=3\n",
      "[17:13:40] src/tree/updater_prune.cc:74: tree pruning end, 1 roots, 14 extra nodes, 0 pruned nodes, max_depth=3\n",
      "[17:13:40] src/tree/updater_prune.cc:74: tree pruning end, 1 roots, 14 extra nodes, 0 pruned nodes, max_depth=3\n",
      "[17:13:41] src/tree/updater_prune.cc:74: tree pruning end, 1 roots, 14 extra nodes, 0 pruned nodes, max_depth=3\n",
      "[17:13:41] src/tree/updater_prune.cc:74: tree pruning end, 1 roots, 12 extra nodes, 0 pruned nodes, max_depth=3\n",
      "[17:13:41] src/tree/updater_prune.cc:74: tree pruning end, 1 roots, 12 extra nodes, 0 pruned nodes, max_depth=3\n",
      "[17:13:41] src/tree/updater_prune.cc:74: tree pruning end, 1 roots, 12 extra nodes, 0 pruned nodes, max_depth=3\n",
      "[17:13:42] src/tree/updater_prune.cc:74: tree pruning end, 1 roots, 12 extra nodes, 0 pruned nodes, max_depth=3\n",
      "[17:13:42] src/tree/updater_prune.cc:74: tree pruning end, 1 roots, 14 extra nodes, 0 pruned nodes, max_depth=3\n",
      "[17:13:42] src/tree/updater_prune.cc:74: tree pruning end, 1 roots, 14 extra nodes, 0 pruned nodes, max_depth=3\n",
      "[17:13:43] src/tree/updater_prune.cc:74: tree pruning end, 1 roots, 12 extra nodes, 0 pruned nodes, max_depth=3\n",
      "[17:13:43] src/tree/updater_prune.cc:74: tree pruning end, 1 roots, 14 extra nodes, 0 pruned nodes, max_depth=3\n",
      "[17:13:43] src/tree/updater_prune.cc:74: tree pruning end, 1 roots, 14 extra nodes, 0 pruned nodes, max_depth=3\n",
      "[17:13:43] src/tree/updater_prune.cc:74: tree pruning end, 1 roots, 10 extra nodes, 0 pruned nodes, max_depth=3\n",
      "[17:13:44] src/tree/updater_prune.cc:74: tree pruning end, 1 roots, 12 extra nodes, 0 pruned nodes, max_depth=3\n",
      "[17:13:44] src/tree/updater_prune.cc:74: tree pruning end, 1 roots, 14 extra nodes, 0 pruned nodes, max_depth=3\n",
      "[17:13:44] src/tree/updater_prune.cc:74: tree pruning end, 1 roots, 8 extra nodes, 0 pruned nodes, max_depth=3\n",
      "[17:13:45] src/tree/updater_prune.cc:74: tree pruning end, 1 roots, 14 extra nodes, 0 pruned nodes, max_depth=3\n",
      "[17:13:45] src/tree/updater_prune.cc:74: tree pruning end, 1 roots, 14 extra nodes, 0 pruned nodes, max_depth=3\n",
      "[17:13:45] src/tree/updater_prune.cc:74: tree pruning end, 1 roots, 12 extra nodes, 0 pruned nodes, max_depth=3\n",
      "[17:13:45] src/tree/updater_prune.cc:74: tree pruning end, 1 roots, 14 extra nodes, 0 pruned nodes, max_depth=3\n",
      "[17:13:46] src/tree/updater_prune.cc:74: tree pruning end, 1 roots, 14 extra nodes, 0 pruned nodes, max_depth=3\n",
      "[17:13:46] src/tree/updater_prune.cc:74: tree pruning end, 1 roots, 14 extra nodes, 0 pruned nodes, max_depth=3\n",
      "[17:13:46] src/tree/updater_prune.cc:74: tree pruning end, 1 roots, 14 extra nodes, 0 pruned nodes, max_depth=3\n",
      "[17:13:46] src/tree/updater_prune.cc:74: tree pruning end, 1 roots, 14 extra nodes, 0 pruned nodes, max_depth=3\n",
      "[17:13:46] src/tree/updater_prune.cc:74: tree pruning end, 1 roots, 14 extra nodes, 0 pruned nodes, max_depth=3\n",
      "[17:13:47] src/tree/updater_prune.cc:74: tree pruning end, 1 roots, 14 extra nodes, 0 pruned nodes, max_depth=3\n",
      "[17:13:47] src/tree/updater_prune.cc:74: tree pruning end, 1 roots, 12 extra nodes, 0 pruned nodes, max_depth=3\n",
      "[17:13:47] src/tree/updater_prune.cc:74: tree pruning end, 1 roots, 14 extra nodes, 0 pruned nodes, max_depth=3\n",
      "[17:13:47] src/tree/updater_prune.cc:74: tree pruning end, 1 roots, 12 extra nodes, 0 pruned nodes, max_depth=3\n",
      "[17:13:48] src/tree/updater_prune.cc:74: tree pruning end, 1 roots, 12 extra nodes, 0 pruned nodes, max_depth=3\n",
      "[17:13:48] src/tree/updater_prune.cc:74: tree pruning end, 1 roots, 12 extra nodes, 0 pruned nodes, max_depth=3\n",
      "[17:13:48] src/tree/updater_prune.cc:74: tree pruning end, 1 roots, 14 extra nodes, 0 pruned nodes, max_depth=3\n",
      "[17:13:48] src/tree/updater_prune.cc:74: tree pruning end, 1 roots, 14 extra nodes, 0 pruned nodes, max_depth=3\n",
      "[17:13:48] src/tree/updater_prune.cc:74: tree pruning end, 1 roots, 14 extra nodes, 0 pruned nodes, max_depth=3\n",
      "[17:13:49] src/tree/updater_prune.cc:74: tree pruning end, 1 roots, 14 extra nodes, 0 pruned nodes, max_depth=3\n",
      "[17:13:49] src/tree/updater_prune.cc:74: tree pruning end, 1 roots, 14 extra nodes, 0 pruned nodes, max_depth=3\n",
      "[17:13:49] src/tree/updater_prune.cc:74: tree pruning end, 1 roots, 14 extra nodes, 0 pruned nodes, max_depth=3\n",
      "[17:13:49] src/tree/updater_prune.cc:74: tree pruning end, 1 roots, 12 extra nodes, 0 pruned nodes, max_depth=3\n",
      "[17:13:50] src/tree/updater_prune.cc:74: tree pruning end, 1 roots, 12 extra nodes, 0 pruned nodes, max_depth=3\n",
      "[17:13:50] src/tree/updater_prune.cc:74: tree pruning end, 1 roots, 14 extra nodes, 0 pruned nodes, max_depth=3\n",
      "[17:13:50] src/tree/updater_prune.cc:74: tree pruning end, 1 roots, 14 extra nodes, 0 pruned nodes, max_depth=3\n",
      "[17:13:50] src/tree/updater_prune.cc:74: tree pruning end, 1 roots, 14 extra nodes, 0 pruned nodes, max_depth=3\n",
      "[17:13:50] src/tree/updater_prune.cc:74: tree pruning end, 1 roots, 12 extra nodes, 0 pruned nodes, max_depth=3\n",
      "[17:13:51] src/tree/updater_prune.cc:74: tree pruning end, 1 roots, 14 extra nodes, 0 pruned nodes, max_depth=3\n",
      "[17:13:51] src/tree/updater_prune.cc:74: tree pruning end, 1 roots, 12 extra nodes, 0 pruned nodes, max_depth=3\n",
      "[17:13:51] src/tree/updater_prune.cc:74: tree pruning end, 1 roots, 14 extra nodes, 0 pruned nodes, max_depth=3\n",
      "[17:13:51] src/tree/updater_prune.cc:74: tree pruning end, 1 roots, 12 extra nodes, 0 pruned nodes, max_depth=3\n",
      "[17:13:51] src/tree/updater_prune.cc:74: tree pruning end, 1 roots, 14 extra nodes, 0 pruned nodes, max_depth=3\n",
      "[17:13:52] src/tree/updater_prune.cc:74: tree pruning end, 1 roots, 14 extra nodes, 0 pruned nodes, max_depth=3\n",
      "[17:13:52] src/tree/updater_prune.cc:74: tree pruning end, 1 roots, 12 extra nodes, 0 pruned nodes, max_depth=3\n",
      "[17:13:52] src/tree/updater_prune.cc:74: tree pruning end, 1 roots, 14 extra nodes, 0 pruned nodes, max_depth=3\n",
      "[17:13:52] src/tree/updater_prune.cc:74: tree pruning end, 1 roots, 14 extra nodes, 0 pruned nodes, max_depth=3\n",
      "[17:13:52] src/tree/updater_prune.cc:74: tree pruning end, 1 roots, 14 extra nodes, 0 pruned nodes, max_depth=3\n",
      "[17:13:53] src/tree/updater_prune.cc:74: tree pruning end, 1 roots, 10 extra nodes, 0 pruned nodes, max_depth=3\n",
      "[17:13:53] src/tree/updater_prune.cc:74: tree pruning end, 1 roots, 14 extra nodes, 0 pruned nodes, max_depth=3\n",
      "[17:13:53] src/tree/updater_prune.cc:74: tree pruning end, 1 roots, 14 extra nodes, 0 pruned nodes, max_depth=3\n",
      "[17:13:53] src/tree/updater_prune.cc:74: tree pruning end, 1 roots, 14 extra nodes, 0 pruned nodes, max_depth=3\n",
      "[17:13:53] src/tree/updater_prune.cc:74: tree pruning end, 1 roots, 14 extra nodes, 0 pruned nodes, max_depth=3\n",
      "[17:13:54] src/tree/updater_prune.cc:74: tree pruning end, 1 roots, 14 extra nodes, 0 pruned nodes, max_depth=3\n",
      "[17:13:54] src/tree/updater_prune.cc:74: tree pruning end, 1 roots, 14 extra nodes, 0 pruned nodes, max_depth=3\n",
      "[17:13:54] src/tree/updater_prune.cc:74: tree pruning end, 1 roots, 14 extra nodes, 0 pruned nodes, max_depth=3\n",
      "[17:13:54] src/tree/updater_prune.cc:74: tree pruning end, 1 roots, 14 extra nodes, 0 pruned nodes, max_depth=3\n",
      "[17:13:55] src/tree/updater_prune.cc:74: tree pruning end, 1 roots, 12 extra nodes, 0 pruned nodes, max_depth=3\n",
      "[17:13:55] src/tree/updater_prune.cc:74: tree pruning end, 1 roots, 14 extra nodes, 0 pruned nodes, max_depth=3\n",
      "[17:13:55] src/tree/updater_prune.cc:74: tree pruning end, 1 roots, 14 extra nodes, 0 pruned nodes, max_depth=3\n",
      "[17:13:55] src/tree/updater_prune.cc:74: tree pruning end, 1 roots, 14 extra nodes, 0 pruned nodes, max_depth=3\n",
      "[17:13:55] src/tree/updater_prune.cc:74: tree pruning end, 1 roots, 14 extra nodes, 0 pruned nodes, max_depth=3\n",
      "[17:13:56] src/tree/updater_prune.cc:74: tree pruning end, 1 roots, 8 extra nodes, 0 pruned nodes, max_depth=3\n",
      "[17:13:56] src/tree/updater_prune.cc:74: tree pruning end, 1 roots, 14 extra nodes, 0 pruned nodes, max_depth=3\n",
      "[17:13:56] src/tree/updater_prune.cc:74: tree pruning end, 1 roots, 14 extra nodes, 0 pruned nodes, max_depth=3\n",
      "[17:13:57] src/tree/updater_prune.cc:74: tree pruning end, 1 roots, 12 extra nodes, 0 pruned nodes, max_depth=3\n",
      "[17:13:57] src/tree/updater_prune.cc:74: tree pruning end, 1 roots, 14 extra nodes, 0 pruned nodes, max_depth=3\n",
      "[17:13:57] src/tree/updater_prune.cc:74: tree pruning end, 1 roots, 12 extra nodes, 0 pruned nodes, max_depth=3\n",
      "[17:13:57] src/tree/updater_prune.cc:74: tree pruning end, 1 roots, 12 extra nodes, 0 pruned nodes, max_depth=3\n",
      "[17:13:58] src/tree/updater_prune.cc:74: tree pruning end, 1 roots, 14 extra nodes, 0 pruned nodes, max_depth=3\n",
      "[17:13:58] src/tree/updater_prune.cc:74: tree pruning end, 1 roots, 14 extra nodes, 0 pruned nodes, max_depth=3\n",
      "[17:13:58] src/tree/updater_prune.cc:74: tree pruning end, 1 roots, 14 extra nodes, 0 pruned nodes, max_depth=3\n",
      "[17:13:59] src/tree/updater_prune.cc:74: tree pruning end, 1 roots, 14 extra nodes, 0 pruned nodes, max_depth=3\n",
      "[17:13:59] src/tree/updater_prune.cc:74: tree pruning end, 1 roots, 8 extra nodes, 0 pruned nodes, max_depth=3\n",
      "[17:13:59] src/tree/updater_prune.cc:74: tree pruning end, 1 roots, 12 extra nodes, 0 pruned nodes, max_depth=3\n",
      "[17:13:59] src/tree/updater_prune.cc:74: tree pruning end, 1 roots, 14 extra nodes, 0 pruned nodes, max_depth=3\n",
      "[17:14:00] src/tree/updater_prune.cc:74: tree pruning end, 1 roots, 14 extra nodes, 0 pruned nodes, max_depth=3\n",
      "[17:14:00] src/tree/updater_prune.cc:74: tree pruning end, 1 roots, 12 extra nodes, 0 pruned nodes, max_depth=3\n",
      "[17:14:00] src/tree/updater_prune.cc:74: tree pruning end, 1 roots, 10 extra nodes, 0 pruned nodes, max_depth=3\n",
      "[17:14:00] src/tree/updater_prune.cc:74: tree pruning end, 1 roots, 14 extra nodes, 0 pruned nodes, max_depth=3\n",
      "[17:14:00] src/tree/updater_prune.cc:74: tree pruning end, 1 roots, 14 extra nodes, 0 pruned nodes, max_depth=3\n",
      "[17:14:01] src/tree/updater_prune.cc:74: tree pruning end, 1 roots, 14 extra nodes, 0 pruned nodes, max_depth=3\n",
      "[17:14:01] src/tree/updater_prune.cc:74: tree pruning end, 1 roots, 14 extra nodes, 0 pruned nodes, max_depth=3\n",
      "[17:14:01] src/tree/updater_prune.cc:74: tree pruning end, 1 roots, 12 extra nodes, 0 pruned nodes, max_depth=3\n",
      "[17:14:01] src/tree/updater_prune.cc:74: tree pruning end, 1 roots, 8 extra nodes, 0 pruned nodes, max_depth=3\n",
      "[17:14:01] src/tree/updater_prune.cc:74: tree pruning end, 1 roots, 14 extra nodes, 0 pruned nodes, max_depth=3\n",
      "[17:14:02] src/tree/updater_prune.cc:74: tree pruning end, 1 roots, 14 extra nodes, 0 pruned nodes, max_depth=3\n",
      "[17:14:02] src/tree/updater_prune.cc:74: tree pruning end, 1 roots, 14 extra nodes, 0 pruned nodes, max_depth=3\n",
      "[17:14:02] src/tree/updater_prune.cc:74: tree pruning end, 1 roots, 14 extra nodes, 0 pruned nodes, max_depth=3\n",
      "[17:14:02] src/tree/updater_prune.cc:74: tree pruning end, 1 roots, 12 extra nodes, 0 pruned nodes, max_depth=3\n",
      "[17:14:03] src/tree/updater_prune.cc:74: tree pruning end, 1 roots, 14 extra nodes, 0 pruned nodes, max_depth=3\n",
      "[17:14:03] src/tree/updater_prune.cc:74: tree pruning end, 1 roots, 14 extra nodes, 0 pruned nodes, max_depth=3\n",
      "[17:14:03] src/tree/updater_prune.cc:74: tree pruning end, 1 roots, 14 extra nodes, 0 pruned nodes, max_depth=3\n",
      "[17:14:03] src/tree/updater_prune.cc:74: tree pruning end, 1 roots, 12 extra nodes, 0 pruned nodes, max_depth=3\n",
      "[17:14:03] src/tree/updater_prune.cc:74: tree pruning end, 1 roots, 8 extra nodes, 0 pruned nodes, max_depth=3\n",
      "[17:14:04] src/tree/updater_prune.cc:74: tree pruning end, 1 roots, 14 extra nodes, 0 pruned nodes, max_depth=3\n",
      "[17:14:04] src/tree/updater_prune.cc:74: tree pruning end, 1 roots, 14 extra nodes, 0 pruned nodes, max_depth=3\n",
      "[17:14:04] src/tree/updater_prune.cc:74: tree pruning end, 1 roots, 10 extra nodes, 0 pruned nodes, max_depth=3\n",
      "[17:14:04] src/tree/updater_prune.cc:74: tree pruning end, 1 roots, 14 extra nodes, 0 pruned nodes, max_depth=3\n",
      "[17:14:05] src/tree/updater_prune.cc:74: tree pruning end, 1 roots, 10 extra nodes, 0 pruned nodes, max_depth=3\n",
      "[17:14:05] src/tree/updater_prune.cc:74: tree pruning end, 1 roots, 12 extra nodes, 0 pruned nodes, max_depth=3\n",
      "[17:14:06] src/tree/updater_prune.cc:74: tree pruning end, 1 roots, 14 extra nodes, 0 pruned nodes, max_depth=3\n",
      "[17:14:06] src/tree/updater_prune.cc:74: tree pruning end, 1 roots, 12 extra nodes, 0 pruned nodes, max_depth=3\n",
      "[17:14:06] src/tree/updater_prune.cc:74: tree pruning end, 1 roots, 10 extra nodes, 0 pruned nodes, max_depth=3\n",
      "[17:14:06] src/tree/updater_prune.cc:74: tree pruning end, 1 roots, 14 extra nodes, 0 pruned nodes, max_depth=3\n",
      "[17:14:06] src/tree/updater_prune.cc:74: tree pruning end, 1 roots, 10 extra nodes, 0 pruned nodes, max_depth=3\n",
      "[17:14:07] src/tree/updater_prune.cc:74: tree pruning end, 1 roots, 14 extra nodes, 0 pruned nodes, max_depth=3\n",
      "[17:14:07] src/tree/updater_prune.cc:74: tree pruning end, 1 roots, 14 extra nodes, 0 pruned nodes, max_depth=3\n",
      "[17:14:07] src/tree/updater_prune.cc:74: tree pruning end, 1 roots, 14 extra nodes, 0 pruned nodes, max_depth=3\n",
      "[17:14:08] src/tree/updater_prune.cc:74: tree pruning end, 1 roots, 14 extra nodes, 0 pruned nodes, max_depth=3\n",
      "[17:14:08] src/tree/updater_prune.cc:74: tree pruning end, 1 roots, 14 extra nodes, 0 pruned nodes, max_depth=3\n",
      "[17:14:08] src/tree/updater_prune.cc:74: tree pruning end, 1 roots, 14 extra nodes, 0 pruned nodes, max_depth=3\n",
      "[17:14:09] src/tree/updater_prune.cc:74: tree pruning end, 1 roots, 14 extra nodes, 0 pruned nodes, max_depth=3\n",
      "[17:14:09] src/tree/updater_prune.cc:74: tree pruning end, 1 roots, 12 extra nodes, 0 pruned nodes, max_depth=3\n",
      "[17:14:09] src/tree/updater_prune.cc:74: tree pruning end, 1 roots, 8 extra nodes, 0 pruned nodes, max_depth=3\n",
      "[17:14:09] src/tree/updater_prune.cc:74: tree pruning end, 1 roots, 14 extra nodes, 0 pruned nodes, max_depth=3\n",
      "[17:14:10] src/tree/updater_prune.cc:74: tree pruning end, 1 roots, 14 extra nodes, 0 pruned nodes, max_depth=3\n",
      "[17:14:10] src/tree/updater_prune.cc:74: tree pruning end, 1 roots, 14 extra nodes, 0 pruned nodes, max_depth=3\n",
      "[17:14:10] src/tree/updater_prune.cc:74: tree pruning end, 1 roots, 14 extra nodes, 0 pruned nodes, max_depth=3\n",
      "[17:14:10] src/tree/updater_prune.cc:74: tree pruning end, 1 roots, 14 extra nodes, 0 pruned nodes, max_depth=3\n",
      "[17:14:10] src/tree/updater_prune.cc:74: tree pruning end, 1 roots, 12 extra nodes, 0 pruned nodes, max_depth=3\n",
      "[17:14:11] src/tree/updater_prune.cc:74: tree pruning end, 1 roots, 14 extra nodes, 0 pruned nodes, max_depth=3\n",
      "[17:14:11] src/tree/updater_prune.cc:74: tree pruning end, 1 roots, 14 extra nodes, 0 pruned nodes, max_depth=3\n",
      "[17:14:11] src/tree/updater_prune.cc:74: tree pruning end, 1 roots, 14 extra nodes, 0 pruned nodes, max_depth=3\n",
      "[17:14:11] src/tree/updater_prune.cc:74: tree pruning end, 1 roots, 8 extra nodes, 0 pruned nodes, max_depth=3\n",
      "[17:14:12] src/tree/updater_prune.cc:74: tree pruning end, 1 roots, 14 extra nodes, 0 pruned nodes, max_depth=3\n",
      "[17:14:12] src/tree/updater_prune.cc:74: tree pruning end, 1 roots, 8 extra nodes, 0 pruned nodes, max_depth=3\n",
      "[17:14:12] src/tree/updater_prune.cc:74: tree pruning end, 1 roots, 12 extra nodes, 0 pruned nodes, max_depth=3\n",
      "[17:14:12] src/tree/updater_prune.cc:74: tree pruning end, 1 roots, 14 extra nodes, 0 pruned nodes, max_depth=3\n",
      "[17:14:13] src/tree/updater_prune.cc:74: tree pruning end, 1 roots, 14 extra nodes, 0 pruned nodes, max_depth=3\n",
      "[17:14:13] src/tree/updater_prune.cc:74: tree pruning end, 1 roots, 14 extra nodes, 0 pruned nodes, max_depth=3\n",
      "[17:14:13] src/tree/updater_prune.cc:74: tree pruning end, 1 roots, 12 extra nodes, 0 pruned nodes, max_depth=3\n",
      "[17:14:13] src/tree/updater_prune.cc:74: tree pruning end, 1 roots, 12 extra nodes, 0 pruned nodes, max_depth=3\n",
      "[17:14:14] src/tree/updater_prune.cc:74: tree pruning end, 1 roots, 14 extra nodes, 0 pruned nodes, max_depth=3\n",
      "[17:14:14] src/tree/updater_prune.cc:74: tree pruning end, 1 roots, 12 extra nodes, 0 pruned nodes, max_depth=3\n",
      "[17:14:14] src/tree/updater_prune.cc:74: tree pruning end, 1 roots, 14 extra nodes, 0 pruned nodes, max_depth=3\n",
      "[17:14:14] src/tree/updater_prune.cc:74: tree pruning end, 1 roots, 12 extra nodes, 0 pruned nodes, max_depth=3\n",
      "[17:14:15] src/tree/updater_prune.cc:74: tree pruning end, 1 roots, 14 extra nodes, 0 pruned nodes, max_depth=3\n",
      "[17:14:15] src/tree/updater_prune.cc:74: tree pruning end, 1 roots, 14 extra nodes, 0 pruned nodes, max_depth=3\n",
      "[17:14:15] src/tree/updater_prune.cc:74: tree pruning end, 1 roots, 12 extra nodes, 0 pruned nodes, max_depth=3\n",
      "[17:14:15] src/tree/updater_prune.cc:74: tree pruning end, 1 roots, 14 extra nodes, 0 pruned nodes, max_depth=3\n",
      "[17:14:16] src/tree/updater_prune.cc:74: tree pruning end, 1 roots, 14 extra nodes, 0 pruned nodes, max_depth=3\n",
      "[17:14:16] src/tree/updater_prune.cc:74: tree pruning end, 1 roots, 14 extra nodes, 0 pruned nodes, max_depth=3\n",
      "[17:14:16] src/tree/updater_prune.cc:74: tree pruning end, 1 roots, 14 extra nodes, 0 pruned nodes, max_depth=3\n",
      "[17:14:16] src/tree/updater_prune.cc:74: tree pruning end, 1 roots, 12 extra nodes, 0 pruned nodes, max_depth=3\n",
      "[17:14:16] src/tree/updater_prune.cc:74: tree pruning end, 1 roots, 14 extra nodes, 0 pruned nodes, max_depth=3\n",
      "[17:14:17] src/tree/updater_prune.cc:74: tree pruning end, 1 roots, 12 extra nodes, 0 pruned nodes, max_depth=3\n",
      "[17:14:17] src/tree/updater_prune.cc:74: tree pruning end, 1 roots, 14 extra nodes, 0 pruned nodes, max_depth=3\n",
      "[17:14:17] src/tree/updater_prune.cc:74: tree pruning end, 1 roots, 12 extra nodes, 0 pruned nodes, max_depth=3\n",
      "[17:14:17] src/tree/updater_prune.cc:74: tree pruning end, 1 roots, 14 extra nodes, 0 pruned nodes, max_depth=3\n",
      "[17:14:18] src/tree/updater_prune.cc:74: tree pruning end, 1 roots, 14 extra nodes, 0 pruned nodes, max_depth=3\n",
      "[17:14:18] src/tree/updater_prune.cc:74: tree pruning end, 1 roots, 14 extra nodes, 0 pruned nodes, max_depth=3\n",
      "[17:14:18] src/tree/updater_prune.cc:74: tree pruning end, 1 roots, 14 extra nodes, 0 pruned nodes, max_depth=3\n",
      "[17:14:18] src/tree/updater_prune.cc:74: tree pruning end, 1 roots, 14 extra nodes, 0 pruned nodes, max_depth=3\n",
      "[17:14:18] src/tree/updater_prune.cc:74: tree pruning end, 1 roots, 14 extra nodes, 0 pruned nodes, max_depth=3\n",
      "[17:14:19] src/tree/updater_prune.cc:74: tree pruning end, 1 roots, 12 extra nodes, 0 pruned nodes, max_depth=3\n",
      "[17:14:19] src/tree/updater_prune.cc:74: tree pruning end, 1 roots, 12 extra nodes, 0 pruned nodes, max_depth=3\n",
      "[17:14:19] src/tree/updater_prune.cc:74: tree pruning end, 1 roots, 12 extra nodes, 0 pruned nodes, max_depth=3\n",
      "[17:14:19] src/tree/updater_prune.cc:74: tree pruning end, 1 roots, 14 extra nodes, 0 pruned nodes, max_depth=3\n",
      "[17:14:19] src/tree/updater_prune.cc:74: tree pruning end, 1 roots, 14 extra nodes, 0 pruned nodes, max_depth=3\n",
      "[17:14:20] src/tree/updater_prune.cc:74: tree pruning end, 1 roots, 12 extra nodes, 0 pruned nodes, max_depth=3\n",
      "[17:14:20] src/tree/updater_prune.cc:74: tree pruning end, 1 roots, 10 extra nodes, 0 pruned nodes, max_depth=3\n",
      "[17:14:20] src/tree/updater_prune.cc:74: tree pruning end, 1 roots, 14 extra nodes, 0 pruned nodes, max_depth=3\n",
      "[17:14:20] src/tree/updater_prune.cc:74: tree pruning end, 1 roots, 8 extra nodes, 0 pruned nodes, max_depth=3\n",
      "[17:14:21] src/tree/updater_prune.cc:74: tree pruning end, 1 roots, 14 extra nodes, 0 pruned nodes, max_depth=3\n",
      "[17:14:21] src/tree/updater_prune.cc:74: tree pruning end, 1 roots, 14 extra nodes, 0 pruned nodes, max_depth=3\n",
      "[17:14:21] src/tree/updater_prune.cc:74: tree pruning end, 1 roots, 12 extra nodes, 0 pruned nodes, max_depth=3\n",
      "[17:14:21] src/tree/updater_prune.cc:74: tree pruning end, 1 roots, 14 extra nodes, 0 pruned nodes, max_depth=3\n",
      "[17:14:21] src/tree/updater_prune.cc:74: tree pruning end, 1 roots, 14 extra nodes, 0 pruned nodes, max_depth=3\n",
      "[17:14:22] src/tree/updater_prune.cc:74: tree pruning end, 1 roots, 12 extra nodes, 0 pruned nodes, max_depth=3\n",
      "[17:14:22] src/tree/updater_prune.cc:74: tree pruning end, 1 roots, 12 extra nodes, 0 pruned nodes, max_depth=3\n",
      "[17:14:22] src/tree/updater_prune.cc:74: tree pruning end, 1 roots, 14 extra nodes, 0 pruned nodes, max_depth=3\n",
      "[17:14:22] src/tree/updater_prune.cc:74: tree pruning end, 1 roots, 14 extra nodes, 0 pruned nodes, max_depth=3\n",
      "[17:14:22] src/tree/updater_prune.cc:74: tree pruning end, 1 roots, 14 extra nodes, 0 pruned nodes, max_depth=3\n",
      "[17:14:23] src/tree/updater_prune.cc:74: tree pruning end, 1 roots, 12 extra nodes, 0 pruned nodes, max_depth=3\n",
      "[17:14:23] src/tree/updater_prune.cc:74: tree pruning end, 1 roots, 14 extra nodes, 0 pruned nodes, max_depth=3\n",
      "[17:14:23] src/tree/updater_prune.cc:74: tree pruning end, 1 roots, 12 extra nodes, 0 pruned nodes, max_depth=3\n",
      "[17:14:23] src/tree/updater_prune.cc:74: tree pruning end, 1 roots, 10 extra nodes, 0 pruned nodes, max_depth=3\n",
      "[17:14:23] src/tree/updater_prune.cc:74: tree pruning end, 1 roots, 14 extra nodes, 0 pruned nodes, max_depth=3\n",
      "[17:14:24] src/tree/updater_prune.cc:74: tree pruning end, 1 roots, 12 extra nodes, 0 pruned nodes, max_depth=3\n",
      "[17:14:24] src/tree/updater_prune.cc:74: tree pruning end, 1 roots, 14 extra nodes, 0 pruned nodes, max_depth=3\n",
      "[17:14:24] src/tree/updater_prune.cc:74: tree pruning end, 1 roots, 10 extra nodes, 0 pruned nodes, max_depth=3\n",
      "[17:14:24] src/tree/updater_prune.cc:74: tree pruning end, 1 roots, 12 extra nodes, 0 pruned nodes, max_depth=3\n",
      "[17:14:25] src/tree/updater_prune.cc:74: tree pruning end, 1 roots, 12 extra nodes, 0 pruned nodes, max_depth=3\n",
      "[17:14:25] src/tree/updater_prune.cc:74: tree pruning end, 1 roots, 10 extra nodes, 0 pruned nodes, max_depth=3\n",
      "[17:14:25] src/tree/updater_prune.cc:74: tree pruning end, 1 roots, 12 extra nodes, 0 pruned nodes, max_depth=3\n",
      "[17:14:25] src/tree/updater_prune.cc:74: tree pruning end, 1 roots, 14 extra nodes, 0 pruned nodes, max_depth=3\n",
      "[17:14:26] src/tree/updater_prune.cc:74: tree pruning end, 1 roots, 14 extra nodes, 0 pruned nodes, max_depth=3\n",
      "[17:14:26] src/tree/updater_prune.cc:74: tree pruning end, 1 roots, 12 extra nodes, 0 pruned nodes, max_depth=3\n",
      "[17:14:26] src/tree/updater_prune.cc:74: tree pruning end, 1 roots, 14 extra nodes, 0 pruned nodes, max_depth=3\n",
      "[17:14:27] src/tree/updater_prune.cc:74: tree pruning end, 1 roots, 12 extra nodes, 0 pruned nodes, max_depth=3\n",
      "[17:14:27] src/tree/updater_prune.cc:74: tree pruning end, 1 roots, 14 extra nodes, 0 pruned nodes, max_depth=3\n",
      "[17:14:27] src/tree/updater_prune.cc:74: tree pruning end, 1 roots, 12 extra nodes, 0 pruned nodes, max_depth=3\n",
      "[17:14:27] src/tree/updater_prune.cc:74: tree pruning end, 1 roots, 14 extra nodes, 0 pruned nodes, max_depth=3\n",
      "[17:14:28] src/tree/updater_prune.cc:74: tree pruning end, 1 roots, 12 extra nodes, 0 pruned nodes, max_depth=3\n",
      "[17:14:28] src/tree/updater_prune.cc:74: tree pruning end, 1 roots, 14 extra nodes, 0 pruned nodes, max_depth=3\n",
      "[17:14:28] src/tree/updater_prune.cc:74: tree pruning end, 1 roots, 14 extra nodes, 0 pruned nodes, max_depth=3\n",
      "[17:14:29] src/tree/updater_prune.cc:74: tree pruning end, 1 roots, 14 extra nodes, 0 pruned nodes, max_depth=3\n",
      "[17:14:29] src/tree/updater_prune.cc:74: tree pruning end, 1 roots, 10 extra nodes, 0 pruned nodes, max_depth=3\n",
      "[17:14:29] src/tree/updater_prune.cc:74: tree pruning end, 1 roots, 14 extra nodes, 0 pruned nodes, max_depth=3\n",
      "[17:14:30] src/tree/updater_prune.cc:74: tree pruning end, 1 roots, 12 extra nodes, 0 pruned nodes, max_depth=3\n",
      "[17:14:30] src/tree/updater_prune.cc:74: tree pruning end, 1 roots, 12 extra nodes, 0 pruned nodes, max_depth=3\n",
      "[17:14:31] src/tree/updater_prune.cc:74: tree pruning end, 1 roots, 14 extra nodes, 0 pruned nodes, max_depth=3\n",
      "[17:14:31] src/tree/updater_prune.cc:74: tree pruning end, 1 roots, 12 extra nodes, 0 pruned nodes, max_depth=3\n",
      "[17:14:31] src/tree/updater_prune.cc:74: tree pruning end, 1 roots, 14 extra nodes, 0 pruned nodes, max_depth=3\n",
      "[17:14:32] src/tree/updater_prune.cc:74: tree pruning end, 1 roots, 12 extra nodes, 0 pruned nodes, max_depth=3\n",
      "[17:14:32] src/tree/updater_prune.cc:74: tree pruning end, 1 roots, 14 extra nodes, 0 pruned nodes, max_depth=3\n",
      "[17:14:32] src/tree/updater_prune.cc:74: tree pruning end, 1 roots, 8 extra nodes, 0 pruned nodes, max_depth=3\n",
      "[17:14:33] src/tree/updater_prune.cc:74: tree pruning end, 1 roots, 14 extra nodes, 0 pruned nodes, max_depth=3\n",
      "[17:14:33] src/tree/updater_prune.cc:74: tree pruning end, 1 roots, 14 extra nodes, 0 pruned nodes, max_depth=3\n",
      "[17:14:33] src/tree/updater_prune.cc:74: tree pruning end, 1 roots, 14 extra nodes, 0 pruned nodes, max_depth=3\n",
      "[17:14:33] src/tree/updater_prune.cc:74: tree pruning end, 1 roots, 12 extra nodes, 0 pruned nodes, max_depth=3\n",
      "[17:14:34] src/tree/updater_prune.cc:74: tree pruning end, 1 roots, 10 extra nodes, 0 pruned nodes, max_depth=3\n",
      "[17:14:34] src/tree/updater_prune.cc:74: tree pruning end, 1 roots, 14 extra nodes, 0 pruned nodes, max_depth=3\n",
      "[17:14:34] src/tree/updater_prune.cc:74: tree pruning end, 1 roots, 8 extra nodes, 0 pruned nodes, max_depth=3\n",
      "[17:14:34] src/tree/updater_prune.cc:74: tree pruning end, 1 roots, 14 extra nodes, 0 pruned nodes, max_depth=3\n",
      "[17:14:34] src/tree/updater_prune.cc:74: tree pruning end, 1 roots, 14 extra nodes, 0 pruned nodes, max_depth=3\n",
      "[17:14:35] src/tree/updater_prune.cc:74: tree pruning end, 1 roots, 10 extra nodes, 0 pruned nodes, max_depth=3\n",
      "[17:14:35] src/tree/updater_prune.cc:74: tree pruning end, 1 roots, 14 extra nodes, 0 pruned nodes, max_depth=3\n",
      "[17:14:35] src/tree/updater_prune.cc:74: tree pruning end, 1 roots, 6 extra nodes, 0 pruned nodes, max_depth=3\n",
      "[17:14:35] src/tree/updater_prune.cc:74: tree pruning end, 1 roots, 14 extra nodes, 0 pruned nodes, max_depth=3\n",
      "[17:14:36] src/tree/updater_prune.cc:74: tree pruning end, 1 roots, 14 extra nodes, 0 pruned nodes, max_depth=3\n",
      "[17:14:36] src/tree/updater_prune.cc:74: tree pruning end, 1 roots, 12 extra nodes, 0 pruned nodes, max_depth=3\n",
      "[17:14:36] src/tree/updater_prune.cc:74: tree pruning end, 1 roots, 14 extra nodes, 0 pruned nodes, max_depth=3\n",
      "[17:14:36] src/tree/updater_prune.cc:74: tree pruning end, 1 roots, 12 extra nodes, 0 pruned nodes, max_depth=3\n",
      "[17:14:36] src/tree/updater_prune.cc:74: tree pruning end, 1 roots, 14 extra nodes, 0 pruned nodes, max_depth=3\n",
      "[17:14:37] src/tree/updater_prune.cc:74: tree pruning end, 1 roots, 14 extra nodes, 0 pruned nodes, max_depth=3\n",
      "[17:14:37] src/tree/updater_prune.cc:74: tree pruning end, 1 roots, 14 extra nodes, 0 pruned nodes, max_depth=3\n",
      "[17:14:37] src/tree/updater_prune.cc:74: tree pruning end, 1 roots, 14 extra nodes, 0 pruned nodes, max_depth=3\n",
      "[17:14:37] src/tree/updater_prune.cc:74: tree pruning end, 1 roots, 14 extra nodes, 0 pruned nodes, max_depth=3\n",
      "[17:14:37] src/tree/updater_prune.cc:74: tree pruning end, 1 roots, 14 extra nodes, 0 pruned nodes, max_depth=3\n",
      "[17:14:38] src/tree/updater_prune.cc:74: tree pruning end, 1 roots, 14 extra nodes, 0 pruned nodes, max_depth=3\n",
      "[17:14:38] src/tree/updater_prune.cc:74: tree pruning end, 1 roots, 12 extra nodes, 0 pruned nodes, max_depth=3\n",
      "[17:14:39] src/tree/updater_prune.cc:74: tree pruning end, 1 roots, 12 extra nodes, 0 pruned nodes, max_depth=3\n",
      "[17:14:39] src/tree/updater_prune.cc:74: tree pruning end, 1 roots, 14 extra nodes, 0 pruned nodes, max_depth=3\n",
      "[17:14:39] src/tree/updater_prune.cc:74: tree pruning end, 1 roots, 14 extra nodes, 0 pruned nodes, max_depth=3\n",
      "[17:14:40] src/tree/updater_prune.cc:74: tree pruning end, 1 roots, 14 extra nodes, 0 pruned nodes, max_depth=3\n",
      "[17:14:40] src/tree/updater_prune.cc:74: tree pruning end, 1 roots, 14 extra nodes, 0 pruned nodes, max_depth=3\n",
      "[17:14:40] src/tree/updater_prune.cc:74: tree pruning end, 1 roots, 14 extra nodes, 0 pruned nodes, max_depth=3\n",
      "[17:14:40] src/tree/updater_prune.cc:74: tree pruning end, 1 roots, 8 extra nodes, 0 pruned nodes, max_depth=3\n",
      "[17:14:41] src/tree/updater_prune.cc:74: tree pruning end, 1 roots, 10 extra nodes, 0 pruned nodes, max_depth=3\n",
      "[17:14:41] src/tree/updater_prune.cc:74: tree pruning end, 1 roots, 12 extra nodes, 0 pruned nodes, max_depth=3\n",
      "[17:14:41] src/tree/updater_prune.cc:74: tree pruning end, 1 roots, 14 extra nodes, 0 pruned nodes, max_depth=3\n",
      "[17:14:41] src/tree/updater_prune.cc:74: tree pruning end, 1 roots, 14 extra nodes, 0 pruned nodes, max_depth=3\n",
      "[17:14:42] src/tree/updater_prune.cc:74: tree pruning end, 1 roots, 14 extra nodes, 0 pruned nodes, max_depth=3\n",
      "[17:14:42] src/tree/updater_prune.cc:74: tree pruning end, 1 roots, 14 extra nodes, 0 pruned nodes, max_depth=3\n",
      "[17:14:42] src/tree/updater_prune.cc:74: tree pruning end, 1 roots, 12 extra nodes, 0 pruned nodes, max_depth=3\n",
      "[17:14:43] src/tree/updater_prune.cc:74: tree pruning end, 1 roots, 14 extra nodes, 0 pruned nodes, max_depth=3\n",
      "[17:14:43] src/tree/updater_prune.cc:74: tree pruning end, 1 roots, 12 extra nodes, 0 pruned nodes, max_depth=3\n",
      "[17:14:43] src/tree/updater_prune.cc:74: tree pruning end, 1 roots, 10 extra nodes, 0 pruned nodes, max_depth=3\n",
      "[17:14:44] src/tree/updater_prune.cc:74: tree pruning end, 1 roots, 14 extra nodes, 0 pruned nodes, max_depth=3\n",
      "[17:14:44] src/tree/updater_prune.cc:74: tree pruning end, 1 roots, 14 extra nodes, 0 pruned nodes, max_depth=3\n",
      "[17:14:44] src/tree/updater_prune.cc:74: tree pruning end, 1 roots, 14 extra nodes, 0 pruned nodes, max_depth=3\n",
      "[17:14:44] src/tree/updater_prune.cc:74: tree pruning end, 1 roots, 12 extra nodes, 0 pruned nodes, max_depth=3\n",
      "[17:14:45] src/tree/updater_prune.cc:74: tree pruning end, 1 roots, 12 extra nodes, 0 pruned nodes, max_depth=3\n",
      "[17:14:45] src/tree/updater_prune.cc:74: tree pruning end, 1 roots, 14 extra nodes, 0 pruned nodes, max_depth=3\n",
      "[17:14:46] src/tree/updater_prune.cc:74: tree pruning end, 1 roots, 12 extra nodes, 0 pruned nodes, max_depth=3\n",
      "[17:14:46] src/tree/updater_prune.cc:74: tree pruning end, 1 roots, 14 extra nodes, 0 pruned nodes, max_depth=3\n",
      "[17:14:46] src/tree/updater_prune.cc:74: tree pruning end, 1 roots, 12 extra nodes, 0 pruned nodes, max_depth=3\n",
      "[17:14:46] src/tree/updater_prune.cc:74: tree pruning end, 1 roots, 10 extra nodes, 0 pruned nodes, max_depth=3\n",
      "[17:14:47] src/tree/updater_prune.cc:74: tree pruning end, 1 roots, 12 extra nodes, 0 pruned nodes, max_depth=3\n",
      "[17:14:47] src/tree/updater_prune.cc:74: tree pruning end, 1 roots, 14 extra nodes, 0 pruned nodes, max_depth=3\n",
      "[17:14:47] src/tree/updater_prune.cc:74: tree pruning end, 1 roots, 12 extra nodes, 0 pruned nodes, max_depth=3\n",
      "[17:14:47] src/tree/updater_prune.cc:74: tree pruning end, 1 roots, 12 extra nodes, 0 pruned nodes, max_depth=3\n",
      "[17:14:48] src/tree/updater_prune.cc:74: tree pruning end, 1 roots, 14 extra nodes, 0 pruned nodes, max_depth=3\n",
      "0.6963951540166777\n",
      "{'colsample_bytree': 1, 'learning_rate': 0.05, 'n_estimators': 500, 'scale_pos_weight': 1, 'subsample': 0.3}\n",
      "XGBClassifier(base_score=0.5, booster='gbtree', colsample_bylevel=1,\n",
      "       colsample_bytree=1, gamma=0, learning_rate=0.05, max_delta_step=0,\n",
      "       max_depth=3, min_child_weight=1, missing=None, n_estimators=500,\n",
      "       n_jobs=1, nthread=None, objective='binary:logistic', random_seed=42,\n",
      "       random_state=0, reg_alpha=0, reg_lambda=1, scale_pos_weight=1,\n",
      "       seed=None, silent=False, subsample=0.3)\n",
      "0.6140130036043622\n",
      "CPU times: user 2min 11s, sys: 1.11 s, total: 2min 12s\n",
      "Wall time: 2h 16min 48s\n"
     ]
    }
   ],
   "source": [
    "%%time\n",
    "xgb = XGBClassifier(silent=False, random_seed=42)\n",
    "\n",
    "nests = [100, 300, 500]\n",
    "lrates=[.02, .05]\n",
    "colsample_bytrees = [0.5, 1]\n",
    "subsamples = [0.3, 0.8]\n",
    "scale_pos_weights = [0.5, 1]\n",
    "\n",
    "param_grid = dict(learning_rate=lrates, n_estimators=nests, colsample_bytree=colsample_bytrees, subsample=subsamples, scale_pos_weight=scale_pos_weights)\n",
    "\n",
    "xgb_clf = GridSearchCV(xgb, param_grid, scoring='roc_auc', cv=8, n_jobs=5)\n",
    "\n",
    "xgb_clf.fit(X_train, y_train)\n",
    "\n",
    "print(xgb_clf.best_score_)\n",
    "print(xgb_clf.best_params_)\n",
    "print(xgb_clf.best_estimator_)\n",
    "\n",
    "y_pred = xgb_clf.predict(X_test)\n",
    "print(roc_auc_score(y_test, y_pred))\n",
    "\n",
    "\n",
    "savedir = 'models'\n",
    "joblib.dump(xgb_clf.best_estimator_, f'{savedir}/xgb_12.05.2018.joblib',compress=9)"
   ]
  },
  {
   "cell_type": "code",
   "execution_count": null,
   "metadata": {},
   "outputs": [],
   "source": []
  },
  {
   "cell_type": "code",
   "execution_count": null,
   "metadata": {},
   "outputs": [],
   "source": []
  },
  {
   "cell_type": "code",
   "execution_count": 220,
   "metadata": {},
   "outputs": [
    {
     "data": {
      "image/png": "[encoded data removed]",
      "text/plain": [
       "<Figure size 1368x288 with 1 Axes>"
      ]
     },
     "metadata": {
      "needs_background": "light"
     },
     "output_type": "display_data"
    }
   ],
   "source": [
    "ser = df.groupby(['airport_code']).bin_dispos_onehot.mean().sort_values()\n",
    "fig, ax = plt.subplots(figsize=(19, 4))\n",
    "ax.bar(x=ser.index, height=ser.values);"
   ]
  },
  {
   "cell_type": "code",
   "execution_count": 215,
   "metadata": {},
   "outputs": [
    {
     "data": {
      "image/png": "[encoded data removed]",
      "text/plain": [
       "<Figure size 1368x288 with 1 Axes>"
      ]
     },
     "metadata": {
      "needs_background": "light"
     },
     "output_type": "display_data"
    }
   ],
   "source": [
    "ser2 = df.groupby(['airline']).bin_dispos_onehot.mean().sort_values()\n",
    "fig, ax = plt.subplots(figsize=(19, 4))\n",
    "ax.bar(x=ser2.index, height=ser2.values);"
   ]
  },
  {
   "cell_type": "code",
   "execution_count": 204,
   "metadata": {},
   "outputs": [
    {
     "data": {
      "text/html": [
       "<div>\n",
       "<style scoped>\n",
       "    .dataframe tbody tr th:only-of-type {\n",
       "        vertical-align: middle;\n",
       "    }\n",
       "\n",
       "    .dataframe tbody tr th {\n",
       "        vertical-align: top;\n",
       "    }\n",
       "\n",
       "    .dataframe thead th {\n",
       "        text-align: right;\n",
       "    }\n",
       "</style>\n",
       "<table border=\"1\" class=\"dataframe\">\n",
       "  <thead>\n",
       "    <tr style=\"text-align: right;\">\n",
       "      <th></th>\n",
       "      <th>date_received</th>\n",
       "      <th>incident_date</th>\n",
       "      <th>airport_code</th>\n",
       "      <th>airline</th>\n",
       "      <th>claim_type</th>\n",
       "      <th>claim_site</th>\n",
       "      <th>close_amount</th>\n",
       "      <th>disposition</th>\n",
       "      <th>item_category</th>\n",
       "      <th>binary_disposition</th>\n",
       "      <th>num_items_or_incidents_claimed</th>\n",
       "      <th>days_waited_to_file_claim</th>\n",
       "      <th>bin_dispos_onehot</th>\n",
       "      <th>Month_received</th>\n",
       "    </tr>\n",
       "  </thead>\n",
       "  <tbody>\n",
       "    <tr>\n",
       "      <th>0</th>\n",
       "      <td>2017-11-28</td>\n",
       "      <td>2017-10-22 00:00:00</td>\n",
       "      <td>LAS</td>\n",
       "      <td>UAL</td>\n",
       "      <td>PropertyLoss</td>\n",
       "      <td>Checked Baggage</td>\n",
       "      <td>90.000</td>\n",
       "      <td>Settle</td>\n",
       "      <td>Clothing</td>\n",
       "      <td>Compensate</td>\n",
       "      <td>1</td>\n",
       "      <td>37</td>\n",
       "      <td>1</td>\n",
       "      <td>11</td>\n",
       "    </tr>\n",
       "    <tr>\n",
       "      <th>1</th>\n",
       "      <td>2017-11-20</td>\n",
       "      <td>2017-09-29 12:20:00</td>\n",
       "      <td>LAX</td>\n",
       "      <td>American Airlines</td>\n",
       "      <td>PropertyDamage</td>\n",
       "      <td>Checkpoint</td>\n",
       "      <td>485.550</td>\n",
       "      <td>Settle</td>\n",
       "      <td>Computer &amp; Accessories</td>\n",
       "      <td>Compensate</td>\n",
       "      <td>1</td>\n",
       "      <td>51</td>\n",
       "      <td>1</td>\n",
       "      <td>11</td>\n",
       "    </tr>\n",
       "    <tr>\n",
       "      <th>2</th>\n",
       "      <td>2017-10-25</td>\n",
       "      <td>2017-05-17 00:00:00</td>\n",
       "      <td>MIA</td>\n",
       "      <td>American Airlines</td>\n",
       "      <td>PropertyLoss</td>\n",
       "      <td>Checked Baggage</td>\n",
       "      <td>65.000</td>\n",
       "      <td>Approve in Full</td>\n",
       "      <td>Baggage/Cases/Purses; Clothing</td>\n",
       "      <td>Compensate</td>\n",
       "      <td>2</td>\n",
       "      <td>161</td>\n",
       "      <td>1</td>\n",
       "      <td>10</td>\n",
       "    </tr>\n",
       "    <tr>\n",
       "      <th>3</th>\n",
       "      <td>2017-10-23</td>\n",
       "      <td>2017-10-15 00:00:00</td>\n",
       "      <td>PHL</td>\n",
       "      <td>Southwest Airlines</td>\n",
       "      <td>PropertyLoss</td>\n",
       "      <td>Checked Baggage</td>\n",
       "      <td>0.000</td>\n",
       "      <td>Deny</td>\n",
       "      <td>Currency</td>\n",
       "      <td>Deny</td>\n",
       "      <td>1</td>\n",
       "      <td>8</td>\n",
       "      <td>0</td>\n",
       "      <td>10</td>\n",
       "    </tr>\n",
       "    <tr>\n",
       "      <th>4</th>\n",
       "      <td>2017-10-19</td>\n",
       "      <td>2017-10-07 16:30:00</td>\n",
       "      <td>IAD</td>\n",
       "      <td>UAL</td>\n",
       "      <td>PropertyLoss</td>\n",
       "      <td>Checked Baggage</td>\n",
       "      <td>0.000</td>\n",
       "      <td>Deny</td>\n",
       "      <td>Food &amp; Drink</td>\n",
       "      <td>Deny</td>\n",
       "      <td>1</td>\n",
       "      <td>11</td>\n",
       "      <td>0</td>\n",
       "      <td>10</td>\n",
       "    </tr>\n",
       "  </tbody>\n",
       "</table>\n",
       "</div>"
      ],
      "text/plain": [
       "  date_received       incident_date airport_code             airline  \\\n",
       "0    2017-11-28 2017-10-22 00:00:00          LAS                 UAL   \n",
       "1    2017-11-20 2017-09-29 12:20:00          LAX   American Airlines   \n",
       "2    2017-10-25 2017-05-17 00:00:00          MIA   American Airlines   \n",
       "3    2017-10-23 2017-10-15 00:00:00          PHL  Southwest Airlines   \n",
       "4    2017-10-19 2017-10-07 16:30:00          IAD                 UAL   \n",
       "\n",
       "       claim_type       claim_site  close_amount      disposition  \\\n",
       "0    PropertyLoss  Checked Baggage        90.000           Settle   \n",
       "1  PropertyDamage       Checkpoint       485.550           Settle   \n",
       "2    PropertyLoss  Checked Baggage        65.000  Approve in Full   \n",
       "3    PropertyLoss  Checked Baggage         0.000             Deny   \n",
       "4    PropertyLoss  Checked Baggage         0.000             Deny   \n",
       "\n",
       "                    item_category binary_disposition  \\\n",
       "0                        Clothing         Compensate   \n",
       "1          Computer & Accessories         Compensate   \n",
       "2  Baggage/Cases/Purses; Clothing         Compensate   \n",
       "3                        Currency               Deny   \n",
       "4                    Food & Drink               Deny   \n",
       "\n",
       "   num_items_or_incidents_claimed  days_waited_to_file_claim  \\\n",
       "0                               1                         37   \n",
       "1                               1                         51   \n",
       "2                               2                        161   \n",
       "3                               1                          8   \n",
       "4                               1                         11   \n",
       "\n",
       "   bin_dispos_onehot Month_received  \n",
       "0                  1             11  \n",
       "1                  1             11  \n",
       "2                  1             10  \n",
       "3                  0             10  \n",
       "4                  0             10  "
      ]
     },
     "execution_count": 204,
     "metadata": {},
     "output_type": "execute_result"
    }
   ],
   "source": [
    "df.head()"
   ]
  },
  {
   "cell_type": "code",
   "execution_count": 252,
   "metadata": {},
   "outputs": [
    {
     "data": {
      "image/png": "[encoded data removed]",
      "text/plain": [
       "<Figure size 1152x360 with 1 Axes>"
      ]
     },
     "metadata": {
      "needs_background": "light"
     },
     "output_type": "display_data"
    }
   ],
   "source": [
    "df.groupby('days_waited_to_file_claim').mean().plot(y='bin_dispos_onehot', xlim=(0,150),figsize=(16,5));"
   ]
  },
  {
   "cell_type": "code",
   "execution_count": 241,
   "metadata": {},
   "outputs": [
    {
     "data": {
      "image/png": "[encoded data removed]",
      "text/plain": [
       "<Figure size 1152x360 with 1 Axes>"
      ]
     },
     "metadata": {
      "needs_background": "light"
     },
     "output_type": "display_data"
    }
   ],
   "source": [
    "df[df.Month_inc_date == '7'].groupby('days_waited_to_file_claim').mean().plot(y='bin_dispos_onehot', xlim=(0,90),figsize=(16,5));"
   ]
  },
  {
   "cell_type": "code",
   "execution_count": 227,
   "metadata": {},
   "outputs": [
    {
     "data": {
      "text/plain": [
       "Month_inc_date\n",
       "4    0.440\n",
       "3    0.431\n",
       "2    0.428\n",
       "5    0.427\n",
       "6    0.421\n",
       "1    0.417\n",
       "12   0.412\n",
       "10   0.408\n",
       "11   0.405\n",
       "8    0.403\n",
       "9    0.401\n",
       "7    0.398\n",
       "Name: bin_dispos_onehot, dtype: float64"
      ]
     },
     "execution_count": 227,
     "metadata": {},
     "output_type": "execute_result"
    }
   ],
   "source": [
    "df.groupby(['Month_inc_date']).bin_dispos_onehot.mean().sort_values(ascending=False)"
   ]
  },
  {
   "cell_type": "code",
   "execution_count": 225,
   "metadata": {},
   "outputs": [
    {
     "data": {
      "text/plain": [
       "Month_received\n",
       "5    0.435\n",
       "6    0.434\n",
       "4    0.427\n",
       "3    0.424\n",
       "2    0.421\n",
       "7    0.415\n",
       "8    0.412\n",
       "1    0.410\n",
       "11   0.406\n",
       "12   0.405\n",
       "9    0.400\n",
       "10   0.398\n",
       "Name: bin_dispos_onehot, dtype: float64"
      ]
     },
     "execution_count": 225,
     "metadata": {},
     "output_type": "execute_result"
    }
   ],
   "source": [
    "df.groupby(['Month_received']).bin_dispos_onehot.mean().sort_values(ascending=False)"
   ]
  },
  {
   "cell_type": "code",
   "execution_count": 218,
   "metadata": {},
   "outputs": [
    {
     "data": {
      "text/plain": [
       "airport_code  claim_type      claim_site\n",
       "STL           PropertyDamage  Checkpoint   0.812\n",
       "BWI           PropertyDamage  Checkpoint   0.808\n",
       "ORD           PropertyDamage  Checkpoint   0.800\n",
       "BNA           PropertyDamage  Checkpoint   0.791\n",
       "EWR           PropertyDamage  Checkpoint   0.790\n",
       "SJC           PropertyDamage  Checkpoint   0.786\n",
       "JFK           PropertyDamage  Checkpoint   0.778\n",
       "MCO           PropertyDamage  Checkpoint   0.777\n",
       "AUS           PropertyDamage  Checkpoint   0.760\n",
       "BOS           PropertyDamage  Checkpoint   0.759\n",
       "SEA           PropertyDamage  Checkpoint   0.757\n",
       "RDU           PropertyDamage  Checkpoint   0.757\n",
       "PHX           PropertyDamage  Checkpoint   0.752\n",
       "PDX           PropertyDamage  Checkpoint   0.748\n",
       "LGA           PropertyDamage  Checkpoint   0.744\n",
       "MSP           PropertyDamage  Checkpoint   0.744\n",
       "DFW           PropertyDamage  Checkpoint   0.733\n",
       "DCA           PropertyDamage  Checkpoint   0.729\n",
       "HOU           PropertyDamage  Checkpoint   0.723\n",
       "SAN           PropertyDamage  Checkpoint   0.721\n",
       "DEN           PropertyDamage  Checkpoint   0.717\n",
       "MSY           PropertyDamage  Checkpoint   0.709\n",
       "SLC           PropertyDamage  Checkpoint   0.701\n",
       "LAX           PropertyDamage  Checkpoint   0.699\n",
       "IAH           PropertyDamage  Checkpoint   0.697\n",
       "DAL           PropertyDamage  Checkpoint   0.688\n",
       "MDW           PropertyDamage  Checkpoint   0.680\n",
       "ATL           PropertyDamage  Checkpoint   0.676\n",
       "OAK           PropertyDamage  Checkpoint   0.675\n",
       "MIA           PropertyDamage  Checkpoint   0.673\n",
       "IAD           PropertyDamage  Checkpoint   0.665\n",
       "TPA           PropertyDamage  Checkpoint   0.665\n",
       "CLT           PropertyDamage  Checkpoint   0.655\n",
       "HNL           PropertyDamage  Checkpoint   0.655\n",
       "FLL           PropertyDamage  Checkpoint   0.648\n",
       "PHL           PropertyDamage  Checkpoint   0.629\n",
       "DTW           PropertyDamage  Checkpoint   0.604\n",
       "LAS           PropertyDamage  Checkpoint   0.540\n",
       "Name: bin_dispos_onehot, dtype: float64"
      ]
     },
     "execution_count": 218,
     "metadata": {},
     "output_type": "execute_result"
    }
   ],
   "source": [
    "df[(df.claim_site == 'Checkpoint') & (df.claim_type == 'PropertyDamage')].groupby(['airport_code', 'claim_type', 'claim_site']).bin_dispos_onehot.mean().sort_values(ascending=False)"
   ]
  },
  {
   "cell_type": "code",
   "execution_count": 213,
   "metadata": {},
   "outputs": [
    {
     "data": {
      "text/html": [
       "<div>\n",
       "<style scoped>\n",
       "    .dataframe tbody tr th:only-of-type {\n",
       "        vertical-align: middle;\n",
       "    }\n",
       "\n",
       "    .dataframe tbody tr th {\n",
       "        vertical-align: top;\n",
       "    }\n",
       "\n",
       "    .dataframe thead th {\n",
       "        text-align: right;\n",
       "    }\n",
       "</style>\n",
       "<table border=\"1\" class=\"dataframe\">\n",
       "  <thead>\n",
       "    <tr style=\"text-align: right;\">\n",
       "      <th></th>\n",
       "      <th>date_received</th>\n",
       "      <th>incident_date</th>\n",
       "      <th>airport_code</th>\n",
       "      <th>airline</th>\n",
       "      <th>claim_type</th>\n",
       "      <th>claim_site</th>\n",
       "      <th>close_amount</th>\n",
       "      <th>disposition</th>\n",
       "      <th>item_category</th>\n",
       "      <th>binary_disposition</th>\n",
       "      <th>num_items_or_incidents_claimed</th>\n",
       "      <th>days_waited_to_file_claim</th>\n",
       "      <th>bin_dispos_onehot</th>\n",
       "      <th>Month_received</th>\n",
       "      <th>Month_inc_date</th>\n",
       "      <th>squared_days_waited</th>\n",
       "    </tr>\n",
       "  </thead>\n",
       "  <tbody>\n",
       "    <tr>\n",
       "      <th>0</th>\n",
       "      <td>2017-11-28</td>\n",
       "      <td>2017-10-22 00:00:00</td>\n",
       "      <td>LAS</td>\n",
       "      <td>UAL</td>\n",
       "      <td>PropertyLoss</td>\n",
       "      <td>Checked Baggage</td>\n",
       "      <td>90.000</td>\n",
       "      <td>Settle</td>\n",
       "      <td>Clothing</td>\n",
       "      <td>Compensate</td>\n",
       "      <td>1</td>\n",
       "      <td>37</td>\n",
       "      <td>1</td>\n",
       "      <td>11</td>\n",
       "      <td>10</td>\n",
       "      <td>1369</td>\n",
       "    </tr>\n",
       "    <tr>\n",
       "      <th>1</th>\n",
       "      <td>2017-11-20</td>\n",
       "      <td>2017-09-29 12:20:00</td>\n",
       "      <td>LAX</td>\n",
       "      <td>American Airlines</td>\n",
       "      <td>PropertyDamage</td>\n",
       "      <td>Checkpoint</td>\n",
       "      <td>485.550</td>\n",
       "      <td>Settle</td>\n",
       "      <td>Computer &amp; Accessories</td>\n",
       "      <td>Compensate</td>\n",
       "      <td>1</td>\n",
       "      <td>51</td>\n",
       "      <td>1</td>\n",
       "      <td>11</td>\n",
       "      <td>9</td>\n",
       "      <td>2601</td>\n",
       "    </tr>\n",
       "    <tr>\n",
       "      <th>2</th>\n",
       "      <td>2017-10-25</td>\n",
       "      <td>2017-05-17 00:00:00</td>\n",
       "      <td>MIA</td>\n",
       "      <td>American Airlines</td>\n",
       "      <td>PropertyLoss</td>\n",
       "      <td>Checked Baggage</td>\n",
       "      <td>65.000</td>\n",
       "      <td>Approve in Full</td>\n",
       "      <td>Baggage/Cases/Purses; Clothing</td>\n",
       "      <td>Compensate</td>\n",
       "      <td>2</td>\n",
       "      <td>161</td>\n",
       "      <td>1</td>\n",
       "      <td>10</td>\n",
       "      <td>5</td>\n",
       "      <td>25921</td>\n",
       "    </tr>\n",
       "    <tr>\n",
       "      <th>3</th>\n",
       "      <td>2017-10-23</td>\n",
       "      <td>2017-10-15 00:00:00</td>\n",
       "      <td>PHL</td>\n",
       "      <td>Southwest Airlines</td>\n",
       "      <td>PropertyLoss</td>\n",
       "      <td>Checked Baggage</td>\n",
       "      <td>0.000</td>\n",
       "      <td>Deny</td>\n",
       "      <td>Currency</td>\n",
       "      <td>Deny</td>\n",
       "      <td>1</td>\n",
       "      <td>8</td>\n",
       "      <td>0</td>\n",
       "      <td>10</td>\n",
       "      <td>10</td>\n",
       "      <td>64</td>\n",
       "    </tr>\n",
       "    <tr>\n",
       "      <th>4</th>\n",
       "      <td>2017-10-19</td>\n",
       "      <td>2017-10-07 16:30:00</td>\n",
       "      <td>IAD</td>\n",
       "      <td>UAL</td>\n",
       "      <td>PropertyLoss</td>\n",
       "      <td>Checked Baggage</td>\n",
       "      <td>0.000</td>\n",
       "      <td>Deny</td>\n",
       "      <td>Food &amp; Drink</td>\n",
       "      <td>Deny</td>\n",
       "      <td>1</td>\n",
       "      <td>11</td>\n",
       "      <td>0</td>\n",
       "      <td>10</td>\n",
       "      <td>10</td>\n",
       "      <td>121</td>\n",
       "    </tr>\n",
       "  </tbody>\n",
       "</table>\n",
       "</div>"
      ],
      "text/plain": [
       "  date_received       incident_date airport_code             airline  \\\n",
       "0    2017-11-28 2017-10-22 00:00:00          LAS                 UAL   \n",
       "1    2017-11-20 2017-09-29 12:20:00          LAX   American Airlines   \n",
       "2    2017-10-25 2017-05-17 00:00:00          MIA   American Airlines   \n",
       "3    2017-10-23 2017-10-15 00:00:00          PHL  Southwest Airlines   \n",
       "4    2017-10-19 2017-10-07 16:30:00          IAD                 UAL   \n",
       "\n",
       "       claim_type       claim_site  close_amount      disposition  \\\n",
       "0    PropertyLoss  Checked Baggage        90.000           Settle   \n",
       "1  PropertyDamage       Checkpoint       485.550           Settle   \n",
       "2    PropertyLoss  Checked Baggage        65.000  Approve in Full   \n",
       "3    PropertyLoss  Checked Baggage         0.000             Deny   \n",
       "4    PropertyLoss  Checked Baggage         0.000             Deny   \n",
       "\n",
       "                    item_category binary_disposition  \\\n",
       "0                        Clothing         Compensate   \n",
       "1          Computer & Accessories         Compensate   \n",
       "2  Baggage/Cases/Purses; Clothing         Compensate   \n",
       "3                        Currency               Deny   \n",
       "4                    Food & Drink               Deny   \n",
       "\n",
       "   num_items_or_incidents_claimed  days_waited_to_file_claim  \\\n",
       "0                               1                         37   \n",
       "1                               1                         51   \n",
       "2                               2                        161   \n",
       "3                               1                          8   \n",
       "4                               1                         11   \n",
       "\n",
       "   bin_dispos_onehot Month_received Month_inc_date  squared_days_waited  \n",
       "0                  1             11             10                 1369  \n",
       "1                  1             11              9                 2601  \n",
       "2                  1             10              5                25921  \n",
       "3                  0             10             10                   64  \n",
       "4                  0             10             10                  121  "
      ]
     },
     "execution_count": 213,
     "metadata": {},
     "output_type": "execute_result"
    }
   ],
   "source": [
    "df.head()"
   ]
  },
  {
   "cell_type": "code",
   "execution_count": 212,
   "metadata": {},
   "outputs": [
    {
     "data": {
      "text/plain": [
       "claim_type      claim_site     \n",
       "PropertyDamage  Checkpoint        0.722\n",
       "                Checked Baggage   0.422\n",
       "PropertyLoss    Checked Baggage   0.369\n",
       "                Checkpoint        0.362\n",
       "Name: bin_dispos_onehot, dtype: float64"
      ]
     },
     "execution_count": 212,
     "metadata": {},
     "output_type": "execute_result"
    }
   ],
   "source": [
    "df[(df.claim_site == 'Checkpoint')].groupby(['claim_type', 'claim_site']).bin_dispos_onehot.mean().sort_values(ascending=False)"
   ]
  },
  {
   "cell_type": "code",
   "execution_count": 87,
   "metadata": {},
   "outputs": [
    {
     "data": {
      "image/png": "[encoded data removed]",
      "text/plain": [
       "<Figure size 1368x288 with 1 Axes>"
      ]
     },
     "metadata": {
      "needs_background": "light"
     },
     "output_type": "display_data"
    }
   ],
   "source": [
    "ser3 = df.groupby(['airport_code']).airport_code.count().sort_values()\n",
    "fig, ax = plt.subplots(figsize=(19, 4))\n",
    "ax.scatter(x=ser3.index, y=ser3.values);"
   ]
  },
  {
   "cell_type": "code",
   "execution_count": null,
   "metadata": {},
   "outputs": [],
   "source": []
  }
 ],
 "metadata": {
  "kernelspec": {
   "display_name": "Python 3",
   "language": "python",
   "name": "python3"
  },
  "language_info": {
   "codemirror_mode": {
    "name": "ipython",
    "version": 3
   },
   "file_extension": ".py",
   "mimetype": "text/x-python",
   "name": "python",
   "nbconvert_exporter": "python",
   "pygments_lexer": "ipython3",
   "version": "3.6.6"
  }
 },
 "nbformat": 4,
 "nbformat_minor": 2
}
