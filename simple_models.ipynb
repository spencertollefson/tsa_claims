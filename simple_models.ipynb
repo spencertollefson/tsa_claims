{
 "cells": [
  {
   "cell_type": "markdown",
   "metadata": {},
   "source": [
    "# Questions"
   ]
  },
  {
   "cell_type": "markdown",
   "metadata": {},
   "source": [
    "* Should I calculate business days since incident? or Total days?\n",
    "* How to do timeseries?\n",
    "  * Only predict a date based on the info that's happened BEFORE it?\n",
    "  * Book by week? exact day of year? month?\n",
    " ---\n",
    "* Could I make an EITHER/OR case?\n",
    "  * First do a classifier for Compensate or Deny. If compensate, then do a Regression for HOW MUCH they'll get back?\n",
    "  * I could also do models that ONLY take into account how much they asked for, IF I have enough data\n",
    "* Why is my RF 410 MB?\n",
    "* **I may be parsing 'ITEMS' wrong. Semicolon may indicate the various items missing**"
   ]
  },
  {
   "cell_type": "markdown",
   "metadata": {},
   "source": [
    "### 1st simple model, \"settle\" or \"compensate\" I got 67.40% ROC!\n",
    "### 2nd model, with claim_request_amount, roc_auc got 68.64%"
   ]
  },
  {
   "cell_type": "markdown",
   "metadata": {},
   "source": [
    "# Next Steps\n",
    "* Try a Rolling Window of 12 months to remove seasonality and see if there are changes from 2002 onward\n",
    "* See if I can spot trends by day/week/month/holidays/weekends during the year"
   ]
  },
  {
   "cell_type": "markdown",
   "metadata": {},
   "source": [
    "### *Is it an issue with 370 airports and 170 airlines?*\n",
    "### I should consider dropping some of the claim_types and maybe other stuff too"
   ]
  },
  {
   "cell_type": "markdown",
   "metadata": {},
   "source": [
    "# Feature engineer count of how many claims"
   ]
  },
  {
   "cell_type": "code",
   "execution_count": 185,
   "metadata": {},
   "outputs": [],
   "source": [
    "import numpy as np\n",
    "import pandas as pd\n",
    "import matplotlib.pyplot as plt\n",
    "%matplotlib inline\n",
    "import seaborn as sns\n",
    "\n",
    "import pyspark\n",
    "\n",
    "import datetime as dt\n",
    "\n",
    "import tabula\n",
    "import joblib"
   ]
  },
  {
   "cell_type": "code",
   "execution_count": 186,
   "metadata": {},
   "outputs": [],
   "source": [
    "pd.set_option('display.max_columns', 300)\n",
    "pd.set_option('display.max_rows', 60)\n",
    "pd.set_option('display.precision', 3)\n",
    "pd.set_option('display.float_format', lambda x: '%.3f' % x)\n",
    "\n",
    "import sklearn\n",
    "from sklearn.preprocessing import StandardScaler, MultiLabelBinarizer, OneHotEncoder\n",
    "from sklearn.model_selection import GridSearchCV, RandomizedSearchCV, cross_val_score, cross_validate \\\n",
    "                                    ,cross_val_predict, GridSearchCV, RandomizedSearchCV\n",
    "from sklearn.svm import SVC\n",
    "from sklearn.neighbors import KNeighborsClassifier\n",
    "from sklearn import metrics\n",
    "from sklearn.metrics import confusion_matrix,recall_score,precision_score, f1_score, roc_auc_score\n",
    "from sklearn.model_selection import train_test_split, cross_validate, cross_val_score\n",
    "from sklearn.linear_model import LogisticRegression, LogisticRegressionCV\n",
    "from sklearn.tree import DecisionTreeClassifier\n",
    "from sklearn.ensemble import RandomForestClassifier, GradientBoostingClassifier\n",
    "from sklearn.naive_bayes import GaussianNB, MultinomialNB, BernoulliNB\n",
    "\n",
    "from sklearn.metrics import roc_curve, auc\n",
    "\n",
    "import itertools\n",
    "from sklearn.metrics import confusion_matrix\n",
    "from sklearn.externals import joblib\n",
    "from imblearn.over_sampling import SMOTE"
   ]
  },
  {
   "cell_type": "code",
   "execution_count": 3,
   "metadata": {},
   "outputs": [],
   "source": [
    "dir = 'models/preliminary'"
   ]
  },
  {
   "cell_type": "markdown",
   "metadata": {},
   "source": [
    "-----"
   ]
  },
  {
   "cell_type": "markdown",
   "metadata": {},
   "source": [
    "-----"
   ]
  },
  {
   "cell_type": "code",
   "execution_count": 189,
   "metadata": {},
   "outputs": [],
   "source": [
    "df = pd.read_pickle('./data/clean/clean_for_classifier_df.pkl')"
   ]
  },
  {
   "cell_type": "code",
   "execution_count": 190,
   "metadata": {},
   "outputs": [],
   "source": [
    "col_names = ['claim_number', 'date_received', 'incident_date', 'airport_code', 'airport_name',\n",
    "           'airline', 'claim_type', 'claim_site', 'item_category', 'close_amount', 'disposition']\n",
    "           "
   ]
  },
  {
   "cell_type": "code",
   "execution_count": 191,
   "metadata": {},
   "outputs": [
    {
     "name": "stderr",
     "output_type": "stream",
     "text": [
      "/home/spencer/anaconda3/lib/python3.6/site-packages/ipykernel_launcher.py:5: SettingWithCopyWarning: \n",
      "A value is trying to be set on a copy of a slice from a DataFrame\n",
      "\n",
      "See the caveats in the documentation: http://pandas.pydata.org/pandas-docs/stable/indexing.html#indexing-view-versus-copy\n",
      "  \"\"\"\n",
      "/home/spencer/anaconda3/lib/python3.6/site-packages/ipykernel_launcher.py:6: SettingWithCopyWarning: \n",
      "A value is trying to be set on a copy of a slice from a DataFrame\n",
      "\n",
      "See the caveats in the documentation: http://pandas.pydata.org/pandas-docs/stable/indexing.html#indexing-view-versus-copy\n",
      "  \n"
     ]
    }
   ],
   "source": [
    "df['binary_disposition'] = df['disposition']\n",
    "df['binary_disposition'] = df['binary_disposition'].where(df['binary_disposition'] == 'Deny', other='Compensate')\n",
    "\n",
    "# Change some text to make it more human readable\n",
    "df.claim_site[df.claim_site == '-'] = 'Unknown'\n",
    "df.claim_type[df.claim_type == '-'] = 'Unknown'\n",
    "\n",
    "# Feature Engineering\n",
    "\n",
    "### Count of items claimed\n",
    "\n",
    "# TODO: Consider only using this for where claim_type is related to property.\n",
    "df['num_items_or_incidents_claimed'] = df['item_category'].str.split(pat=';').apply(lambda x: len(x))\n",
    "df['num_items_or_incidents_claimed'] = df['num_items_or_incidents_claimed'].where(df['claim_type'].str.contains('property', case=False) == True, other= 0)\n",
    "\n",
    "### Time calculation\n",
    "wait_period = df.date_received - df.incident_date\n",
    "df['days_waited_to_file_claim'] = wait_period.dt.days\n",
    "\n",
    "# Drop days where the 'date_received\" was reported before 'incident_date'\n",
    "df = df[df.days_waited_to_file_claim >= 0]\n",
    "\n",
    "df.reset_index(inplace=True,drop=True)\n",
    "df['bin_dispos_onehot'] = df['binary_disposition'].apply(lambda x: 1 if x == 'Compensate' else 0)"
   ]
  },
  {
   "cell_type": "code",
   "execution_count": 7,
   "metadata": {},
   "outputs": [],
   "source": [
    "## Figure out how to plot this shit. I want 12 months on the X axis, and then a bar for each month of the proportion of approved vs denied within each month (I think)"
   ]
  },
  {
   "cell_type": "markdown",
   "metadata": {},
   "source": [
    "# TIME BREAKOUT COLUMNS"
   ]
  },
  {
   "cell_type": "code",
   "execution_count": 192,
   "metadata": {},
   "outputs": [],
   "source": [
    "# df['Week/Year_inc_date'] = df['incident_date'].apply(lambda x: \"%d/%d\" % (x.week, x.year))\n",
    "# df['Week_inc_date'] = df['incident_date'].apply(lambda x: \"%d\" % (x.week))\n",
    "# df['Month_inc_date'] = df['incident_date'].apply(lambda x: \"%d\" % (x.month))\n",
    "# df['Year_inc_date'] = df['incident_date'].apply(lambda x: \"%d\" % (x.year))\n",
    "\n",
    "# df['Week_received'] = df['date_received'].apply(lambda x: \"%d\" % (x.week))\n",
    "df['Month_received'] = df['date_received'].apply(lambda x: \"%d\" % (x.month))\n",
    "# df['Year_received'] = df['date_received'].apply(lambda x: \"%d\" % (x.year))"
   ]
  },
  {
   "cell_type": "code",
   "execution_count": 9,
   "metadata": {},
   "outputs": [
    {
     "data": {
      "text/plain": [
       "<matplotlib.axes._subplots.AxesSubplot at 0x7f6548d3f518>"
      ]
     },
     "execution_count": 9,
     "metadata": {},
     "output_type": "execute_result"
    },
    {
     "data": {
      "image/png": "[encoded data removed]",
      "text/plain": [
       "<Figure size 576x432 with 1 Axes>"
      ]
     },
     "metadata": {
      "needs_background": "light"
     },
     "output_type": "display_data"
    }
   ],
   "source": [
    "# df.groupby('Year_received').apply(lambda x: x.bin_dispos_onehot.sum() / x.bin_dispos_onehot.count()).plot(kind='barh', figsize=(8,6))"
   ]
  },
  {
   "cell_type": "code",
   "execution_count": 10,
   "metadata": {},
   "outputs": [
    {
     "data": {
      "image/png": "[encoded data removed]",
      "text/plain": [
       "<Figure size 576x432 with 1 Axes>"
      ]
     },
     "metadata": {
      "needs_background": "light"
     },
     "output_type": "display_data"
    }
   ],
   "source": [
    "# df.groupby('Year_inc_date').apply(lambda x: x.bin_dispos_onehot.sum() / x.bin_dispos_onehot.count()).plot(kind='barh', figsize=(8,6));"
   ]
  },
  {
   "cell_type": "code",
   "execution_count": 247,
   "metadata": {},
   "outputs": [
    {
     "data": {
      "text/plain": [
       "Index(['date_received', 'incident_date', 'airport_code', 'airline',\n",
       "       'claim_type', 'claim_site', 'close_amount', 'disposition',\n",
       "       'item_category', 'binary_disposition', 'num_items_or_incidents_claimed',\n",
       "       'days_waited_to_file_claim', 'bin_dispos_onehot', 'Month_received'],\n",
       "      dtype='object')"
      ]
     },
     "execution_count": 247,
     "metadata": {},
     "output_type": "execute_result"
    }
   ],
   "source": [
    "df.columns"
   ]
  },
  {
   "cell_type": "code",
   "execution_count": 254,
   "metadata": {},
   "outputs": [],
   "source": [
    "X_df = df.drop(['binary_disposition', 'disposition', \n",
    "             'date_received', 'incident_date',\n",
    "             'close_amount', 'num_items_or_incidents_claimed']\n",
    "            ]\n",
    "            , axis=1)\n",
    "y = df['binary_disposition'].apply(lambda x: 1 if x == 'Compensate' else 0)"
   ]
  },
  {
   "cell_type": "code",
   "execution_count": 255,
   "metadata": {},
   "outputs": [],
   "source": [
    "categorical = ['airport_code', 'airline', 'claim_type', 'claim_site', 'Month_received']\n",
    "continuous =  ['days_waited_to_file_claim']"
   ]
  },
  {
   "cell_type": "code",
   "execution_count": 256,
   "metadata": {},
   "outputs": [
    {
     "name": "stderr",
     "output_type": "stream",
     "text": [
      "/home/spencer/anaconda3/lib/python3.6/site-packages/sklearn/preprocessing/data.py:617: DataConversionWarning: Data with input dtype int64 were all converted to float64 by StandardScaler.\n",
      "  return self.partial_fit(X, y)\n",
      "/home/spencer/anaconda3/lib/python3.6/site-packages/sklearn/base.py:462: DataConversionWarning: Data with input dtype int64 were all converted to float64 by StandardScaler.\n",
      "  return self.fit(X, **fit_params).transform(X)\n"
     ]
    }
   ],
   "source": [
    "enc = OneHotEncoder(sparse=False)\n",
    "onehotarray = enc.fit_transform(X_df[categorical])\n",
    "\n",
    "ss = StandardScaler()\n",
    "continuousarray = ss.fit_transform(X_df[continuous])\n",
    "\n",
    "mlb = MultiLabelBinarizer(sparse_output=False)\n",
    "onehot_itemcategories = mlb.fit_transform(X_df['item_category'].str.replace(' ','').str.split(pat=';'))\n",
    "\n",
    "X = np.concatenate((onehotarray, continuousarray, onehot_itemcategories), axis=1)"
   ]
  },
  {
   "cell_type": "code",
   "execution_count": 259,
   "metadata": {},
   "outputs": [],
   "source": [
    "trans_dir = './web_app/stat_models/transformers'\n",
    "\n",
    "enc = OneHotEncoder(sparse=False)\n",
    "enc.fit(X_df[categorical])\n",
    "joblib.dump(enc, f'{trans_dir}/onehotencode.joblib')\n",
    "# onehotarray = enc.transform(X[categorical])\n",
    "\n",
    "ss = StandardScaler()\n",
    "ss.fit(X_df[continuous])\n",
    "joblib.dump(ss, f'{trans_dir}/standardscaler.joblib')\n",
    "\n",
    "\n",
    "mlb = MultiLabelBinarizer(sparse_output=False)\n",
    "mlb.fit(X_df['item_category'].str.replace(' ','').str.split(pat=';'))\n",
    "joblib.dump(mlb, f'{trans_dir}/item_category.joblib')"
   ]
  },
  {
   "cell_type": "code",
   "execution_count": 201,
   "metadata": {},
   "outputs": [],
   "source": [
    "X_train, X_test, y_train, y_test = train_test_split(X, y, test_size=0.3, random_state=42, stratify=y)"
   ]
  },
  {
   "cell_type": "markdown",
   "metadata": {},
   "source": [
    "# Model with Year included"
   ]
  },
  {
   "cell_type": "markdown",
   "metadata": {},
   "source": [
    "---\n",
    "some problems with this would be introducing YEAR and MONTH that has never been trained on. Is this where I need to do a timeseries thing"
   ]
  },
  {
   "cell_type": "markdown",
   "metadata": {},
   "source": [
    "---"
   ]
  },
  {
   "cell_type": "code",
   "execution_count": 203,
   "metadata": {},
   "outputs": [
    {
     "name": "stdout",
     "output_type": "stream",
     "text": [
      "0.7033272641221381\n",
      "{'criterion': 'gini', 'max_depth': 25, 'n_estimators': 300}\n",
      "RandomForestClassifier(bootstrap=True, class_weight=None, criterion='gini',\n",
      "            max_depth=25, max_features='auto', max_leaf_nodes=None,\n",
      "            min_impurity_decrease=0.0, min_impurity_split=None,\n",
      "            min_samples_leaf=1, min_samples_split=2,\n",
      "            min_weight_fraction_leaf=0.0, n_estimators=300, n_jobs=None,\n",
      "            oob_score=False, random_state=42, verbose=0, warm_start=False)\n",
      "0.5969929111540007\n"
     ]
    }
   ],
   "source": [
    "%%time\n",
    "rf = RandomForestClassifier(random_state=42)\n",
    "\n",
    "criterions = ['gini']#, 'entropy']\n",
    "n_ests = [300]\n",
    "m_depths = [25]\n",
    "    \n",
    "param_grid = dict(criterion=criterions, n_estimators=n_ests, max_depth=m_depths)\n",
    "\n",
    "grid_rf = GridSearchCV(rf, param_grid, scoring='roc_auc', cv=10, n_jobs=4)\n",
    "\n",
    "grid_rf.fit(X_train, y_train)\n",
    "\n",
    "print(grid_rf.best_score_)\n",
    "print(grid_rf.best_params_)\n",
    "print(grid_rf.best_estimator_)\n",
    "\n",
    "y_pred = grid_rf.predict(X_test)\n",
    "print(roc_auc_score(y_test, y_pred))"
   ]
  },
  {
   "cell_type": "code",
   "execution_count": 242,
   "metadata": {},
   "outputs": [
    {
     "data": {
      "text/plain": [
       "['models/rf_months_12.03.2018.joblib']"
      ]
     },
     "execution_count": 242,
     "metadata": {},
     "output_type": "execute_result"
    }
   ],
   "source": [
    "savedir = 'models'\n",
    "joblib.dump(grid_rf.best_estimator_, f'{savedir}/rf_months_12.03.2018.joblib',compress=9)"
   ]
  },
  {
   "cell_type": "code",
   "execution_count": 318,
   "metadata": {},
   "outputs": [],
   "source": [
    "import catboost\n",
    "from catboost import CatBoostClassifier"
   ]
  },
  {
   "cell_type": "code",
   "execution_count": 323,
   "metadata": {},
   "outputs": [
    {
     "name": "stderr",
     "output_type": "stream",
     "text": [
      "/home/spencer/anaconda3/lib/python3.6/site-packages/sklearn/externals/joblib/externals/loky/process_executor.py:700: UserWarning: A worker stopped while some jobs were given to the executor. This can be caused by a too short worker timeout or by a memory leak.\n",
      "  \"timeout or by a memory leak.\", UserWarning\n",
      "/home/spencer/anaconda3/lib/python3.6/site-packages/sklearn/externals/joblib/externals/loky/process_executor.py:700: UserWarning: A worker stopped while some jobs were given to the executor. This can be caused by a too short worker timeout or by a memory leak.\n",
      "  \"timeout or by a memory leak.\", UserWarning\n",
      "/home/spencer/anaconda3/lib/python3.6/site-packages/sklearn/externals/joblib/externals/loky/process_executor.py:700: UserWarning: A worker stopped while some jobs were given to the executor. This can be caused by a too short worker timeout or by a memory leak.\n",
      "  \"timeout or by a memory leak.\", UserWarning\n",
      "/home/spencer/anaconda3/lib/python3.6/site-packages/sklearn/externals/joblib/externals/loky/process_executor.py:700: UserWarning: A worker stopped while some jobs were given to the executor. This can be caused by a too short worker timeout or by a memory leak.\n",
      "  \"timeout or by a memory leak.\", UserWarning\n",
      "/home/spencer/anaconda3/lib/python3.6/site-packages/sklearn/externals/joblib/externals/loky/process_executor.py:700: UserWarning: A worker stopped while some jobs were given to the executor. This can be caused by a too short worker timeout or by a memory leak.\n",
      "  \"timeout or by a memory leak.\", UserWarning\n",
      "/home/spencer/anaconda3/lib/python3.6/site-packages/sklearn/externals/joblib/externals/loky/process_executor.py:700: UserWarning: A worker stopped while some jobs were given to the executor. This can be caused by a too short worker timeout or by a memory leak.\n",
      "  \"timeout or by a memory leak.\", UserWarning\n"
     ]
    },
    {
     "name": "stdout",
     "output_type": "stream",
     "text": [
      "0.7000132331531255\n",
      "{'max_depth': 30, 'n_estimators': 300}\n",
      "RandomForestClassifier(bootstrap=True, class_weight=None, criterion='gini',\n",
      "            max_depth=30, max_features='auto', max_leaf_nodes=None,\n",
      "            min_impurity_decrease=0.0, min_impurity_split=None,\n",
      "            min_samples_leaf=1, min_samples_split=2,\n",
      "            min_weight_fraction_leaf=0.0, n_estimators=300, n_jobs=None,\n",
      "            oob_score=False, random_state=42, verbose=0, warm_start=False)\n",
      "0.5942895864007496\n",
      "CPU times: user 1min 13s, sys: 2.38 s, total: 1min 16s\n",
      "Wall time: 14min 28s\n"
     ]
    }
   ],
   "source": [
    "%%time\n",
    "cboost = CatBoostClassifier(learning_rate=0.1, random_seed=42)\n",
    "n_ests = [300]\n",
    "m_depths = [30]\n",
    "    \n",
    "param_grid = dict(n_estimators=n_ests, max_depth=m_depths)\n",
    "\n",
    "cat_clf = GridSearchCV(rf, param_grid, scoring='roc_auc', cv=10, n_jobs=4)\n",
    "\n",
    "cat_clf.fit(X_train[-30000:], y_train[-30000:])\n",
    "\n",
    "print(cat_clf.best_score_)\n",
    "print(cat_clf.best_params_)\n",
    "print(cat_clf.best_estimator_)\n",
    "\n",
    "y_pred = cat_clf.predict(X_test[-30000:])\n",
    "print(roc_auc_score(y_test[-30000:], y_pred[-30000:]))"
   ]
  },
  {
   "cell_type": "code",
   "execution_count": null,
   "metadata": {},
   "outputs": [],
   "source": []
  },
  {
   "cell_type": "markdown",
   "metadata": {},
   "source": [
    "# TIME BREAKOUT COLUMNS"
   ]
  },
  {
   "cell_type": "code",
   "execution_count": 276,
   "metadata": {},
   "outputs": [],
   "source": [
    "df['Week/Year_inc_date'] = df['incident_date'].apply(lambda x: \"%d/%d\" % (x.week, x.year))\n",
    "df['Week_inc_date'] = df['incident_date'].apply(lambda x: \"%d\" % (x.week))\n",
    "df['Month_inc_date'] = df['incident_date'].apply(lambda x: \"%d\" % (x.month))\n",
    "df['Year_inc_date'] = df['incident_date'].apply(lambda x: \"%d\" % (x.year))\n",
    "\n",
    "df['Week_received'] = df['date_received'].apply(lambda x: \"%d\" % (x.week))\n",
    "df['Month_received'] = df['date_received'].apply(lambda x: \"%d\" % (x.month))\n",
    "df['Year_received'] = df['date_received'].apply(lambda x: \"%d\" % (x.year))"
   ]
  },
  {
   "cell_type": "code",
   "execution_count": 267,
   "metadata": {},
   "outputs": [
    {
     "data": {
      "text/plain": [
       "array([[<matplotlib.axes._subplots.AxesSubplot object at 0x7f9a2761eac8>]],\n",
       "      dtype=object)"
      ]
     },
     "execution_count": 267,
     "metadata": {},
     "output_type": "execute_result"
    },
    {
     "data": {
      "image/png": "[encoded data removed]",
      "text/plain": [
       "<Figure size 432x288 with 1 Axes>"
      ]
     },
     "metadata": {
      "needs_background": "light"
     },
     "output_type": "display_data"
    }
   ],
   "source": [
    "df.hist(column='num_items_or_incidents_claimed', bins=15)"
   ]
  },
  {
   "cell_type": "code",
   "execution_count": 262,
   "metadata": {},
   "outputs": [
    {
     "data": {
      "text/plain": [
       "<matplotlib.axes._subplots.AxesSubplot at 0x7f9a27590208>"
      ]
     },
     "execution_count": 262,
     "metadata": {},
     "output_type": "execute_result"
    },
    {
     "data": {
      "image/png": "[encoded data removed]",
      "text/plain": [
       "<Figure size 576x432 with 1 Axes>"
      ]
     },
     "metadata": {
      "needs_background": "light"
     },
     "output_type": "display_data"
    }
   ],
   "source": [
    "df.groupby('num_i').apply(lambda x: x.num_items_or_incidents_claimed.count()).plot(kind='barh', figsize=(8,6))"
   ]
  },
  {
   "cell_type": "code",
   "execution_count": null,
   "metadata": {},
   "outputs": [],
   "source": [
    "df.plot(sort_columns="
   ]
  },
  {
   "cell_type": "code",
   "execution_count": 274,
   "metadata": {},
   "outputs": [
    {
     "data": {
      "text/plain": [
       "<matplotlib.axes._subplots.AxesSubplot at 0x7f9a276106a0>"
      ]
     },
     "execution_count": 274,
     "metadata": {},
     "output_type": "execute_result"
    },
    {
     "data": {
      "image/png": "[encoded data removed]",
      "text/plain": [
       "<Figure size 576x432 with 1 Axes>"
      ]
     },
     "metadata": {
      "needs_background": "light"
     },
     "output_type": "display_data"
    }
   ],
   "source": [
    "df.groupby('Month_received').apply(lambda x: x.bin_dispos_onehot.sum() / x.bin_dispos_onehot.count()).plot(kind='barh', figsize=(8,6), sort_columns=True)"
   ]
  },
  {
   "cell_type": "code",
   "execution_count": 38,
   "metadata": {},
   "outputs": [
    {
     "data": {
      "image/png": "[encoded data removed]",
      "text/plain": [
       "<Figure size 576x432 with 1 Axes>"
      ]
     },
     "metadata": {
      "needs_background": "light"
     },
     "output_type": "display_data"
    }
   ],
   "source": [
    "df.groupby('Month_inc_date').apply(lambda x: x.bin_dispos_onehot.sum() / x.bin_dispos_onehot.count()).plot(kind='barh', figsize=(8,6));"
   ]
  },
  {
   "cell_type": "code",
   "execution_count": 277,
   "metadata": {},
   "outputs": [
    {
     "data": {
      "image/png": "[encoded data removed]",
      "text/plain": [
       "<Figure size 576x432 with 1 Axes>"
      ]
     },
     "metadata": {
      "needs_background": "light"
     },
     "output_type": "display_data"
    }
   ],
   "source": [
    "df.groupby('Year_received').apply(lambda x: x.bin_dispos_onehot.sum() / x.bin_dispos_onehot.count()).plot(kind='barh', figsize=(8,6));"
   ]
  },
  {
   "cell_type": "code",
   "execution_count": 281,
   "metadata": {},
   "outputs": [
    {
     "data": {
      "text/html": [
       "<div>\n",
       "<style scoped>\n",
       "    .dataframe tbody tr th:only-of-type {\n",
       "        vertical-align: middle;\n",
       "    }\n",
       "\n",
       "    .dataframe tbody tr th {\n",
       "        vertical-align: top;\n",
       "    }\n",
       "\n",
       "    .dataframe thead th {\n",
       "        text-align: right;\n",
       "    }\n",
       "</style>\n",
       "<table border=\"1\" class=\"dataframe\">\n",
       "  <thead>\n",
       "    <tr style=\"text-align: right;\">\n",
       "      <th></th>\n",
       "      <th>date_received</th>\n",
       "      <th>incident_date</th>\n",
       "      <th>airport_code</th>\n",
       "      <th>airline</th>\n",
       "      <th>claim_type</th>\n",
       "      <th>claim_site</th>\n",
       "      <th>close_amount</th>\n",
       "      <th>disposition</th>\n",
       "      <th>item_category</th>\n",
       "      <th>binary_disposition</th>\n",
       "      <th>num_items_or_incidents_claimed</th>\n",
       "      <th>days_waited_to_file_claim</th>\n",
       "      <th>bin_dispos_onehot</th>\n",
       "      <th>Month_received</th>\n",
       "      <th>Week/Year_inc_date</th>\n",
       "      <th>Week_inc_date</th>\n",
       "      <th>Month_inc_date</th>\n",
       "      <th>Year_inc_date</th>\n",
       "      <th>Week_received</th>\n",
       "      <th>Year_received</th>\n",
       "    </tr>\n",
       "  </thead>\n",
       "  <tbody>\n",
       "    <tr>\n",
       "      <th>0</th>\n",
       "      <td>2017-12-01</td>\n",
       "      <td>2017-11-30 00:00:00</td>\n",
       "      <td>MCO</td>\n",
       "      <td>Westjet Airlines Ltd</td>\n",
       "      <td>PropertyLoss</td>\n",
       "      <td>Checkpoint</td>\n",
       "      <td>17.990</td>\n",
       "      <td>Approve in Full</td>\n",
       "      <td>Household Items</td>\n",
       "      <td>Compensate</td>\n",
       "      <td>1</td>\n",
       "      <td>1</td>\n",
       "      <td>1</td>\n",
       "      <td>12</td>\n",
       "      <td>48/2017</td>\n",
       "      <td>48</td>\n",
       "      <td>11</td>\n",
       "      <td>2017</td>\n",
       "      <td>48</td>\n",
       "      <td>2017</td>\n",
       "    </tr>\n",
       "    <tr>\n",
       "      <th>1</th>\n",
       "      <td>2017-11-28</td>\n",
       "      <td>2017-10-22 00:00:00</td>\n",
       "      <td>LAS</td>\n",
       "      <td>UAL</td>\n",
       "      <td>PropertyLoss</td>\n",
       "      <td>Checked Baggage</td>\n",
       "      <td>90.000</td>\n",
       "      <td>Settle</td>\n",
       "      <td>Clothing</td>\n",
       "      <td>Compensate</td>\n",
       "      <td>1</td>\n",
       "      <td>37</td>\n",
       "      <td>1</td>\n",
       "      <td>11</td>\n",
       "      <td>42/2017</td>\n",
       "      <td>42</td>\n",
       "      <td>10</td>\n",
       "      <td>2017</td>\n",
       "      <td>48</td>\n",
       "      <td>2017</td>\n",
       "    </tr>\n",
       "    <tr>\n",
       "      <th>2</th>\n",
       "      <td>2017-11-20</td>\n",
       "      <td>2017-09-29 12:20:00</td>\n",
       "      <td>LAX</td>\n",
       "      <td>American Airlines</td>\n",
       "      <td>PropertyDamage</td>\n",
       "      <td>Checkpoint</td>\n",
       "      <td>485.550</td>\n",
       "      <td>Settle</td>\n",
       "      <td>Computer &amp; Accessories</td>\n",
       "      <td>Compensate</td>\n",
       "      <td>1</td>\n",
       "      <td>51</td>\n",
       "      <td>1</td>\n",
       "      <td>11</td>\n",
       "      <td>39/2017</td>\n",
       "      <td>39</td>\n",
       "      <td>9</td>\n",
       "      <td>2017</td>\n",
       "      <td>47</td>\n",
       "      <td>2017</td>\n",
       "    </tr>\n",
       "    <tr>\n",
       "      <th>3</th>\n",
       "      <td>2017-10-26</td>\n",
       "      <td>2017-10-10 21:10:00</td>\n",
       "      <td>FLL</td>\n",
       "      <td>Emirates</td>\n",
       "      <td>PropertyLoss</td>\n",
       "      <td>Checked Baggage</td>\n",
       "      <td>111.300</td>\n",
       "      <td>Approve in Full</td>\n",
       "      <td>Other</td>\n",
       "      <td>Compensate</td>\n",
       "      <td>1</td>\n",
       "      <td>15</td>\n",
       "      <td>1</td>\n",
       "      <td>10</td>\n",
       "      <td>41/2017</td>\n",
       "      <td>41</td>\n",
       "      <td>10</td>\n",
       "      <td>2017</td>\n",
       "      <td>43</td>\n",
       "      <td>2017</td>\n",
       "    </tr>\n",
       "    <tr>\n",
       "      <th>4</th>\n",
       "      <td>2017-10-25</td>\n",
       "      <td>2017-05-17 00:00:00</td>\n",
       "      <td>MIA</td>\n",
       "      <td>American Airlines</td>\n",
       "      <td>PropertyLoss</td>\n",
       "      <td>Checked Baggage</td>\n",
       "      <td>65.000</td>\n",
       "      <td>Approve in Full</td>\n",
       "      <td>Baggage/Cases/Purses; Clothing</td>\n",
       "      <td>Compensate</td>\n",
       "      <td>2</td>\n",
       "      <td>161</td>\n",
       "      <td>1</td>\n",
       "      <td>10</td>\n",
       "      <td>20/2017</td>\n",
       "      <td>20</td>\n",
       "      <td>5</td>\n",
       "      <td>2017</td>\n",
       "      <td>43</td>\n",
       "      <td>2017</td>\n",
       "    </tr>\n",
       "  </tbody>\n",
       "</table>\n",
       "</div>"
      ],
      "text/plain": [
       "  date_received       incident_date airport_code               airline  \\\n",
       "0    2017-12-01 2017-11-30 00:00:00          MCO  Westjet Airlines Ltd   \n",
       "1    2017-11-28 2017-10-22 00:00:00          LAS                   UAL   \n",
       "2    2017-11-20 2017-09-29 12:20:00          LAX     American Airlines   \n",
       "3    2017-10-26 2017-10-10 21:10:00          FLL              Emirates   \n",
       "4    2017-10-25 2017-05-17 00:00:00          MIA     American Airlines   \n",
       "\n",
       "       claim_type       claim_site  close_amount      disposition  \\\n",
       "0    PropertyLoss       Checkpoint        17.990  Approve in Full   \n",
       "1    PropertyLoss  Checked Baggage        90.000           Settle   \n",
       "2  PropertyDamage       Checkpoint       485.550           Settle   \n",
       "3    PropertyLoss  Checked Baggage       111.300  Approve in Full   \n",
       "4    PropertyLoss  Checked Baggage        65.000  Approve in Full   \n",
       "\n",
       "                    item_category binary_disposition  \\\n",
       "0                 Household Items         Compensate   \n",
       "1                        Clothing         Compensate   \n",
       "2          Computer & Accessories         Compensate   \n",
       "3                           Other         Compensate   \n",
       "4  Baggage/Cases/Purses; Clothing         Compensate   \n",
       "\n",
       "   num_items_or_incidents_claimed  days_waited_to_file_claim  \\\n",
       "0                               1                          1   \n",
       "1                               1                         37   \n",
       "2                               1                         51   \n",
       "3                               1                         15   \n",
       "4                               2                        161   \n",
       "\n",
       "   bin_dispos_onehot Month_received Week/Year_inc_date Week_inc_date  \\\n",
       "0                  1             12            48/2017            48   \n",
       "1                  1             11            42/2017            42   \n",
       "2                  1             11            39/2017            39   \n",
       "3                  1             10            41/2017            41   \n",
       "4                  1             10            20/2017            20   \n",
       "\n",
       "  Month_inc_date Year_inc_date Week_received Year_received  \n",
       "0             11          2017            48          2017  \n",
       "1             10          2017            48          2017  \n",
       "2              9          2017            47          2017  \n",
       "3             10          2017            43          2017  \n",
       "4              5          2017            43          2017  "
      ]
     },
     "execution_count": 281,
     "metadata": {},
     "output_type": "execute_result"
    }
   ],
   "source": [
    "df.head()"
   ]
  },
  {
   "cell_type": "code",
   "execution_count": null,
   "metadata": {},
   "outputs": [],
   "source": [
    "df.mean("
   ]
  },
  {
   "cell_type": "code",
   "execution_count": null,
   "metadata": {},
   "outputs": [],
   "source": [
    "df.plot("
   ]
  },
  {
   "cell_type": "code",
   "execution_count": null,
   "metadata": {},
   "outputs": [],
   "source": []
  },
  {
   "cell_type": "code",
   "execution_count": 316,
   "metadata": {},
   "outputs": [
    {
     "data": {
      "text/plain": [
       "array([[<matplotlib.axes._subplots.AxesSubplot object at 0x7f9a1807a7b8>]],\n",
       "      dtype=object)"
      ]
     },
     "execution_count": 316,
     "metadata": {},
     "output_type": "execute_result"
    },
    {
     "data": {
      "image/png": "[encoded data removed]",
      "text/plain": [
       "<Figure size 1008x576 with 1 Axes>"
      ]
     },
     "metadata": {
      "needs_background": "light"
     },
     "output_type": "display_data"
    }
   ],
   "source": [
    "# \n",
    "df[df.days_waited_to_file_claim < 50].hist(column='days_waited_to_file_claim',bins=50, figsize=(14,8))"
   ]
  },
  {
   "cell_type": "code",
   "execution_count": 314,
   "metadata": {},
   "outputs": [
    {
     "data": {
      "text/plain": [
       "<matplotlib.axes._subplots.AxesSubplot at 0x7f9a17f480f0>"
      ]
     },
     "execution_count": 314,
     "metadata": {},
     "output_type": "execute_result"
    },
    {
     "data": {
      "image/png": "[encoded data removed]",
      "text/plain": [
       "<Figure size 1152x720 with 1 Axes>"
      ]
     },
     "metadata": {
      "needs_background": "light"
     },
     "output_type": "display_data"
    }
   ],
   "source": [
    "df.groupby('days_waited_to_file_claim').mean().plot(y='bin_dispos_onehot', xlim=(0,150),figsize=(16,10))"
   ]
  },
  {
   "cell_type": "markdown",
   "metadata": {},
   "source": [
    "What are factors of play in driving results here?\n",
    "What are most interesting ways to slice the data to see how the results may differ?\n",
    "As a user of this model - what is the best ways I can use this information to make better decisions? (See above (file claim between 20-75). Can we get a tighter range on ideal filing time based on odds of fully/settled reimbursed?)"
   ]
  },
  {
   "cell_type": "code",
   "execution_count": 300,
   "metadata": {},
   "outputs": [
    {
     "data": {
      "text/plain": [
       "airport_code                      145421\n",
       "airline                           145421\n",
       "claim_type                        145421\n",
       "claim_site                        145421\n",
       "item_category                     145421\n",
       "num_items_or_incidents_claimed    145421\n",
       "days_waited_to_file_claim         145421\n",
       "bin_dispos_onehot                 145421\n",
       "Month_received                    145421\n",
       "dtype: int64"
      ]
     },
     "execution_count": 300,
     "metadata": {},
     "output_type": "execute_result"
    }
   ],
   "source": [
    "X_df.count()"
   ]
  },
  {
   "cell_type": "code",
   "execution_count": 298,
   "metadata": {},
   "outputs": [
    {
     "data": {
      "text/html": [
       "<div>\n",
       "<style scoped>\n",
       "    .dataframe tbody tr th:only-of-type {\n",
       "        vertical-align: middle;\n",
       "    }\n",
       "\n",
       "    .dataframe tbody tr th {\n",
       "        vertical-align: top;\n",
       "    }\n",
       "\n",
       "    .dataframe thead th {\n",
       "        text-align: right;\n",
       "    }\n",
       "</style>\n",
       "<table border=\"1\" class=\"dataframe\">\n",
       "  <thead>\n",
       "    <tr style=\"text-align: right;\">\n",
       "      <th></th>\n",
       "      <th>airport_code</th>\n",
       "      <th>airline</th>\n",
       "      <th>claim_type</th>\n",
       "      <th>claim_site</th>\n",
       "      <th>item_category</th>\n",
       "      <th>num_items_or_incidents_claimed</th>\n",
       "      <th>days_waited_to_file_claim</th>\n",
       "      <th>bin_dispos_onehot</th>\n",
       "      <th>Month_received</th>\n",
       "    </tr>\n",
       "  </thead>\n",
       "  <tbody>\n",
       "    <tr>\n",
       "      <th>0</th>\n",
       "      <td>MCO</td>\n",
       "      <td>Westjet Airlines Ltd</td>\n",
       "      <td>PropertyLoss</td>\n",
       "      <td>Checkpoint</td>\n",
       "      <td>Household Items</td>\n",
       "      <td>1</td>\n",
       "      <td>1</td>\n",
       "      <td>1</td>\n",
       "      <td>12</td>\n",
       "    </tr>\n",
       "    <tr>\n",
       "      <th>1</th>\n",
       "      <td>LAS</td>\n",
       "      <td>UAL</td>\n",
       "      <td>PropertyLoss</td>\n",
       "      <td>Checked Baggage</td>\n",
       "      <td>Clothing</td>\n",
       "      <td>1</td>\n",
       "      <td>37</td>\n",
       "      <td>1</td>\n",
       "      <td>11</td>\n",
       "    </tr>\n",
       "    <tr>\n",
       "      <th>2</th>\n",
       "      <td>LAX</td>\n",
       "      <td>American Airlines</td>\n",
       "      <td>PropertyDamage</td>\n",
       "      <td>Checkpoint</td>\n",
       "      <td>Computer &amp; Accessories</td>\n",
       "      <td>1</td>\n",
       "      <td>51</td>\n",
       "      <td>1</td>\n",
       "      <td>11</td>\n",
       "    </tr>\n",
       "    <tr>\n",
       "      <th>3</th>\n",
       "      <td>FLL</td>\n",
       "      <td>Emirates</td>\n",
       "      <td>PropertyLoss</td>\n",
       "      <td>Checked Baggage</td>\n",
       "      <td>Other</td>\n",
       "      <td>1</td>\n",
       "      <td>15</td>\n",
       "      <td>1</td>\n",
       "      <td>10</td>\n",
       "    </tr>\n",
       "    <tr>\n",
       "      <th>4</th>\n",
       "      <td>MIA</td>\n",
       "      <td>American Airlines</td>\n",
       "      <td>PropertyLoss</td>\n",
       "      <td>Checked Baggage</td>\n",
       "      <td>Baggage/Cases/Purses; Clothing</td>\n",
       "      <td>2</td>\n",
       "      <td>161</td>\n",
       "      <td>1</td>\n",
       "      <td>10</td>\n",
       "    </tr>\n",
       "  </tbody>\n",
       "</table>\n",
       "</div>"
      ],
      "text/plain": [
       "  airport_code               airline      claim_type       claim_site  \\\n",
       "0          MCO  Westjet Airlines Ltd    PropertyLoss       Checkpoint   \n",
       "1          LAS                   UAL    PropertyLoss  Checked Baggage   \n",
       "2          LAX     American Airlines  PropertyDamage       Checkpoint   \n",
       "3          FLL              Emirates    PropertyLoss  Checked Baggage   \n",
       "4          MIA     American Airlines    PropertyLoss  Checked Baggage   \n",
       "\n",
       "                    item_category  num_items_or_incidents_claimed  \\\n",
       "0                 Household Items                               1   \n",
       "1                        Clothing                               1   \n",
       "2          Computer & Accessories                               1   \n",
       "3                           Other                               1   \n",
       "4  Baggage/Cases/Purses; Clothing                               2   \n",
       "\n",
       "   days_waited_to_file_claim  bin_dispos_onehot Month_received  \n",
       "0                          1                  1             12  \n",
       "1                         37                  1             11  \n",
       "2                         51                  1             11  \n",
       "3                         15                  1             10  \n",
       "4                        161                  1             10  "
      ]
     },
     "execution_count": 298,
     "metadata": {},
     "output_type": "execute_result"
    }
   ],
   "source": [
    "X_df.head()"
   ]
  },
  {
   "cell_type": "code",
   "execution_count": 278,
   "metadata": {},
   "outputs": [
    {
     "data": {
      "image/png": "[encoded data removed]",
      "text/plain": [
       "<Figure size 576x432 with 1 Axes>"
      ]
     },
     "metadata": {
      "needs_background": "light"
     },
     "output_type": "display_data"
    }
   ],
   "source": [
    "df.groupby('Year_inc_date').apply(lambda x: x.bin_dispos_onehot.sum() / x.bin_dispos_onehot.count()).plot(kind='barh', figsize=(8,6));"
   ]
  },
  {
   "cell_type": "code",
   "execution_count": null,
   "metadata": {},
   "outputs": [],
   "source": [
    "# IT needs to be one entry in the master array. So like (1, 869)\n",
    "# how do I get there? I need all the 869 features, and then I need to plug in the values as appropriate for the features I do have."
   ]
  },
  {
   "cell_type": "code",
   "execution_count": null,
   "metadata": {},
   "outputs": [],
   "source": [
    "# I think I need to take the big X with all the data, get its 869 feature array, then store the features for that.\n",
    "\n",
    "# then with my example, I need to not fit_transform, but just transform it or something?!"
   ]
  },
  {
   "cell_type": "markdown",
   "metadata": {},
   "source": [
    "# Model with Year included"
   ]
  },
  {
   "cell_type": "markdown",
   "metadata": {},
   "source": [
    "---\n",
    "some problems with this would be introducing YEAR and MONTH that has never been trained on. Is this where I need to do a timeseries thing"
   ]
  },
  {
   "cell_type": "markdown",
   "metadata": {},
   "source": [
    "---"
   ]
  },
  {
   "cell_type": "code",
   "execution_count": null,
   "metadata": {},
   "outputs": [],
   "source": []
  }
 ],
 "metadata": {
  "kernelspec": {
   "display_name": "Python 3",
   "language": "python",
   "name": "python3"
  },
  "language_info": {
   "codemirror_mode": {
    "name": "ipython",
    "version": 3
   },
   "file_extension": ".py",
   "mimetype": "text/x-python",
   "name": "python",
   "nbconvert_exporter": "python",
   "pygments_lexer": "ipython3",
   "version": "3.6.6"
  }
 },
 "nbformat": 4,
 "nbformat_minor": 2
}
