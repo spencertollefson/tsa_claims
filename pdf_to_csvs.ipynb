{
 "cells": [
  {
   "cell_type": "code",
   "execution_count": 3,
   "metadata": {},
   "outputs": [],
   "source": [
    "import numpy as np\n",
    "import pandas as pd\n",
    "import tabula"
   ]
  },
  {
   "cell_type": "code",
   "execution_count": 31,
   "metadata": {},
   "outputs": [],
   "source": [
    "def pdf_to_csv_2016(pdf_file):\n",
    "    df_year = tabula.read_pdf(pdf_file, multiple_tables=True, pages='all')\n",
    "\n",
    "    df = pd.concat(df_year, axis=0, ignore_index=True)\n",
    "    \n",
    "    # Reset \n",
    "    df.columns = df.iloc[0]\n",
    "    df = df[df['Claim Number'] != 'Claim Number']\n",
    "    \n",
    "    # Drop empty final column\n",
    "    if len(df.columns) > 11:\n",
    "        df = df.iloc[:, :-1]\n",
    "\n",
    "    # Prepare airport_name for row concat operation below\n",
    "    df['Airport Name'] = df['Airport Name'].astype(str)\n",
    "\n",
    "    ### Loop to clean up broken row separation as computed by tabula\n",
    "    # if claim_number is NOT NaN\n",
    "    for i in range(1,len(df)):\n",
    "        if df['Claim Number'].iloc[i] is not np.nan:\n",
    "            # then pull the airport_name from above row and str add it to the current airport name\n",
    "            df['Airport Name'].iloc[i] = df['Airport Name'].iloc[i-1] + ' ' + df['Airport Name'].iloc[i]\n",
    "\n",
    "    df.dropna(subset=['Claim Number'], inplace=True)\n",
    "    return df"
   ]
  },
  {
   "cell_type": "code",
   "execution_count": 81,
   "metadata": {},
   "outputs": [],
   "source": [
    "def pdf_to_csv_2017(pdf_file):\n",
    "    df_year = tabula.read_pdf(pdf_file, multiple_tables=True, pages='all', guess=False, stream=True)\n",
    "\n",
    "    df = pd.concat(df_year, axis=0, ignore_index=True)\n",
    "    \n",
    "    # Reset \n",
    "    df.columns = df.iloc[0]\n",
    "    df = df[df['Claim Number'] != 'Claim Number']\n",
    "\n",
    "    # Prepare airport_name for row concat operation below\n",
    "    df['Airport Name'] = df['Airport Name'].astype(str)\n",
    "\n",
    "    ### Loop to clean up broken row separation as computed by tabula\n",
    "    # if Claim Type is NOT NaN\n",
    "    for i in range(1,len(df)):\n",
    "        if df['Claim Type'].iloc[i] is not np.nan:        \n",
    "            # then insert prev Claim Number into the current row which has all the other info\n",
    "            df['Claim Number'].iloc[i] = df['Claim Number'].iloc[i-1]\n",
    "    \n",
    "    # keep only completd rows\n",
    "    df.dropna(subset=['Claim Type'], inplace=True)\n",
    "    return df"
   ]
  },
  {
   "cell_type": "code",
   "execution_count": 9,
   "metadata": {},
   "outputs": [
    {
     "name": "stdout",
     "output_type": "stream",
     "text": [
      "(8407, 11)\n"
     ]
    }
   ],
   "source": [
    "df2016 = pdf_to_csv_2016('data/raw/raw_pdfs/claims-2016.pdf')\n",
    "print(df2016.shape)\n",
    "df2016.to_csv('data/raw/claims-2016.csv')"
   ]
  },
  {
   "cell_type": "code",
   "execution_count": 82,
   "metadata": {},
   "outputs": [
    {
     "name": "stdout",
     "output_type": "stream",
     "text": [
      "(8418, 11)\n"
     ]
    }
   ],
   "source": [
    "df2017 = pdf_to_csv_2017('data/raw/raw_pdfs/claims-2017.pdf')\n",
    "print(df2017.shape)\n",
    "df2017.to_csv('data/raw/claims-2017.csv')"
   ]
  }
 ],
 "metadata": {
  "kernelspec": {
   "display_name": "Python 3",
   "language": "python",
   "name": "python3"
  },
  "language_info": {
   "codemirror_mode": {
    "name": "ipython",
    "version": 3
   },
   "file_extension": ".py",
   "mimetype": "text/x-python",
   "name": "python",
   "nbconvert_exporter": "python",
   "pygments_lexer": "ipython3",
   "version": "3.6.6"
  }
 },
 "nbformat": 4,
 "nbformat_minor": 2
}
