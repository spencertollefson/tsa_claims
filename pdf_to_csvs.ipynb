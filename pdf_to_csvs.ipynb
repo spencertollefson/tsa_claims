{
 "cells": [
  {
   "cell_type": "code",
   "execution_count": 137,
   "metadata": {},
   "outputs": [],
   "source": [
    "import numpy as np\n",
    "import pandas as pd\n",
    "import tabula"
   ]
  },
  {
   "cell_type": "code",
   "execution_count": 138,
   "metadata": {},
   "outputs": [],
   "source": [
    "def pdf_to_csv(pdf_file):\n",
    "    df_year = tabula.read_pdf(pdf_file, multiple_tables=True, pages='all')\n",
    "\n",
    "    # Create column names appropriate for all categories\n",
    "    col_names = ['claim_number', 'date_received', 'incident_date', 'airport_code', 'airport_name',\n",
    "               'airline', 'claim_type', 'claim_site', 'item_category', 'close_amount', 'disposition']\n",
    "\n",
    "    # Dictionary to replace names of columns as gathered by Tabula\n",
    "    col_dict = {}\n",
    "    for i, name in enumerate(col_names):\n",
    "        col_dict[i] = name\n",
    "\n",
    "    df = pd.concat(df_year, axis=0, ignore_index=True)\n",
    "\n",
    "    # Drop empty final column\n",
    "    if len(df.columns) > 11:\n",
    "        df = df.iloc[:, :-1]\n",
    "\n",
    "    # Fix headers\n",
    "    df.rename(columns=col_dict, inplace=True)\n",
    "    df = df.iloc[1:, :]\n",
    "\n",
    "    # Prepare airport_name for row concat operation below\n",
    "    df.airport_name = df.airport_name.astype(str)\n",
    "\n",
    "    ### Loop to clean up broken row separation as computed by tabula\n",
    "    # if claim_number is NOT NaN\n",
    "    for i in range(1,len(df)):\n",
    "        if df.claim_number.iloc[i] is not np.nan:\n",
    "            # then pull the airport_name from above row and str add it to the current airport name\n",
    "            df.airport_name.iloc[i] = df.airport_name.iloc[i-1] + ' ' + df.airport_name.iloc[i]\n",
    "\n",
    "    df.dropna(subset=['claim_number'], inplace=True)\n",
    "    return df"
   ]
  },
  {
   "cell_type": "code",
   "execution_count": null,
   "metadata": {},
   "outputs": [],
   "source": [
    "df2016 = pdf_to_csv('raw/claims-2016.pdf')\n",
    "print(df2016.shape)\n",
    "df.to_csv('raw/claims-2016.csv')"
   ]
  },
  {
   "cell_type": "code",
   "execution_count": null,
   "metadata": {},
   "outputs": [],
   "source": [
    "df2016 = pdf_to_csv('raw/claims-2017.pdf')\n",
    "print(df2016.shape)\n",
    "df.to_csv('raw/claims-2017.csv')"
   ]
  },
  {
   "cell_type": "code",
   "execution_count": null,
   "metadata": {},
   "outputs": [],
   "source": []
  }
 ],
 "metadata": {
  "kernelspec": {
   "display_name": "Python 3",
   "language": "python",
   "name": "python3"
  },
  "language_info": {
   "codemirror_mode": {
    "name": "ipython",
    "version": 3
   },
   "file_extension": ".py",
   "mimetype": "text/x-python",
   "name": "python",
   "nbconvert_exporter": "python",
   "pygments_lexer": "ipython3",
   "version": "3.6.6"
  }
 },
 "nbformat": 4,
 "nbformat_minor": 2
}
