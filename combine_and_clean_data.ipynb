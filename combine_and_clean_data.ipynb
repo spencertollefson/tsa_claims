{
 "cells": [
  {
   "cell_type": "code",
   "execution_count": 289,
   "metadata": {},
   "outputs": [],
   "source": [
    "import numpy as np\n",
    "import pandas as pd\n",
    "import joblib\n",
    "pd.options.display.max_colwidth = 150"
   ]
  },
  {
   "cell_type": "code",
   "execution_count": 71,
   "metadata": {},
   "outputs": [],
   "source": [
    "rawdir = 'data/raw'\n",
    "files = ['claims-2002-2006.xls', 'claims-2007-2009.xls', 'claims-2010-2013.xls',\n",
    "         'claims-2014.xls', 'claims-2015.xlsx', 'claims-2016.csv', 'claims-2017.csv']\n",
    "filelist = [f'{rawdir}/{file}' for file in files]"
   ]
  },
  {
   "cell_type": "code",
   "execution_count": 52,
   "metadata": {},
   "outputs": [
    {
     "data": {
      "text/plain": [
       "['data/raw/claims-2002-2006.xls',\n",
       " 'data/raw/claims-2007-2009.xls',\n",
       " 'data/raw/claims-2010-2013.xls',\n",
       " 'data/raw/claims-2014.xls',\n",
       " 'data/raw/claims-2015.xlsx',\n",
       " 'data/raw/claims-2016.csv',\n",
       " 'data/raw/claims-2017.csv']"
      ]
     },
     "execution_count": 52,
     "metadata": {},
     "output_type": "execute_result"
    }
   ],
   "source": [
    "filelist"
   ]
  },
  {
   "cell_type": "code",
   "execution_count": 53,
   "metadata": {},
   "outputs": [],
   "source": [
    "d = {}\n",
    "for i, file in enumerate(filelist):\n",
    "    if 'xls' in file:\n",
    "        d[i] = pd.read_excel(file)\n",
    "    if 'csv' in file:\n",
    "        d[i] = pd.read_csv(file)\n",
    "        d[i] = d[i].iloc[:, 1:]\n",
    "    else:\n",
    "        assert \"Error\""
   ]
  },
  {
   "cell_type": "code",
   "execution_count": 475,
   "metadata": {},
   "outputs": [],
   "source": [
    "df = pd.concat(d, axis=0, sort=False, ignore_index=True)"
   ]
  },
  {
   "cell_type": "markdown",
   "metadata": {},
   "source": [
    "### Rename columns"
   ]
  },
  {
   "cell_type": "code",
   "execution_count": 476,
   "metadata": {},
   "outputs": [],
   "source": [
    "col_names = ['claim_number', 'date_received', 'incident_date', 'airport_code', 'airport_name',\n",
    "             'airline', 'claim_type', 'claim_site', 'item', 'claim_amount', 'status',\n",
    "             'close_amount', 'disposition', 'item_category']\n",
    "\n",
    "col_mapper = dict(zip(df.columns, col_names))\n",
    "df.rename(columns=col_mapper, inplace=True)"
   ]
  },
  {
   "cell_type": "markdown",
   "metadata": {},
   "source": [
    "### Clean and drop columns"
   ]
  },
  {
   "cell_type": "code",
   "execution_count": 477,
   "metadata": {},
   "outputs": [],
   "source": [
    "# combine the Item and Item Category column into just Item Category\n",
    "df['item_category'].fillna(value=df['item'], inplace=True)\n",
    "df.item_category = df.item_category.astype('str')\n",
    "\n",
    "# drop item category (only doing item_category now) and airport_name\n",
    "df.drop(columns=['item', 'airport_name'], inplace=True)\n",
    "\n",
    "# Set DateTime columns\n",
    "df['incident_date'] = pd.to_datetime(df['incident_date'], errors='coerce')\n",
    "df['date_received'] = pd.to_datetime(df['date_received'], errors='coerce')\n",
    "df.dropna(subset=['date_received', 'incident_date'], inplace=True)\n",
    "\n",
    "# df['date_received'] = pd.to_datetime(df['date_received'])\n",
    "# df['incident_date'] = pd.to_datetime(df['incident_date'])\n",
    "\n",
    "# Limit to 3 outcomes of interest (and clean)\n",
    "df.disposition = df.disposition.str.replace('D eny|Den y|D en y|De ny',\n",
    "                           'Deny', regex=True)\n",
    "df.disposition = df.disposition.str.replace('Approv e in Full',\n",
    "                           'Approve in Full', regex=True)\n",
    "\n",
    "df = df[(df['disposition'] == \"Approve in Full\") |\n",
    "        (df['disposition'] == \"Settle\") |\n",
    "        (df['disposition'] == \"Deny\")]\n",
    "\n",
    "# Fix disrepancies in close_amount based on other information. Assuming disposition of Approve or Deny is correct.\n",
    "df.loc[(df.close_amount.isna()) & (df.disposition == 'Approve in Full'), 'close_amount'] = df.claim_amount\n",
    "df.loc[(df.close_amount.isna()) & (df.disposition == 'Deny'), 'close_amount'] = 0\n",
    "\n",
    "# Format close_amount column\n",
    "df.close_amount = df.close_amount.astype('str')\n",
    "df.close_amount = df.close_amount.str.replace('$','', regex=False)\n",
    "df = df[df.close_amount.str.contains('[^a-zA-Z]')]\n",
    "df.close_amount = df.close_amount.str.replace(',', '',regex=False)\n",
    "df.close_amount = df.close_amount.str.replace(' ', '',regex=False)\n",
    "df.close_amount = df.close_amount.str.replace('-', '0',regex=False)\n",
    "df.close_amount = df.close_amount.astype('float64')\n",
    "\n",
    "# Drop bad dates\n",
    "df = df[(df.date_received.dt.year >= 2002) & (df.date_received.dt.year <= 2017)]\n",
    "df = df[(df.incident_date.dt.year >= 2001) & (df.incident_date.dt.year <= 2017)]\n",
    "\n",
    "df = df.sort_values(by='date_received', ascending=False)\n",
    "\n",
    "# strip and clean a bit\n",
    "df.airline = df.airline.str.strip()\n",
    "df.airport_code = df.airport_code.str.strip()"
   ]
  },
  {
   "cell_type": "code",
   "execution_count": 478,
   "metadata": {},
   "outputs": [],
   "source": [
    "cleandir = 'data/clean'"
   ]
  },
  {
   "cell_type": "code",
   "execution_count": 525,
   "metadata": {},
   "outputs": [
    {
     "data": {
      "text/plain": [
       "pandas.core.frame.DataFrame"
      ]
     },
     "execution_count": 525,
     "metadata": {},
     "output_type": "execute_result"
    }
   ],
   "source": [
    "type(df)"
   ]
  },
  {
   "cell_type": "code",
   "execution_count": 299,
   "metadata": {},
   "outputs": [
    {
     "data": {
      "text/plain": [
       "['data/clean/clean_df.joblib']"
      ]
     },
     "execution_count": 299,
     "metadata": {},
     "output_type": "execute_result"
    }
   ],
   "source": [
    "joblib.dump(df, f'{cleandir}/clean_df.joblib', compress=3)"
   ]
  },
  {
   "cell_type": "markdown",
   "metadata": {},
   "source": [
    "## From this point forward, this is cleaning for 2002-2017 CLASSIFIER and not 2002-2009 Regressor"
   ]
  },
  {
   "cell_type": "code",
   "execution_count": 479,
   "metadata": {},
   "outputs": [],
   "source": [
    "df.drop(columns=['claim_number', 'status', 'claim_amount'], inplace=True)\n",
    "\n",
    "# clean 'claim_type'\n",
    "df.claim_type = df.claim_type.str.replace(' ','')\n",
    "df.claim_type = df.claim_type.str.replace('PassengerPropertyLoss', 'PropertyLoss')\n",
    "df = df[\n",
    "       (df.claim_type == 'PropertyLoss') | (df.claim_type == 'PropertyDamage') | \n",
    "       (df.claim_type == 'PersonalInjury') | (df.claim_type == 'EmployeeLoss(MPCECA)') | \n",
    "       (df.claim_type == 'PassengerTheft') | (df.claim_type == 'MotorVehicle')\n",
    "        ]\n",
    "# clean 'claim_site'\n",
    "df.claim_site = df.claim_site.str.replace('-', 'Other')\n",
    "df = df[(df.claim_site != 'PreOtherCheck')]\n",
    "df = df[(df.claim_site != 'BusStation')]\n",
    "\n",
    "df.item_category = df.item_category.astype('str')\n",
    "\n",
    "# simplify categories with subcategories into only normal categories\n",
    "df.item_category = df.item_category.str.replace('\\s-[^;]*', '')\n",
    "df.item_category = df.item_category.str.replace('\\s\\([^;]*', '')\n",
    "\n",
    "# Drop weird misclassified beginners\n",
    "df = df[df.item_category.str.contains('^[^/]')]\n",
    "df = df[df.item_category.str.contains('^[^&]')]\n",
    "\n",
    "# Strip whitespace\n",
    "df.item_category = df.item_category.str.replace('\\s;',';')\n",
    "df.item_category = df.item_category.str.replace('[^.*]{1}$\\s','')\n",
    "df.item_category = df.item_category.str.replace('^;\\s','')\n",
    "\n",
    "# Drop about 2500 rows where there is a missing letter for item_type\n",
    "df = df[df.claim_type != 'PersonalInjury'][df.item_category.str.contains('^[^a-z]')]\n"
   ]
  },
  {
   "cell_type": "code",
   "execution_count": 527,
   "metadata": {},
   "outputs": [],
   "source": [
    "import pickle"
   ]
  },
  {
   "cell_type": "code",
   "execution_count": 530,
   "metadata": {},
   "outputs": [],
   "source": [
    "df.to_pickle(f'{cleandir}/clean_for_classifier_df.pkl')"
   ]
  },
  {
   "cell_type": "code",
   "execution_count": 526,
   "metadata": {},
   "outputs": [
    {
     "data": {
      "text/plain": [
       "['data/clean/clean_for_classifier_df.joblib']"
      ]
     },
     "execution_count": 526,
     "metadata": {},
     "output_type": "execute_result"
    }
   ],
   "source": [
    "joblib.dump(df, f'{cleandir}/clean_for_classifier_df.joblib')"
   ]
  },
  {
   "cell_type": "code",
   "execution_count": 21,
   "metadata": {},
   "outputs": [],
   "source": [
    "df = df.dropna()\n",
    "\n",
    "\n",
    "df['binary_disposition'] = df['disposition']\n",
    "df['binary_disposition'] = df['disposition'].where(df['disposition'] == 'Deny', other='Compensate')\n",
    "\n",
    "# Change some text to make it more human readable\n",
    "df.claim_site[df.claim_site == '-'] = 'Unknown'\n",
    "df.claim_type[df.claim_type == '-'] = 'Unknown'\n",
    "\n",
    "# Feature Engineering\n",
    "\n",
    "### Count of items claimed\n",
    "\n",
    "# TODO: Consider only using this for where claim_type is related to property.\n",
    "df['num_items_or_incidents_claimed'] = df['item_category'].str.split(pat=';').apply(lambda x: len(x))\n",
    "df['num_items_or_incidents_claimed'] = df['num_items_or_incidents_claimed'].where(df['claim_type'].str.contains('property', case=False) == True, other= 0)\n",
    "\n",
    "### Time calculation\n",
    "wait_period = df.date_received - df.incident_date\n",
    "df['days_waited_to_file_claim'] = wait_period.dt.days\n",
    "\n",
    "# Drop days where the 'date_received\" was reported before 'incident_date'\n",
    "df = df[df.days_waited_to_file_claim >= 0]\n",
    "\n",
    "df.reset_index(inplace=True,drop=True)\n",
    "df['bin_dispos_onehot'] = df['binary_disposition'].apply(lambda x: 1 if x == 'Compensate' else 0)"
   ]
  },
  {
   "cell_type": "code",
   "execution_count": 22,
   "metadata": {},
   "outputs": [
    {
     "data": {
      "text/html": [
       "<div>\n",
       "<style scoped>\n",
       "    .dataframe tbody tr th:only-of-type {\n",
       "        vertical-align: middle;\n",
       "    }\n",
       "\n",
       "    .dataframe tbody tr th {\n",
       "        vertical-align: top;\n",
       "    }\n",
       "\n",
       "    .dataframe thead th {\n",
       "        text-align: right;\n",
       "    }\n",
       "</style>\n",
       "<table border=\"1\" class=\"dataframe\">\n",
       "  <thead>\n",
       "    <tr style=\"text-align: right;\">\n",
       "      <th></th>\n",
       "      <th>Claim Number</th>\n",
       "      <th>Date Received</th>\n",
       "      <th>Incident Date</th>\n",
       "      <th>Airport Code</th>\n",
       "      <th>Airline Name</th>\n",
       "      <th>Claim Type</th>\n",
       "      <th>Claim Site</th>\n",
       "      <th>Claim Amount</th>\n",
       "      <th>Status</th>\n",
       "      <th>Close Amount</th>\n",
       "      <th>...</th>\n",
       "      <th>airline</th>\n",
       "      <th>claim_type</th>\n",
       "      <th>claim_site</th>\n",
       "      <th>item_category</th>\n",
       "      <th>close_amount</th>\n",
       "      <th>disposition</th>\n",
       "      <th>binary_disposition</th>\n",
       "      <th>num_items_or_incidents_claimed</th>\n",
       "      <th>days_waited_to_file_claim</th>\n",
       "      <th>bin_dispos_onehot</th>\n",
       "    </tr>\n",
       "  </thead>\n",
       "  <tbody>\n",
       "  </tbody>\n",
       "</table>\n",
       "<p>0 rows × 29 columns</p>\n",
       "</div>"
      ],
      "text/plain": [
       "Empty DataFrame\n",
       "Columns: [Claim Number, Date Received, Incident Date, Airport Code, Airline Name, Claim Type, Claim Site, Claim Amount, Status, Close Amount, Disposition, Item Category, Incident D, Unnamed: 0, claim_number, date_received, incident_date, airport_code, airport_name, airline, claim_type, claim_site, item_category, close_amount, disposition, binary_disposition, num_items_or_incidents_claimed, days_waited_to_file_claim, bin_dispos_onehot]\n",
       "Index: []\n",
       "\n",
       "[0 rows x 29 columns]"
      ]
     },
     "execution_count": 22,
     "metadata": {},
     "output_type": "execute_result"
    }
   ],
   "source": [
    "df.head()"
   ]
  },
  {
   "cell_type": "code",
   "execution_count": null,
   "metadata": {},
   "outputs": [],
   "source": []
  },
  {
   "cell_type": "code",
   "execution_count": 8,
   "metadata": {},
   "outputs": [],
   "source": [
    "df['Week/Year_inc_date'] = df['incident_date'].apply(lambda x: \"%d/%d\" % (x.week, x.year))\n",
    "df['Week_inc_date'] = df['incident_date'].apply(lambda x: \"%d\" % (x.week))\n",
    "df['Month_inc_date'] = df['incident_date'].apply(lambda x: \"%d\" % (x.month))\n",
    "df['Year_inc_date'] = df['incident_date'].apply(lambda x: \"%d\" % (x.year))\n",
    "\n",
    "df['Week_received'] = df['date_received'].apply(lambda x: \"%d\" % (x.week))\n",
    "df['Month_received'] = df['date_received'].apply(lambda x: \"%d\" % (x.month))\n",
    "df['Year_received'] = df['date_received'].apply(lambda x: \"%d\" % (x.year))"
   ]
  }
 ],
 "metadata": {
  "kernelspec": {
   "display_name": "Python 3",
   "language": "python",
   "name": "python3"
  },
  "language_info": {
   "codemirror_mode": {
    "name": "ipython",
    "version": 3
   },
   "file_extension": ".py",
   "mimetype": "text/x-python",
   "name": "python",
   "nbconvert_exporter": "python",
   "pygments_lexer": "ipython3",
   "version": "3.6.6"
  }
 },
 "nbformat": 4,
 "nbformat_minor": 2
}
