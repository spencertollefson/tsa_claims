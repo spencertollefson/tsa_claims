{
 "cells": [
  {
   "cell_type": "markdown",
   "metadata": {},
   "source": [
    "# Questions"
   ]
  },
  {
   "cell_type": "markdown",
   "metadata": {},
   "source": [
    "* Should I calculate business days since incident? or Total days?\n",
    "* How to do timeseries?\n",
    "  * Only predict a date based on the info that's happened BEFORE it?\n",
    "  * Book by week? exact day of year? month?\n",
    " ---\n",
    "* Could I make an EITHER/OR case?\n",
    "  * First do a classifier for Compensate or Deny. If compensate, then do a Regression for HOW MUCH they'll get back?\n",
    "  * I could also do models that ONLY take into account how much they asked for, IF I have enough data\n",
    "* Why is my RF 410 MB?\n",
    "* **I may be parsing 'ITEMS' wrong. Semicolon may indicate the various items missing**"
   ]
  },
  {
   "cell_type": "markdown",
   "metadata": {},
   "source": [
    "### 1st simple model, \"settle\" or \"compensate\" I got 67.40% ROC!\n",
    "### 2nd model, with claim_request_amount, roc_auc got 68.64%"
   ]
  },
  {
   "cell_type": "markdown",
   "metadata": {},
   "source": [
    "# Next Steps\n",
    "* Try a Rolling Window of 12 months to remove seasonality and see if there are changes from 2002 onward\n",
    "* See if I can spot trends by day/week/month/holidays/weekends during the year"
   ]
  },
  {
   "cell_type": "markdown",
   "metadata": {},
   "source": [
    "### *Is it an issue with 370 airports and 170 airlines?*\n",
    "### I should consider dropping some of the claim_types and maybe other stuff too"
   ]
  },
  {
   "cell_type": "markdown",
   "metadata": {},
   "source": [
    "# Feature engineer count of how many claims"
   ]
  },
  {
   "cell_type": "code",
   "execution_count": 1,
   "metadata": {},
   "outputs": [],
   "source": [
    "import numpy as np\n",
    "import pandas as pd\n",
    "import matplotlib.pyplot as plt\n",
    "%matplotlib inline\n",
    "import seaborn as sns\n",
    "\n",
    "import pyspark\n",
    "\n",
    "import datetime as dt\n",
    "\n",
    "import tabula\n",
    "import joblib"
   ]
  },
  {
   "cell_type": "code",
   "execution_count": 2,
   "metadata": {},
   "outputs": [],
   "source": [
    "pd.set_option('display.max_columns', 300)\n",
    "pd.set_option('display.max_rows', 60)\n",
    "pd.set_option('display.precision', 3)\n",
    "pd.set_option('display.float_format', lambda x: '%.3f' % x)\n",
    "\n",
    "import sklearn\n",
    "from sklearn.preprocessing import StandardScaler, Binarizer, LabelBinarizer, MultiLabelBinarizer, OneHotEncoder\n",
    "from sklearn.model_selection import GridSearchCV, RandomizedSearchCV, cross_val_score, cross_validate \\\n",
    "                                    ,cross_val_predict, GridSearchCV, RandomizedSearchCV\n",
    "from sklearn.svm import SVC\n",
    "from sklearn.neighbors import KNeighborsClassifier\n",
    "from sklearn import metrics\n",
    "from sklearn.metrics import confusion_matrix,recall_score,precision_score, f1_score, roc_auc_score\n",
    "from sklearn.model_selection import train_test_split, cross_validate, cross_val_score\n",
    "from sklearn.linear_model import LogisticRegression, LogisticRegressionCV\n",
    "from sklearn.tree import DecisionTreeClassifier\n",
    "from sklearn.ensemble import RandomForestClassifier, GradientBoostingClassifier\n",
    "from sklearn.naive_bayes import GaussianNB, MultinomialNB, BernoulliNB\n",
    "\n",
    "from sklearn.metrics import roc_curve, auc\n",
    "\n",
    "import itertools\n",
    "from sklearn.metrics import confusion_matrix\n",
    "from sklearn.externals import joblib\n",
    "from imblearn.over_sampling import SMOTE"
   ]
  },
  {
   "cell_type": "code",
   "execution_count": 3,
   "metadata": {},
   "outputs": [],
   "source": [
    "dir = 'models/preliminary'"
   ]
  },
  {
   "cell_type": "markdown",
   "metadata": {},
   "source": [
    "-----"
   ]
  },
  {
   "cell_type": "code",
   "execution_count": 4,
   "metadata": {},
   "outputs": [],
   "source": [
    "# # A function that does the cleaning if you pass the df\n",
    "\n",
    "# def colnames_dt_drops_dtypes(df):\n",
    "#     col_names = ['claim_number', 'date_received', 'incident_date', 'airport_code', 'airport_name',\n",
    "#            'airline', 'claim_type', 'claim_site', 'item_category', 'close_amount', 'disposition']\n",
    "#     df['date_received'] = pd.to_datetime(df['date_received'])\n",
    "#     df['incident_date'] = pd.to_datetime(df['incident_date'])\n",
    "#     df = df[df['disposition'] != \"-\"]\n",
    "#     df = df.dropna()\n",
    "#     df['claim_number'] = df['claim_number'].astype('int64')\n",
    "#     df['close_amount'] = df['close_amount'].astype('int64')\n",
    "#     df['binary_disposition'] = df['disposition']\n",
    "#     df['binary_disposition'] = df['binary_disposition'].where(df['binary_disposition'] == 'Deny', other='Compensate')\n",
    "#     return df"
   ]
  },
  {
   "cell_type": "markdown",
   "metadata": {},
   "source": [
    "-----"
   ]
  },
  {
   "cell_type": "code",
   "execution_count": 5,
   "metadata": {},
   "outputs": [],
   "source": [
    "col_names = ['claim_number', 'date_received', 'incident_date', 'airport_code', 'airport_name',\n",
    "           'airline', 'claim_type', 'claim_site', 'item_category', 'close_amount', 'disposition']\n",
    "           "
   ]
  },
  {
   "cell_type": "code",
   "execution_count": 6,
   "metadata": {},
   "outputs": [
    {
     "name": "stderr",
     "output_type": "stream",
     "text": [
      "/home/spencer/anaconda3/lib/python3.6/site-packages/ipykernel_launcher.py:14: SettingWithCopyWarning: \n",
      "A value is trying to be set on a copy of a slice from a DataFrame\n",
      "\n",
      "See the caveats in the documentation: http://pandas.pydata.org/pandas-docs/stable/indexing.html#indexing-view-versus-copy\n",
      "  \n",
      "/home/spencer/anaconda3/lib/python3.6/site-packages/ipykernel_launcher.py:15: SettingWithCopyWarning: \n",
      "A value is trying to be set on a copy of a slice from a DataFrame\n",
      "\n",
      "See the caveats in the documentation: http://pandas.pydata.org/pandas-docs/stable/indexing.html#indexing-view-versus-copy\n",
      "  from ipykernel import kernelapp as app\n"
     ]
    }
   ],
   "source": [
    "df = pd.read_excel('raw/claims-2010-2013.xls', names=col_names)\n",
    "\n",
    "df['date_received'] = pd.to_datetime(df['date_received'])\n",
    "df['incident_date'] = pd.to_datetime(df['incident_date'])\n",
    "df = df[df['disposition'] != \"-\"]\n",
    "df = df.dropna()\n",
    "\n",
    "df['claim_number'] = df['claim_number'].astype('int64')\n",
    "df['close_amount'] = df['close_amount'].astype('int64')\n",
    "df['binary_disposition'] = df['disposition']\n",
    "df['binary_disposition'] = df['binary_disposition'].where(df['binary_disposition'] == 'Deny', other='Compensate')\n",
    "\n",
    "# Change some text to make it more human readable\n",
    "df.claim_site[df.claim_site == '-'] = 'Unknown'\n",
    "df.claim_type[df.claim_type == '-'] = 'Unknown'\n",
    "\n",
    "# Feature Engineering\n",
    "\n",
    "### Count of items claimed\n",
    "\n",
    "# TODO: Consider only using this for where claim_type is related to property.\n",
    "df['num_items_or_incidents_claimed'] = df['item_category'].str.split(pat=';').apply(lambda x: len(x))\n",
    "df['num_items_or_incidents_claimed'] = df['num_items_or_incidents_claimed'].where(df['claim_type'].str.contains('property', case=False) == True, other= 0)\n",
    "\n",
    "### Time calculation\n",
    "wait_period = df.date_received - df.incident_date\n",
    "df['days_waited_to_file_claim'] = wait_period.dt.days\n",
    "\n",
    "# Drop days where the 'date_received\" was reported before 'incident_date'\n",
    "df = df[df.days_waited_to_file_claim >= 0]\n",
    "\n",
    "df.reset_index(inplace=True,drop=True)\n",
    "df['bin_dispos_onehot'] = df['binary_disposition'].apply(lambda x: 1 if x == 'Compensate' else 0)"
   ]
  },
  {
   "cell_type": "code",
   "execution_count": 7,
   "metadata": {},
   "outputs": [],
   "source": [
    "## Figure out how to plot this shit. I want 12 months on the X axis, and then a bar for each month of the proportion of approved vs denied within each month (I think)"
   ]
  },
  {
   "cell_type": "markdown",
   "metadata": {},
   "source": [
    "# TIME BREAKOUT COLUMNS"
   ]
  },
  {
   "cell_type": "code",
   "execution_count": 8,
   "metadata": {},
   "outputs": [],
   "source": [
    "df['Week/Year_inc_date'] = df['incident_date'].apply(lambda x: \"%d/%d\" % (x.week, x.year))\n",
    "df['Week_inc_date'] = df['incident_date'].apply(lambda x: \"%d\" % (x.week))\n",
    "df['Month_inc_date'] = df['incident_date'].apply(lambda x: \"%d\" % (x.month))\n",
    "df['Year_inc_date'] = df['incident_date'].apply(lambda x: \"%d\" % (x.year))\n",
    "\n",
    "df['Week_received'] = df['date_received'].apply(lambda x: \"%d\" % (x.week))\n",
    "df['Month_received'] = df['date_received'].apply(lambda x: \"%d\" % (x.month))\n",
    "df['Year_received'] = df['date_received'].apply(lambda x: \"%d\" % (x.year))"
   ]
  },
  {
   "cell_type": "code",
   "execution_count": 9,
   "metadata": {},
   "outputs": [
    {
     "data": {
      "text/plain": [
       "<matplotlib.axes._subplots.AxesSubplot at 0x7f6548d3f518>"
      ]
     },
     "execution_count": 9,
     "metadata": {},
     "output_type": "execute_result"
    },
    {
     "data": {
      "image/png": "[encoded data removed]",
      "text/plain": [
       "<Figure size 576x432 with 1 Axes>"
      ]
     },
     "metadata": {
      "needs_background": "light"
     },
     "output_type": "display_data"
    }
   ],
   "source": [
    "df.groupby('Year_received').apply(lambda x: x.bin_dispos_onehot.sum() / x.bin_dispos_onehot.count()).plot(kind='barh', figsize=(8,6))"
   ]
  },
  {
   "cell_type": "code",
   "execution_count": 10,
   "metadata": {},
   "outputs": [
    {
     "data": {
      "image/png": "[encoded data removed]",
      "text/plain": [
       "<Figure size 576x432 with 1 Axes>"
      ]
     },
     "metadata": {
      "needs_background": "light"
     },
     "output_type": "display_data"
    }
   ],
   "source": [
    "df.groupby('Year_inc_date').apply(lambda x: x.bin_dispos_onehot.sum() / x.bin_dispos_onehot.count()).plot(kind='barh', figsize=(8,6));"
   ]
  },
  {
   "cell_type": "code",
   "execution_count": 11,
   "metadata": {},
   "outputs": [
    {
     "data": {
      "text/html": [
       "<div>\n",
       "<style scoped>\n",
       "    .dataframe tbody tr th:only-of-type {\n",
       "        vertical-align: middle;\n",
       "    }\n",
       "\n",
       "    .dataframe tbody tr th {\n",
       "        vertical-align: top;\n",
       "    }\n",
       "\n",
       "    .dataframe thead th {\n",
       "        text-align: right;\n",
       "    }\n",
       "</style>\n",
       "<table border=\"1\" class=\"dataframe\">\n",
       "  <thead>\n",
       "    <tr style=\"text-align: right;\">\n",
       "      <th></th>\n",
       "      <th>claim_number</th>\n",
       "      <th>date_received</th>\n",
       "      <th>incident_date</th>\n",
       "      <th>airport_code</th>\n",
       "      <th>airport_name</th>\n",
       "      <th>airline</th>\n",
       "      <th>claim_type</th>\n",
       "      <th>claim_site</th>\n",
       "      <th>item_category</th>\n",
       "      <th>close_amount</th>\n",
       "      <th>disposition</th>\n",
       "      <th>binary_disposition</th>\n",
       "      <th>num_items_or_incidents_claimed</th>\n",
       "      <th>days_waited_to_file_claim</th>\n",
       "      <th>bin_dispos_onehot</th>\n",
       "      <th>Week/Year_inc_date</th>\n",
       "      <th>Week_inc_date</th>\n",
       "      <th>Month_inc_date</th>\n",
       "      <th>Year_inc_date</th>\n",
       "      <th>Week_received</th>\n",
       "      <th>Month_received</th>\n",
       "      <th>Year_received</th>\n",
       "    </tr>\n",
       "  </thead>\n",
       "  <tbody>\n",
       "    <tr>\n",
       "      <th>15911</th>\n",
       "      <td>2011093087276</td>\n",
       "      <td>2011-08-15</td>\n",
       "      <td>2011-05-19 00:00:00</td>\n",
       "      <td>MEM</td>\n",
       "      <td>Memphis International Airport</td>\n",
       "      <td>Delta Air Lines</td>\n",
       "      <td>Personal Injury</td>\n",
       "      <td>Checkpoint</td>\n",
       "      <td>Medical/Science</td>\n",
       "      <td>0</td>\n",
       "      <td>Deny</td>\n",
       "      <td>Deny</td>\n",
       "      <td>0</td>\n",
       "      <td>88</td>\n",
       "      <td>0</td>\n",
       "      <td>20/2011</td>\n",
       "      <td>20</td>\n",
       "      <td>5</td>\n",
       "      <td>2011</td>\n",
       "      <td>33</td>\n",
       "      <td>8</td>\n",
       "      <td>2011</td>\n",
       "    </tr>\n",
       "    <tr>\n",
       "      <th>28523</th>\n",
       "      <td>2013020601073</td>\n",
       "      <td>2013-01-10</td>\n",
       "      <td>2013-01-04 00:00:00</td>\n",
       "      <td>SAN</td>\n",
       "      <td>San Diego International</td>\n",
       "      <td>USAir</td>\n",
       "      <td>Passenger Property Loss</td>\n",
       "      <td>Checked Baggage</td>\n",
       "      <td>Cosmetics &amp; Grooming</td>\n",
       "      <td>0</td>\n",
       "      <td>Deny</td>\n",
       "      <td>Deny</td>\n",
       "      <td>1</td>\n",
       "      <td>6</td>\n",
       "      <td>0</td>\n",
       "      <td>1/2013</td>\n",
       "      <td>1</td>\n",
       "      <td>1</td>\n",
       "      <td>2013</td>\n",
       "      <td>2</td>\n",
       "      <td>1</td>\n",
       "      <td>2013</td>\n",
       "    </tr>\n",
       "    <tr>\n",
       "      <th>4725</th>\n",
       "      <td>2010072173938</td>\n",
       "      <td>2010-07-12</td>\n",
       "      <td>2010-07-10 20:00:00</td>\n",
       "      <td>LAS</td>\n",
       "      <td>McCarran International</td>\n",
       "      <td>Continental Airlines</td>\n",
       "      <td>Property Damage</td>\n",
       "      <td>Checked Baggage</td>\n",
       "      <td>Baggage/Cases/Purses; Clothing; Clothing; Clot...</td>\n",
       "      <td>0</td>\n",
       "      <td>Deny</td>\n",
       "      <td>Deny</td>\n",
       "      <td>8</td>\n",
       "      <td>1</td>\n",
       "      <td>0</td>\n",
       "      <td>27/2010</td>\n",
       "      <td>27</td>\n",
       "      <td>7</td>\n",
       "      <td>2010</td>\n",
       "      <td>28</td>\n",
       "      <td>7</td>\n",
       "      <td>2010</td>\n",
       "    </tr>\n",
       "  </tbody>\n",
       "</table>\n",
       "</div>"
      ],
      "text/plain": [
       "        claim_number date_received       incident_date airport_code  \\\n",
       "15911  2011093087276    2011-08-15 2011-05-19 00:00:00          MEM   \n",
       "28523  2013020601073    2013-01-10 2013-01-04 00:00:00          SAN   \n",
       "4725   2010072173938    2010-07-12 2010-07-10 20:00:00          LAS   \n",
       "\n",
       "                        airport_name                 airline  \\\n",
       "15911  Memphis International Airport       Delta Air Lines     \n",
       "28523        San Diego International                 USAir     \n",
       "4725          McCarran International  Continental Airlines     \n",
       "\n",
       "                    claim_type       claim_site  \\\n",
       "15911          Personal Injury       Checkpoint   \n",
       "28523  Passenger Property Loss  Checked Baggage   \n",
       "4725           Property Damage  Checked Baggage   \n",
       "\n",
       "                                           item_category  close_amount  \\\n",
       "15911                                    Medical/Science             0   \n",
       "28523                               Cosmetics & Grooming             0   \n",
       "4725   Baggage/Cases/Purses; Clothing; Clothing; Clot...             0   \n",
       "\n",
       "      disposition binary_disposition  num_items_or_incidents_claimed  \\\n",
       "15911        Deny               Deny                               0   \n",
       "28523        Deny               Deny                               1   \n",
       "4725         Deny               Deny                               8   \n",
       "\n",
       "       days_waited_to_file_claim  bin_dispos_onehot Week/Year_inc_date  \\\n",
       "15911                         88                  0            20/2011   \n",
       "28523                          6                  0             1/2013   \n",
       "4725                           1                  0            27/2010   \n",
       "\n",
       "      Week_inc_date Month_inc_date Year_inc_date Week_received Month_received  \\\n",
       "15911            20              5          2011            33              8   \n",
       "28523             1              1          2013             2              1   \n",
       "4725             27              7          2010            28              7   \n",
       "\n",
       "      Year_received  \n",
       "15911          2011  \n",
       "28523          2013  \n",
       "4725           2010  "
      ]
     },
     "execution_count": 11,
     "metadata": {},
     "output_type": "execute_result"
    }
   ],
   "source": [
    "df.sample(3)"
   ]
  },
  {
   "cell_type": "code",
   "execution_count": null,
   "metadata": {},
   "outputs": [],
   "source": []
  },
  {
   "cell_type": "code",
   "execution_count": 12,
   "metadata": {},
   "outputs": [],
   "source": [
    "# df_simple = df.drop(['claim_number', 'airport_name', \n",
    "#                      #'binary_disposition',\n",
    "#                      'disposition', \n",
    "#                      'date_received', 'incident_date'\n",
    "#                     ]\n",
    "#                     , axis=1)"
   ]
  },
  {
   "cell_type": "code",
   "execution_count": 13,
   "metadata": {},
   "outputs": [],
   "source": [
    "X = df.drop(['claim_number', 'airport_name', 'binary_disposition', 'disposition', \n",
    "             'date_received', 'incident_date',\n",
    "             'close_amount',\n",
    "            ]\n",
    "            , axis=1)\n",
    "y = df['binary_disposition'].apply(lambda x: 1 if x == 'Compensate' else 0)"
   ]
  },
  {
   "cell_type": "code",
   "execution_count": 14,
   "metadata": {},
   "outputs": [],
   "source": [
    "categorical = ['airport_code', 'airline', 'claim_type', 'claim_site', 'Year_inc_date']\n",
    "continuous =  ['days_waited_to_file_claim', 'num_items_or_incidents_claimed']"
   ]
  },
  {
   "cell_type": "code",
   "execution_count": 15,
   "metadata": {},
   "outputs": [
    {
     "name": "stderr",
     "output_type": "stream",
     "text": [
      "/home/spencer/anaconda3/lib/python3.6/site-packages/sklearn/preprocessing/data.py:617: DataConversionWarning: Data with input dtype int64 were all converted to float64 by StandardScaler.\n",
      "  return self.partial_fit(X, y)\n",
      "/home/spencer/anaconda3/lib/python3.6/site-packages/sklearn/base.py:462: DataConversionWarning: Data with input dtype int64 were all converted to float64 by StandardScaler.\n",
      "  return self.fit(X, **fit_params).transform(X)\n"
     ]
    }
   ],
   "source": [
    "enc = OneHotEncoder(sparse=False)\n",
    "onehotarray = enc.fit_transform(X[categorical])\n",
    "\n",
    "ss = StandardScaler()\n",
    "continuousarray = ss.fit_transform(X[continuous])\n",
    "\n",
    "mlb = MultiLabelBinarizer(sparse_output=False)\n",
    "onehot_itemcategories = mlb.fit_transform(X['item_category'].str.replace(' ','').str.split(pat=';'))\n",
    "\n",
    "X = np.concatenate((onehotarray, continuousarray, onehot_itemcategories), axis=1)"
   ]
  },
  {
   "cell_type": "code",
   "execution_count": 16,
   "metadata": {},
   "outputs": [],
   "source": [
    "X_train, X_test, y_train, y_test = train_test_split(X, y, test_size=0.3, random_state=42, stratify=y)"
   ]
  },
  {
   "cell_type": "code",
   "execution_count": 17,
   "metadata": {},
   "outputs": [
    {
     "data": {
      "text/plain": [
       "(34478, 610)"
      ]
     },
     "execution_count": 17,
     "metadata": {},
     "output_type": "execute_result"
    }
   ],
   "source": [
    "X.shape"
   ]
  },
  {
   "cell_type": "markdown",
   "metadata": {},
   "source": [
    "# Model with Year included"
   ]
  },
  {
   "cell_type": "markdown",
   "metadata": {},
   "source": [
    "---\n",
    "some problems with this would be introducing YEAR and MONTH that has never been trained on. Is this where I need to do a timeseries thing"
   ]
  },
  {
   "cell_type": "markdown",
   "metadata": {},
   "source": [
    "---"
   ]
  },
  {
   "cell_type": "code",
   "execution_count": 20,
   "metadata": {},
   "outputs": [
    {
     "name": "stderr",
     "output_type": "stream",
     "text": [
      "/home/spencer/anaconda3/lib/python3.6/site-packages/sklearn/externals/joblib/externals/loky/process_executor.py:700: UserWarning: A worker stopped while some jobs were given to the executor. This can be caused by a too short worker timeout or by a memory leak.\n",
      "  \"timeout or by a memory leak.\", UserWarning\n",
      "/home/spencer/anaconda3/lib/python3.6/site-packages/sklearn/externals/joblib/externals/loky/process_executor.py:700: UserWarning: A worker stopped while some jobs were given to the executor. This can be caused by a too short worker timeout or by a memory leak.\n",
      "  \"timeout or by a memory leak.\", UserWarning\n",
      "/home/spencer/anaconda3/lib/python3.6/site-packages/sklearn/externals/joblib/externals/loky/process_executor.py:700: UserWarning: A worker stopped while some jobs were given to the executor. This can be caused by a too short worker timeout or by a memory leak.\n",
      "  \"timeout or by a memory leak.\", UserWarning\n",
      "/home/spencer/anaconda3/lib/python3.6/site-packages/sklearn/externals/joblib/externals/loky/process_executor.py:700: UserWarning: A worker stopped while some jobs were given to the executor. This can be caused by a too short worker timeout or by a memory leak.\n",
      "  \"timeout or by a memory leak.\", UserWarning\n",
      "/home/spencer/anaconda3/lib/python3.6/site-packages/sklearn/externals/joblib/externals/loky/process_executor.py:700: UserWarning: A worker stopped while some jobs were given to the executor. This can be caused by a too short worker timeout or by a memory leak.\n",
      "  \"timeout or by a memory leak.\", UserWarning\n",
      "/home/spencer/anaconda3/lib/python3.6/site-packages/sklearn/externals/joblib/externals/loky/process_executor.py:700: UserWarning: A worker stopped while some jobs were given to the executor. This can be caused by a too short worker timeout or by a memory leak.\n",
      "  \"timeout or by a memory leak.\", UserWarning\n"
     ]
    },
    {
     "name": "stdout",
     "output_type": "stream",
     "text": [
      "0.7357708102376144\n",
      "{'criterion': 'gini', 'max_depth': 25, 'n_estimators': 300}\n",
      "RandomForestClassifier(bootstrap=True, class_weight=None, criterion='gini',\n",
      "            max_depth=25, max_features='auto', max_leaf_nodes=None,\n",
      "            min_impurity_decrease=0.0, min_impurity_split=None,\n",
      "            min_samples_leaf=1, min_samples_split=2,\n",
      "            min_weight_fraction_leaf=0.0, n_estimators=300, n_jobs=None,\n",
      "            oob_score=False, random_state=42, verbose=0, warm_start=False)\n",
      "0.6232068609575628\n"
     ]
    }
   ],
   "source": [
    "rf = RandomForestClassifier(random_state=42)\n",
    "\n",
    "criterions = ['gini']#, 'entropy']\n",
    "n_ests = [300]\n",
    "m_depths = [20, 25, 30, 35]\n",
    "    \n",
    "param_grid = dict(criterion=criterions, n_estimators=n_ests, max_depth=m_depths)\n",
    "\n",
    "grid_rf = GridSearchCV(rf, param_grid, scoring='roc_auc', cv=8, n_jobs=4)\n",
    "\n",
    "grid_rf.fit(X_train, y_train)\n",
    "\n",
    "print(grid_rf.best_score_)\n",
    "print(grid_rf.best_params_)\n",
    "print(grid_rf.best_estimator_)\n",
    "\n",
    "y_pred = grid_rf.predict(X_test)\n",
    "print(roc_auc_score(y_test, y_pred))"
   ]
  },
  {
   "cell_type": "code",
   "execution_count": 21,
   "metadata": {},
   "outputs": [
    {
     "data": {
      "text/plain": [
       "['models/preliminary/rf_Year_of_incident_date_included']"
      ]
     },
     "execution_count": 21,
     "metadata": {},
     "output_type": "execute_result"
    }
   ],
   "source": [
    "dir = 'models/preliminary'\n",
    "joblib.dump(grid_rf.best_estimator_, f'{dir}/rf_Year_of_incident_date_included',compress=9)"
   ]
  },
  {
   "cell_type": "code",
   "execution_count": null,
   "metadata": {},
   "outputs": [],
   "source": []
  },
  {
   "cell_type": "code",
   "execution_count": null,
   "metadata": {},
   "outputs": [],
   "source": []
  },
  {
   "cell_type": "markdown",
   "metadata": {},
   "source": [
    "# Model below was BEFORE I added time elements"
   ]
  },
  {
   "cell_type": "code",
   "execution_count": 196,
   "metadata": {},
   "outputs": [
    {
     "name": "stdout",
     "output_type": "stream",
     "text": [
      "0.6814186309902636\n"
     ]
    }
   ],
   "source": [
    "rf_clf = RandomForestClassifier(n_estimators=100, criterion='gini', n_jobs=5, random_state=42)\n",
    "cvs = cross_val_score(rf_clf, X_train, y_train, cv=10, scoring='roc_auc')\n",
    "print(np.mean(cvs))"
   ]
  },
  {
   "cell_type": "code",
   "execution_count": 199,
   "metadata": {},
   "outputs": [
    {
     "data": {
      "text/plain": [
       "RandomForestClassifier(bootstrap=True, class_weight=None, criterion='gini',\n",
       "            max_depth=None, max_features='auto', max_leaf_nodes=None,\n",
       "            min_impurity_decrease=0.0, min_impurity_split=None,\n",
       "            min_samples_leaf=1, min_samples_split=2,\n",
       "            min_weight_fraction_leaf=0.0, n_estimators=100, n_jobs=5,\n",
       "            oob_score=False, random_state=42, verbose=0, warm_start=False)"
      ]
     },
     "execution_count": 199,
     "metadata": {},
     "output_type": "execute_result"
    }
   ],
   "source": [
    "rf_clf.fit(X_train, y_train)"
   ]
  },
  {
   "cell_type": "code",
   "execution_count": 203,
   "metadata": {},
   "outputs": [],
   "source": [
    "y_predict = rf_clf.predict(X_test)\n",
    "\n",
    "roc_auc_score(y_test, y_predict)"
   ]
  },
  {
   "cell_type": "code",
   "execution_count": null,
   "metadata": {},
   "outputs": [],
   "source": [
    "# make a schedule from now til Thursday\n",
    "# make change max_depth to [3, 5, 10] to see which works best if i am overfitting"
   ]
  },
  {
   "cell_type": "code",
   "execution_count": null,
   "metadata": {},
   "outputs": [],
   "source": []
  },
  {
   "cell_type": "code",
   "execution_count": 204,
   "metadata": {},
   "outputs": [
    {
     "name": "stdout",
     "output_type": "stream",
     "text": [
      "0.7220751078811192\n",
      "{'criterion': 'gini', 'max_depth': 15, 'n_estimators': 300}\n",
      "RandomForestClassifier(bootstrap=True, class_weight=None, criterion='gini',\n",
      "            max_depth=15, max_features='auto', max_leaf_nodes=None,\n",
      "            min_impurity_decrease=0.0, min_impurity_split=None,\n",
      "            min_samples_leaf=1, min_samples_split=2,\n",
      "            min_weight_fraction_leaf=0.0, n_estimators=300, n_jobs=None,\n",
      "            oob_score=False, random_state=42, verbose=0, warm_start=False)\n",
      "0.5953619560289024\n"
     ]
    }
   ],
   "source": [
    "rf = RandomForestClassifier(random_state=42)\n",
    "\n",
    "criterions = ['gini']#, 'entropy']\n",
    "n_ests = [300]\n",
    "m_depths = [15, 20, 25]\n",
    "    \n",
    "param_grid = dict(criterion=criterions, n_estimators=n_ests, max_depth=m_depths)\n",
    "\n",
    "grid_rf = GridSearchCV(rf, param_grid, scoring='roc_auc', cv=8, n_jobs=4)\n",
    "\n",
    "grid_rf.fit(X_train, y_train)\n",
    "\n",
    "print(grid_rf.best_score_)\n",
    "print(grid_rf.best_params_)\n",
    "print(grid_rf.best_estimator_)\n",
    "\n",
    "y_pred = grid_rf.predict(X_test)\n",
    "print(roc_auc_score(y_test, y_pred))"
   ]
  },
  {
   "cell_type": "code",
   "execution_count": 209,
   "metadata": {},
   "outputs": [
    {
     "data": {
      "text/plain": [
       "['models/preliminary/rf_mdepth_15']"
      ]
     },
     "execution_count": 209,
     "metadata": {},
     "output_type": "execute_result"
    }
   ],
   "source": [
    "dir = 'models/preliminary'\n",
    "joblib.dump(grid_rf.best_estimator_, f'{dir}/rf_mdepth_15',compress=9)"
   ]
  },
  {
   "cell_type": "code",
   "execution_count": 206,
   "metadata": {},
   "outputs": [
    {
     "name": "stdout",
     "output_type": "stream",
     "text": [
      "0.725709095769306\n",
      "{'criterion': 'gini', 'max_depth': 20, 'n_estimators': 300}\n",
      "RandomForestClassifier(bootstrap=True, class_weight=None, criterion='gini',\n",
      "            max_depth=20, max_features='auto', max_leaf_nodes=None,\n",
      "            min_impurity_decrease=0.0, min_impurity_split=None,\n",
      "            min_samples_leaf=1, min_samples_split=2,\n",
      "            min_weight_fraction_leaf=0.0, n_estimators=300, n_jobs=None,\n",
      "            oob_score=False, random_state=42, verbose=0, warm_start=False)\n",
      "0.6062968483199722\n"
     ]
    }
   ],
   "source": [
    "rf = RandomForestClassifier(random_state=42)\n",
    "\n",
    "criterions = ['gini']#, 'entropy']\n",
    "n_ests = [300]\n",
    "m_depths = [10, 15, 20]\n",
    "    \n",
    "param_grid = dict(criterion=criterions, n_estimators=n_ests, max_depth=m_depths)\n",
    "\n",
    "grid_rf3 = GridSearchCV(rf, param_grid, scoring='roc_auc', cv=8, n_jobs=4)\n",
    "\n",
    "grid_rf3.fit(X_train, y_train)\n",
    "\n",
    "print(grid_rf3.best_score_)\n",
    "print(grid_rf3.best_params_)\n",
    "print(grid_rf3.best_estimator_)\n",
    "\n",
    "y_pred3 = grid_rf3.predict(X_test)\n",
    "print(roc_auc_score(y_test, y_pred3))"
   ]
  },
  {
   "cell_type": "code",
   "execution_count": 516,
   "metadata": {},
   "outputs": [
    {
     "data": {
      "text/plain": [
       "['models/preliminary/rf_without_dates_or_requested_amount']"
      ]
     },
     "execution_count": 516,
     "metadata": {},
     "output_type": "execute_result"
    }
   ],
   "source": [
    "dir = 'models/preliminary'\n",
    "joblib.dump(grid_rf.best_estimator_, f'{dir}/rf_without_dates_or_requested_amount', compress=9)"
   ]
  },
  {
   "cell_type": "code",
   "execution_count": null,
   "metadata": {},
   "outputs": [],
   "source": []
  }
 ],
 "metadata": {
  "kernelspec": {
   "display_name": "Python 3",
   "language": "python",
   "name": "python3"
  },
  "language_info": {
   "codemirror_mode": {
    "name": "ipython",
    "version": 3
   },
   "file_extension": ".py",
   "mimetype": "text/x-python",
   "name": "python",
   "nbconvert_exporter": "python",
   "pygments_lexer": "ipython3",
   "version": "3.6.6"
  }
 },
 "nbformat": 4,
 "nbformat_minor": 2
}
